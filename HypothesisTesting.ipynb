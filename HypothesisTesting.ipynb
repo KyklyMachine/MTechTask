{
 "cells": [
  {
   "cell_type": "markdown",
   "source": [
    "# Решение тестового задания для вакансии «Младший исследователь данных (DS)»"
   ],
   "metadata": {
    "collapsed": false
   },
   "id": "c9555b417bc8f935"
  },
  {
   "cell_type": "code",
   "execution_count": 20,
   "id": "initial_id",
   "metadata": {
    "collapsed": true,
    "ExecuteTime": {
     "end_time": "2023-12-12T23:44:54.546071Z",
     "start_time": "2023-12-12T23:44:54.542550Z"
    }
   },
   "outputs": [],
   "source": [
    "import numpy as np\n",
    "import pandas as pd\n",
    "import scipy.stats as stats\n",
    "from plotly.subplots import make_subplots\n",
    "import plotly.graph_objects as go\n",
    "from statsmodels.stats.proportion import proportions_ztest\n",
    "import plotly as py"
   ]
  },
  {
   "cell_type": "markdown",
   "source": [
    "Чтение данных из файла (используется кодировка cp1251 для корректного отображения всех символов, убираются все лишние двойные кавычки)\n",
    "Далее колонки \"Количество больничных дней\" и \"Возраст\" приводятся к типу данных int64 (из numpy)"
   ],
   "metadata": {
    "collapsed": false
   },
   "id": "1b15b0c8a60da091"
  },
  {
   "cell_type": "code",
   "execution_count": 21,
   "outputs": [],
   "source": [
    "df = pd.read_csv(\"М.Тех_Данные_к_ТЗ_DS.csv\", encoding='cp1251', sep=\"\\,\", engine=\"python\", header=None).apply(lambda x: x.str.replace(r\"\\\"\",\"\", regex=True))\n",
    "df.columns = df.iloc[0]\n",
    "df.drop(index=0, inplace=True)\n",
    "df.head()\n",
    "df[\"Количество больничных дней\"] = df[\"Количество больничных дней\"].astype(np.int_)\n",
    "df[\"Возраст\"] = df[\"Возраст\"].astype(np.int_)"
   ],
   "metadata": {
    "collapsed": false,
    "ExecuteTime": {
     "end_time": "2023-12-12T23:44:54.715755Z",
     "start_time": "2023-12-12T23:44:54.709536Z"
    }
   },
   "id": "c1ce02c3fd15dc57"
  },
  {
   "cell_type": "markdown",
   "source": [
    "Вывод информации о датафрейме (нет пропусков в данных, типы данных корректные)"
   ],
   "metadata": {
    "collapsed": false
   },
   "id": "f0104bc55de86824"
  },
  {
   "cell_type": "code",
   "execution_count": 22,
   "outputs": [
    {
     "name": "stdout",
     "output_type": "stream",
     "text": [
      "<class 'pandas.core.frame.DataFrame'>\n",
      "RangeIndex: 237 entries, 1 to 237\n",
      "Data columns (total 3 columns):\n",
      " #   Column                      Non-Null Count  Dtype \n",
      "---  ------                      --------------  ----- \n",
      " 0   Количество больничных дней  237 non-null    int64 \n",
      " 1   Возраст                     237 non-null    int64 \n",
      " 2   Пол                         237 non-null    object\n",
      "dtypes: int64(2), object(1)\n",
      "memory usage: 5.7+ KB\n"
     ]
    }
   ],
   "source": [
    "df.info()"
   ],
   "metadata": {
    "collapsed": false,
    "ExecuteTime": {
     "end_time": "2023-12-12T23:44:54.883090Z",
     "start_time": "2023-12-12T23:44:54.880638Z"
    }
   },
   "id": "458c11cba18a6b1e"
  },
  {
   "cell_type": "markdown",
   "source": [
    "Гистограммы распределений колонок \"Возраст\" и \"Количество больничных дней\""
   ],
   "metadata": {
    "collapsed": false
   },
   "id": "26239fd907e20ca8"
  },
  {
   "cell_type": "code",
   "execution_count": 23,
   "outputs": [
    {
     "data": {
      "image/svg+xml": "<svg class=\"main-svg\" xmlns=\"http://www.w3.org/2000/svg\" xmlns:xlink=\"http://www.w3.org/1999/xlink\" width=\"800\" height=\"400\" style=\"\" viewBox=\"0 0 800 400\"><rect x=\"0\" y=\"0\" width=\"800\" height=\"400\" style=\"fill: rgb(17, 17, 17); fill-opacity: 1;\"/><defs id=\"defs-8496aa\"><g class=\"clips\"><clipPath id=\"clip8496aaxyplot\" class=\"plotclip\"><rect width=\"210.15\" height=\"220\"/></clipPath><clipPath id=\"clip8496aax2y2plot\" class=\"plotclip\"><rect width=\"210.14999999999998\" height=\"220\"/></clipPath><clipPath class=\"axesclip\" id=\"clip8496aax\"><rect x=\"80\" y=\"0\" width=\"210.15\" height=\"400\"/></clipPath><clipPath class=\"axesclip\" id=\"clip8496aay\"><rect x=\"0\" y=\"100\" width=\"800\" height=\"220\"/></clipPath><clipPath class=\"axesclip\" id=\"clip8496aaxy\"><rect x=\"80\" y=\"100\" width=\"210.15\" height=\"220\"/></clipPath><clipPath class=\"axesclip\" id=\"clip8496aay2\"><rect x=\"0\" y=\"100\" width=\"800\" height=\"220\"/></clipPath><clipPath class=\"axesclip\" id=\"clip8496aaxy2\"><rect x=\"80\" y=\"100\" width=\"210.15\" height=\"220\"/></clipPath><clipPath class=\"axesclip\" id=\"clip8496aax2\"><rect x=\"336.85\" y=\"0\" width=\"210.14999999999998\" height=\"400\"/></clipPath><clipPath class=\"axesclip\" id=\"clip8496aax2y\"><rect x=\"336.85\" y=\"100\" width=\"210.14999999999998\" height=\"220\"/></clipPath><clipPath class=\"axesclip\" id=\"clip8496aax2y2\"><rect x=\"336.85\" y=\"100\" width=\"210.14999999999998\" height=\"220\"/></clipPath></g><g class=\"gradients\"/><g class=\"patterns\"/></defs><g class=\"bglayer\"/><g class=\"layer-below\"><g class=\"imagelayer\"/><g class=\"shapelayer\"/></g><g class=\"cartesianlayer\"><g class=\"subplot xy\"><g class=\"layer-subplot\"><g class=\"shapelayer\"/><g class=\"imagelayer\"/></g><g class=\"minor-gridlayer\"><g class=\"x\"/><g class=\"y\"/></g><g class=\"gridlayer\"><g class=\"x\"/><g class=\"y\"><path class=\"ygrid crisp\" transform=\"translate(0,252.58)\" d=\"M80,0h210.15\" style=\"stroke: rgb(40, 52, 66); stroke-opacity: 1; stroke-width: 1px;\"/><path class=\"ygrid crisp\" transform=\"translate(0,185.16)\" d=\"M80,0h210.15\" style=\"stroke: rgb(40, 52, 66); stroke-opacity: 1; stroke-width: 1px;\"/><path class=\"ygrid crisp\" transform=\"translate(0,117.74)\" d=\"M80,0h210.15\" style=\"stroke: rgb(40, 52, 66); stroke-opacity: 1; stroke-width: 1px;\"/></g></g><g class=\"zerolinelayer\"><path class=\"yzl zl crisp\" transform=\"translate(0,320)\" d=\"M80,0h210.15\" style=\"stroke: rgb(40, 52, 66); stroke-opacity: 1; stroke-width: 2px;\"/></g><path class=\"xlines-below\"/><path class=\"ylines-below\"/><g class=\"overlines-below\"/><g class=\"xaxislayer-below\"/><g class=\"yaxislayer-below\"/><g class=\"overaxes-below\"/><g class=\"plot\" transform=\"translate(80,100)\" clip-path=\"url(#clip8496aaxyplot)\"><g class=\"barlayer mlayer\"><g class=\"trace bars\" shape-rendering=\"crispEdges\" style=\"opacity: 1;\"><g class=\"points\"><g class=\"point\"><path d=\"M0,220V206.52H10.51V220Z\" style=\"vector-effect: none; opacity: 1; stroke-width: 0px; fill: rgb(99, 110, 250); fill-opacity: 1;\"/></g><g class=\"point\"><path d=\"M10.51,220V199.77H21.02V220Z\" style=\"vector-effect: none; opacity: 1; stroke-width: 0px; fill: rgb(99, 110, 250); fill-opacity: 1;\"/></g><g class=\"point\"><path d=\"M21.02,220V179.55H31.52V220Z\" style=\"vector-effect: none; opacity: 1; stroke-width: 0px; fill: rgb(99, 110, 250); fill-opacity: 1;\"/></g><g class=\"point\"><path d=\"M31.52,220V193.03H42.03V220Z\" style=\"vector-effect: none; opacity: 1; stroke-width: 0px; fill: rgb(99, 110, 250); fill-opacity: 1;\"/></g><g class=\"point\"><path d=\"M42.03,220V139.1H52.54V220Z\" style=\"vector-effect: none; opacity: 1; stroke-width: 0px; fill: rgb(99, 110, 250); fill-opacity: 1;\"/></g><g class=\"point\"><path d=\"M52.54,220V159.32H63.05V220Z\" style=\"vector-effect: none; opacity: 1; stroke-width: 0px; fill: rgb(99, 110, 250); fill-opacity: 1;\"/></g><g class=\"point\"><path d=\"M63.05,220V78.42H73.55V220Z\" style=\"vector-effect: none; opacity: 1; stroke-width: 0px; fill: rgb(99, 110, 250); fill-opacity: 1;\"/></g><g class=\"point\"><path d=\"M73.55,220V58.19H84.06V220Z\" style=\"vector-effect: none; opacity: 1; stroke-width: 0px; fill: rgb(99, 110, 250); fill-opacity: 1;\"/></g><g class=\"point\"><path d=\"M84.06,220V58.19H94.57V220Z\" style=\"vector-effect: none; opacity: 1; stroke-width: 0px; fill: rgb(99, 110, 250); fill-opacity: 1;\"/></g><g class=\"point\"><path d=\"M94.57,220V11H105.08V220Z\" style=\"vector-effect: none; opacity: 1; stroke-width: 0px; fill: rgb(99, 110, 250); fill-opacity: 1;\"/></g><g class=\"point\"><path d=\"M105.08,220V11H115.58V220Z\" style=\"vector-effect: none; opacity: 1; stroke-width: 0px; fill: rgb(99, 110, 250); fill-opacity: 1;\"/></g><g class=\"point\"><path d=\"M115.58,220V85.16H126.09V220Z\" style=\"vector-effect: none; opacity: 1; stroke-width: 0px; fill: rgb(99, 110, 250); fill-opacity: 1;\"/></g><g class=\"point\"><path d=\"M126.09,220V118.87H136.6V220Z\" style=\"vector-effect: none; opacity: 1; stroke-width: 0px; fill: rgb(99, 110, 250); fill-opacity: 1;\"/></g><g class=\"point\"><path d=\"M136.6,220V125.61H147.11V220Z\" style=\"vector-effect: none; opacity: 1; stroke-width: 0px; fill: rgb(99, 110, 250); fill-opacity: 1;\"/></g><g class=\"point\"><path d=\"M147.11,220V159.32H157.61V220Z\" style=\"vector-effect: none; opacity: 1; stroke-width: 0px; fill: rgb(99, 110, 250); fill-opacity: 1;\"/></g><g class=\"point\"><path d=\"M157.61,220V179.55H168.12V220Z\" style=\"vector-effect: none; opacity: 1; stroke-width: 0px; fill: rgb(99, 110, 250); fill-opacity: 1;\"/></g><g class=\"point\"><path d=\"M168.12,220V193.03H178.63V220Z\" style=\"vector-effect: none; opacity: 1; stroke-width: 0px; fill: rgb(99, 110, 250); fill-opacity: 1;\"/></g><g class=\"point\"><path d=\"M178.63,220V213.26H189.14V220Z\" style=\"vector-effect: none; opacity: 1; stroke-width: 0px; fill: rgb(99, 110, 250); fill-opacity: 1;\"/></g><g class=\"point\"><path d=\"M0,0Z\" style=\"vector-effect: none; opacity: 1; stroke-width: 0px; fill: rgb(99, 110, 250); fill-opacity: 1;\"/></g><g class=\"point\"><path d=\"M199.64,220V213.26H210.15V220Z\" style=\"vector-effect: none; opacity: 1; stroke-width: 0px; fill: rgb(99, 110, 250); fill-opacity: 1;\"/></g></g></g></g></g><g class=\"overplot\"/><path class=\"xlines-above crisp\" d=\"M0,0\" style=\"fill: none;\"/><path class=\"ylines-above crisp\" d=\"M0,0\" style=\"fill: none;\"/><g class=\"overlines-above\"/><g class=\"xaxislayer-above\"><g class=\"xtick\"><text text-anchor=\"middle\" x=\"0\" y=\"333\" transform=\"translate(124.66,0)\" style=\"font-family: 'Open Sans', verdana, arial, sans-serif; font-size: 12px; fill: rgb(242, 245, 250); fill-opacity: 1; white-space: pre; opacity: 1;\">30</text></g><g class=\"xtick\"><text text-anchor=\"middle\" x=\"0\" y=\"333\" style=\"font-family: 'Open Sans', verdana, arial, sans-serif; font-size: 12px; fill: rgb(242, 245, 250); fill-opacity: 1; white-space: pre; opacity: 1;\" transform=\"translate(177.19,0)\">40</text></g><g class=\"xtick\"><text text-anchor=\"middle\" x=\"0\" y=\"333\" style=\"font-family: 'Open Sans', verdana, arial, sans-serif; font-size: 12px; fill: rgb(242, 245, 250); fill-opacity: 1; white-space: pre; opacity: 1;\" transform=\"translate(229.73,0)\">50</text></g><g class=\"xtick\"><text text-anchor=\"middle\" x=\"0\" y=\"333\" style=\"font-family: 'Open Sans', verdana, arial, sans-serif; font-size: 12px; fill: rgb(242, 245, 250); fill-opacity: 1; white-space: pre; opacity: 1;\" transform=\"translate(282.27,0)\">60</text></g></g><g class=\"yaxislayer-above\"><g class=\"ytick\"><text text-anchor=\"end\" x=\"79\" y=\"4.199999999999999\" transform=\"translate(0,320)\" style=\"font-family: 'Open Sans', verdana, arial, sans-serif; font-size: 12px; fill: rgb(242, 245, 250); fill-opacity: 1; white-space: pre; opacity: 1;\">0</text></g><g class=\"ytick\"><text text-anchor=\"end\" x=\"79\" y=\"4.199999999999999\" style=\"font-family: 'Open Sans', verdana, arial, sans-serif; font-size: 12px; fill: rgb(242, 245, 250); fill-opacity: 1; white-space: pre; opacity: 1;\" transform=\"translate(0,252.58)\">10</text></g><g class=\"ytick\"><text text-anchor=\"end\" x=\"79\" y=\"4.199999999999999\" style=\"font-family: 'Open Sans', verdana, arial, sans-serif; font-size: 12px; fill: rgb(242, 245, 250); fill-opacity: 1; white-space: pre; opacity: 1;\" transform=\"translate(0,185.16)\">20</text></g><g class=\"ytick\"><text text-anchor=\"end\" x=\"79\" y=\"4.199999999999999\" style=\"font-family: 'Open Sans', verdana, arial, sans-serif; font-size: 12px; fill: rgb(242, 245, 250); fill-opacity: 1; white-space: pre; opacity: 1;\" transform=\"translate(0,117.74)\">30</text></g></g><g class=\"overaxes-above\"/></g><g class=\"subplot x2y2\"><g class=\"layer-subplot\"><g class=\"shapelayer\"/><g class=\"imagelayer\"/></g><g class=\"minor-gridlayer\"><g class=\"x2\"/><g class=\"y2\"/></g><g class=\"gridlayer\"><g class=\"x2\"/><g class=\"y2\"><path class=\"y2grid crisp\" transform=\"translate(0,281.3)\" d=\"M336.85,0h210.14999999999998\" style=\"stroke: rgb(40, 52, 66); stroke-opacity: 1; stroke-width: 1px;\"/><path class=\"y2grid crisp\" transform=\"translate(0,242.59)\" d=\"M336.85,0h210.14999999999998\" style=\"stroke: rgb(40, 52, 66); stroke-opacity: 1; stroke-width: 1px;\"/><path class=\"y2grid crisp\" transform=\"translate(0,203.89)\" d=\"M336.85,0h210.14999999999998\" style=\"stroke: rgb(40, 52, 66); stroke-opacity: 1; stroke-width: 1px;\"/><path class=\"y2grid crisp\" transform=\"translate(0,165.19)\" d=\"M336.85,0h210.14999999999998\" style=\"stroke: rgb(40, 52, 66); stroke-opacity: 1; stroke-width: 1px;\"/><path class=\"y2grid crisp\" transform=\"translate(0,126.48)\" d=\"M336.85,0h210.14999999999998\" style=\"stroke: rgb(40, 52, 66); stroke-opacity: 1; stroke-width: 1px;\"/></g></g><g class=\"zerolinelayer\"><path class=\"y2zl zl crisp\" transform=\"translate(0,320)\" d=\"M336.85,0h210.14999999999998\" style=\"stroke: rgb(40, 52, 66); stroke-opacity: 1; stroke-width: 2px;\"/></g><path class=\"xlines-below\"/><path class=\"ylines-below\"/><g class=\"overlines-below\"/><g class=\"xaxislayer-below\"/><g class=\"yaxislayer-below\"/><g class=\"overaxes-below\"/><g class=\"plot\" transform=\"translate(336.85,100)\" clip-path=\"url(#clip8496aax2y2plot)\"><g class=\"barlayer mlayer\"><g class=\"trace bars\" shape-rendering=\"crispEdges\" style=\"opacity: 1;\"><g class=\"points\"><g class=\"point\"><path d=\"M0,220V185.17H23.35V220Z\" style=\"vector-effect: none; opacity: 1; stroke-width: 0px; fill: rgb(239, 85, 59); fill-opacity: 1;\"/></g><g class=\"point\"><path d=\"M23.35,220V103.89H46.7V220Z\" style=\"vector-effect: none; opacity: 1; stroke-width: 0px; fill: rgb(239, 85, 59); fill-opacity: 1;\"/></g><g class=\"point\"><path d=\"M46.7,220V38.09H70.05V220Z\" style=\"vector-effect: none; opacity: 1; stroke-width: 0px; fill: rgb(239, 85, 59); fill-opacity: 1;\"/></g><g class=\"point\"><path d=\"M70.05,220V11H93.4V220Z\" style=\"vector-effect: none; opacity: 1; stroke-width: 0px; fill: rgb(239, 85, 59); fill-opacity: 1;\"/></g><g class=\"point\"><path d=\"M93.4,220V34.22H116.75V220Z\" style=\"vector-effect: none; opacity: 1; stroke-width: 0px; fill: rgb(239, 85, 59); fill-opacity: 1;\"/></g><g class=\"point\"><path d=\"M116.75,220V142.59H140.1V220Z\" style=\"vector-effect: none; opacity: 1; stroke-width: 0px; fill: rgb(239, 85, 59); fill-opacity: 1;\"/></g><g class=\"point\"><path d=\"M140.1,220V165.81H163.45V220Z\" style=\"vector-effect: none; opacity: 1; stroke-width: 0px; fill: rgb(239, 85, 59); fill-opacity: 1;\"/></g><g class=\"point\"><path d=\"M163.45,220V181.3H186.8V220Z\" style=\"vector-effect: none; opacity: 1; stroke-width: 0px; fill: rgb(239, 85, 59); fill-opacity: 1;\"/></g><g class=\"point\"><path d=\"M186.8,220V200.65H210.15V220Z\" style=\"vector-effect: none; opacity: 1; stroke-width: 0px; fill: rgb(239, 85, 59); fill-opacity: 1;\"/></g></g></g></g></g><g class=\"overplot\"/><path class=\"xlines-above crisp\" d=\"M0,0\" style=\"fill: none;\"/><path class=\"ylines-above crisp\" d=\"M0,0\" style=\"fill: none;\"/><g class=\"overlines-above\"/><g class=\"xaxislayer-above\"><g class=\"x2tick\"><text text-anchor=\"middle\" x=\"0\" y=\"333\" transform=\"translate(348.53000000000003,0)\" style=\"font-family: 'Open Sans', verdana, arial, sans-serif; font-size: 12px; fill: rgb(242, 245, 250); fill-opacity: 1; white-space: pre; opacity: 1;\">0</text></g><g class=\"x2tick\"><text text-anchor=\"middle\" x=\"0\" y=\"333\" style=\"font-family: 'Open Sans', verdana, arial, sans-serif; font-size: 12px; fill: rgb(242, 245, 250); fill-opacity: 1; white-space: pre; opacity: 1;\" transform=\"translate(395.22,0)\">2</text></g><g class=\"x2tick\"><text text-anchor=\"middle\" x=\"0\" y=\"333\" style=\"font-family: 'Open Sans', verdana, arial, sans-serif; font-size: 12px; fill: rgb(242, 245, 250); fill-opacity: 1; white-space: pre; opacity: 1;\" transform=\"translate(441.92,0)\">4</text></g><g class=\"x2tick\"><text text-anchor=\"middle\" x=\"0\" y=\"333\" style=\"font-family: 'Open Sans', verdana, arial, sans-serif; font-size: 12px; fill: rgb(242, 245, 250); fill-opacity: 1; white-space: pre; opacity: 1;\" transform=\"translate(488.63,0)\">6</text></g><g class=\"x2tick\"><text text-anchor=\"middle\" x=\"0\" y=\"333\" style=\"font-family: 'Open Sans', verdana, arial, sans-serif; font-size: 12px; fill: rgb(242, 245, 250); fill-opacity: 1; white-space: pre; opacity: 1;\" transform=\"translate(535.33,0)\">8</text></g></g><g class=\"yaxislayer-above\"><g class=\"y2tick\"><text text-anchor=\"end\" x=\"335.85\" y=\"4.199999999999999\" transform=\"translate(0,320)\" style=\"font-family: 'Open Sans', verdana, arial, sans-serif; font-size: 12px; fill: rgb(242, 245, 250); fill-opacity: 1; white-space: pre; opacity: 1;\">0</text></g><g class=\"y2tick\"><text text-anchor=\"end\" x=\"335.85\" y=\"4.199999999999999\" style=\"font-family: 'Open Sans', verdana, arial, sans-serif; font-size: 12px; fill: rgb(242, 245, 250); fill-opacity: 1; white-space: pre; opacity: 1;\" transform=\"translate(0,281.3)\">10</text></g><g class=\"y2tick\"><text text-anchor=\"end\" x=\"335.85\" y=\"4.199999999999999\" style=\"font-family: 'Open Sans', verdana, arial, sans-serif; font-size: 12px; fill: rgb(242, 245, 250); fill-opacity: 1; white-space: pre; opacity: 1;\" transform=\"translate(0,242.59)\">20</text></g><g class=\"y2tick\"><text text-anchor=\"end\" x=\"335.85\" y=\"4.199999999999999\" style=\"font-family: 'Open Sans', verdana, arial, sans-serif; font-size: 12px; fill: rgb(242, 245, 250); fill-opacity: 1; white-space: pre; opacity: 1;\" transform=\"translate(0,203.89)\">30</text></g><g class=\"y2tick\"><text text-anchor=\"end\" x=\"335.85\" y=\"4.199999999999999\" style=\"font-family: 'Open Sans', verdana, arial, sans-serif; font-size: 12px; fill: rgb(242, 245, 250); fill-opacity: 1; white-space: pre; opacity: 1;\" transform=\"translate(0,165.19)\">40</text></g><g class=\"y2tick\"><text text-anchor=\"end\" x=\"335.85\" y=\"4.199999999999999\" style=\"font-family: 'Open Sans', verdana, arial, sans-serif; font-size: 12px; fill: rgb(242, 245, 250); fill-opacity: 1; white-space: pre; opacity: 1;\" transform=\"translate(0,126.48)\">50</text></g></g><g class=\"overaxes-above\"/></g></g><g class=\"polarlayer\"/><g class=\"smithlayer\"/><g class=\"ternarylayer\"/><g class=\"geolayer\"/><g class=\"funnelarealayer\"/><g class=\"pielayer\"/><g class=\"iciclelayer\"/><g class=\"treemaplayer\"/><g class=\"sunburstlayer\"/><g class=\"glimages\"/><defs id=\"topdefs-8496aa\"><g class=\"clips\"/><clipPath id=\"legend8496aa\"><rect width=\"232\" height=\"48\" x=\"0\" y=\"0\"/></clipPath></defs><g class=\"layer-above\"><g class=\"imagelayer\"/><g class=\"shapelayer\"/></g><g class=\"infolayer\"><g class=\"legend\" pointer-events=\"all\" transform=\"translate(556.34,100)\"><rect class=\"bg\" shape-rendering=\"crispEdges\" width=\"232\" height=\"48\" x=\"0\" y=\"0\" style=\"stroke: rgb(68, 68, 68); stroke-opacity: 1; fill: rgb(17, 17, 17); fill-opacity: 1; stroke-width: 0px;\"/><g class=\"scrollbox\" transform=\"\" clip-path=\"url(#legend8496aa)\"><g class=\"groups\"><g class=\"traces\" transform=\"translate(0,14.5)\" style=\"opacity: 1;\"><text class=\"legendtext\" text-anchor=\"start\" x=\"40\" y=\"4.680000000000001\" style=\"font-family: 'Open Sans', verdana, arial, sans-serif; font-size: 12px; fill: rgb(242, 245, 250); fill-opacity: 1; white-space: pre;\">Возраст</text><g class=\"layers\" style=\"opacity: 1;\"><g class=\"legendfill\"/><g class=\"legendlines\"/><g class=\"legendsymbols\"><g class=\"legendpoints\"><path class=\"legendundefined\" d=\"M6,6H-6V-6H6Z\" transform=\"translate(20,0)\" style=\"stroke-width: 0px; fill: rgb(99, 110, 250); fill-opacity: 1;\"/></g></g></g><rect class=\"legendtoggle\" x=\"0\" y=\"-9.5\" width=\"226.125\" height=\"19\" style=\"fill: rgb(0, 0, 0); fill-opacity: 0;\"/></g><g class=\"traces\" transform=\"translate(0,33.5)\" style=\"opacity: 1;\"><text class=\"legendtext\" text-anchor=\"start\" x=\"40\" y=\"4.680000000000001\" style=\"font-family: 'Open Sans', verdana, arial, sans-serif; font-size: 12px; fill: rgb(242, 245, 250); fill-opacity: 1; white-space: pre;\">Количество больничных дней</text><g class=\"layers\" style=\"opacity: 1;\"><g class=\"legendfill\"/><g class=\"legendlines\"/><g class=\"legendsymbols\"><g class=\"legendpoints\"><path class=\"legendundefined\" d=\"M6,6H-6V-6H6Z\" transform=\"translate(20,0)\" style=\"stroke-width: 0px; fill: rgb(239, 85, 59); fill-opacity: 1;\"/></g></g></g><rect class=\"legendtoggle\" x=\"0\" y=\"-9.5\" width=\"226.125\" height=\"19\" style=\"fill: rgb(0, 0, 0); fill-opacity: 0;\"/></g></g></g><rect class=\"scrollbar\" rx=\"20\" ry=\"3\" width=\"0\" height=\"0\" x=\"0\" y=\"0\" style=\"fill: rgb(128, 139, 164); fill-opacity: 1;\"/></g><g class=\"g-gtitle\"><text class=\"gtitle\" x=\"40\" y=\"50\" text-anchor=\"start\" dy=\"0em\" style=\"font-family: 'Open Sans', verdana, arial, sans-serif; font-size: 17px; fill: rgb(242, 245, 250); opacity: 1; font-weight: normal; white-space: pre;\">Гистограммы частот</text></g><g class=\"g-xtitle\"/><g class=\"g-x2title\"/><g class=\"g-ytitle\"/><g class=\"g-y2title\"/></g></svg>"
     },
     "metadata": {},
     "output_type": "display_data"
    }
   ],
   "source": [
    "fig = make_subplots(rows=1, cols=2)\n",
    "\n",
    "trace0 = go.Histogram(x=df[\"Возраст\"], name=\"Возраст\")\n",
    "trace1 = go.Histogram(x=df[\"Количество больничных дней\"], name=\"Количество больничных дней\")\n",
    "\n",
    "fig.append_trace(trace0, 1, 1)\n",
    "fig.append_trace(trace1, 1, 2)\n",
    "\n",
    "fig.update_layout(title_text=\"Гистограммы частот\", width=800, height=400)\n",
    "\n",
    "fig.show(\"svg\")"
   ],
   "metadata": {
    "collapsed": false,
    "ExecuteTime": {
     "end_time": "2023-12-12T23:44:55.073097Z",
     "start_time": "2023-12-12T23:44:55.050768Z"
    }
   },
   "id": "99a65cdab5904e33"
  },
  {
   "cell_type": "markdown",
   "source": [
    "## Вспомогательные функции"
   ],
   "metadata": {
    "collapsed": false
   },
   "id": "618548720fa4ff43"
  },
  {
   "cell_type": "code",
   "execution_count": 24,
   "outputs": [],
   "source": [
    "def plot_density_func(stat, alpha):\n",
    "    r = stats.norm.ppf([1 - alpha], 0, 1).item()\n",
    "    x1 = np.arange(-3, 3, 0.01)\n",
    "    y1 = stats.norm.pdf(x1)\n",
    "    x2 = np.arange((r // 0.01) * 0.01, 3, 0.01)\n",
    "    y2 = stats.norm.pdf(x2)\n",
    "\n",
    "    x3 = np.arange(stat, 3, 0.01)\n",
    "    y3 = stats.norm.pdf(x3)\n",
    "\n",
    "    fig = go.Figure()\n",
    "    fig.add_trace(go.Scatter(x=x1, y=y1, fill='tozeroy', mode='none', fillcolor=\"rgba(165, 165, 165, 0.5)\",\n",
    "                             name=r\"$f(z|H_0)$\"\n",
    "                             ))\n",
    "    fig.add_trace(go.Scatter(x=x2, y=y2, fill='tozeroy', mode='none', fillcolor=\"rgba(255, 94, 94, 0.5)\",\n",
    "                             name=\"critical area\"\n",
    "                             ))\n",
    "    fig.add_trace(go.Scatter(x=x3, y=y3, fill='tozeroy', mode='none', fillcolor=\"rgba(109, 141, 255, 0.5)\",\n",
    "                             name=\"p-value\"\n",
    "                             ))\n",
    "    fig.update_layout(title_text=\"Функция плотности f(z|H_0), критическая область и p-value\")\n",
    "    return fig.show(\"svg\")"
   ],
   "metadata": {
    "collapsed": false,
    "ExecuteTime": {
     "end_time": "2023-12-12T23:44:55.213879Z",
     "start_time": "2023-12-12T23:44:55.211358Z"
    }
   },
   "id": "6ba84c0836aa0889"
  },
  {
   "cell_type": "code",
   "execution_count": 25,
   "outputs": [],
   "source": [
    "# функция для вывода результатов\n",
    "def print_test_result(alpha, pvalue, hypothesis_name):\n",
    "    h0_accepted = pvalue > alpha\n",
    "    print(f\"p-value = {pvalue}, alpha = {alpha}\")\n",
    "\n",
    "    if h0_accepted:\n",
    "        print(\"p-value > alpha\")\n",
    "        print(\"Гипотеза H_0 принимается!\")\n",
    "        print(f\"ВЫВОД: нельзя утверждать, что {hypothesis_name}\")\n",
    "    else:\n",
    "        print(\"p-value < alpha\")\n",
    "        print(\"Гипотеза H_0 отклоняется!\")\n",
    "        print(f\"ВЫВОД: можно утверждать, что {hypothesis_name}\")"
   ],
   "metadata": {
    "collapsed": false,
    "ExecuteTime": {
     "end_time": "2023-12-12T23:44:55.303771Z",
     "start_time": "2023-12-12T23:44:55.301021Z"
    }
   },
   "id": "46b7e2b466d58b9e"
  },
  {
   "cell_type": "markdown",
   "source": [
    "## Проверить гипотезу: \"Мужчины пропускают в течение года более 2 рабочих дней (work_days) по болезни значимо чаще женщин.\"\n",
    "\n",
    "**1. Сформулируем $H_0$ и $H'$:**\n",
    "Пусть проводится две серии испытаний по схеме Бернулли \n",
    " - \"успех\" в первой серии A = \\{Мужчина пропускает в течение года более 2 рабочих дней (work_days) по болезни\\}\n",
    " - \"успех\" во второй серии B = \\{Женщина пропускает в течение года более 2 рабочих дней (work_days) по болезни\\}\n",
    "\n",
    "Тогда вероятностей «успехов» $p_1$ и $p_2$ в этих сериях:\n",
    " - $p_1$ = P(A), \n",
    " - $p_2$ = P(B)\n",
    "\n",
    "Исходя из условия получаем гипотезы (two-proportion z-test):\n",
    "$\n",
    "\\begin{gather}\n",
    "H_0: p_1 = p_2\n",
    "\\\\\n",
    "H': p_1 > p_2\n",
    "\\end{gather}\n",
    "$\n",
    "\n",
    "**2. Зададим уровень значимости $\\alpha$**\n",
    "Пусть $\\alpha$ = 0.05\n",
    "\n",
    "**3. Статистика критерия $Z$ для проверки гипотезы $H_0$**\n",
    "$\n",
    "Z=\\frac{H_1-H_2}{\\sqrt{H(1-H)}\\sqrt{\\frac{1}{n_1}+\\frac{1}{n_2}}}\n",
    "$,\n",
    "где\n",
    "- $H_1$, $H_2$ – частоты успеха в первой серии и во второй соответственно\n",
    "- $H=\\frac{n_1H_1+n_2H_2}{n_1+n_2}$ – эффективная оценка истинной вероятности $p$ при условии истинности $H_0$ (т.е. при $p_1=p_2=p$ ) \n",
    "- $n_1$, $n_2$ – количество испытаний в первой серии и во второй соответственно\n",
    "\n",
    "**4. Закон распределения $f(z|H_0)$**\n",
    "$f(z|H_0)\\sim N(0,1)$\n",
    "\n",
    "**5. Критическая область**\n",
    "Исходя из альтернативной гипотезы критическая область выбирается правосторонней"
   ],
   "metadata": {
    "collapsed": false
   },
   "id": "6b68c1e11d7b8324"
  },
  {
   "cell_type": "markdown",
   "source": [
    "Таким образом, нам для проверки гипотезы требуется найти \n",
    "- общее количество мужчин = $n_1$ (далее n_1)\n",
    "- общее количество женщин = $n_2$ (далее n_2)\n",
    "- количество мужчин, пропускающих в течение года более 2 рабочих дней (work_days) по болезни (далее n_pass_1)\n",
    "- количество женщин, пропускающих в течение года более 2 рабочих дней (work_days) по болезни (далее n_pass_2)"
   ],
   "metadata": {
    "collapsed": false
   },
   "id": "e78337e98c3f2e31"
  },
  {
   "cell_type": "code",
   "execution_count": 26,
   "outputs": [],
   "source": [
    "WORK_DAYS = 2\n",
    "ALPHA = 0.05\n",
    "\n",
    "# группируя по полу и считая количество по каждому разбиению получаем необходимые n_1 и n_2\n",
    "work_days_total = df.groupby(\"Пол\").size()\n",
    "n_1, n_2 = work_days_total[[\"М\", \"Ж\"]]\n",
    "\n",
    "# используя условие на \"Количество больничных дней\", группируя по полу и считая количество по каждому разбиению \n",
    "# получаем необходимые n_pass_1 и n_pass_2\n",
    "work_days_greater = df[(df[\"Количество больничных дней\"] > WORK_DAYS)].groupby(\"Пол\").size()\n",
    "n_pass_1, n_pass_2 = work_days_greater[[\"М\", \"Ж\"]]"
   ],
   "metadata": {
    "collapsed": false,
    "ExecuteTime": {
     "end_time": "2023-12-12T23:44:55.551406Z",
     "start_time": "2023-12-12T23:44:55.546094Z"
    }
   },
   "id": "92aadc686bbb1874"
  },
  {
   "cell_type": "markdown",
   "source": [
    "Проводим проверку статистической гипотезы"
   ],
   "metadata": {
    "collapsed": false
   },
   "id": "df2fa7671c57794e"
  },
  {
   "cell_type": "code",
   "execution_count": 27,
   "outputs": [
    {
     "name": "stdout",
     "output_type": "stream",
     "text": [
      "p-value = 0.8945771189806193, alpha = 0.05\n",
      "p-value > alpha\n",
      "Гипотеза H_0 принимается!\n",
      "ВЫВОД: нельзя утверждать, что мужчины пропускают в течение года более 2 рабочих дней (work_days) по болезни значимо чаще женщин\n"
     ]
    }
   ],
   "source": [
    "# с помощью proportions_ztest считаем выборочное значение статистики критерия и p-value \n",
    "# (используется флаг alternative=\"larger\", т.к. H': p_1 > p_2)\n",
    "count = np.array([n_pass_1, n_pass_2])\n",
    "nobs = np.array([n_1, n_2])\n",
    "test1_stat, test1_pval = proportions_ztest(count, nobs, alternative=\"larger\")\n",
    "h_name = f\"мужчины пропускают в течение года более {WORK_DAYS} рабочих дней (work_days) по болезни значимо чаще женщин\"\n",
    "print_test_result(ALPHA, test1_pval, h_name)"
   ],
   "metadata": {
    "collapsed": false,
    "ExecuteTime": {
     "end_time": "2023-12-12T23:44:55.715081Z",
     "start_time": "2023-12-12T23:44:55.711441Z"
    }
   },
   "id": "83545f092550edaf"
  },
  {
   "cell_type": "code",
   "execution_count": 28,
   "outputs": [
    {
     "data": {
      "image/svg+xml": "<svg class=\"main-svg\" xmlns=\"http://www.w3.org/2000/svg\" xmlns:xlink=\"http://www.w3.org/1999/xlink\" width=\"700\" height=\"500\" style=\"\" viewBox=\"0 0 700 500\"><rect x=\"0\" y=\"0\" width=\"700\" height=\"500\" style=\"fill: rgb(17, 17, 17); fill-opacity: 1;\"/><defs id=\"defs-753938\"><g class=\"clips\"><clipPath id=\"clip753938xyplot\" class=\"plotclip\"><rect width=\"540\" height=\"320\"/></clipPath><clipPath class=\"axesclip\" id=\"clip753938x\"><rect x=\"80\" y=\"0\" width=\"540\" height=\"500\"/></clipPath><clipPath class=\"axesclip\" id=\"clip753938y\"><rect x=\"0\" y=\"100\" width=\"700\" height=\"320\"/></clipPath><clipPath class=\"axesclip\" id=\"clip753938xy\"><rect x=\"80\" y=\"100\" width=\"540\" height=\"320\"/></clipPath></g><g class=\"gradients\"/><g class=\"patterns\"/></defs><g class=\"bglayer\"/><g class=\"layer-below\"><g class=\"imagelayer\"/><g class=\"shapelayer\"/></g><g class=\"cartesianlayer\"><g class=\"subplot xy\"><g class=\"layer-subplot\"><g class=\"shapelayer\"/><g class=\"imagelayer\"/></g><g class=\"minor-gridlayer\"><g class=\"x\"/><g class=\"y\"/></g><g class=\"gridlayer\"><g class=\"x\"><path class=\"xgrid crisp\" transform=\"translate(160.35,0)\" d=\"M0,100v320\" style=\"stroke: rgb(40, 52, 66); stroke-opacity: 1; stroke-width: 1px;\"/><path class=\"xgrid crisp\" transform=\"translate(240.7,0)\" d=\"M0,100v320\" style=\"stroke: rgb(40, 52, 66); stroke-opacity: 1; stroke-width: 1px;\"/><path class=\"xgrid crisp\" transform=\"translate(401.4,0)\" d=\"M0,100v320\" style=\"stroke: rgb(40, 52, 66); stroke-opacity: 1; stroke-width: 1px;\"/><path class=\"xgrid crisp\" transform=\"translate(481.75,0)\" d=\"M0,100v320\" style=\"stroke: rgb(40, 52, 66); stroke-opacity: 1; stroke-width: 1px;\"/></g><g class=\"y\"><path class=\"ygrid crisp\" transform=\"translate(0,381.9)\" d=\"M80,0h482\" style=\"stroke: rgb(40, 52, 66); stroke-opacity: 1; stroke-width: 1px;\"/><path class=\"ygrid crisp\" transform=\"translate(0,343.8)\" d=\"M80,0h482\" style=\"stroke: rgb(40, 52, 66); stroke-opacity: 1; stroke-width: 1px;\"/><path class=\"ygrid crisp\" transform=\"translate(0,305.7)\" d=\"M80,0h482\" style=\"stroke: rgb(40, 52, 66); stroke-opacity: 1; stroke-width: 1px;\"/><path class=\"ygrid crisp\" transform=\"translate(0,267.6)\" d=\"M80,0h482\" style=\"stroke: rgb(40, 52, 66); stroke-opacity: 1; stroke-width: 1px;\"/><path class=\"ygrid crisp\" transform=\"translate(0,229.5)\" d=\"M80,0h482\" style=\"stroke: rgb(40, 52, 66); stroke-opacity: 1; stroke-width: 1px;\"/><path class=\"ygrid crisp\" transform=\"translate(0,191.4)\" d=\"M80,0h482\" style=\"stroke: rgb(40, 52, 66); stroke-opacity: 1; stroke-width: 1px;\"/><path class=\"ygrid crisp\" transform=\"translate(0,153.29)\" d=\"M80,0h482\" style=\"stroke: rgb(40, 52, 66); stroke-opacity: 1; stroke-width: 1px;\"/><path class=\"ygrid crisp\" transform=\"translate(0,115.19)\" d=\"M80,0h482\" style=\"stroke: rgb(40, 52, 66); stroke-opacity: 1; stroke-width: 1px;\"/></g></g><g class=\"zerolinelayer\"><path class=\"xzl zl crisp\" transform=\"translate(321.05,0)\" d=\"M0,100v320\" style=\"stroke: rgb(40, 52, 66); stroke-opacity: 1; stroke-width: 2px;\"/><path class=\"yzl zl crisp\" transform=\"translate(0,420)\" d=\"M80,0h482\" style=\"stroke: rgb(40, 52, 66); stroke-opacity: 1; stroke-width: 2px;\"/></g><path class=\"xlines-below\"/><path class=\"ylines-below\"/><g class=\"overlines-below\"/><g class=\"xaxislayer-below\"/><g class=\"yaxislayer-below\"/><g class=\"overaxes-below\"/><g class=\"plot\" transform=\"translate(80,100)\" clip-path=\"url(#clip753938xyplot)\"><g class=\"scatterlayer mlayer\"><g class=\"trace scatter traceed47db\" style=\"stroke-miterlimit: 2;\"><g class=\"fills\"><g><path class=\"js-fill\" d=\"M481.3,320L0,320L0,316.62L0.8,316.52L1.61,316.41L2.41,316.31L3.21,316.2L4.02,316.08L4.82,315.96L5.62,315.84L6.43,315.72L7.23,315.59L8.03,315.46L8.84,315.33L9.64,315.19L10.45,315.05L11.25,314.91L12.05,314.76L12.86,314.61L13.66,314.46L14.46,314.3L15.27,314.14L16.07,313.97L16.87,313.8L17.68,313.62L18.48,313.44L19.28,313.26L20.09,313.07L20.89,312.88L21.69,312.68L22.5,312.48L23.3,312.27L24.1,312.06L24.91,311.84L25.71,311.62L26.52,311.39L27.32,311.16L28.12,310.92L28.93,310.68L29.73,310.43L30.53,310.18L31.34,309.92L32.14,309.65L32.94,309.38L33.75,309.1L34.55,308.81L35.35,308.52L36.16,308.23L36.96,307.92L37.76,307.61L38.57,307.3L39.37,306.97L40.17,306.64L40.98,306.31L41.78,305.96L42.59,305.61L43.39,305.25L44.19,304.88L45,304.51L45.8,304.13L46.6,303.74L47.41,303.34L48.21,302.94L49.01,302.52L49.82,302.1L50.62,301.67L51.42,301.23L52.23,300.78L53.03,300.33L53.83,299.86L54.64,299.39L55.44,298.91L56.24,298.41L57.05,297.91L57.85,297.4L58.66,296.88L59.46,296.35L60.26,295.81L61.07,295.26L61.87,294.71L62.67,294.14L63.48,293.56L64.28,292.97L65.08,292.37L65.89,291.76L66.69,291.14L67.49,290.5L68.3,289.86L69.1,289.21L69.9,288.54L70.71,287.87L71.51,287.18L72.31,286.48L73.12,285.77L73.92,285.05L74.73,284.32L75.53,283.58L76.33,282.82L77.14,282.05L77.94,281.27L78.74,280.48L79.55,279.67L80.35,278.86L81.15,278.03L81.96,277.19L82.76,276.33L83.56,275.47L84.37,274.59L85.17,273.7L85.97,272.79L86.78,271.87L87.58,270.94L88.38,270L89.19,269.04L89.99,268.07L90.8,267.09L91.6,266.09L92.4,265.09L93.21,264.06L94.01,263.03L94.81,261.98L95.62,260.91L96.42,259.84L97.22,258.75L98.03,257.65L98.83,256.53L99.63,255.4L100.44,254.26L101.24,253.1L102.04,251.93L102.85,250.74L103.65,249.54L104.45,248.33L105.26,247.11L106.06,245.87L106.87,244.62L107.67,243.35L108.47,242.07L109.28,240.78L110.08,239.47L110.88,238.15L111.69,236.82L112.49,235.48L113.29,234.12L114.1,232.75L114.9,231.36L115.7,229.96L116.51,228.55L117.31,227.13L118.11,225.69L118.92,224.24L119.72,222.78L120.52,221.31L121.33,219.82L122.13,218.32L122.94,216.81L123.74,215.29L124.54,213.75L125.35,212.21L126.15,210.65L126.95,209.08L127.76,207.5L128.56,205.91L129.36,204.3L130.17,202.69L130.97,201.06L131.77,199.43L132.58,197.79L133.38,196.13L134.18,194.47L134.99,192.79L135.79,191.11L136.59,189.41L137.4,187.71L138.2,186L139.01,184.28L139.81,182.55L140.61,180.82L141.42,179.08L142.22,177.32L143.02,175.57L143.83,173.8L144.63,172.03L145.43,170.25L146.24,168.46L147.04,166.67L147.84,164.88L148.65,163.07L149.45,161.27L150.25,159.45L151.06,157.64L151.86,155.82L152.66,153.99L153.47,152.17L154.27,150.33L155.08,148.5L155.88,146.66L156.68,144.83L157.49,142.99L158.29,141.14L159.09,139.3L159.9,137.46L160.7,135.61L161.5,133.77L162.31,131.93L163.11,130.08L163.91,128.24L164.72,126.4L165.52,124.57L166.32,122.73L167.13,120.9L167.93,119.07L168.73,117.24L169.54,115.42L170.34,113.6L171.15,111.78L171.95,109.97L172.75,108.17L173.56,106.37L174.36,104.58L175.16,102.8L175.97,101.02L176.77,99.25L177.57,97.49L178.38,95.74L179.18,93.99L179.98,92.25L180.79,90.53L181.59,88.81L182.39,87.11L183.2,85.41L184,83.73L184.8,82.06L185.61,80.4L186.41,78.75L187.22,77.12L188.02,75.5L188.82,73.89L189.63,72.3L190.43,70.72L191.23,69.16L192.04,67.61L192.84,66.08L193.64,64.56L194.45,63.06L195.25,61.58L196.05,60.12L196.86,58.67L197.66,57.24L198.46,55.83L199.27,54.44L200.07,53.07L200.87,51.72L201.68,50.39L202.48,49.08L203.29,47.79L204.09,46.52L204.89,45.27L205.7,44.05L206.5,42.84L207.3,41.66L208.11,40.51L208.91,39.37L209.71,38.26L210.52,37.18L211.32,36.11L212.12,35.07L212.93,34.06L213.73,33.07L214.53,32.11L215.34,31.17L216.14,30.26L216.94,29.38L217.75,28.52L218.55,27.69L219.36,26.88L220.16,26.1L220.96,25.35L221.77,24.63L222.57,23.94L223.37,23.27L224.18,22.63L224.98,22.02L225.78,21.44L226.59,20.89L227.39,20.36L228.19,19.87L229,19.4L229.8,18.96L230.6,18.56L231.41,18.18L232.21,17.83L233.01,17.52L233.82,17.23L234.62,16.97L235.43,16.74L236.23,16.55L237.03,16.38L237.84,16.24L238.64,16.14L239.44,16.06L240.25,16.02L241.05,16L241.85,16.02L242.66,16.06L243.46,16.14L244.26,16.24L245.07,16.38L245.87,16.55L246.67,16.74L247.48,16.97L248.28,17.23L249.08,17.52L249.89,17.83L250.69,18.18L251.5,18.56L252.3,18.96L253.1,19.4L253.91,19.87L254.71,20.36L255.51,20.89L256.32,21.44L257.12,22.02L257.92,22.63L258.73,23.27L259.53,23.94L260.33,24.63L261.14,25.35L261.94,26.1L262.74,26.88L263.55,27.69L264.35,28.52L265.15,29.38L265.96,30.26L266.76,31.17L267.57,32.11L268.37,33.07L269.17,34.06L269.98,35.07L270.78,36.11L271.58,37.18L272.39,38.26L273.19,39.37L273.99,40.51L274.8,41.66L275.6,42.84L276.4,44.05L277.21,45.27L278.01,46.52L278.81,47.79L279.62,49.08L280.42,50.39L281.22,51.72L282.03,53.07L282.83,54.44L283.64,55.83L284.44,57.24L285.24,58.67L286.05,60.12L286.85,61.58L287.65,63.06L288.46,64.56L289.26,66.08L290.06,67.61L290.87,69.16L291.67,70.72L292.47,72.3L293.28,73.89L294.08,75.5L294.88,77.12L295.69,78.75L296.49,80.4L297.29,82.06L298.1,83.73L298.9,85.41L299.71,87.11L300.51,88.81L301.31,90.53L302.12,92.25L302.92,93.99L303.72,95.74L304.53,97.49L305.33,99.25L306.13,101.02L306.94,102.8L307.74,104.58L308.54,106.37L309.35,108.17L310.15,109.97L310.95,111.78L311.76,113.6L312.56,115.42L313.36,117.24L314.17,119.07L314.97,120.9L315.78,122.73L316.58,124.57L317.38,126.4L318.19,128.24L318.99,130.08L319.79,131.93L320.6,133.77L321.4,135.61L322.2,137.46L323.01,139.3L323.81,141.14L324.61,142.99L325.42,144.83L326.22,146.66L327.02,148.5L327.83,150.33L328.63,152.17L329.43,153.99L330.24,155.82L331.04,157.64L331.85,159.45L332.65,161.27L333.45,163.07L334.26,164.88L335.06,166.67L335.86,168.46L336.67,170.25L337.47,172.03L338.27,173.8L339.08,175.57L339.88,177.32L340.68,179.08L341.49,180.82L342.29,182.55L343.09,184.28L343.9,186L344.7,187.71L345.5,189.41L346.31,191.11L347.11,192.79L347.92,194.47L348.72,196.13L349.52,197.79L350.33,199.43L351.13,201.06L351.93,202.69L352.74,204.3L353.54,205.91L354.34,207.5L355.15,209.08L355.95,210.65L356.75,212.21L357.56,213.75L358.36,215.29L359.16,216.81L359.97,218.32L360.77,219.82L361.57,221.31L362.38,222.78L363.18,224.24L363.99,225.69L364.79,227.13L365.59,228.55L366.4,229.96L367.2,231.36L368,232.75L368.81,234.12L369.61,235.48L370.41,236.82L371.22,238.15L372.02,239.47L372.82,240.78L373.63,242.07L374.43,243.35L375.23,244.62L376.04,245.87L376.84,247.11L377.64,248.33L378.45,249.54L379.25,250.74L380.06,251.93L380.86,253.1L381.66,254.26L382.47,255.4L383.27,256.53L384.07,257.65L384.88,258.75L385.68,259.84L386.48,260.91L387.29,261.98L388.09,263.03L388.89,264.06L389.7,265.09L390.5,266.09L391.3,267.09L392.11,268.07L392.91,269.04L393.71,270L394.52,270.94L395.32,271.87L396.13,272.79L396.93,273.7L397.73,274.59L398.54,275.47L399.34,276.33L400.14,277.19L400.95,278.03L401.75,278.86L402.55,279.67L403.36,280.48L404.16,281.27L404.96,282.05L405.77,282.82L406.57,283.58L407.37,284.32L408.18,285.05L408.98,285.77L409.78,286.48L410.59,287.18L411.39,287.87L412.2,288.54L413,289.21L413.8,289.86L414.61,290.5L415.41,291.14L416.21,291.76L417.02,292.37L417.82,292.97L418.62,293.56L419.43,294.14L420.23,294.71L421.03,295.26L421.84,295.81L422.64,296.35L423.44,296.88L424.25,297.4L425.05,297.91L425.85,298.41L426.66,298.91L427.46,299.39L428.27,299.86L429.07,300.33L429.87,300.78L430.68,301.23L431.48,301.67L432.28,302.1L433.09,302.52L433.89,302.94L434.69,303.34L435.5,303.74L436.3,304.13L437.1,304.51L437.91,304.88L438.71,305.25L439.51,305.61L440.32,305.96L441.12,306.31L441.92,306.64L442.73,306.97L443.53,307.3L444.34,307.61L445.14,307.92L445.94,308.23L446.75,308.52L447.55,308.81L448.35,309.1L449.16,309.38L449.96,309.65L450.76,309.92L451.57,310.18L452.37,310.43L453.17,310.68L453.98,310.92L454.78,311.16L455.58,311.39L456.39,311.62L457.19,311.84L457.99,312.06L458.8,312.27L459.6,312.48L460.41,312.68L461.21,312.88L462.01,313.07L462.82,313.26L463.62,313.44L464.42,313.62L465.23,313.8L466.03,313.97L466.83,314.14L467.64,314.3L468.44,314.46L469.24,314.61L470.05,314.76L470.85,314.91L471.65,315.05L472.46,315.19L473.26,315.33L474.06,315.46L474.87,315.59L475.67,315.72L476.48,315.84L477.28,315.96L478.08,316.08L478.89,316.2L479.69,316.31L480.49,316.41L481.3,316.52\" style=\"fill: rgb(165, 165, 165); fill-opacity: 0.5; stroke-width: 0;\"/></g></g><g class=\"errorbars\"/><g class=\"lines\"/><g class=\"points\"/><g class=\"text\"/></g><g class=\"trace scatter trace4e1d8f\" style=\"stroke-miterlimit: 2;\"><g class=\"fills\"><g><path class=\"js-fill\" d=\"M481.3,320L372.82,320L372.82,240.78L373.63,242.07L374.43,243.35L375.23,244.62L376.04,245.87L376.84,247.11L377.64,248.33L378.45,249.54L379.25,250.74L380.06,251.93L380.86,253.1L381.66,254.26L382.47,255.4L383.27,256.53L384.07,257.65L384.88,258.75L385.68,259.84L386.48,260.91L387.29,261.98L388.09,263.03L388.89,264.06L389.7,265.09L390.5,266.09L391.3,267.09L392.11,268.07L392.91,269.04L393.71,270L394.52,270.94L395.32,271.87L396.13,272.79L396.93,273.7L397.73,274.59L398.54,275.47L399.34,276.33L400.14,277.19L400.95,278.03L401.75,278.86L402.55,279.67L403.36,280.48L404.16,281.27L404.96,282.05L405.77,282.82L406.57,283.58L407.37,284.32L408.18,285.05L408.98,285.77L409.78,286.48L410.59,287.18L411.39,287.87L412.2,288.54L413,289.21L413.8,289.86L414.61,290.5L415.41,291.14L416.21,291.76L417.02,292.37L417.82,292.97L418.62,293.56L419.43,294.14L420.23,294.71L421.03,295.26L421.84,295.81L422.64,296.35L423.44,296.88L424.25,297.4L425.05,297.91L425.85,298.41L426.66,298.91L427.46,299.39L428.27,299.86L429.07,300.33L429.87,300.78L430.68,301.23L431.48,301.67L432.28,302.1L433.09,302.52L433.89,302.94L434.69,303.34L435.5,303.74L436.3,304.13L437.1,304.51L437.91,304.88L438.71,305.25L439.51,305.61L440.32,305.96L441.12,306.31L441.92,306.64L442.73,306.97L443.53,307.3L444.34,307.61L445.14,307.92L445.94,308.23L446.75,308.52L447.55,308.81L448.35,309.1L449.16,309.38L449.96,309.65L450.76,309.92L451.57,310.18L452.37,310.43L453.17,310.68L453.98,310.92L454.78,311.16L455.58,311.39L456.39,311.62L457.19,311.84L457.99,312.06L458.8,312.27L459.6,312.48L460.41,312.68L461.21,312.88L462.01,313.07L462.82,313.26L463.62,313.44L464.42,313.62L465.23,313.8L466.03,313.97L466.83,314.14L467.64,314.3L468.44,314.46L469.24,314.61L470.05,314.76L470.85,314.91L471.65,315.05L472.46,315.19L473.26,315.33L474.06,315.46L474.87,315.59L475.67,315.72L476.48,315.84L477.28,315.96L478.08,316.08L478.89,316.2L479.69,316.31L480.49,316.41L481.3,316.52\" style=\"fill: rgb(255, 94, 94); fill-opacity: 0.5; stroke-width: 0;\"/></g></g><g class=\"errorbars\"/><g class=\"lines\"/><g class=\"points\"/><g class=\"text\"/></g><g class=\"trace scatter traceeb8ff1\" style=\"stroke-miterlimit: 2;\"><g class=\"fills\"><g><path class=\"js-fill\" d=\"M482,320L140.51,320L140.51,181.03L141.32,179.29L142.12,177.54L142.92,175.78L143.73,174.02L144.53,172.25L145.33,170.47L146.14,168.69L146.94,166.9L147.74,165.1L148.55,163.3L149.35,161.49L150.15,159.68L150.96,157.86L151.76,156.04L152.57,154.22L153.37,152.39L154.17,150.56L154.98,148.73L155.78,146.89L156.58,145.06L157.39,143.22L158.19,141.37L158.99,139.53L159.8,137.69L160.6,135.84L161.4,134L162.21,132.16L163.01,130.31L163.81,128.47L164.62,126.63L165.42,124.79L166.22,122.96L167.03,121.12L167.83,119.29L168.64,117.47L169.44,115.64L170.24,113.82L171.05,112.01L171.85,110.2L172.65,108.4L173.46,106.6L174.26,104.8L175.06,103.02L175.87,101.24L176.67,99.47L177.47,97.71L178.28,95.95L179.08,94.21L179.88,92.47L180.69,90.74L181.49,89.03L182.29,87.32L183.1,85.62L183.9,83.94L184.71,82.26L185.51,80.6L186.31,78.96L187.12,77.32L187.92,75.7L188.72,74.09L189.53,72.49L190.33,70.92L191.13,69.35L191.94,67.8L192.74,66.27L193.54,64.75L194.35,63.25L195.15,61.77L195.95,60.3L196.76,58.85L197.56,57.42L198.36,56.01L199.17,54.62L199.97,53.24L200.78,51.89L201.58,50.55L202.38,49.24L203.19,47.95L203.99,46.68L204.79,45.43L205.6,44.2L206.4,42.99L207.2,41.81L208.01,40.65L208.81,39.51L209.61,38.4L210.42,37.31L211.22,36.24L212.02,35.2L212.83,34.19L213.63,33.19L214.43,32.23L215.24,31.29L216.04,30.37L216.85,29.49L217.65,28.62L218.45,27.79L219.26,26.98L220.06,26.2L220.86,25.44L221.67,24.72L222.47,24.02L223.27,23.35L224.08,22.71L224.88,22.09L225.68,21.51L226.49,20.95L227.29,20.42L228.09,19.93L228.9,19.46L229.7,19.02L230.5,18.61L231.31,18.23L232.11,17.88L232.92,17.55L233.72,17.26L234.52,17L235.33,16.77L236.13,16.57L236.93,16.4L237.74,16.26L238.54,16.15L239.34,16.07L240.15,16.02L240.95,16L241.75,16.01L242.56,16.05L243.36,16.13L244.16,16.23L244.97,16.36L245.77,16.52L246.57,16.72L247.38,16.94L248.18,17.2L248.99,17.48L249.79,17.79L250.59,18.14L251.4,18.51L252.2,18.91L253,19.35L253.81,19.81L254.61,20.3L255.41,20.82L256.22,21.37L257.02,21.95L257.82,22.55L258.63,23.19L259.43,23.85L260.23,24.54L261.04,25.26L261.84,26.01L262.64,26.78L263.45,27.58L264.25,28.41L265.06,29.27L265.86,30.15L266.66,31.06L267.47,31.99L268.27,32.95L269.07,33.94L269.88,34.95L270.68,35.98L271.48,37.04L272.29,38.13L273.09,39.23L273.89,40.36L274.7,41.52L275.5,42.7L276.3,43.9L277.11,45.12L277.91,46.36L278.71,47.63L279.52,48.92L280.32,50.23L281.13,51.55L281.93,52.9L282.73,54.27L283.54,55.66L284.34,57.07L285.14,58.49L285.95,59.94L286.75,61.4L287.55,62.88L288.36,64.38L289.16,65.89L289.96,67.42L290.77,68.96L291.57,70.52L292.37,72.1L293.18,73.69L293.98,75.3L294.78,76.92L295.59,78.55L296.39,80.19L297.2,81.85L298,83.52L298.8,85.2L299.61,86.9L300.41,88.6L301.21,90.31L302.02,92.04L302.82,93.77L303.62,95.52L304.43,97.27L305.23,99.03L306.03,100.8L306.84,102.58L307.64,104.36L308.44,106.15L309.25,107.95L310.05,109.75L310.85,111.56L311.66,113.37L312.46,115.19L313.27,117.01L314.07,118.84L314.87,120.67L315.68,122.5L316.48,124.34L317.28,126.17L318.09,128.01L318.89,129.86L319.69,131.7L320.5,133.54L321.3,135.39L322.1,137.23L322.91,139.07L323.71,140.92L324.51,142.76L325.32,144.6L326.12,146.44L326.92,148.27L327.73,150.11L328.53,151.94L329.34,153.77L330.14,155.59L330.94,157.41L331.75,159.23L332.55,161.04L333.35,162.85L334.16,164.65L334.96,166.45L335.76,168.24L336.57,170.03L337.37,171.81L338.17,173.58L338.98,175.35L339.78,177.11L340.58,178.86L341.39,180.6L342.19,182.34L342.99,184.07L343.8,185.79L344.6,187.5L345.41,189.2L346.21,190.9L347.01,192.58L347.82,194.26L348.62,195.92L349.42,197.58L350.23,199.23L351.03,200.86L351.83,202.49L352.64,204.1L353.44,205.71L354.24,207.3L355.05,208.88L355.85,210.45L356.65,212.01L357.46,213.56L358.26,215.1L359.06,216.62L359.87,218.13L360.67,219.63L361.48,221.12L362.28,222.6L363.08,224.06L363.89,225.51L364.69,226.95L365.49,228.38L366.3,229.79L367.1,231.19L367.9,232.57L368.71,233.95L369.51,235.31L370.31,236.66L371.12,237.99L371.92,239.31L372.72,240.62L373.53,241.91L374.33,243.19L375.13,244.46L375.94,245.71L376.74,246.95L377.55,248.18L378.35,249.39L379.15,250.59L379.96,251.78L380.76,252.95L381.56,254.11L382.37,255.26L383.17,256.39L383.97,257.51L384.78,258.61L385.58,259.7L386.38,260.78L387.19,261.85L387.99,262.9L388.79,263.93L389.6,264.96L390.4,265.97L391.2,266.97L392.01,267.95L392.81,268.92L393.62,269.88L394.42,270.83L395.22,271.76L396.03,272.68L396.83,273.58L397.63,274.48L398.44,275.36L399.24,276.23L400.04,277.08L400.85,277.93L401.65,278.76L402.45,279.57L403.26,280.38L404.06,281.17L404.86,281.96L405.67,282.72L406.47,283.48L407.27,284.23L408.08,284.96L408.88,285.69L409.69,286.4L410.49,287.1L411.29,287.78L412.1,288.46L412.9,289.13L413.7,289.78L414.51,290.43L415.31,291.06L416.11,291.68L416.92,292.29L417.72,292.89L418.52,293.48L419.33,294.07L420.13,294.64L420.93,295.2L421.74,295.75L422.54,296.29L423.34,296.82L424.15,297.34L424.95,297.85L425.76,298.35L426.56,298.85L427.36,299.33L428.17,299.8L428.97,300.27L429.77,300.73L430.58,301.18L431.38,301.62L432.18,302.05L432.99,302.47L433.79,302.88L434.59,303.29L435.4,303.69L436.2,304.08L437,304.46L437.81,304.84L438.61,305.21L439.41,305.57L440.22,305.92L441.02,306.26L441.83,306.6L442.63,306.93L443.43,307.26L444.24,307.57L445.04,307.89L445.84,308.19L446.65,308.49L447.45,308.78L448.25,309.06L449.06,309.34L449.86,309.62L450.66,309.88L451.47,310.14L452.27,310.4L453.07,310.65L453.88,310.89L454.68,311.13L455.48,311.36L456.29,311.59L457.09,311.81L457.9,312.03L458.7,312.24L459.5,312.45L460.31,312.66L461.11,312.85L461.91,313.05L462.72,313.24L463.52,313.42L464.32,313.6L465.13,313.78L465.93,313.95L466.73,314.11L467.54,314.28L468.34,314.44L469.14,314.59L469.95,314.74L470.75,314.89L471.55,315.04L472.36,315.18L473.16,315.31L473.97,315.45L474.77,315.58L475.57,315.7L476.38,315.83L477.18,315.95L477.98,316.07L478.79,316.18L479.59,316.29L480.39,316.4L481.2,316.51L482,316.61\" style=\"fill: rgb(109, 141, 255); fill-opacity: 0.5; stroke-width: 0;\"/></g></g><g class=\"errorbars\"/><g class=\"lines\"/><g class=\"points\"/><g class=\"text\"/></g></g></g><g class=\"overplot\"/><path class=\"xlines-above crisp\" d=\"M0,0\" style=\"fill: none;\"/><path class=\"ylines-above crisp\" d=\"M0,0\" style=\"fill: none;\"/><g class=\"overlines-above\"/><g class=\"xaxislayer-above\"><g class=\"xtick\"><text text-anchor=\"middle\" x=\"0\" y=\"433\" transform=\"translate(80,0)\" style=\"font-family: 'Open Sans', verdana, arial, sans-serif; font-size: 12px; fill: rgb(242, 245, 250); fill-opacity: 1; white-space: pre; opacity: 1;\">−3</text></g><g class=\"xtick\"><text text-anchor=\"middle\" x=\"0\" y=\"433\" style=\"font-family: 'Open Sans', verdana, arial, sans-serif; font-size: 12px; fill: rgb(242, 245, 250); fill-opacity: 1; white-space: pre; opacity: 1;\" transform=\"translate(160.35,0)\">−2</text></g><g class=\"xtick\"><text text-anchor=\"middle\" x=\"0\" y=\"433\" style=\"font-family: 'Open Sans', verdana, arial, sans-serif; font-size: 12px; fill: rgb(242, 245, 250); fill-opacity: 1; white-space: pre; opacity: 1;\" transform=\"translate(240.7,0)\">−1</text></g><g class=\"xtick\"><text text-anchor=\"middle\" x=\"0\" y=\"433\" style=\"font-family: 'Open Sans', verdana, arial, sans-serif; font-size: 12px; fill: rgb(242, 245, 250); fill-opacity: 1; white-space: pre; opacity: 1;\" transform=\"translate(321.05,0)\">0</text></g><g class=\"xtick\"><text text-anchor=\"middle\" x=\"0\" y=\"433\" style=\"font-family: 'Open Sans', verdana, arial, sans-serif; font-size: 12px; fill: rgb(242, 245, 250); fill-opacity: 1; white-space: pre; opacity: 1;\" transform=\"translate(401.4,0)\">1</text></g><g class=\"xtick\"><text text-anchor=\"middle\" x=\"0\" y=\"433\" style=\"font-family: 'Open Sans', verdana, arial, sans-serif; font-size: 12px; fill: rgb(242, 245, 250); fill-opacity: 1; white-space: pre; opacity: 1;\" transform=\"translate(481.75,0)\">2</text></g></g><g class=\"yaxislayer-above\"><g class=\"ytick\"><text text-anchor=\"end\" x=\"79\" y=\"4.199999999999999\" transform=\"translate(0,420)\" style=\"font-family: 'Open Sans', verdana, arial, sans-serif; font-size: 12px; fill: rgb(242, 245, 250); fill-opacity: 1; white-space: pre; opacity: 1;\">0</text></g><g class=\"ytick\"><text text-anchor=\"end\" x=\"79\" y=\"4.199999999999999\" style=\"font-family: 'Open Sans', verdana, arial, sans-serif; font-size: 12px; fill: rgb(242, 245, 250); fill-opacity: 1; white-space: pre; opacity: 1;\" transform=\"translate(0,381.9)\">0.05</text></g><g class=\"ytick\"><text text-anchor=\"end\" x=\"79\" y=\"4.199999999999999\" style=\"font-family: 'Open Sans', verdana, arial, sans-serif; font-size: 12px; fill: rgb(242, 245, 250); fill-opacity: 1; white-space: pre; opacity: 1;\" transform=\"translate(0,343.8)\">0.1</text></g><g class=\"ytick\"><text text-anchor=\"end\" x=\"79\" y=\"4.199999999999999\" style=\"font-family: 'Open Sans', verdana, arial, sans-serif; font-size: 12px; fill: rgb(242, 245, 250); fill-opacity: 1; white-space: pre; opacity: 1;\" transform=\"translate(0,305.7)\">0.15</text></g><g class=\"ytick\"><text text-anchor=\"end\" x=\"79\" y=\"4.199999999999999\" style=\"font-family: 'Open Sans', verdana, arial, sans-serif; font-size: 12px; fill: rgb(242, 245, 250); fill-opacity: 1; white-space: pre; opacity: 1;\" transform=\"translate(0,267.6)\">0.2</text></g><g class=\"ytick\"><text text-anchor=\"end\" x=\"79\" y=\"4.199999999999999\" style=\"font-family: 'Open Sans', verdana, arial, sans-serif; font-size: 12px; fill: rgb(242, 245, 250); fill-opacity: 1; white-space: pre; opacity: 1;\" transform=\"translate(0,229.5)\">0.25</text></g><g class=\"ytick\"><text text-anchor=\"end\" x=\"79\" y=\"4.199999999999999\" style=\"font-family: 'Open Sans', verdana, arial, sans-serif; font-size: 12px; fill: rgb(242, 245, 250); fill-opacity: 1; white-space: pre; opacity: 1;\" transform=\"translate(0,191.4)\">0.3</text></g><g class=\"ytick\"><text text-anchor=\"end\" x=\"79\" y=\"4.199999999999999\" style=\"font-family: 'Open Sans', verdana, arial, sans-serif; font-size: 12px; fill: rgb(242, 245, 250); fill-opacity: 1; white-space: pre; opacity: 1;\" transform=\"translate(0,153.29)\">0.35</text></g><g class=\"ytick\"><text text-anchor=\"end\" x=\"79\" y=\"4.199999999999999\" style=\"font-family: 'Open Sans', verdana, arial, sans-serif; font-size: 12px; fill: rgb(242, 245, 250); fill-opacity: 1; white-space: pre; opacity: 1;\" transform=\"translate(0,115.19)\">0.4</text></g></g><g class=\"overaxes-above\"/></g></g><g class=\"polarlayer\"/><g class=\"smithlayer\"/><g class=\"ternarylayer\"/><g class=\"geolayer\"/><g class=\"funnelarealayer\"/><g class=\"pielayer\"/><g class=\"iciclelayer\"/><g class=\"treemaplayer\"/><g class=\"sunburstlayer\"/><g class=\"glimages\"/><defs id=\"topdefs-753938\"><g class=\"clips\"/><clipPath id=\"legend753938\"><rect width=\"116\" height=\"67\" x=\"0\" y=\"0\"/></clipPath></defs><g class=\"layer-above\"><g class=\"imagelayer\"/><g class=\"shapelayer\"/></g><g class=\"infolayer\"><g class=\"legend\" pointer-events=\"all\" transform=\"translate(584,100)\"><rect class=\"bg\" shape-rendering=\"crispEdges\" style=\"stroke: rgb(68, 68, 68); stroke-opacity: 1; fill: rgb(17, 17, 17); fill-opacity: 1; stroke-width: 0px;\" width=\"116\" height=\"67\" x=\"0\" y=\"0\"/><g class=\"scrollbox\" transform=\"\" clip-path=\"url(#legend753938)\"><g class=\"groups\"><g class=\"traces\" transform=\"translate(0,14.5)\" style=\"opacity: 1;\"><g class=\"legendtext-math-group\" pointer-events=\"none\" data-unformatted=\"$f(z|H_0)$\" data-math=\"Y\" transform=\"translate(0,3.115478515625)\"><svg xmlns:xlink=\"http://www.w3.org/1999/xlink\" width=\"7.808ex\" height=\"16.046875\" viewBox=\"0 -884.5 3361.9 1287.6\" role=\"img\" focusable=\"false\" aria-hidden=\"true\" style=\"vertical-align: -0.936ex; overflow: visible; pointer-events: none;\" class=\"legendtext-math\" preserveAspectRatio=\"xMinYMin meet\" x=\"40\" y=\"-9.231312274932861\"><defs id=\"MathJax_SVG_glyphs\"><path stroke-width=\"1\" id=\"MJMATHI-66\" d=\"M118 -162Q120 -162 124 -164T135 -167T147 -168Q160 -168 171 -155T187 -126Q197 -99 221 27T267 267T289 382V385H242Q195 385 192 387Q188 390 188 397L195 425Q197 430 203 430T250 431Q298 431 298 432Q298 434 307 482T319 540Q356 705 465 705Q502 703 526 683T550 630Q550 594 529 578T487 561Q443 561 443 603Q443 622 454 636T478 657L487 662Q471 668 457 668Q445 668 434 658T419 630Q412 601 403 552T387 469T380 433Q380 431 435 431Q480 431 487 430T498 424Q499 420 496 407T491 391Q489 386 482 386T428 385H372L349 263Q301 15 282 -47Q255 -132 212 -173Q175 -205 139 -205Q107 -205 81 -186T55 -132Q55 -95 76 -78T118 -61Q162 -61 162 -103Q162 -122 151 -136T127 -157L118 -162Z\"/><path stroke-width=\"1\" id=\"MJMAIN-28\" d=\"M94 250Q94 319 104 381T127 488T164 576T202 643T244 695T277 729T302 750H315H319Q333 750 333 741Q333 738 316 720T275 667T226 581T184 443T167 250T184 58T225 -81T274 -167T316 -220T333 -241Q333 -250 318 -250H315H302L274 -226Q180 -141 137 -14T94 250Z\"/><path stroke-width=\"1\" id=\"MJMATHI-7A\" d=\"M347 338Q337 338 294 349T231 360Q211 360 197 356T174 346T162 335T155 324L153 320Q150 317 138 317Q117 317 117 325Q117 330 120 339Q133 378 163 406T229 440Q241 442 246 442Q271 442 291 425T329 392T367 375Q389 375 411 408T434 441Q435 442 449 442H462Q468 436 468 434Q468 430 463 420T449 399T432 377T418 358L411 349Q368 298 275 214T160 106L148 94L163 93Q185 93 227 82T290 71Q328 71 360 90T402 140Q406 149 409 151T424 153Q443 153 443 143Q443 138 442 134Q425 72 376 31T278 -11Q252 -11 232 6T193 40T155 57Q111 57 76 -3Q70 -11 59 -11H54H41Q35 -5 35 -2Q35 13 93 84Q132 129 225 214T340 322Q352 338 347 338Z\"/><path stroke-width=\"1\" id=\"MJMAIN-7C\" d=\"M139 -249H137Q125 -249 119 -235V251L120 737Q130 750 139 750Q152 750 159 735V-235Q151 -249 141 -249H139Z\"/><path stroke-width=\"1\" id=\"MJMATHI-48\" d=\"M228 637Q194 637 192 641Q191 643 191 649Q191 673 202 682Q204 683 219 683Q260 681 355 681Q389 681 418 681T463 682T483 682Q499 682 499 672Q499 670 497 658Q492 641 487 638H485Q483 638 480 638T473 638T464 637T455 637Q416 636 405 634T387 623Q384 619 355 500Q348 474 340 442T328 395L324 380Q324 378 469 378H614L615 381Q615 384 646 504Q674 619 674 627T617 637Q594 637 587 639T580 648Q580 650 582 660Q586 677 588 679T604 682Q609 682 646 681T740 680Q802 680 835 681T871 682Q888 682 888 672Q888 645 876 638H874Q872 638 869 638T862 638T853 637T844 637Q805 636 794 634T776 623Q773 618 704 340T634 58Q634 51 638 51Q646 48 692 46H723Q729 38 729 37T726 19Q722 6 716 0H701Q664 2 567 2Q533 2 504 2T458 2T437 1Q420 1 420 10Q420 15 423 24Q428 43 433 45Q437 46 448 46H454Q481 46 514 49Q520 50 522 50T528 55T534 64T540 82T547 110T558 153Q565 181 569 198Q602 330 602 331T457 332H312L279 197Q245 63 245 58Q245 51 253 49T303 46H334Q340 38 340 37T337 19Q333 6 327 0H312Q275 2 178 2Q144 2 115 2T69 2T48 1Q31 1 31 10Q31 12 34 24Q39 43 44 45Q48 46 59 46H65Q92 46 125 49Q139 52 144 61Q147 65 216 339T285 628Q285 635 228 637Z\"/><path stroke-width=\"1\" id=\"MJMAIN-30\" d=\"M96 585Q152 666 249 666Q297 666 345 640T423 548Q460 465 460 320Q460 165 417 83Q397 41 362 16T301 -15T250 -22Q224 -22 198 -16T137 16T82 83Q39 165 39 320Q39 494 96 585ZM321 597Q291 629 250 629Q208 629 178 597Q153 571 145 525T137 333Q137 175 145 125T181 46Q209 16 250 16Q290 16 318 46Q347 76 354 130T362 333Q362 478 354 524T321 597Z\"/><path stroke-width=\"1\" id=\"MJMAIN-29\" d=\"M60 749L64 750Q69 750 74 750H86L114 726Q208 641 251 514T294 250Q294 182 284 119T261 12T224 -76T186 -143T145 -194T113 -227T90 -246Q87 -249 86 -250H74Q66 -250 63 -250T58 -247T55 -238Q56 -237 66 -225Q221 -64 221 250T66 725Q56 737 55 738Q55 746 60 749Z\"/></defs><g stroke=\"rgb(242, 245, 250)\" fill=\"rgb(242, 245, 250)\" stroke-width=\"0\" transform=\"matrix(1 0 0 -1 0 0)\"><use xlink:href=\"#MJMATHI-66\" x=\"0\" y=\"0\"/><use xlink:href=\"#MJMAIN-28\" x=\"550\" y=\"0\"/><use xlink:href=\"#MJMATHI-7A\" x=\"940\" y=\"0\"/><use xlink:href=\"#MJMAIN-7C\" x=\"1408\" y=\"0\"/><g transform=\"translate(1687,0)\"><use xlink:href=\"#MJMATHI-48\" x=\"0\" y=\"0\"/><use transform=\"scale(0.707)\" xlink:href=\"#MJMAIN-30\" x=\"1175\" y=\"-213\"/></g><use xlink:href=\"#MJMAIN-29\" x=\"2972\" y=\"0\"/></g></svg></g><g class=\"layers\"><g class=\"legendfill\"><path class=\"js-fill\" d=\"M5,-3h30v6h-30z\" style=\"stroke-width: 0; fill: rgb(165, 165, 165); fill-opacity: 0.5;\"/></g><g class=\"legendlines\"/><g class=\"legendsymbols\"><g class=\"legendpoints\"/></g></g><rect class=\"legendtoggle\" x=\"0\" y=\"-9.5\" width=\"110.34375\" height=\"19\" style=\"fill: rgb(0, 0, 0); fill-opacity: 0;\"/></g><g class=\"traces\" transform=\"translate(0,33.5)\" style=\"opacity: 1;\"><text class=\"legendtext\" text-anchor=\"start\" x=\"40\" y=\"4.680000000000001\" style=\"font-family: 'Open Sans', verdana, arial, sans-serif; font-size: 12px; fill: rgb(242, 245, 250); fill-opacity: 1; white-space: pre;\">critical area</text><g class=\"layers\"><g class=\"legendfill\"><path class=\"js-fill\" d=\"M5,-3h30v6h-30z\" style=\"stroke-width: 0; fill: rgb(255, 94, 94); fill-opacity: 0.5;\"/></g><g class=\"legendlines\"/><g class=\"legendsymbols\"><g class=\"legendpoints\"/></g></g><rect class=\"legendtoggle\" x=\"0\" y=\"-9.5\" width=\"110.34375\" height=\"19\" style=\"fill: rgb(0, 0, 0); fill-opacity: 0;\"/></g><g class=\"traces\" transform=\"translate(0,52.5)\" style=\"opacity: 1;\"><text class=\"legendtext\" text-anchor=\"start\" x=\"40\" y=\"4.680000000000001\" style=\"font-family: 'Open Sans', verdana, arial, sans-serif; font-size: 12px; fill: rgb(242, 245, 250); fill-opacity: 1; white-space: pre;\">p-value</text><g class=\"layers\"><g class=\"legendfill\"><path class=\"js-fill\" d=\"M5,-3h30v6h-30z\" style=\"stroke-width: 0; fill: rgb(109, 141, 255); fill-opacity: 0.5;\"/></g><g class=\"legendlines\"/><g class=\"legendsymbols\"><g class=\"legendpoints\"/></g></g><rect class=\"legendtoggle\" x=\"0\" y=\"-9.5\" width=\"110.34375\" height=\"19\" style=\"fill: rgb(0, 0, 0); fill-opacity: 0;\"/></g></g></g><rect class=\"scrollbar\" rx=\"20\" ry=\"3\" width=\"0\" height=\"0\" style=\"fill: rgb(128, 139, 164); fill-opacity: 1;\" x=\"0\" y=\"0\"/></g><g class=\"g-gtitle\"><text class=\"gtitle\" x=\"35\" y=\"50\" text-anchor=\"start\" dy=\"0em\" style=\"font-family: 'Open Sans', verdana, arial, sans-serif; font-size: 17px; fill: rgb(242, 245, 250); opacity: 1; font-weight: normal; white-space: pre;\">Функция плотности f(z|H_0), критическая область и p-value</text></g><g class=\"g-xtitle\"/><g class=\"g-ytitle\"/></g></svg>"
     },
     "metadata": {},
     "output_type": "display_data"
    }
   ],
   "source": [
    "# построим график для наглядного отображения результата\n",
    "plot_density_func(test1_stat, ALPHA)"
   ],
   "metadata": {
    "collapsed": false,
    "ExecuteTime": {
     "end_time": "2023-12-12T23:44:55.837277Z",
     "start_time": "2023-12-12T23:44:55.801005Z"
    }
   },
   "id": "25171f53c48b840e"
  },
  {
   "cell_type": "markdown",
   "source": [
    "## Проверить гипотезу: \"Работники старше 35 лет (age) пропускают в течение года более 2 рабочих дней (work_days) по болезни значимо чаще своих более молодых коллег.\"\n",
    "\n",
    "В данном случае разбиение на группы идет уже по признаку \"Возраст\".\n",
    "Аналогично предыдущему тесту:\n",
    "\n",
    "**1. Сформулируем $H_0$ и $H'$:**\n",
    "Пусть проводится две серии испытаний по схеме Бернулли \n",
    " - \"успех\" в первой серии A = \\{Работники старше 35 лет (age) пропускают в течение года более 2 рабочих дней (work_days) по болезни\\}\n",
    " - \"успех\" во второй серии B = \\{Работники младше 35 лет (age) пропускают в течение года более 2 рабочих дней (work_days) по болезни\\}\n",
    "\n",
    "Тогда вероятностей «успехов» $p_1$ и $p_2$ в этих сериях:\n",
    " - $p_1$ = P(A), \n",
    " - $p_2$ = P(B)\n",
    "\n",
    "Исходя из условия получаем гипотезы (two-proportion z-test):\n",
    "$\n",
    "\\begin{gather}\n",
    "H_0: p_1 = p_2\n",
    "\\\\\n",
    "H': p_1 > p_2\n",
    "\\end{gather}\n",
    "$\n",
    "\n",
    "**2. Зададим уровень значимости $\\alpha$**\n",
    "Пусть $\\alpha$ = 0.05\n",
    "\n",
    "**3. Статистика критерия $Z$ для проверки гипотезы $H_0$**\n",
    "$\n",
    "Z=\\frac{H_1-H_2}{\\sqrt{H(1-H)}\\sqrt{\\frac{1}{n_1}+\\frac{1}{n_2}}}\n",
    "$,\n",
    "где\n",
    "- $H_1$, $H_2$ – частоты успеха в первой серии и во второй соответственно\n",
    "- $H=\\frac{n_1H_1+n_2H_2}{n_1+n_2}$ – эффективная оценка истинной вероятности $p$ при условии истинности $H_0$ (т.е. при $p_1=p_2=p$ ) \n",
    "- $n_1$, $n_2$ – количество испытаний в первой серии и во второй соответственно\n",
    "\n",
    "**4. Закон распределения $f(z|H_0)$**\n",
    "$f(z|H_0)\\sim N(0,1)$\n",
    "\n",
    "**5. Критическая область**\n",
    "Исходя из альтернативной гипотезы критическая область выбирается правосторонней"
   ],
   "metadata": {
    "collapsed": false
   },
   "id": "62dd215980306c06"
  },
  {
   "cell_type": "markdown",
   "source": [
    "Таким образом, нам для проверки гипотезы требуется найти \n",
    "- общее количество людей, старше 35 лет (age) = $n_1$ (далее n_1)\n",
    "- общее количество людей, младше 35 лет (age) = $n_2$ (далее n_2)\n",
    "- количество людей, старше 35 лет (age), пропускающих в течение года более 2 рабочих дней (work_days) по болезни (далее n_pass_1)\n",
    "- количество людей, младше 35 лет (age), пропускающих в течение года более 2 рабочих дней (work_days) по болезни (далее n_pass_2)"
   ],
   "metadata": {
    "collapsed": false
   },
   "id": "965ca89892883791"
  },
  {
   "cell_type": "code",
   "execution_count": 29,
   "outputs": [],
   "source": [
    "WORK_DAYS = 2\n",
    "AGE = 35\n",
    "ALPHA = 0.05\n",
    "\n",
    "# используя условие на \"Возраст\" получаем необходимые n_1 и n_2\n",
    "n_1 = len(df[df[\"Возраст\"] > AGE][\"Возраст\"])\n",
    "n_2 = len(df[df[\"Возраст\"] <= AGE][\"Возраст\"])\n",
    "\n",
    "# используя условие на \"Количество больничных дней\" находим всех людей, которые пропустили по болезни больше WORK_DAYS\n",
    "# далее используем условие на количество лет AGE и находим искомые n_pass_1 и n_pass_2\n",
    "sick_days_greater = df[(df[\"Количество больничных дней\"] > WORK_DAYS)][\"Возраст\"]\n",
    "n_pass_1 = len(sick_days_greater[sick_days_greater > AGE])\n",
    "n_pass_2 = len(sick_days_greater[sick_days_greater <= AGE])"
   ],
   "metadata": {
    "collapsed": false,
    "ExecuteTime": {
     "end_time": "2023-12-12T23:44:56.054225Z",
     "start_time": "2023-12-12T23:44:56.049316Z"
    }
   },
   "id": "58bdba52bb9499e9"
  },
  {
   "cell_type": "markdown",
   "source": [
    "Проводим проверку статистической гипотезы"
   ],
   "metadata": {
    "collapsed": false
   },
   "id": "594bd80c169b6a27"
  },
  {
   "cell_type": "code",
   "execution_count": 30,
   "outputs": [
    {
     "name": "stdout",
     "output_type": "stream",
     "text": [
      "p-value = 0.46016082212231335, alpha = 0.05\n",
      "p-value > alpha\n",
      "Гипотеза H_0 принимается!\n",
      "ВЫВОД: нельзя утверждать, что работники старше 35 лет (age) пропускают в течение года более 2 рабочих дней (work_days) по болезни значимо чаще своих более молодых коллег\n"
     ]
    }
   ],
   "source": [
    "# с помощью proportions_ztest считаем выборочное значение статистики критерия и p-value \n",
    "# (используется флаг alternative=\"larger\", т.к. H': p_1 > p_2)\n",
    "count = np.array([n_pass_1, n_pass_2])\n",
    "nobs = np.array([n_1, n_2])\n",
    "test1_stat, test1_pval = proportions_ztest(count, nobs, alternative=\"larger\")\n",
    "h_name = f\"работники старше {AGE} лет (age) пропускают в течение года более {WORK_DAYS} рабочих дней (work_days) по болезни значимо чаще своих более молодых коллег\"\n",
    "print_test_result(ALPHA, test1_pval, h_name)"
   ],
   "metadata": {
    "collapsed": false,
    "ExecuteTime": {
     "end_time": "2023-12-12T23:44:56.215913Z",
     "start_time": "2023-12-12T23:44:56.214027Z"
    }
   },
   "id": "d8fb620f92c0e6e0"
  },
  {
   "cell_type": "code",
   "execution_count": 31,
   "outputs": [
    {
     "data": {
      "image/svg+xml": "<svg class=\"main-svg\" xmlns=\"http://www.w3.org/2000/svg\" xmlns:xlink=\"http://www.w3.org/1999/xlink\" width=\"700\" height=\"500\" style=\"\" viewBox=\"0 0 700 500\"><rect x=\"0\" y=\"0\" width=\"700\" height=\"500\" style=\"fill: rgb(17, 17, 17); fill-opacity: 1;\"/><defs id=\"defs-0c95c7\"><g class=\"clips\"><clipPath id=\"clip0c95c7xyplot\" class=\"plotclip\"><rect width=\"540\" height=\"320\"/></clipPath><clipPath class=\"axesclip\" id=\"clip0c95c7x\"><rect x=\"80\" y=\"0\" width=\"540\" height=\"500\"/></clipPath><clipPath class=\"axesclip\" id=\"clip0c95c7y\"><rect x=\"0\" y=\"100\" width=\"700\" height=\"320\"/></clipPath><clipPath class=\"axesclip\" id=\"clip0c95c7xy\"><rect x=\"80\" y=\"100\" width=\"540\" height=\"320\"/></clipPath></g><g class=\"gradients\"/><g class=\"patterns\"/></defs><g class=\"bglayer\"/><g class=\"layer-below\"><g class=\"imagelayer\"/><g class=\"shapelayer\"/></g><g class=\"cartesianlayer\"><g class=\"subplot xy\"><g class=\"layer-subplot\"><g class=\"shapelayer\"/><g class=\"imagelayer\"/></g><g class=\"minor-gridlayer\"><g class=\"x\"/><g class=\"y\"/></g><g class=\"gridlayer\"><g class=\"x\"><path class=\"xgrid crisp\" transform=\"translate(160.47,0)\" d=\"M0,100v320\" style=\"stroke: rgb(40, 52, 66); stroke-opacity: 1; stroke-width: 1px;\"/><path class=\"xgrid crisp\" transform=\"translate(240.93,0)\" d=\"M0,100v320\" style=\"stroke: rgb(40, 52, 66); stroke-opacity: 1; stroke-width: 1px;\"/><path class=\"xgrid crisp\" transform=\"translate(401.87,0)\" d=\"M0,100v320\" style=\"stroke: rgb(40, 52, 66); stroke-opacity: 1; stroke-width: 1px;\"/><path class=\"xgrid crisp\" transform=\"translate(482.34,0)\" d=\"M0,100v320\" style=\"stroke: rgb(40, 52, 66); stroke-opacity: 1; stroke-width: 1px;\"/></g><g class=\"y\"><path class=\"ygrid crisp\" transform=\"translate(0,381.9)\" d=\"M80,0h482\" style=\"stroke: rgb(40, 52, 66); stroke-opacity: 1; stroke-width: 1px;\"/><path class=\"ygrid crisp\" transform=\"translate(0,343.8)\" d=\"M80,0h482\" style=\"stroke: rgb(40, 52, 66); stroke-opacity: 1; stroke-width: 1px;\"/><path class=\"ygrid crisp\" transform=\"translate(0,305.7)\" d=\"M80,0h482\" style=\"stroke: rgb(40, 52, 66); stroke-opacity: 1; stroke-width: 1px;\"/><path class=\"ygrid crisp\" transform=\"translate(0,267.6)\" d=\"M80,0h482\" style=\"stroke: rgb(40, 52, 66); stroke-opacity: 1; stroke-width: 1px;\"/><path class=\"ygrid crisp\" transform=\"translate(0,229.5)\" d=\"M80,0h482\" style=\"stroke: rgb(40, 52, 66); stroke-opacity: 1; stroke-width: 1px;\"/><path class=\"ygrid crisp\" transform=\"translate(0,191.4)\" d=\"M80,0h482\" style=\"stroke: rgb(40, 52, 66); stroke-opacity: 1; stroke-width: 1px;\"/><path class=\"ygrid crisp\" transform=\"translate(0,153.29)\" d=\"M80,0h482\" style=\"stroke: rgb(40, 52, 66); stroke-opacity: 1; stroke-width: 1px;\"/><path class=\"ygrid crisp\" transform=\"translate(0,115.19)\" d=\"M80,0h482\" style=\"stroke: rgb(40, 52, 66); stroke-opacity: 1; stroke-width: 1px;\"/></g></g><g class=\"zerolinelayer\"><path class=\"xzl zl crisp\" transform=\"translate(321.4,0)\" d=\"M0,100v320\" style=\"stroke: rgb(40, 52, 66); stroke-opacity: 1; stroke-width: 2px;\"/><path class=\"yzl zl crisp\" transform=\"translate(0,420)\" d=\"M80,0h482\" style=\"stroke: rgb(40, 52, 66); stroke-opacity: 1; stroke-width: 2px;\"/></g><path class=\"xlines-below\"/><path class=\"ylines-below\"/><g class=\"overlines-below\"/><g class=\"xaxislayer-below\"/><g class=\"yaxislayer-below\"/><g class=\"overaxes-below\"/><g class=\"plot\" transform=\"translate(80,100)\" clip-path=\"url(#clip0c95c7xyplot)\"><g class=\"scatterlayer mlayer\"><g class=\"trace scatter tracee27b7a\" style=\"stroke-miterlimit: 2;\"><g class=\"fills\"><g><path class=\"js-fill\" d=\"M482,320L0,320L0,316.62L0.8,316.52L1.61,316.41L2.41,316.31L3.22,316.2L4.02,316.08L4.83,315.96L5.63,315.84L6.44,315.72L7.24,315.59L8.05,315.46L8.85,315.33L9.66,315.19L10.46,315.05L11.27,314.91L12.07,314.76L12.87,314.61L13.68,314.46L14.48,314.3L15.29,314.14L16.09,313.97L16.9,313.8L17.7,313.62L18.51,313.44L19.31,313.26L20.12,313.07L20.92,312.88L21.73,312.68L22.53,312.48L23.34,312.27L24.14,312.06L24.94,311.84L25.75,311.62L26.55,311.39L27.36,311.16L28.16,310.92L28.97,310.68L29.77,310.43L30.58,310.18L31.38,309.92L32.19,309.65L32.99,309.38L33.8,309.1L34.6,308.81L35.41,308.52L36.21,308.23L37.01,307.92L37.82,307.61L38.62,307.3L39.43,306.97L40.23,306.64L41.04,306.31L41.84,305.96L42.65,305.61L43.45,305.25L44.26,304.88L45.06,304.51L45.87,304.13L46.67,303.74L47.48,303.34L48.28,302.94L49.08,302.52L49.89,302.1L50.69,301.67L51.5,301.23L52.3,300.78L53.11,300.33L53.91,299.86L54.72,299.39L55.52,298.91L56.33,298.41L57.13,297.91L57.94,297.4L58.74,296.88L59.55,296.35L60.35,295.81L61.15,295.26L61.96,294.71L62.76,294.14L63.57,293.56L64.37,292.97L65.18,292.37L65.98,291.76L66.79,291.14L67.59,290.5L68.4,289.86L69.2,289.21L70.01,288.54L70.81,287.87L71.62,287.18L72.42,286.48L73.23,285.77L74.03,285.05L74.83,284.32L75.64,283.58L76.44,282.82L77.25,282.05L78.05,281.27L78.86,280.48L79.66,279.67L80.47,278.86L81.27,278.03L82.08,277.19L82.88,276.33L83.69,275.47L84.49,274.59L85.3,273.7L86.1,272.79L86.9,271.87L87.71,270.94L88.51,270L89.32,269.04L90.12,268.07L90.93,267.09L91.73,266.09L92.54,265.09L93.34,264.06L94.15,263.03L94.95,261.98L95.76,260.91L96.56,259.84L97.37,258.75L98.17,257.65L98.97,256.53L99.78,255.4L100.58,254.26L101.39,253.1L102.19,251.93L103,250.74L103.8,249.54L104.61,248.33L105.41,247.11L106.22,245.87L107.02,244.62L107.83,243.35L108.63,242.07L109.44,240.78L110.24,239.47L111.04,238.15L111.85,236.82L112.65,235.48L113.46,234.12L114.26,232.75L115.07,231.36L115.87,229.96L116.68,228.55L117.48,227.13L118.29,225.69L119.09,224.24L119.9,222.78L120.7,221.31L121.51,219.82L122.31,218.32L123.11,216.81L123.92,215.29L124.72,213.75L125.53,212.21L126.33,210.65L127.14,209.08L127.94,207.5L128.75,205.91L129.55,204.3L130.36,202.69L131.16,201.06L131.97,199.43L132.77,197.79L133.58,196.13L134.38,194.47L135.18,192.79L135.99,191.11L136.79,189.41L137.6,187.71L138.4,186L139.21,184.28L140.01,182.55L140.82,180.82L141.62,179.08L142.43,177.32L143.23,175.57L144.04,173.8L144.84,172.03L145.65,170.25L146.45,168.46L147.25,166.67L148.06,164.88L148.86,163.07L149.67,161.27L150.47,159.45L151.28,157.64L152.08,155.82L152.89,153.99L153.69,152.17L154.5,150.33L155.3,148.5L156.11,146.66L156.91,144.83L157.72,142.99L158.52,141.14L159.32,139.3L160.13,137.46L160.93,135.61L161.74,133.77L162.54,131.93L163.35,130.08L164.15,128.24L164.96,126.4L165.76,124.57L166.57,122.73L167.37,120.9L168.18,119.07L168.98,117.24L169.79,115.42L170.59,113.6L171.39,111.78L172.2,109.97L173,108.17L173.81,106.37L174.61,104.58L175.42,102.8L176.22,101.02L177.03,99.25L177.83,97.49L178.64,95.74L179.44,93.99L180.25,92.25L181.05,90.53L181.86,88.81L182.66,87.11L183.46,85.41L184.27,83.73L185.07,82.06L185.88,80.4L186.68,78.75L187.49,77.12L188.29,75.5L189.1,73.89L189.9,72.3L190.71,70.72L191.51,69.16L192.32,67.61L193.12,66.08L193.93,64.56L194.73,63.06L195.53,61.58L196.34,60.12L197.14,58.67L197.95,57.24L198.75,55.83L199.56,54.44L200.36,53.07L201.17,51.72L201.97,50.39L202.78,49.08L203.58,47.79L204.39,46.52L205.19,45.27L206,44.05L206.8,42.84L207.61,41.66L208.41,40.51L209.21,39.37L210.02,38.26L210.82,37.18L211.63,36.11L212.43,35.07L213.24,34.06L214.04,33.07L214.85,32.11L215.65,31.17L216.46,30.26L217.26,29.38L218.07,28.52L218.87,27.69L219.68,26.88L220.48,26.1L221.28,25.35L222.09,24.63L222.89,23.94L223.7,23.27L224.5,22.63L225.31,22.02L226.11,21.44L226.92,20.89L227.72,20.36L228.53,19.87L229.33,19.4L230.14,18.96L230.94,18.56L231.75,18.18L232.55,17.83L233.35,17.52L234.16,17.23L234.96,16.97L235.77,16.74L236.57,16.55L237.38,16.38L238.18,16.24L238.99,16.14L239.79,16.06L240.6,16.02L241.4,16L242.21,16.02L243.01,16.06L243.82,16.14L244.62,16.24L245.42,16.38L246.23,16.55L247.03,16.74L247.84,16.97L248.64,17.23L249.45,17.52L250.25,17.83L251.06,18.18L251.86,18.56L252.67,18.96L253.47,19.4L254.28,19.87L255.08,20.36L255.89,20.89L256.69,21.44L257.49,22.02L258.3,22.63L259.1,23.27L259.91,23.94L260.71,24.63L261.52,25.35L262.32,26.1L263.13,26.88L263.93,27.69L264.74,28.52L265.54,29.38L266.35,30.26L267.15,31.17L267.96,32.11L268.76,33.07L269.56,34.06L270.37,35.07L271.17,36.11L271.98,37.18L272.78,38.26L273.59,39.37L274.39,40.51L275.2,41.66L276,42.84L276.81,44.05L277.61,45.27L278.42,46.52L279.22,47.79L280.03,49.08L280.83,50.39L281.63,51.72L282.44,53.07L283.24,54.44L284.05,55.83L284.85,57.24L285.66,58.67L286.46,60.12L287.27,61.58L288.07,63.06L288.88,64.56L289.68,66.08L290.49,67.61L291.29,69.16L292.1,70.72L292.9,72.3L293.7,73.89L294.51,75.5L295.31,77.12L296.12,78.75L296.92,80.4L297.73,82.06L298.53,83.73L299.34,85.41L300.14,87.11L300.95,88.81L301.75,90.53L302.56,92.25L303.36,93.99L304.17,95.74L304.97,97.49L305.77,99.25L306.58,101.02L307.38,102.8L308.19,104.58L308.99,106.37L309.8,108.17L310.6,109.97L311.41,111.78L312.21,113.6L313.02,115.42L313.82,117.24L314.63,119.07L315.43,120.9L316.24,122.73L317.04,124.57L317.84,126.4L318.65,128.24L319.45,130.08L320.26,131.93L321.06,133.77L321.87,135.61L322.67,137.46L323.48,139.3L324.28,141.14L325.09,142.99L325.89,144.83L326.7,146.66L327.5,148.5L328.31,150.33L329.11,152.17L329.91,153.99L330.72,155.82L331.52,157.64L332.33,159.45L333.13,161.27L333.94,163.07L334.74,164.88L335.55,166.67L336.35,168.46L337.16,170.25L337.96,172.03L338.77,173.8L339.57,175.57L340.38,177.32L341.18,179.08L341.99,180.82L342.79,182.55L343.59,184.28L344.4,186L345.2,187.71L346.01,189.41L346.81,191.11L347.62,192.79L348.42,194.47L349.23,196.13L350.03,197.79L350.84,199.43L351.64,201.06L352.45,202.69L353.25,204.3L354.06,205.91L354.86,207.5L355.66,209.08L356.47,210.65L357.27,212.21L358.08,213.75L358.88,215.29L359.69,216.81L360.49,218.32L361.3,219.82L362.1,221.31L362.91,222.78L363.71,224.24L364.52,225.69L365.32,227.13L366.13,228.55L366.93,229.96L367.73,231.36L368.54,232.75L369.34,234.12L370.15,235.48L370.95,236.82L371.76,238.15L372.56,239.47L373.37,240.78L374.17,242.07L374.98,243.35L375.78,244.62L376.59,245.87L377.39,247.11L378.2,248.33L379,249.54L379.8,250.74L380.61,251.93L381.41,253.1L382.22,254.26L383.02,255.4L383.83,256.53L384.63,257.65L385.44,258.75L386.24,259.84L387.05,260.91L387.85,261.98L388.66,263.03L389.46,264.06L390.27,265.09L391.07,266.09L391.87,267.09L392.68,268.07L393.48,269.04L394.29,270L395.09,270.94L395.9,271.87L396.7,272.79L397.51,273.7L398.31,274.59L399.12,275.47L399.92,276.33L400.73,277.19L401.53,278.03L402.34,278.86L403.14,279.67L403.94,280.48L404.75,281.27L405.55,282.05L406.36,282.82L407.16,283.58L407.97,284.32L408.77,285.05L409.58,285.77L410.38,286.48L411.19,287.18L411.99,287.87L412.8,288.54L413.6,289.21L414.41,289.86L415.21,290.5L416.01,291.14L416.82,291.76L417.62,292.37L418.43,292.97L419.23,293.56L420.04,294.14L420.84,294.71L421.65,295.26L422.45,295.81L423.26,296.35L424.06,296.88L424.87,297.4L425.67,297.91L426.48,298.41L427.28,298.91L428.08,299.39L428.89,299.86L429.69,300.33L430.5,300.78L431.3,301.23L432.11,301.67L432.91,302.1L433.72,302.52L434.52,302.94L435.33,303.34L436.13,303.74L436.94,304.13L437.74,304.51L438.55,304.88L439.35,305.25L440.15,305.61L440.96,305.96L441.76,306.31L442.57,306.64L443.37,306.97L444.18,307.3L444.98,307.61L445.79,307.92L446.59,308.23L447.4,308.52L448.2,308.81L449.01,309.1L449.81,309.38L450.62,309.65L451.42,309.92L452.22,310.18L453.03,310.43L453.83,310.68L454.64,310.92L455.44,311.16L456.25,311.39L457.05,311.62L457.86,311.84L458.66,312.06L459.47,312.27L460.27,312.48L461.08,312.68L461.88,312.88L462.69,313.07L463.49,313.26L464.29,313.44L465.1,313.62L465.9,313.8L466.71,313.97L467.51,314.14L468.32,314.3L469.12,314.46L469.93,314.61L470.73,314.76L471.54,314.91L472.34,315.05L473.15,315.19L473.95,315.33L474.76,315.46L475.56,315.59L476.37,315.72L477.17,315.84L477.97,315.96L478.78,316.08L479.58,316.2L480.39,316.31L481.19,316.41L482,316.52\" style=\"fill: rgb(165, 165, 165); fill-opacity: 0.5; stroke-width: 0;\"/></g></g><g class=\"errorbars\"/><g class=\"lines\"/><g class=\"points\"/><g class=\"text\"/></g><g class=\"trace scatter traced3e5fc\" style=\"stroke-miterlimit: 2;\"><g class=\"fills\"><g><path class=\"js-fill\" d=\"M482,320L373.37,320L373.37,240.78L374.17,242.07L374.98,243.35L375.78,244.62L376.59,245.87L377.39,247.11L378.2,248.33L379,249.54L379.8,250.74L380.61,251.93L381.41,253.1L382.22,254.26L383.02,255.4L383.83,256.53L384.63,257.65L385.44,258.75L386.24,259.84L387.05,260.91L387.85,261.98L388.66,263.03L389.46,264.06L390.27,265.09L391.07,266.09L391.87,267.09L392.68,268.07L393.48,269.04L394.29,270L395.09,270.94L395.9,271.87L396.7,272.79L397.51,273.7L398.31,274.59L399.12,275.47L399.92,276.33L400.73,277.19L401.53,278.03L402.34,278.86L403.14,279.67L403.94,280.48L404.75,281.27L405.55,282.05L406.36,282.82L407.16,283.58L407.97,284.32L408.77,285.05L409.58,285.77L410.38,286.48L411.19,287.18L411.99,287.87L412.8,288.54L413.6,289.21L414.41,289.86L415.21,290.5L416.01,291.14L416.82,291.76L417.62,292.37L418.43,292.97L419.23,293.56L420.04,294.14L420.84,294.71L421.65,295.26L422.45,295.81L423.26,296.35L424.06,296.88L424.87,297.4L425.67,297.91L426.48,298.41L427.28,298.91L428.08,299.39L428.89,299.86L429.69,300.33L430.5,300.78L431.3,301.23L432.11,301.67L432.91,302.1L433.72,302.52L434.52,302.94L435.33,303.34L436.13,303.74L436.94,304.13L437.74,304.51L438.55,304.88L439.35,305.25L440.15,305.61L440.96,305.96L441.76,306.31L442.57,306.64L443.37,306.97L444.18,307.3L444.98,307.61L445.79,307.92L446.59,308.23L447.4,308.52L448.2,308.81L449.01,309.1L449.81,309.38L450.62,309.65L451.42,309.92L452.22,310.18L453.03,310.43L453.83,310.68L454.64,310.92L455.44,311.16L456.25,311.39L457.05,311.62L457.86,311.84L458.66,312.06L459.47,312.27L460.27,312.48L461.08,312.68L461.88,312.88L462.69,313.07L463.49,313.26L464.29,313.44L465.1,313.62L465.9,313.8L466.71,313.97L467.51,314.14L468.32,314.3L469.12,314.46L469.93,314.61L470.73,314.76L471.54,314.91L472.34,315.05L473.15,315.19L473.95,315.33L474.76,315.46L475.56,315.59L476.37,315.72L477.17,315.84L477.97,315.96L478.78,316.08L479.58,316.2L480.39,316.31L481.19,316.41L482,316.52\" style=\"fill: rgb(255, 94, 94); fill-opacity: 0.5; stroke-width: 0;\"/></g></g><g class=\"errorbars\"/><g class=\"lines\"/><g class=\"points\"/><g class=\"text\"/></g><g class=\"trace scatter trace685dca\" style=\"stroke-miterlimit: 2;\"><g class=\"fills\"><g><path class=\"js-fill\" d=\"M482,320L249.45,320L249.45,17.52L250.25,17.83L251.06,18.18L251.86,18.56L252.67,18.97L253.47,19.4L254.28,19.87L255.08,20.36L255.89,20.89L256.69,21.44L257.5,22.02L258.3,22.63L259.11,23.27L259.91,23.94L260.72,24.63L261.52,25.36L262.32,26.11L263.13,26.88L263.93,27.69L264.74,28.52L265.54,29.38L266.35,30.26L267.15,31.18L267.96,32.11L268.76,33.08L269.57,34.06L270.37,35.08L271.18,36.12L271.98,37.18L272.79,38.27L273.59,39.38L274.39,40.51L275.2,41.67L276,42.85L276.81,44.05L277.61,45.28L278.42,46.52L279.22,47.79L280.03,49.08L280.83,50.39L281.64,51.72L282.44,53.08L283.25,54.45L284.05,55.84L284.86,57.25L285.66,58.68L286.47,60.12L287.27,61.59L288.07,63.07L288.88,64.57L289.68,66.08L290.49,67.61L291.29,69.16L292.1,70.72L292.9,72.3L293.71,73.89L294.51,75.5L295.32,77.12L296.12,78.76L296.93,80.4L297.73,82.06L298.54,83.73L299.34,85.42L300.14,87.11L300.95,88.82L301.75,90.53L302.56,92.26L303.36,94L304.17,95.74L304.97,97.49L305.78,99.26L306.58,101.03L307.39,102.8L308.19,104.59L309,106.38L309.8,108.18L310.61,109.98L311.41,111.79L312.21,113.6L313.02,115.42L313.82,117.24L314.63,119.07L315.43,120.9L316.24,122.73L317.04,124.57L317.85,126.41L318.65,128.25L319.46,130.09L320.26,131.93L321.07,133.78L321.87,135.62L322.68,137.46L323.48,139.31L324.28,141.15L325.09,142.99L325.89,144.83L326.7,146.67L327.5,148.51L328.31,150.34L329.11,152.17L329.92,154L330.72,155.82L331.53,157.64L332.33,159.46L333.14,161.27L333.94,163.08L334.75,164.88L335.55,166.68L336.35,168.47L337.16,170.25L337.96,172.03L338.77,173.8L339.57,175.57L340.38,177.33L341.18,179.08L341.99,180.82L342.79,182.56L343.6,184.29L344.4,186.01L345.21,187.72L346.01,189.42L346.82,191.11L347.62,192.8L348.42,194.47L349.23,196.14L350.03,197.79L350.84,199.44L351.64,201.07L352.45,202.69L353.25,204.31L354.06,205.91L354.86,207.5L355.67,209.08L356.47,210.65L357.28,212.21L358.08,213.76L358.89,215.29L359.69,216.81L360.49,218.32L361.3,219.82L362.1,221.31L362.91,222.78L363.71,224.25L364.52,225.7L365.32,227.13L366.13,228.56L366.93,229.97L367.74,231.36L368.54,232.75L369.35,234.12L370.15,235.48L370.96,236.83L371.76,238.16L372.56,239.48L373.37,240.78L374.17,242.08L374.98,243.36L375.78,244.62L376.59,245.87L377.39,247.11L378.2,248.34L379,249.55L379.81,250.75L380.61,251.93L381.42,253.1L382.22,254.26L383.03,255.4L383.83,256.53L384.63,257.65L385.44,258.75L386.24,259.84L387.05,260.92L387.85,261.98L388.66,263.03L389.46,264.07L390.27,265.09L391.07,266.1L391.88,267.09L392.68,268.08L393.49,269.05L394.29,270L395.1,270.95L395.9,271.88L396.7,272.79L397.51,273.7L398.31,274.59L399.12,275.47L399.92,276.34L400.73,277.19L401.53,278.03L402.34,278.86L403.14,279.68L403.95,280.48L404.75,281.27L405.56,282.05L406.36,282.82L407.17,283.58L407.97,284.32L408.77,285.06L409.58,285.78L410.38,286.49L411.19,287.18L411.99,287.87L412.8,288.55L413.6,289.21L414.41,289.86L415.21,290.51L416.02,291.14L416.82,291.76L417.63,292.37L418.43,292.97L419.24,293.56L420.04,294.14L420.85,294.71L421.65,295.27L422.45,295.82L423.26,296.35L424.06,296.88L424.87,297.4L425.67,297.91L426.48,298.42L427.28,298.91L428.09,299.39L428.89,299.86L429.7,300.33L430.5,300.78L431.31,301.23L432.11,301.67L432.92,302.1L433.72,302.52L434.52,302.94L435.33,303.34L436.13,303.74L436.94,304.13L437.74,304.51L438.55,304.88L439.35,305.25L440.16,305.61L440.96,305.96L441.77,306.31L442.57,306.64L443.38,306.97L444.18,307.3L444.99,307.61L445.79,307.92L446.59,308.23L447.4,308.53L448.2,308.82L449.01,309.1L449.81,309.38L450.62,309.65L451.42,309.92L452.23,310.18L453.03,310.43L453.84,310.68L454.64,310.92L455.45,311.16L456.25,311.39L457.06,311.62L457.86,311.84L458.66,312.06L459.47,312.27L460.27,312.48L461.08,312.68L461.88,312.88L462.69,313.07L463.49,313.26L464.3,313.44L465.1,313.62L465.91,313.8L466.71,313.97L467.52,314.14L468.32,314.3L469.13,314.46L469.93,314.61L470.73,314.76L471.54,314.91L472.34,315.05L473.15,315.19L473.95,315.33L474.76,315.46L475.56,315.59L476.37,315.72L477.17,315.84L477.98,315.96L478.78,316.08L479.59,316.2L480.39,316.31L481.2,316.42L482,316.52\" style=\"fill: rgb(109, 141, 255); fill-opacity: 0.5; stroke-width: 0;\"/></g></g><g class=\"errorbars\"/><g class=\"lines\"/><g class=\"points\"/><g class=\"text\"/></g></g></g><g class=\"overplot\"/><path class=\"xlines-above crisp\" d=\"M0,0\" style=\"fill: none;\"/><path class=\"ylines-above crisp\" d=\"M0,0\" style=\"fill: none;\"/><g class=\"overlines-above\"/><g class=\"xaxislayer-above\"><g class=\"xtick\"><text text-anchor=\"middle\" x=\"0\" y=\"433\" transform=\"translate(80,0)\" style=\"font-family: 'Open Sans', verdana, arial, sans-serif; font-size: 12px; fill: rgb(242, 245, 250); fill-opacity: 1; white-space: pre; opacity: 1;\">−3</text></g><g class=\"xtick\"><text text-anchor=\"middle\" x=\"0\" y=\"433\" style=\"font-family: 'Open Sans', verdana, arial, sans-serif; font-size: 12px; fill: rgb(242, 245, 250); fill-opacity: 1; white-space: pre; opacity: 1;\" transform=\"translate(160.47,0)\">−2</text></g><g class=\"xtick\"><text text-anchor=\"middle\" x=\"0\" y=\"433\" style=\"font-family: 'Open Sans', verdana, arial, sans-serif; font-size: 12px; fill: rgb(242, 245, 250); fill-opacity: 1; white-space: pre; opacity: 1;\" transform=\"translate(240.93,0)\">−1</text></g><g class=\"xtick\"><text text-anchor=\"middle\" x=\"0\" y=\"433\" style=\"font-family: 'Open Sans', verdana, arial, sans-serif; font-size: 12px; fill: rgb(242, 245, 250); fill-opacity: 1; white-space: pre; opacity: 1;\" transform=\"translate(321.4,0)\">0</text></g><g class=\"xtick\"><text text-anchor=\"middle\" x=\"0\" y=\"433\" style=\"font-family: 'Open Sans', verdana, arial, sans-serif; font-size: 12px; fill: rgb(242, 245, 250); fill-opacity: 1; white-space: pre; opacity: 1;\" transform=\"translate(401.87,0)\">1</text></g><g class=\"xtick\"><text text-anchor=\"middle\" x=\"0\" y=\"433\" style=\"font-family: 'Open Sans', verdana, arial, sans-serif; font-size: 12px; fill: rgb(242, 245, 250); fill-opacity: 1; white-space: pre; opacity: 1;\" transform=\"translate(482.34,0)\">2</text></g></g><g class=\"yaxislayer-above\"><g class=\"ytick\"><text text-anchor=\"end\" x=\"79\" y=\"4.199999999999999\" transform=\"translate(0,420)\" style=\"font-family: 'Open Sans', verdana, arial, sans-serif; font-size: 12px; fill: rgb(242, 245, 250); fill-opacity: 1; white-space: pre; opacity: 1;\">0</text></g><g class=\"ytick\"><text text-anchor=\"end\" x=\"79\" y=\"4.199999999999999\" style=\"font-family: 'Open Sans', verdana, arial, sans-serif; font-size: 12px; fill: rgb(242, 245, 250); fill-opacity: 1; white-space: pre; opacity: 1;\" transform=\"translate(0,381.9)\">0.05</text></g><g class=\"ytick\"><text text-anchor=\"end\" x=\"79\" y=\"4.199999999999999\" style=\"font-family: 'Open Sans', verdana, arial, sans-serif; font-size: 12px; fill: rgb(242, 245, 250); fill-opacity: 1; white-space: pre; opacity: 1;\" transform=\"translate(0,343.8)\">0.1</text></g><g class=\"ytick\"><text text-anchor=\"end\" x=\"79\" y=\"4.199999999999999\" style=\"font-family: 'Open Sans', verdana, arial, sans-serif; font-size: 12px; fill: rgb(242, 245, 250); fill-opacity: 1; white-space: pre; opacity: 1;\" transform=\"translate(0,305.7)\">0.15</text></g><g class=\"ytick\"><text text-anchor=\"end\" x=\"79\" y=\"4.199999999999999\" style=\"font-family: 'Open Sans', verdana, arial, sans-serif; font-size: 12px; fill: rgb(242, 245, 250); fill-opacity: 1; white-space: pre; opacity: 1;\" transform=\"translate(0,267.6)\">0.2</text></g><g class=\"ytick\"><text text-anchor=\"end\" x=\"79\" y=\"4.199999999999999\" style=\"font-family: 'Open Sans', verdana, arial, sans-serif; font-size: 12px; fill: rgb(242, 245, 250); fill-opacity: 1; white-space: pre; opacity: 1;\" transform=\"translate(0,229.5)\">0.25</text></g><g class=\"ytick\"><text text-anchor=\"end\" x=\"79\" y=\"4.199999999999999\" style=\"font-family: 'Open Sans', verdana, arial, sans-serif; font-size: 12px; fill: rgb(242, 245, 250); fill-opacity: 1; white-space: pre; opacity: 1;\" transform=\"translate(0,191.4)\">0.3</text></g><g class=\"ytick\"><text text-anchor=\"end\" x=\"79\" y=\"4.199999999999999\" style=\"font-family: 'Open Sans', verdana, arial, sans-serif; font-size: 12px; fill: rgb(242, 245, 250); fill-opacity: 1; white-space: pre; opacity: 1;\" transform=\"translate(0,153.29)\">0.35</text></g><g class=\"ytick\"><text text-anchor=\"end\" x=\"79\" y=\"4.199999999999999\" style=\"font-family: 'Open Sans', verdana, arial, sans-serif; font-size: 12px; fill: rgb(242, 245, 250); fill-opacity: 1; white-space: pre; opacity: 1;\" transform=\"translate(0,115.19)\">0.4</text></g></g><g class=\"overaxes-above\"/></g></g><g class=\"polarlayer\"/><g class=\"smithlayer\"/><g class=\"ternarylayer\"/><g class=\"geolayer\"/><g class=\"funnelarealayer\"/><g class=\"pielayer\"/><g class=\"iciclelayer\"/><g class=\"treemaplayer\"/><g class=\"sunburstlayer\"/><g class=\"glimages\"/><defs id=\"topdefs-0c95c7\"><g class=\"clips\"/><clipPath id=\"legend0c95c7\"><rect width=\"116\" height=\"67\" x=\"0\" y=\"0\"/></clipPath></defs><g class=\"layer-above\"><g class=\"imagelayer\"/><g class=\"shapelayer\"/></g><g class=\"infolayer\"><g class=\"legend\" pointer-events=\"all\" transform=\"translate(584,100)\"><rect class=\"bg\" shape-rendering=\"crispEdges\" style=\"stroke: rgb(68, 68, 68); stroke-opacity: 1; fill: rgb(17, 17, 17); fill-opacity: 1; stroke-width: 0px;\" width=\"116\" height=\"67\" x=\"0\" y=\"0\"/><g class=\"scrollbox\" transform=\"\" clip-path=\"url(#legend0c95c7)\"><g class=\"groups\"><g class=\"traces\" transform=\"translate(0,14.5)\" style=\"opacity: 1;\"><g class=\"legendtext-math-group\" pointer-events=\"none\" data-unformatted=\"$f(z|H_0)$\" data-math=\"Y\" transform=\"translate(0,3.115478515625)\"><svg xmlns:xlink=\"http://www.w3.org/1999/xlink\" width=\"7.808ex\" height=\"16.046875\" viewBox=\"0 -884.5 3361.9 1287.6\" role=\"img\" focusable=\"false\" aria-hidden=\"true\" style=\"vertical-align: -0.936ex; overflow: visible; pointer-events: none;\" class=\"legendtext-math\" preserveAspectRatio=\"xMinYMin meet\" x=\"40\" y=\"-9.231312274932861\"><defs id=\"MathJax_SVG_glyphs\"><path stroke-width=\"1\" id=\"MJMATHI-66\" d=\"M118 -162Q120 -162 124 -164T135 -167T147 -168Q160 -168 171 -155T187 -126Q197 -99 221 27T267 267T289 382V385H242Q195 385 192 387Q188 390 188 397L195 425Q197 430 203 430T250 431Q298 431 298 432Q298 434 307 482T319 540Q356 705 465 705Q502 703 526 683T550 630Q550 594 529 578T487 561Q443 561 443 603Q443 622 454 636T478 657L487 662Q471 668 457 668Q445 668 434 658T419 630Q412 601 403 552T387 469T380 433Q380 431 435 431Q480 431 487 430T498 424Q499 420 496 407T491 391Q489 386 482 386T428 385H372L349 263Q301 15 282 -47Q255 -132 212 -173Q175 -205 139 -205Q107 -205 81 -186T55 -132Q55 -95 76 -78T118 -61Q162 -61 162 -103Q162 -122 151 -136T127 -157L118 -162Z\"/><path stroke-width=\"1\" id=\"MJMAIN-28\" d=\"M94 250Q94 319 104 381T127 488T164 576T202 643T244 695T277 729T302 750H315H319Q333 750 333 741Q333 738 316 720T275 667T226 581T184 443T167 250T184 58T225 -81T274 -167T316 -220T333 -241Q333 -250 318 -250H315H302L274 -226Q180 -141 137 -14T94 250Z\"/><path stroke-width=\"1\" id=\"MJMATHI-7A\" d=\"M347 338Q337 338 294 349T231 360Q211 360 197 356T174 346T162 335T155 324L153 320Q150 317 138 317Q117 317 117 325Q117 330 120 339Q133 378 163 406T229 440Q241 442 246 442Q271 442 291 425T329 392T367 375Q389 375 411 408T434 441Q435 442 449 442H462Q468 436 468 434Q468 430 463 420T449 399T432 377T418 358L411 349Q368 298 275 214T160 106L148 94L163 93Q185 93 227 82T290 71Q328 71 360 90T402 140Q406 149 409 151T424 153Q443 153 443 143Q443 138 442 134Q425 72 376 31T278 -11Q252 -11 232 6T193 40T155 57Q111 57 76 -3Q70 -11 59 -11H54H41Q35 -5 35 -2Q35 13 93 84Q132 129 225 214T340 322Q352 338 347 338Z\"/><path stroke-width=\"1\" id=\"MJMAIN-7C\" d=\"M139 -249H137Q125 -249 119 -235V251L120 737Q130 750 139 750Q152 750 159 735V-235Q151 -249 141 -249H139Z\"/><path stroke-width=\"1\" id=\"MJMATHI-48\" d=\"M228 637Q194 637 192 641Q191 643 191 649Q191 673 202 682Q204 683 219 683Q260 681 355 681Q389 681 418 681T463 682T483 682Q499 682 499 672Q499 670 497 658Q492 641 487 638H485Q483 638 480 638T473 638T464 637T455 637Q416 636 405 634T387 623Q384 619 355 500Q348 474 340 442T328 395L324 380Q324 378 469 378H614L615 381Q615 384 646 504Q674 619 674 627T617 637Q594 637 587 639T580 648Q580 650 582 660Q586 677 588 679T604 682Q609 682 646 681T740 680Q802 680 835 681T871 682Q888 682 888 672Q888 645 876 638H874Q872 638 869 638T862 638T853 637T844 637Q805 636 794 634T776 623Q773 618 704 340T634 58Q634 51 638 51Q646 48 692 46H723Q729 38 729 37T726 19Q722 6 716 0H701Q664 2 567 2Q533 2 504 2T458 2T437 1Q420 1 420 10Q420 15 423 24Q428 43 433 45Q437 46 448 46H454Q481 46 514 49Q520 50 522 50T528 55T534 64T540 82T547 110T558 153Q565 181 569 198Q602 330 602 331T457 332H312L279 197Q245 63 245 58Q245 51 253 49T303 46H334Q340 38 340 37T337 19Q333 6 327 0H312Q275 2 178 2Q144 2 115 2T69 2T48 1Q31 1 31 10Q31 12 34 24Q39 43 44 45Q48 46 59 46H65Q92 46 125 49Q139 52 144 61Q147 65 216 339T285 628Q285 635 228 637Z\"/><path stroke-width=\"1\" id=\"MJMAIN-30\" d=\"M96 585Q152 666 249 666Q297 666 345 640T423 548Q460 465 460 320Q460 165 417 83Q397 41 362 16T301 -15T250 -22Q224 -22 198 -16T137 16T82 83Q39 165 39 320Q39 494 96 585ZM321 597Q291 629 250 629Q208 629 178 597Q153 571 145 525T137 333Q137 175 145 125T181 46Q209 16 250 16Q290 16 318 46Q347 76 354 130T362 333Q362 478 354 524T321 597Z\"/><path stroke-width=\"1\" id=\"MJMAIN-29\" d=\"M60 749L64 750Q69 750 74 750H86L114 726Q208 641 251 514T294 250Q294 182 284 119T261 12T224 -76T186 -143T145 -194T113 -227T90 -246Q87 -249 86 -250H74Q66 -250 63 -250T58 -247T55 -238Q56 -237 66 -225Q221 -64 221 250T66 725Q56 737 55 738Q55 746 60 749Z\"/></defs><g stroke=\"rgb(242, 245, 250)\" fill=\"rgb(242, 245, 250)\" stroke-width=\"0\" transform=\"matrix(1 0 0 -1 0 0)\"><use xlink:href=\"#MJMATHI-66\" x=\"0\" y=\"0\"/><use xlink:href=\"#MJMAIN-28\" x=\"550\" y=\"0\"/><use xlink:href=\"#MJMATHI-7A\" x=\"940\" y=\"0\"/><use xlink:href=\"#MJMAIN-7C\" x=\"1408\" y=\"0\"/><g transform=\"translate(1687,0)\"><use xlink:href=\"#MJMATHI-48\" x=\"0\" y=\"0\"/><use transform=\"scale(0.707)\" xlink:href=\"#MJMAIN-30\" x=\"1175\" y=\"-213\"/></g><use xlink:href=\"#MJMAIN-29\" x=\"2972\" y=\"0\"/></g></svg></g><g class=\"layers\"><g class=\"legendfill\"><path class=\"js-fill\" d=\"M5,-3h30v6h-30z\" style=\"stroke-width: 0; fill: rgb(165, 165, 165); fill-opacity: 0.5;\"/></g><g class=\"legendlines\"/><g class=\"legendsymbols\"><g class=\"legendpoints\"/></g></g><rect class=\"legendtoggle\" x=\"0\" y=\"-9.5\" width=\"110.34375\" height=\"19\" style=\"fill: rgb(0, 0, 0); fill-opacity: 0;\"/></g><g class=\"traces\" transform=\"translate(0,33.5)\" style=\"opacity: 1;\"><text class=\"legendtext\" text-anchor=\"start\" x=\"40\" y=\"4.680000000000001\" style=\"font-family: 'Open Sans', verdana, arial, sans-serif; font-size: 12px; fill: rgb(242, 245, 250); fill-opacity: 1; white-space: pre;\">critical area</text><g class=\"layers\"><g class=\"legendfill\"><path class=\"js-fill\" d=\"M5,-3h30v6h-30z\" style=\"stroke-width: 0; fill: rgb(255, 94, 94); fill-opacity: 0.5;\"/></g><g class=\"legendlines\"/><g class=\"legendsymbols\"><g class=\"legendpoints\"/></g></g><rect class=\"legendtoggle\" x=\"0\" y=\"-9.5\" width=\"110.34375\" height=\"19\" style=\"fill: rgb(0, 0, 0); fill-opacity: 0;\"/></g><g class=\"traces\" transform=\"translate(0,52.5)\" style=\"opacity: 1;\"><text class=\"legendtext\" text-anchor=\"start\" x=\"40\" y=\"4.680000000000001\" style=\"font-family: 'Open Sans', verdana, arial, sans-serif; font-size: 12px; fill: rgb(242, 245, 250); fill-opacity: 1; white-space: pre;\">p-value</text><g class=\"layers\"><g class=\"legendfill\"><path class=\"js-fill\" d=\"M5,-3h30v6h-30z\" style=\"stroke-width: 0; fill: rgb(109, 141, 255); fill-opacity: 0.5;\"/></g><g class=\"legendlines\"/><g class=\"legendsymbols\"><g class=\"legendpoints\"/></g></g><rect class=\"legendtoggle\" x=\"0\" y=\"-9.5\" width=\"110.34375\" height=\"19\" style=\"fill: rgb(0, 0, 0); fill-opacity: 0;\"/></g></g></g><rect class=\"scrollbar\" rx=\"20\" ry=\"3\" width=\"0\" height=\"0\" style=\"fill: rgb(128, 139, 164); fill-opacity: 1;\" x=\"0\" y=\"0\"/></g><g class=\"g-gtitle\"><text class=\"gtitle\" x=\"35\" y=\"50\" text-anchor=\"start\" dy=\"0em\" style=\"font-family: 'Open Sans', verdana, arial, sans-serif; font-size: 17px; fill: rgb(242, 245, 250); opacity: 1; font-weight: normal; white-space: pre;\">Функция плотности f(z|H_0), критическая область и p-value</text></g><g class=\"g-xtitle\"/><g class=\"g-ytitle\"/></g></svg>"
     },
     "metadata": {},
     "output_type": "display_data"
    }
   ],
   "source": [
    "# построим график для наглядного отображения результата\n",
    "plot_density_func(test1_stat, ALPHA)"
   ],
   "metadata": {
    "collapsed": false,
    "ExecuteTime": {
     "end_time": "2023-12-12T23:44:56.335789Z",
     "start_time": "2023-12-12T23:44:56.307040Z"
    }
   },
   "id": "797487debdc8c0c1"
  },
  {
   "cell_type": "code",
   "execution_count": 31,
   "outputs": [],
   "source": [],
   "metadata": {
    "collapsed": false,
    "ExecuteTime": {
     "end_time": "2023-12-12T23:44:56.394672Z",
     "start_time": "2023-12-12T23:44:56.385113Z"
    }
   },
   "id": "bdc50afed947970c"
  }
 ],
 "metadata": {
  "kernelspec": {
   "display_name": "Python 3",
   "language": "python",
   "name": "python3"
  },
  "language_info": {
   "codemirror_mode": {
    "name": "ipython",
    "version": 2
   },
   "file_extension": ".py",
   "mimetype": "text/x-python",
   "name": "python",
   "nbconvert_exporter": "python",
   "pygments_lexer": "ipython2",
   "version": "2.7.6"
  }
 },
 "nbformat": 4,
 "nbformat_minor": 5
}
