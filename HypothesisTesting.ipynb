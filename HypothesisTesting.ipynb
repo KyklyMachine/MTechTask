{
 "cells": [
  {
   "cell_type": "markdown",
   "source": [
    "# Решение тестового задания для вакансии «Младший исследователь данных (DS)»"
   ],
   "metadata": {
    "collapsed": false
   },
   "id": "c9555b417bc8f935"
  },
  {
   "cell_type": "code",
   "execution_count": 15,
   "id": "initial_id",
   "metadata": {
    "collapsed": true,
    "ExecuteTime": {
     "end_time": "2023-12-12T20:48:57.623391Z",
     "start_time": "2023-12-12T20:48:57.611124Z"
    }
   },
   "outputs": [],
   "source": [
    "import numpy as np\n",
    "import pandas as pd\n",
    "import scipy.stats as stats\n",
    "from plotly.subplots import make_subplots\n",
    "import plotly.graph_objects as go\n",
    "from statsmodels.stats.proportion import proportions_ztest"
   ]
  },
  {
   "cell_type": "markdown",
   "source": [
    "Чтение данных из файла (используется кодировка cp1251 для корректного отображения всех символов, убираются все лишние двойные кавычки)\n",
    "Далее колонки \"Количество больничных дней\" и \"Возраст\" приводятся к типу данных int64 (из numpy)"
   ],
   "metadata": {
    "collapsed": false
   },
   "id": "1b15b0c8a60da091"
  },
  {
   "cell_type": "code",
   "execution_count": 62,
   "outputs": [],
   "source": [
    "df = pd.read_csv(\"М.Тех_Данные_к_ТЗ_DS.csv\", encoding='cp1251', sep=\"\\,\", engine=\"python\", header=None).apply(lambda x: x.str.replace(r\"\\\"\",\"\", regex=True))\n",
    "df.columns = df.iloc[0]\n",
    "df.drop(index=0, inplace=True)\n",
    "df.head()\n",
    "df[\"Количество больничных дней\"] = df[\"Количество больничных дней\"].astype(np.int_)\n",
    "df[\"Возраст\"] = df[\"Возраст\"].astype(np.int_)"
   ],
   "metadata": {
    "collapsed": false,
    "ExecuteTime": {
     "end_time": "2023-12-12T22:09:14.841810Z",
     "start_time": "2023-12-12T22:09:14.828131Z"
    }
   },
   "id": "c1ce02c3fd15dc57"
  },
  {
   "cell_type": "markdown",
   "source": [
    "Вывод информации о датафрейме (нет пропусков в данных, типы данных корректные)"
   ],
   "metadata": {
    "collapsed": false
   },
   "id": "f0104bc55de86824"
  },
  {
   "cell_type": "code",
   "execution_count": 63,
   "outputs": [
    {
     "name": "stdout",
     "output_type": "stream",
     "text": [
      "<class 'pandas.core.frame.DataFrame'>\n",
      "RangeIndex: 237 entries, 1 to 237\n",
      "Data columns (total 3 columns):\n",
      " #   Column                      Non-Null Count  Dtype \n",
      "---  ------                      --------------  ----- \n",
      " 0   Количество больничных дней  237 non-null    int64 \n",
      " 1   Возраст                     237 non-null    int64 \n",
      " 2   Пол                         237 non-null    object\n",
      "dtypes: int64(2), object(1)\n",
      "memory usage: 5.7+ KB\n"
     ]
    }
   ],
   "source": [
    "df.info()"
   ],
   "metadata": {
    "collapsed": false,
    "ExecuteTime": {
     "end_time": "2023-12-12T22:09:16.389231Z",
     "start_time": "2023-12-12T22:09:16.386487Z"
    }
   },
   "id": "458c11cba18a6b1e"
  },
  {
   "cell_type": "markdown",
   "source": [
    "Гистограммы распределений колонок \"Возраст\" и \"Количество больничных дней\""
   ],
   "metadata": {
    "collapsed": false
   },
   "id": "26239fd907e20ca8"
  },
  {
   "cell_type": "code",
   "execution_count": 69,
   "outputs": [
    {
     "data": {
      "application/vnd.plotly.v1+json": {
       "data": [
        {
         "name": "Возраст",
         "x": [
          39,
          54,
          26,
          42,
          29,
          38,
          49,
          44,
          42,
          36,
          32,
          34,
          40,
          36,
          34,
          41,
          43,
          40,
          50,
          37,
          35,
          47,
          35,
          40,
          38,
          45,
          49,
          53,
          43,
          25,
          35,
          42,
          48,
          38,
          36,
          37,
          42,
          41,
          37,
          27,
          41,
          38,
          42,
          29,
          39,
          52,
          41,
          38,
          52,
          53,
          39,
          49,
          42,
          40,
          41,
          39,
          30,
          38,
          43,
          42,
          34,
          47,
          49,
          41,
          46,
          29,
          26,
          50,
          28,
          32,
          35,
          36,
          34,
          42,
          35,
          37,
          35,
          52,
          46,
          43,
          43,
          46,
          32,
          30,
          37,
          42,
          41,
          44,
          41,
          31,
          47,
          42,
          47,
          50,
          37,
          40,
          42,
          27,
          40,
          43,
          39,
          44,
          35,
          55,
          39,
          31,
          31,
          38,
          36,
          41,
          40,
          38,
          39,
          37,
          55,
          43,
          41,
          42,
          45,
          43,
          41,
          43,
          31,
          33,
          54,
          50,
          40,
          45,
          43,
          42,
          35,
          27,
          36,
          41,
          23,
          45,
          42,
          45,
          45,
          57,
          41,
          46,
          39,
          51,
          46,
          48,
          52,
          43,
          43,
          39,
          48,
          42,
          44,
          45,
          35,
          25,
          41,
          48,
          40,
          44,
          50,
          36,
          45,
          48,
          51,
          34,
          27,
          31,
          41,
          34,
          39,
          49,
          31,
          45,
          46,
          39,
          42,
          36,
          41,
          30,
          35,
          40,
          47,
          35,
          44,
          34,
          38,
          47,
          36,
          34,
          36,
          45,
          45,
          45,
          39,
          50,
          39,
          49,
          47,
          45,
          34,
          40,
          36,
          48,
          42,
          46,
          48,
          38,
          36,
          33,
          30,
          30,
          33,
          41,
          32,
          34,
          50,
          41,
          36,
          23,
          41,
          47,
          38,
          43,
          49,
          43,
          24,
          33,
          41,
          33,
          36,
          36,
          30,
          36,
          60,
          44,
          37
         ],
         "type": "histogram",
         "xaxis": "x",
         "yaxis": "y"
        },
        {
         "name": "Количество больничных дней",
         "x": [
          5,
          4,
          4,
          5,
          4,
          4,
          1,
          1,
          3,
          4,
          1,
          1,
          3,
          5,
          3,
          2,
          3,
          2,
          2,
          2,
          0,
          3,
          1,
          1,
          0,
          1,
          2,
          2,
          2,
          4,
          1,
          2,
          3,
          3,
          3,
          3,
          2,
          5,
          3,
          2,
          4,
          1,
          2,
          3,
          4,
          7,
          1,
          7,
          2,
          1,
          2,
          3,
          3,
          5,
          4,
          2,
          4,
          0,
          4,
          3,
          2,
          4,
          2,
          0,
          4,
          4,
          4,
          1,
          3,
          5,
          6,
          6,
          2,
          6,
          3,
          4,
          3,
          4,
          3,
          3,
          0,
          1,
          4,
          5,
          2,
          3,
          5,
          2,
          3,
          2,
          4,
          3,
          4,
          2,
          3,
          5,
          3,
          0,
          6,
          4,
          1,
          4,
          2,
          4,
          7,
          2,
          2,
          3,
          3,
          1,
          2,
          1,
          2,
          4,
          3,
          2,
          6,
          0,
          4,
          7,
          3,
          4,
          4,
          8,
          3,
          3,
          3,
          3,
          2,
          8,
          2,
          4,
          8,
          6,
          6,
          5,
          1,
          3,
          4,
          4,
          5,
          5,
          1,
          6,
          2,
          4,
          0,
          6,
          4,
          6,
          1,
          5,
          2,
          5,
          4,
          1,
          4,
          2,
          6,
          8,
          2,
          6,
          3,
          2,
          1,
          7,
          4,
          2,
          3,
          7,
          3,
          4,
          3,
          6,
          7,
          5,
          1,
          2,
          1,
          2,
          1,
          3,
          3,
          8,
          7,
          3,
          2,
          1,
          2,
          4,
          1,
          4,
          4,
          2,
          4,
          3,
          2,
          1,
          0,
          3,
          3,
          5,
          3,
          4,
          3,
          4,
          3,
          1,
          4,
          4,
          2,
          4,
          3,
          7,
          5,
          2,
          3,
          3,
          4,
          7,
          3,
          1,
          2,
          5,
          6,
          3,
          1,
          3,
          3,
          5,
          4,
          2,
          5,
          4,
          2,
          2,
          3
         ],
         "type": "histogram",
         "xaxis": "x2",
         "yaxis": "y2"
        }
       ],
       "layout": {
        "template": {
         "data": {
          "histogram2dcontour": [
           {
            "type": "histogram2dcontour",
            "colorbar": {
             "outlinewidth": 0,
             "ticks": ""
            },
            "colorscale": [
             [
              0.0,
              "#0d0887"
             ],
             [
              0.1111111111111111,
              "#46039f"
             ],
             [
              0.2222222222222222,
              "#7201a8"
             ],
             [
              0.3333333333333333,
              "#9c179e"
             ],
             [
              0.4444444444444444,
              "#bd3786"
             ],
             [
              0.5555555555555556,
              "#d8576b"
             ],
             [
              0.6666666666666666,
              "#ed7953"
             ],
             [
              0.7777777777777778,
              "#fb9f3a"
             ],
             [
              0.8888888888888888,
              "#fdca26"
             ],
             [
              1.0,
              "#f0f921"
             ]
            ]
           }
          ],
          "choropleth": [
           {
            "type": "choropleth",
            "colorbar": {
             "outlinewidth": 0,
             "ticks": ""
            }
           }
          ],
          "histogram2d": [
           {
            "type": "histogram2d",
            "colorbar": {
             "outlinewidth": 0,
             "ticks": ""
            },
            "colorscale": [
             [
              0.0,
              "#0d0887"
             ],
             [
              0.1111111111111111,
              "#46039f"
             ],
             [
              0.2222222222222222,
              "#7201a8"
             ],
             [
              0.3333333333333333,
              "#9c179e"
             ],
             [
              0.4444444444444444,
              "#bd3786"
             ],
             [
              0.5555555555555556,
              "#d8576b"
             ],
             [
              0.6666666666666666,
              "#ed7953"
             ],
             [
              0.7777777777777778,
              "#fb9f3a"
             ],
             [
              0.8888888888888888,
              "#fdca26"
             ],
             [
              1.0,
              "#f0f921"
             ]
            ]
           }
          ],
          "heatmap": [
           {
            "type": "heatmap",
            "colorbar": {
             "outlinewidth": 0,
             "ticks": ""
            },
            "colorscale": [
             [
              0.0,
              "#0d0887"
             ],
             [
              0.1111111111111111,
              "#46039f"
             ],
             [
              0.2222222222222222,
              "#7201a8"
             ],
             [
              0.3333333333333333,
              "#9c179e"
             ],
             [
              0.4444444444444444,
              "#bd3786"
             ],
             [
              0.5555555555555556,
              "#d8576b"
             ],
             [
              0.6666666666666666,
              "#ed7953"
             ],
             [
              0.7777777777777778,
              "#fb9f3a"
             ],
             [
              0.8888888888888888,
              "#fdca26"
             ],
             [
              1.0,
              "#f0f921"
             ]
            ]
           }
          ],
          "heatmapgl": [
           {
            "type": "heatmapgl",
            "colorbar": {
             "outlinewidth": 0,
             "ticks": ""
            },
            "colorscale": [
             [
              0.0,
              "#0d0887"
             ],
             [
              0.1111111111111111,
              "#46039f"
             ],
             [
              0.2222222222222222,
              "#7201a8"
             ],
             [
              0.3333333333333333,
              "#9c179e"
             ],
             [
              0.4444444444444444,
              "#bd3786"
             ],
             [
              0.5555555555555556,
              "#d8576b"
             ],
             [
              0.6666666666666666,
              "#ed7953"
             ],
             [
              0.7777777777777778,
              "#fb9f3a"
             ],
             [
              0.8888888888888888,
              "#fdca26"
             ],
             [
              1.0,
              "#f0f921"
             ]
            ]
           }
          ],
          "contourcarpet": [
           {
            "type": "contourcarpet",
            "colorbar": {
             "outlinewidth": 0,
             "ticks": ""
            }
           }
          ],
          "contour": [
           {
            "type": "contour",
            "colorbar": {
             "outlinewidth": 0,
             "ticks": ""
            },
            "colorscale": [
             [
              0.0,
              "#0d0887"
             ],
             [
              0.1111111111111111,
              "#46039f"
             ],
             [
              0.2222222222222222,
              "#7201a8"
             ],
             [
              0.3333333333333333,
              "#9c179e"
             ],
             [
              0.4444444444444444,
              "#bd3786"
             ],
             [
              0.5555555555555556,
              "#d8576b"
             ],
             [
              0.6666666666666666,
              "#ed7953"
             ],
             [
              0.7777777777777778,
              "#fb9f3a"
             ],
             [
              0.8888888888888888,
              "#fdca26"
             ],
             [
              1.0,
              "#f0f921"
             ]
            ]
           }
          ],
          "surface": [
           {
            "type": "surface",
            "colorbar": {
             "outlinewidth": 0,
             "ticks": ""
            },
            "colorscale": [
             [
              0.0,
              "#0d0887"
             ],
             [
              0.1111111111111111,
              "#46039f"
             ],
             [
              0.2222222222222222,
              "#7201a8"
             ],
             [
              0.3333333333333333,
              "#9c179e"
             ],
             [
              0.4444444444444444,
              "#bd3786"
             ],
             [
              0.5555555555555556,
              "#d8576b"
             ],
             [
              0.6666666666666666,
              "#ed7953"
             ],
             [
              0.7777777777777778,
              "#fb9f3a"
             ],
             [
              0.8888888888888888,
              "#fdca26"
             ],
             [
              1.0,
              "#f0f921"
             ]
            ]
           }
          ],
          "mesh3d": [
           {
            "type": "mesh3d",
            "colorbar": {
             "outlinewidth": 0,
             "ticks": ""
            }
           }
          ],
          "scatter": [
           {
            "marker": {
             "line": {
              "color": "#283442"
             }
            },
            "type": "scatter"
           }
          ],
          "parcoords": [
           {
            "type": "parcoords",
            "line": {
             "colorbar": {
              "outlinewidth": 0,
              "ticks": ""
             }
            }
           }
          ],
          "scatterpolargl": [
           {
            "type": "scatterpolargl",
            "marker": {
             "colorbar": {
              "outlinewidth": 0,
              "ticks": ""
             }
            }
           }
          ],
          "bar": [
           {
            "error_x": {
             "color": "#f2f5fa"
            },
            "error_y": {
             "color": "#f2f5fa"
            },
            "marker": {
             "line": {
              "color": "rgb(17,17,17)",
              "width": 0.5
             },
             "pattern": {
              "fillmode": "overlay",
              "size": 10,
              "solidity": 0.2
             }
            },
            "type": "bar"
           }
          ],
          "scattergeo": [
           {
            "type": "scattergeo",
            "marker": {
             "colorbar": {
              "outlinewidth": 0,
              "ticks": ""
             }
            }
           }
          ],
          "scatterpolar": [
           {
            "type": "scatterpolar",
            "marker": {
             "colorbar": {
              "outlinewidth": 0,
              "ticks": ""
             }
            }
           }
          ],
          "histogram": [
           {
            "marker": {
             "pattern": {
              "fillmode": "overlay",
              "size": 10,
              "solidity": 0.2
             }
            },
            "type": "histogram"
           }
          ],
          "scattergl": [
           {
            "marker": {
             "line": {
              "color": "#283442"
             }
            },
            "type": "scattergl"
           }
          ],
          "scatter3d": [
           {
            "type": "scatter3d",
            "line": {
             "colorbar": {
              "outlinewidth": 0,
              "ticks": ""
             }
            },
            "marker": {
             "colorbar": {
              "outlinewidth": 0,
              "ticks": ""
             }
            }
           }
          ],
          "scattermapbox": [
           {
            "type": "scattermapbox",
            "marker": {
             "colorbar": {
              "outlinewidth": 0,
              "ticks": ""
             }
            }
           }
          ],
          "scatterternary": [
           {
            "type": "scatterternary",
            "marker": {
             "colorbar": {
              "outlinewidth": 0,
              "ticks": ""
             }
            }
           }
          ],
          "scattercarpet": [
           {
            "type": "scattercarpet",
            "marker": {
             "colorbar": {
              "outlinewidth": 0,
              "ticks": ""
             }
            }
           }
          ],
          "carpet": [
           {
            "aaxis": {
             "endlinecolor": "#A2B1C6",
             "gridcolor": "#506784",
             "linecolor": "#506784",
             "minorgridcolor": "#506784",
             "startlinecolor": "#A2B1C6"
            },
            "baxis": {
             "endlinecolor": "#A2B1C6",
             "gridcolor": "#506784",
             "linecolor": "#506784",
             "minorgridcolor": "#506784",
             "startlinecolor": "#A2B1C6"
            },
            "type": "carpet"
           }
          ],
          "table": [
           {
            "cells": {
             "fill": {
              "color": "#506784"
             },
             "line": {
              "color": "rgb(17,17,17)"
             }
            },
            "header": {
             "fill": {
              "color": "#2a3f5f"
             },
             "line": {
              "color": "rgb(17,17,17)"
             }
            },
            "type": "table"
           }
          ],
          "barpolar": [
           {
            "marker": {
             "line": {
              "color": "rgb(17,17,17)",
              "width": 0.5
             },
             "pattern": {
              "fillmode": "overlay",
              "size": 10,
              "solidity": 0.2
             }
            },
            "type": "barpolar"
           }
          ],
          "pie": [
           {
            "automargin": true,
            "type": "pie"
           }
          ]
         },
         "layout": {
          "autotypenumbers": "strict",
          "colorway": [
           "#636efa",
           "#EF553B",
           "#00cc96",
           "#ab63fa",
           "#FFA15A",
           "#19d3f3",
           "#FF6692",
           "#B6E880",
           "#FF97FF",
           "#FECB52"
          ],
          "font": {
           "color": "#f2f5fa"
          },
          "hovermode": "closest",
          "hoverlabel": {
           "align": "left"
          },
          "paper_bgcolor": "rgb(17,17,17)",
          "plot_bgcolor": "rgb(17,17,17)",
          "polar": {
           "bgcolor": "rgb(17,17,17)",
           "angularaxis": {
            "gridcolor": "#506784",
            "linecolor": "#506784",
            "ticks": ""
           },
           "radialaxis": {
            "gridcolor": "#506784",
            "linecolor": "#506784",
            "ticks": ""
           }
          },
          "ternary": {
           "bgcolor": "rgb(17,17,17)",
           "aaxis": {
            "gridcolor": "#506784",
            "linecolor": "#506784",
            "ticks": ""
           },
           "baxis": {
            "gridcolor": "#506784",
            "linecolor": "#506784",
            "ticks": ""
           },
           "caxis": {
            "gridcolor": "#506784",
            "linecolor": "#506784",
            "ticks": ""
           }
          },
          "coloraxis": {
           "colorbar": {
            "outlinewidth": 0,
            "ticks": ""
           }
          },
          "colorscale": {
           "sequential": [
            [
             0.0,
             "#0d0887"
            ],
            [
             0.1111111111111111,
             "#46039f"
            ],
            [
             0.2222222222222222,
             "#7201a8"
            ],
            [
             0.3333333333333333,
             "#9c179e"
            ],
            [
             0.4444444444444444,
             "#bd3786"
            ],
            [
             0.5555555555555556,
             "#d8576b"
            ],
            [
             0.6666666666666666,
             "#ed7953"
            ],
            [
             0.7777777777777778,
             "#fb9f3a"
            ],
            [
             0.8888888888888888,
             "#fdca26"
            ],
            [
             1.0,
             "#f0f921"
            ]
           ],
           "sequentialminus": [
            [
             0.0,
             "#0d0887"
            ],
            [
             0.1111111111111111,
             "#46039f"
            ],
            [
             0.2222222222222222,
             "#7201a8"
            ],
            [
             0.3333333333333333,
             "#9c179e"
            ],
            [
             0.4444444444444444,
             "#bd3786"
            ],
            [
             0.5555555555555556,
             "#d8576b"
            ],
            [
             0.6666666666666666,
             "#ed7953"
            ],
            [
             0.7777777777777778,
             "#fb9f3a"
            ],
            [
             0.8888888888888888,
             "#fdca26"
            ],
            [
             1.0,
             "#f0f921"
            ]
           ],
           "diverging": [
            [
             0,
             "#8e0152"
            ],
            [
             0.1,
             "#c51b7d"
            ],
            [
             0.2,
             "#de77ae"
            ],
            [
             0.3,
             "#f1b6da"
            ],
            [
             0.4,
             "#fde0ef"
            ],
            [
             0.5,
             "#f7f7f7"
            ],
            [
             0.6,
             "#e6f5d0"
            ],
            [
             0.7,
             "#b8e186"
            ],
            [
             0.8,
             "#7fbc41"
            ],
            [
             0.9,
             "#4d9221"
            ],
            [
             1,
             "#276419"
            ]
           ]
          },
          "xaxis": {
           "gridcolor": "#283442",
           "linecolor": "#506784",
           "ticks": "",
           "title": {
            "standoff": 15
           },
           "zerolinecolor": "#283442",
           "automargin": true,
           "zerolinewidth": 2
          },
          "yaxis": {
           "gridcolor": "#283442",
           "linecolor": "#506784",
           "ticks": "",
           "title": {
            "standoff": 15
           },
           "zerolinecolor": "#283442",
           "automargin": true,
           "zerolinewidth": 2
          },
          "scene": {
           "xaxis": {
            "backgroundcolor": "rgb(17,17,17)",
            "gridcolor": "#506784",
            "linecolor": "#506784",
            "showbackground": true,
            "ticks": "",
            "zerolinecolor": "#C8D4E3",
            "gridwidth": 2
           },
           "yaxis": {
            "backgroundcolor": "rgb(17,17,17)",
            "gridcolor": "#506784",
            "linecolor": "#506784",
            "showbackground": true,
            "ticks": "",
            "zerolinecolor": "#C8D4E3",
            "gridwidth": 2
           },
           "zaxis": {
            "backgroundcolor": "rgb(17,17,17)",
            "gridcolor": "#506784",
            "linecolor": "#506784",
            "showbackground": true,
            "ticks": "",
            "zerolinecolor": "#C8D4E3",
            "gridwidth": 2
           }
          },
          "shapedefaults": {
           "line": {
            "color": "#f2f5fa"
           }
          },
          "annotationdefaults": {
           "arrowcolor": "#f2f5fa",
           "arrowhead": 0,
           "arrowwidth": 1
          },
          "geo": {
           "bgcolor": "rgb(17,17,17)",
           "landcolor": "rgb(17,17,17)",
           "subunitcolor": "#506784",
           "showland": true,
           "showlakes": true,
           "lakecolor": "rgb(17,17,17)"
          },
          "title": {
           "x": 0.05
          },
          "updatemenudefaults": {
           "bgcolor": "#506784",
           "borderwidth": 0
          },
          "sliderdefaults": {
           "bgcolor": "#C8D4E3",
           "borderwidth": 1,
           "bordercolor": "rgb(17,17,17)",
           "tickwidth": 0
          },
          "mapbox": {
           "style": "dark"
          }
         }
        },
        "xaxis": {
         "anchor": "y",
         "domain": [
          0.0,
          0.45
         ]
        },
        "yaxis": {
         "anchor": "x",
         "domain": [
          0.0,
          1.0
         ]
        },
        "xaxis2": {
         "anchor": "y2",
         "domain": [
          0.55,
          1.0
         ]
        },
        "yaxis2": {
         "anchor": "x2",
         "domain": [
          0.0,
          1.0
         ]
        },
        "title": {
         "text": "Гистограммы частот"
        }
       },
       "config": {
        "plotlyServerURL": "https://plot.ly"
       }
      },
      "text/html": "<div>                            <div id=\"40484c9b-7d3b-45c7-b99b-557713b16702\" class=\"plotly-graph-div\" style=\"height:525px; width:100%;\"></div>            <script type=\"text/javascript\">                require([\"plotly\"], function(Plotly) {                    window.PLOTLYENV=window.PLOTLYENV || {};                                    if (document.getElementById(\"40484c9b-7d3b-45c7-b99b-557713b16702\")) {                    Plotly.newPlot(                        \"40484c9b-7d3b-45c7-b99b-557713b16702\",                        [{\"name\":\"\\u0412\\u043e\\u0437\\u0440\\u0430\\u0441\\u0442\",\"x\":[39,54,26,42,29,38,49,44,42,36,32,34,40,36,34,41,43,40,50,37,35,47,35,40,38,45,49,53,43,25,35,42,48,38,36,37,42,41,37,27,41,38,42,29,39,52,41,38,52,53,39,49,42,40,41,39,30,38,43,42,34,47,49,41,46,29,26,50,28,32,35,36,34,42,35,37,35,52,46,43,43,46,32,30,37,42,41,44,41,31,47,42,47,50,37,40,42,27,40,43,39,44,35,55,39,31,31,38,36,41,40,38,39,37,55,43,41,42,45,43,41,43,31,33,54,50,40,45,43,42,35,27,36,41,23,45,42,45,45,57,41,46,39,51,46,48,52,43,43,39,48,42,44,45,35,25,41,48,40,44,50,36,45,48,51,34,27,31,41,34,39,49,31,45,46,39,42,36,41,30,35,40,47,35,44,34,38,47,36,34,36,45,45,45,39,50,39,49,47,45,34,40,36,48,42,46,48,38,36,33,30,30,33,41,32,34,50,41,36,23,41,47,38,43,49,43,24,33,41,33,36,36,30,36,60,44,37],\"type\":\"histogram\",\"xaxis\":\"x\",\"yaxis\":\"y\"},{\"name\":\"\\u041a\\u043e\\u043b\\u0438\\u0447\\u0435\\u0441\\u0442\\u0432\\u043e \\u0431\\u043e\\u043b\\u044c\\u043d\\u0438\\u0447\\u043d\\u044b\\u0445 \\u0434\\u043d\\u0435\\u0439\",\"x\":[5,4,4,5,4,4,1,1,3,4,1,1,3,5,3,2,3,2,2,2,0,3,1,1,0,1,2,2,2,4,1,2,3,3,3,3,2,5,3,2,4,1,2,3,4,7,1,7,2,1,2,3,3,5,4,2,4,0,4,3,2,4,2,0,4,4,4,1,3,5,6,6,2,6,3,4,3,4,3,3,0,1,4,5,2,3,5,2,3,2,4,3,4,2,3,5,3,0,6,4,1,4,2,4,7,2,2,3,3,1,2,1,2,4,3,2,6,0,4,7,3,4,4,8,3,3,3,3,2,8,2,4,8,6,6,5,1,3,4,4,5,5,1,6,2,4,0,6,4,6,1,5,2,5,4,1,4,2,6,8,2,6,3,2,1,7,4,2,3,7,3,4,3,6,7,5,1,2,1,2,1,3,3,8,7,3,2,1,2,4,1,4,4,2,4,3,2,1,0,3,3,5,3,4,3,4,3,1,4,4,2,4,3,7,5,2,3,3,4,7,3,1,2,5,6,3,1,3,3,5,4,2,5,4,2,2,3],\"type\":\"histogram\",\"xaxis\":\"x2\",\"yaxis\":\"y2\"}],                        {\"template\":{\"data\":{\"histogram2dcontour\":[{\"type\":\"histogram2dcontour\",\"colorbar\":{\"outlinewidth\":0,\"ticks\":\"\"},\"colorscale\":[[0.0,\"#0d0887\"],[0.1111111111111111,\"#46039f\"],[0.2222222222222222,\"#7201a8\"],[0.3333333333333333,\"#9c179e\"],[0.4444444444444444,\"#bd3786\"],[0.5555555555555556,\"#d8576b\"],[0.6666666666666666,\"#ed7953\"],[0.7777777777777778,\"#fb9f3a\"],[0.8888888888888888,\"#fdca26\"],[1.0,\"#f0f921\"]]}],\"choropleth\":[{\"type\":\"choropleth\",\"colorbar\":{\"outlinewidth\":0,\"ticks\":\"\"}}],\"histogram2d\":[{\"type\":\"histogram2d\",\"colorbar\":{\"outlinewidth\":0,\"ticks\":\"\"},\"colorscale\":[[0.0,\"#0d0887\"],[0.1111111111111111,\"#46039f\"],[0.2222222222222222,\"#7201a8\"],[0.3333333333333333,\"#9c179e\"],[0.4444444444444444,\"#bd3786\"],[0.5555555555555556,\"#d8576b\"],[0.6666666666666666,\"#ed7953\"],[0.7777777777777778,\"#fb9f3a\"],[0.8888888888888888,\"#fdca26\"],[1.0,\"#f0f921\"]]}],\"heatmap\":[{\"type\":\"heatmap\",\"colorbar\":{\"outlinewidth\":0,\"ticks\":\"\"},\"colorscale\":[[0.0,\"#0d0887\"],[0.1111111111111111,\"#46039f\"],[0.2222222222222222,\"#7201a8\"],[0.3333333333333333,\"#9c179e\"],[0.4444444444444444,\"#bd3786\"],[0.5555555555555556,\"#d8576b\"],[0.6666666666666666,\"#ed7953\"],[0.7777777777777778,\"#fb9f3a\"],[0.8888888888888888,\"#fdca26\"],[1.0,\"#f0f921\"]]}],\"heatmapgl\":[{\"type\":\"heatmapgl\",\"colorbar\":{\"outlinewidth\":0,\"ticks\":\"\"},\"colorscale\":[[0.0,\"#0d0887\"],[0.1111111111111111,\"#46039f\"],[0.2222222222222222,\"#7201a8\"],[0.3333333333333333,\"#9c179e\"],[0.4444444444444444,\"#bd3786\"],[0.5555555555555556,\"#d8576b\"],[0.6666666666666666,\"#ed7953\"],[0.7777777777777778,\"#fb9f3a\"],[0.8888888888888888,\"#fdca26\"],[1.0,\"#f0f921\"]]}],\"contourcarpet\":[{\"type\":\"contourcarpet\",\"colorbar\":{\"outlinewidth\":0,\"ticks\":\"\"}}],\"contour\":[{\"type\":\"contour\",\"colorbar\":{\"outlinewidth\":0,\"ticks\":\"\"},\"colorscale\":[[0.0,\"#0d0887\"],[0.1111111111111111,\"#46039f\"],[0.2222222222222222,\"#7201a8\"],[0.3333333333333333,\"#9c179e\"],[0.4444444444444444,\"#bd3786\"],[0.5555555555555556,\"#d8576b\"],[0.6666666666666666,\"#ed7953\"],[0.7777777777777778,\"#fb9f3a\"],[0.8888888888888888,\"#fdca26\"],[1.0,\"#f0f921\"]]}],\"surface\":[{\"type\":\"surface\",\"colorbar\":{\"outlinewidth\":0,\"ticks\":\"\"},\"colorscale\":[[0.0,\"#0d0887\"],[0.1111111111111111,\"#46039f\"],[0.2222222222222222,\"#7201a8\"],[0.3333333333333333,\"#9c179e\"],[0.4444444444444444,\"#bd3786\"],[0.5555555555555556,\"#d8576b\"],[0.6666666666666666,\"#ed7953\"],[0.7777777777777778,\"#fb9f3a\"],[0.8888888888888888,\"#fdca26\"],[1.0,\"#f0f921\"]]}],\"mesh3d\":[{\"type\":\"mesh3d\",\"colorbar\":{\"outlinewidth\":0,\"ticks\":\"\"}}],\"scatter\":[{\"marker\":{\"line\":{\"color\":\"#283442\"}},\"type\":\"scatter\"}],\"parcoords\":[{\"type\":\"parcoords\",\"line\":{\"colorbar\":{\"outlinewidth\":0,\"ticks\":\"\"}}}],\"scatterpolargl\":[{\"type\":\"scatterpolargl\",\"marker\":{\"colorbar\":{\"outlinewidth\":0,\"ticks\":\"\"}}}],\"bar\":[{\"error_x\":{\"color\":\"#f2f5fa\"},\"error_y\":{\"color\":\"#f2f5fa\"},\"marker\":{\"line\":{\"color\":\"rgb(17,17,17)\",\"width\":0.5},\"pattern\":{\"fillmode\":\"overlay\",\"size\":10,\"solidity\":0.2}},\"type\":\"bar\"}],\"scattergeo\":[{\"type\":\"scattergeo\",\"marker\":{\"colorbar\":{\"outlinewidth\":0,\"ticks\":\"\"}}}],\"scatterpolar\":[{\"type\":\"scatterpolar\",\"marker\":{\"colorbar\":{\"outlinewidth\":0,\"ticks\":\"\"}}}],\"histogram\":[{\"marker\":{\"pattern\":{\"fillmode\":\"overlay\",\"size\":10,\"solidity\":0.2}},\"type\":\"histogram\"}],\"scattergl\":[{\"marker\":{\"line\":{\"color\":\"#283442\"}},\"type\":\"scattergl\"}],\"scatter3d\":[{\"type\":\"scatter3d\",\"line\":{\"colorbar\":{\"outlinewidth\":0,\"ticks\":\"\"}},\"marker\":{\"colorbar\":{\"outlinewidth\":0,\"ticks\":\"\"}}}],\"scattermapbox\":[{\"type\":\"scattermapbox\",\"marker\":{\"colorbar\":{\"outlinewidth\":0,\"ticks\":\"\"}}}],\"scatterternary\":[{\"type\":\"scatterternary\",\"marker\":{\"colorbar\":{\"outlinewidth\":0,\"ticks\":\"\"}}}],\"scattercarpet\":[{\"type\":\"scattercarpet\",\"marker\":{\"colorbar\":{\"outlinewidth\":0,\"ticks\":\"\"}}}],\"carpet\":[{\"aaxis\":{\"endlinecolor\":\"#A2B1C6\",\"gridcolor\":\"#506784\",\"linecolor\":\"#506784\",\"minorgridcolor\":\"#506784\",\"startlinecolor\":\"#A2B1C6\"},\"baxis\":{\"endlinecolor\":\"#A2B1C6\",\"gridcolor\":\"#506784\",\"linecolor\":\"#506784\",\"minorgridcolor\":\"#506784\",\"startlinecolor\":\"#A2B1C6\"},\"type\":\"carpet\"}],\"table\":[{\"cells\":{\"fill\":{\"color\":\"#506784\"},\"line\":{\"color\":\"rgb(17,17,17)\"}},\"header\":{\"fill\":{\"color\":\"#2a3f5f\"},\"line\":{\"color\":\"rgb(17,17,17)\"}},\"type\":\"table\"}],\"barpolar\":[{\"marker\":{\"line\":{\"color\":\"rgb(17,17,17)\",\"width\":0.5},\"pattern\":{\"fillmode\":\"overlay\",\"size\":10,\"solidity\":0.2}},\"type\":\"barpolar\"}],\"pie\":[{\"automargin\":true,\"type\":\"pie\"}]},\"layout\":{\"autotypenumbers\":\"strict\",\"colorway\":[\"#636efa\",\"#EF553B\",\"#00cc96\",\"#ab63fa\",\"#FFA15A\",\"#19d3f3\",\"#FF6692\",\"#B6E880\",\"#FF97FF\",\"#FECB52\"],\"font\":{\"color\":\"#f2f5fa\"},\"hovermode\":\"closest\",\"hoverlabel\":{\"align\":\"left\"},\"paper_bgcolor\":\"rgb(17,17,17)\",\"plot_bgcolor\":\"rgb(17,17,17)\",\"polar\":{\"bgcolor\":\"rgb(17,17,17)\",\"angularaxis\":{\"gridcolor\":\"#506784\",\"linecolor\":\"#506784\",\"ticks\":\"\"},\"radialaxis\":{\"gridcolor\":\"#506784\",\"linecolor\":\"#506784\",\"ticks\":\"\"}},\"ternary\":{\"bgcolor\":\"rgb(17,17,17)\",\"aaxis\":{\"gridcolor\":\"#506784\",\"linecolor\":\"#506784\",\"ticks\":\"\"},\"baxis\":{\"gridcolor\":\"#506784\",\"linecolor\":\"#506784\",\"ticks\":\"\"},\"caxis\":{\"gridcolor\":\"#506784\",\"linecolor\":\"#506784\",\"ticks\":\"\"}},\"coloraxis\":{\"colorbar\":{\"outlinewidth\":0,\"ticks\":\"\"}},\"colorscale\":{\"sequential\":[[0.0,\"#0d0887\"],[0.1111111111111111,\"#46039f\"],[0.2222222222222222,\"#7201a8\"],[0.3333333333333333,\"#9c179e\"],[0.4444444444444444,\"#bd3786\"],[0.5555555555555556,\"#d8576b\"],[0.6666666666666666,\"#ed7953\"],[0.7777777777777778,\"#fb9f3a\"],[0.8888888888888888,\"#fdca26\"],[1.0,\"#f0f921\"]],\"sequentialminus\":[[0.0,\"#0d0887\"],[0.1111111111111111,\"#46039f\"],[0.2222222222222222,\"#7201a8\"],[0.3333333333333333,\"#9c179e\"],[0.4444444444444444,\"#bd3786\"],[0.5555555555555556,\"#d8576b\"],[0.6666666666666666,\"#ed7953\"],[0.7777777777777778,\"#fb9f3a\"],[0.8888888888888888,\"#fdca26\"],[1.0,\"#f0f921\"]],\"diverging\":[[0,\"#8e0152\"],[0.1,\"#c51b7d\"],[0.2,\"#de77ae\"],[0.3,\"#f1b6da\"],[0.4,\"#fde0ef\"],[0.5,\"#f7f7f7\"],[0.6,\"#e6f5d0\"],[0.7,\"#b8e186\"],[0.8,\"#7fbc41\"],[0.9,\"#4d9221\"],[1,\"#276419\"]]},\"xaxis\":{\"gridcolor\":\"#283442\",\"linecolor\":\"#506784\",\"ticks\":\"\",\"title\":{\"standoff\":15},\"zerolinecolor\":\"#283442\",\"automargin\":true,\"zerolinewidth\":2},\"yaxis\":{\"gridcolor\":\"#283442\",\"linecolor\":\"#506784\",\"ticks\":\"\",\"title\":{\"standoff\":15},\"zerolinecolor\":\"#283442\",\"automargin\":true,\"zerolinewidth\":2},\"scene\":{\"xaxis\":{\"backgroundcolor\":\"rgb(17,17,17)\",\"gridcolor\":\"#506784\",\"linecolor\":\"#506784\",\"showbackground\":true,\"ticks\":\"\",\"zerolinecolor\":\"#C8D4E3\",\"gridwidth\":2},\"yaxis\":{\"backgroundcolor\":\"rgb(17,17,17)\",\"gridcolor\":\"#506784\",\"linecolor\":\"#506784\",\"showbackground\":true,\"ticks\":\"\",\"zerolinecolor\":\"#C8D4E3\",\"gridwidth\":2},\"zaxis\":{\"backgroundcolor\":\"rgb(17,17,17)\",\"gridcolor\":\"#506784\",\"linecolor\":\"#506784\",\"showbackground\":true,\"ticks\":\"\",\"zerolinecolor\":\"#C8D4E3\",\"gridwidth\":2}},\"shapedefaults\":{\"line\":{\"color\":\"#f2f5fa\"}},\"annotationdefaults\":{\"arrowcolor\":\"#f2f5fa\",\"arrowhead\":0,\"arrowwidth\":1},\"geo\":{\"bgcolor\":\"rgb(17,17,17)\",\"landcolor\":\"rgb(17,17,17)\",\"subunitcolor\":\"#506784\",\"showland\":true,\"showlakes\":true,\"lakecolor\":\"rgb(17,17,17)\"},\"title\":{\"x\":0.05},\"updatemenudefaults\":{\"bgcolor\":\"#506784\",\"borderwidth\":0},\"sliderdefaults\":{\"bgcolor\":\"#C8D4E3\",\"borderwidth\":1,\"bordercolor\":\"rgb(17,17,17)\",\"tickwidth\":0},\"mapbox\":{\"style\":\"dark\"}}},\"xaxis\":{\"anchor\":\"y\",\"domain\":[0.0,0.45]},\"yaxis\":{\"anchor\":\"x\",\"domain\":[0.0,1.0]},\"xaxis2\":{\"anchor\":\"y2\",\"domain\":[0.55,1.0]},\"yaxis2\":{\"anchor\":\"x2\",\"domain\":[0.0,1.0]},\"title\":{\"text\":\"\\u0413\\u0438\\u0441\\u0442\\u043e\\u0433\\u0440\\u0430\\u043c\\u043c\\u044b \\u0447\\u0430\\u0441\\u0442\\u043e\\u0442\"}},                        {\"responsive\": true}                    ).then(function(){\n                            \nvar gd = document.getElementById('40484c9b-7d3b-45c7-b99b-557713b16702');\nvar x = new MutationObserver(function (mutations, observer) {{\n        var display = window.getComputedStyle(gd).display;\n        if (!display || display === 'none') {{\n            console.log([gd, 'removed!']);\n            Plotly.purge(gd);\n            observer.disconnect();\n        }}\n}});\n\n// Listen for the removal of the full notebook cells\nvar notebookContainer = gd.closest('#notebook-container');\nif (notebookContainer) {{\n    x.observe(notebookContainer, {childList: true});\n}}\n\n// Listen for the clearing of the current output cell\nvar outputEl = gd.closest('.output');\nif (outputEl) {{\n    x.observe(outputEl, {childList: true});\n}}\n\n                        })                };                });            </script>        </div>"
     },
     "metadata": {},
     "output_type": "display_data"
    }
   ],
   "source": [
    "fig = make_subplots(rows=1, cols=2)\n",
    "\n",
    "trace0 = go.Histogram(x=df[\"Возраст\"], name=\"Возраст\")\n",
    "trace1 = go.Histogram(x=df[\"Количество больничных дней\"], name=\"Количество больничных дней\")\n",
    "\n",
    "fig.append_trace(trace0, 1, 1)\n",
    "fig.append_trace(trace1, 1, 2)\n",
    "\n",
    "fig.update_layout(title_text=\"Гистограммы частот\")\n",
    "\n",
    "fig.show()"
   ],
   "metadata": {
    "collapsed": false,
    "ExecuteTime": {
     "end_time": "2023-12-12T22:16:40.480956Z",
     "start_time": "2023-12-12T22:16:40.473860Z"
    }
   },
   "id": "99a65cdab5904e33"
  },
  {
   "cell_type": "markdown",
   "source": [
    "## Вспомогательные функции"
   ],
   "metadata": {
    "collapsed": false
   },
   "id": "618548720fa4ff43"
  },
  {
   "cell_type": "code",
   "execution_count": 96,
   "outputs": [],
   "source": [
    "\n",
    "def plot_density_func(stat, alpha):\n",
    "    r = stats.norm.ppf([1 - alpha], 0, 1).item()\n",
    "    x1 = np.arange(-3, 3, 0.01)\n",
    "    y1 = stats.norm.pdf(x1)\n",
    "    x2 = np.arange((r // 0.01) * 0.01, 3, 0.01)\n",
    "    y2 = stats.norm.pdf(x2)\n",
    "\n",
    "    x3 = np.arange(stat, 3, 0.01)\n",
    "    y3 = stats.norm.pdf(x3)\n",
    "\n",
    "    fig = go.Figure()\n",
    "    fig.add_trace(go.Scatter(x=x1, y=y1, fill='tozeroy', mode='none', fillcolor=\"rgba(165, 165, 165, 0.5)\",\n",
    "                             name=r\"$f(z|H_0)$\"\n",
    "                             ))\n",
    "    fig.add_trace(go.Scatter(x=x2, y=y2, fill='tozeroy', mode='none', fillcolor=\"rgba(255, 94, 94, 0.5)\",\n",
    "                             name=\"critical area\"\n",
    "                             ))\n",
    "    fig.add_trace(go.Scatter(x=x3, y=y3, fill='tozeroy', mode='none', fillcolor=\"rgba(109, 141, 255, 0.5)\",\n",
    "                             name=\"p-value\"\n",
    "                             ))\n",
    "    fig.update_layout(title_text=\"Функция плотности f(z|H_0), критическая область и p-value\")\n",
    "    return fig"
   ],
   "metadata": {
    "collapsed": false,
    "ExecuteTime": {
     "end_time": "2023-12-12T22:31:57.611355Z",
     "start_time": "2023-12-12T22:31:57.598741Z"
    }
   },
   "id": "6ba84c0836aa0889"
  },
  {
   "cell_type": "code",
   "execution_count": 97,
   "outputs": [],
   "source": [
    "# функция для вывода результатов\n",
    "def print_test_result(alpha, pvalue, hypothesis_name):\n",
    "    h0_accepted = pvalue > alpha\n",
    "    print(f\"p-value = {pvalue}, alpha = {alpha}\")\n",
    "\n",
    "    if h0_accepted:\n",
    "        print(\"p-value > alpha\")\n",
    "        print(\"Гипотеза H_0 принимается!\")\n",
    "        print(f\"ВЫВОД: нельзя утверждать, что '{hypothesis_name}'\")\n",
    "    else:\n",
    "        print(\"p-value < alpha\")\n",
    "        print(\"Гипотеза H_0 отклоняется!\")\n",
    "        print(f\"ВЫВОД: можно утверждать, что '{hypothesis_name}'\")"
   ],
   "metadata": {
    "collapsed": false,
    "ExecuteTime": {
     "end_time": "2023-12-12T22:31:58.221600Z",
     "start_time": "2023-12-12T22:31:58.215999Z"
    }
   },
   "id": "46b7e2b466d58b9e"
  },
  {
   "cell_type": "markdown",
   "source": [
    "## Проверить гипотезу: \"Мужчины пропускают в течение года более 2 рабочих дней (work_days) по болезни значимо чаще женщин.\"\n",
    "\n",
    "**1. Сформулируем $H_0$ и $H'$:**\n",
    "Пусть проводится две серии испытаний по схеме Бернулли \n",
    " - \"успех\" в первой серии A = \\{Мужчина пропускает в течение года более 2 рабочих дней (work_days) по болезни\\}\n",
    " - \"успех\" во второй серии B = \\{Женщина пропускает в течение года более 2 рабочих дней (work_days) по болезни\\}\n",
    "\n",
    "Тогда вероятностей «успехов» $p_1$ и $p_2$ в этих сериях:\n",
    " - $p_1$ = P(A), \n",
    " - $p_2$ = P(B)\n",
    "\n",
    "Исходя из условия получаем гипотезы (two-proportion z-test):\n",
    "$\n",
    "\\begin{gather}\n",
    "H_0: p_1 = p_2\n",
    "\\\\\n",
    "H': p_1 > p_2\n",
    "\\end{gather}\n",
    "$\n",
    "\n",
    "**2. Зададим уровень значимости $\\alpha$**\n",
    "Пусть $\\alpha$ = 0.05\n",
    "\n",
    "**3. Статистика критерия $Z$ для проверки гипотезы $H_0$**\n",
    "$\n",
    "Z=\\frac{H_1-H_2}{\\sqrt{H(1-H)}\\sqrt{\\frac{1}{n_1}+\\frac{1}{n_2}}}\n",
    "$,\n",
    "где\n",
    "- $H_1$, $H_2$ – частоты успеха в первой серии и во второй соответственно\n",
    "- $H=\\frac{n_1H_1+n_2H_2}{n_1+n_2}$ – эффективная оценка истинной вероятности $p$ условии истинности $H_0$ (т.е. при $p_1=p_2=p$ ) \n",
    "- $n_1$, $n_2$ – количество испытаний в первой серии и во второй соответственно\n",
    "\n",
    "**4. Закон распределения $f(z|H_0)$**\n",
    "$f(z|H_0)\\sim N(0,1)$\n",
    "\n",
    "**5. Критическая область**\n",
    "Исходя из альтернативной гипотезы критическая область выбирается правосторонней"
   ],
   "metadata": {
    "collapsed": false
   },
   "id": "6b68c1e11d7b8324"
  },
  {
   "cell_type": "markdown",
   "source": [
    "Таким образом, нам для проверки гипотезы требуется найти \n",
    "- общее количество мужчин = $n_1$ (далее n_1)\n",
    "- общее количество женщин = $n_2$ (далее n_2)\n",
    "- количество мужчин, пропускающих в течение года более 2 рабочих дней (work_days) по болезни (далее n_pass_1)\n",
    "- количество женщин, пропускающих в течение года более 2 рабочих дней (work_days) по болезни (далее n_pass_2)"
   ],
   "metadata": {
    "collapsed": false
   },
   "id": "e78337e98c3f2e31"
  },
  {
   "cell_type": "code",
   "execution_count": 98,
   "outputs": [],
   "source": [
    "WORK_DAYS = 5\n",
    "ALPHA = 0.05\n",
    "\n",
    "# группируя по полу и считая количество по каждому разбиению получаем необходимые n_1 и n_2\n",
    "work_days_total = df.groupby(\"Пол\").size()\n",
    "n_1, n_2 = work_days_total[[\"М\", \"Ж\"]]\n",
    "\n",
    "# используя условие на \"Количество больничных дней\", группируя по полу и считая количество по каждому разбиению \n",
    "# получаем необходимые n_pass_1 и n_pass_2\n",
    "work_days_greater = df[(df[\"Количество больничных дней\"] > WORK_DAYS)].groupby(\"Пол\").size()\n",
    "n_pass_1, n_pass_2 = work_days_greater[[\"М\", \"Ж\"]]"
   ],
   "metadata": {
    "collapsed": false,
    "ExecuteTime": {
     "end_time": "2023-12-12T22:31:58.735892Z",
     "start_time": "2023-12-12T22:31:58.732724Z"
    }
   },
   "id": "92aadc686bbb1874"
  },
  {
   "cell_type": "markdown",
   "source": [
    "Проводим проверку статистической гипотезы"
   ],
   "metadata": {
    "collapsed": false
   },
   "id": "df2fa7671c57794e"
  },
  {
   "cell_type": "code",
   "execution_count": 99,
   "outputs": [
    {
     "name": "stdout",
     "output_type": "stream",
     "text": [
      "p-value = 0.6575926196478362, alpha = 0.05\n",
      "p-value > alpha\n",
      "Гипотеза H_0 принимается!\n",
      "ВЫВОД: нельзя утверждать, что 'Мужчины пропускают в течение года более {WORK_DAYS} рабочих дней (work_days) по болезни значимо чаще женщин'\n"
     ]
    }
   ],
   "source": [
    "# с помощью proportions_ztest считаем выборочное значение статистики критерия и p-value \n",
    "# (используется флаг alternative=\"larger\", т.к. H': p_1 > p_2)\n",
    "count = np.array([n_pass_1, n_pass_2])\n",
    "nobs = np.array([n_1, n_2])\n",
    "test1_stat, test1_pval = proportions_ztest(count, nobs, alternative=\"larger\")\n",
    "h_name = \"Мужчины пропускают в течение года более {WORK_DAYS} рабочих дней (work_days) по болезни значимо чаще женщин\"\n",
    "print_test_result(ALPHA, test1_pval, h_name)"
   ],
   "metadata": {
    "collapsed": false,
    "ExecuteTime": {
     "end_time": "2023-12-12T22:31:59.460023Z",
     "start_time": "2023-12-12T22:31:59.453016Z"
    }
   },
   "id": "83545f092550edaf"
  },
  {
   "cell_type": "code",
   "execution_count": 101,
   "outputs": [
    {
     "data": {
      "application/vnd.plotly.v1+json": {
       "data": [
        {
         "fill": "tozeroy",
         "fillcolor": "rgba(165, 165, 165, 0.5)",
         "mode": "none",
         "name": "$f(z|H_0)$",
         "x": [
          -3.0,
          -2.99,
          -2.9800000000000004,
          -2.9700000000000006,
          -2.960000000000001,
          -2.950000000000001,
          -2.9400000000000013,
          -2.9300000000000015,
          -2.9200000000000017,
          -2.910000000000002,
          -2.900000000000002,
          -2.8900000000000023,
          -2.8800000000000026,
          -2.8700000000000028,
          -2.860000000000003,
          -2.850000000000003,
          -2.8400000000000034,
          -2.8300000000000036,
          -2.820000000000004,
          -2.810000000000004,
          -2.8000000000000043,
          -2.7900000000000045,
          -2.7800000000000047,
          -2.770000000000005,
          -2.760000000000005,
          -2.7500000000000053,
          -2.7400000000000055,
          -2.7300000000000058,
          -2.720000000000006,
          -2.710000000000006,
          -2.7000000000000064,
          -2.6900000000000066,
          -2.680000000000007,
          -2.670000000000007,
          -2.6600000000000072,
          -2.6500000000000075,
          -2.6400000000000077,
          -2.630000000000008,
          -2.620000000000008,
          -2.6100000000000083,
          -2.6000000000000085,
          -2.5900000000000087,
          -2.580000000000009,
          -2.570000000000009,
          -2.5600000000000094,
          -2.5500000000000096,
          -2.54000000000001,
          -2.53000000000001,
          -2.5200000000000102,
          -2.5100000000000104,
          -2.5000000000000107,
          -2.490000000000011,
          -2.480000000000011,
          -2.4700000000000113,
          -2.4600000000000115,
          -2.4500000000000117,
          -2.440000000000012,
          -2.430000000000012,
          -2.4200000000000124,
          -2.4100000000000126,
          -2.400000000000013,
          -2.390000000000013,
          -2.380000000000013,
          -2.3700000000000134,
          -2.3600000000000136,
          -2.350000000000014,
          -2.340000000000014,
          -2.3300000000000143,
          -2.3200000000000145,
          -2.3100000000000147,
          -2.300000000000015,
          -2.290000000000015,
          -2.2800000000000153,
          -2.2700000000000156,
          -2.2600000000000158,
          -2.250000000000016,
          -2.240000000000016,
          -2.2300000000000164,
          -2.2200000000000166,
          -2.210000000000017,
          -2.200000000000017,
          -2.1900000000000173,
          -2.1800000000000175,
          -2.1700000000000177,
          -2.160000000000018,
          -2.150000000000018,
          -2.1400000000000183,
          -2.1300000000000185,
          -2.1200000000000188,
          -2.110000000000019,
          -2.100000000000019,
          -2.0900000000000194,
          -2.0800000000000196,
          -2.07000000000002,
          -2.06000000000002,
          -2.0500000000000203,
          -2.0400000000000205,
          -2.0300000000000207,
          -2.020000000000021,
          -2.010000000000021,
          -2.0000000000000213,
          -1.9900000000000215,
          -1.9800000000000217,
          -1.970000000000022,
          -1.9600000000000222,
          -1.9500000000000224,
          -1.9400000000000226,
          -1.9300000000000228,
          -1.920000000000023,
          -1.9100000000000232,
          -1.9000000000000234,
          -1.8900000000000237,
          -1.8800000000000239,
          -1.870000000000024,
          -1.8600000000000243,
          -1.8500000000000245,
          -1.8400000000000247,
          -1.830000000000025,
          -1.8200000000000252,
          -1.8100000000000254,
          -1.8000000000000256,
          -1.7900000000000258,
          -1.780000000000026,
          -1.7700000000000262,
          -1.7600000000000264,
          -1.7500000000000266,
          -1.7400000000000269,
          -1.730000000000027,
          -1.7200000000000273,
          -1.7100000000000275,
          -1.7000000000000277,
          -1.690000000000028,
          -1.6800000000000281,
          -1.6700000000000284,
          -1.6600000000000286,
          -1.6500000000000288,
          -1.640000000000029,
          -1.6300000000000292,
          -1.6200000000000294,
          -1.6100000000000296,
          -1.6000000000000298,
          -1.59000000000003,
          -1.5800000000000303,
          -1.5700000000000305,
          -1.5600000000000307,
          -1.550000000000031,
          -1.5400000000000311,
          -1.5300000000000313,
          -1.5200000000000315,
          -1.5100000000000318,
          -1.500000000000032,
          -1.4900000000000322,
          -1.4800000000000324,
          -1.4700000000000326,
          -1.4600000000000328,
          -1.450000000000033,
          -1.4400000000000333,
          -1.4300000000000335,
          -1.4200000000000337,
          -1.410000000000034,
          -1.400000000000034,
          -1.3900000000000343,
          -1.3800000000000345,
          -1.3700000000000347,
          -1.360000000000035,
          -1.3500000000000352,
          -1.3400000000000354,
          -1.3300000000000356,
          -1.3200000000000358,
          -1.310000000000036,
          -1.3000000000000362,
          -1.2900000000000365,
          -1.2800000000000367,
          -1.2700000000000369,
          -1.260000000000037,
          -1.2500000000000373,
          -1.2400000000000375,
          -1.2300000000000377,
          -1.220000000000038,
          -1.2100000000000382,
          -1.2000000000000384,
          -1.1900000000000386,
          -1.1800000000000388,
          -1.170000000000039,
          -1.1600000000000392,
          -1.1500000000000394,
          -1.1400000000000396,
          -1.1300000000000399,
          -1.12000000000004,
          -1.1100000000000403,
          -1.1000000000000405,
          -1.0900000000000407,
          -1.080000000000041,
          -1.0700000000000411,
          -1.0600000000000414,
          -1.0500000000000416,
          -1.0400000000000418,
          -1.030000000000042,
          -1.0200000000000422,
          -1.0100000000000424,
          -1.0000000000000426,
          -0.9900000000000428,
          -0.9800000000000431,
          -0.9700000000000433,
          -0.9600000000000435,
          -0.9500000000000437,
          -0.9400000000000439,
          -0.9300000000000441,
          -0.9200000000000443,
          -0.9100000000000446,
          -0.9000000000000448,
          -0.890000000000045,
          -0.8800000000000452,
          -0.8700000000000454,
          -0.8600000000000456,
          -0.8500000000000458,
          -0.840000000000046,
          -0.8300000000000463,
          -0.8200000000000465,
          -0.8100000000000467,
          -0.8000000000000469,
          -0.7900000000000471,
          -0.7800000000000473,
          -0.7700000000000475,
          -0.7600000000000477,
          -0.750000000000048,
          -0.7400000000000482,
          -0.7300000000000484,
          -0.7200000000000486,
          -0.7100000000000488,
          -0.700000000000049,
          -0.6900000000000492,
          -0.6800000000000495,
          -0.6700000000000497,
          -0.6600000000000499,
          -0.6500000000000501,
          -0.6400000000000503,
          -0.6300000000000505,
          -0.6200000000000507,
          -0.610000000000051,
          -0.6000000000000512,
          -0.5900000000000514,
          -0.5800000000000516,
          -0.5700000000000518,
          -0.560000000000052,
          -0.5500000000000522,
          -0.5400000000000524,
          -0.5300000000000527,
          -0.5200000000000529,
          -0.5100000000000531,
          -0.5000000000000533,
          -0.4900000000000535,
          -0.4800000000000537,
          -0.47000000000005393,
          -0.46000000000005414,
          -0.45000000000005436,
          -0.44000000000005457,
          -0.4300000000000548,
          -0.420000000000055,
          -0.4100000000000552,
          -0.4000000000000554,
          -0.39000000000005564,
          -0.38000000000005585,
          -0.37000000000005606,
          -0.3600000000000563,
          -0.3500000000000565,
          -0.3400000000000567,
          -0.3300000000000569,
          -0.3200000000000571,
          -0.31000000000005734,
          -0.30000000000005755,
          -0.29000000000005777,
          -0.280000000000058,
          -0.2700000000000582,
          -0.2600000000000584,
          -0.2500000000000586,
          -0.24000000000005883,
          -0.23000000000005905,
          -0.22000000000005926,
          -0.21000000000005947,
          -0.20000000000005969,
          -0.1900000000000599,
          -0.1800000000000601,
          -0.17000000000006033,
          -0.16000000000006054,
          -0.15000000000006075,
          -0.14000000000006096,
          -0.13000000000006118,
          -0.12000000000006139,
          -0.1100000000000616,
          -0.10000000000006182,
          -0.09000000000006203,
          -0.08000000000006224,
          -0.07000000000006246,
          -0.06000000000006267,
          -0.05000000000006288,
          -0.040000000000063096,
          -0.03000000000006331,
          -0.020000000000063523,
          -0.010000000000063736,
          -6.394884621840902E-14,
          0.009999999999935838,
          0.019999999999935625,
          0.02999999999993541,
          0.0399999999999352,
          0.049999999999934985,
          0.05999999999993477,
          0.06999999999993456,
          0.07999999999993435,
          0.08999999999993413,
          0.09999999999993392,
          0.1099999999999337,
          0.1199999999999335,
          0.12999999999993328,
          0.13999999999993307,
          0.14999999999993285,
          0.15999999999993264,
          0.16999999999993243,
          0.17999999999993221,
          0.189999999999932,
          0.1999999999999318,
          0.20999999999993157,
          0.21999999999993136,
          0.22999999999993115,
          0.23999999999993094,
          0.24999999999993072,
          0.2599999999999305,
          0.2699999999999303,
          0.2799999999999301,
          0.28999999999992987,
          0.29999999999992966,
          0.30999999999992944,
          0.31999999999992923,
          0.329999999999929,
          0.3399999999999288,
          0.3499999999999286,
          0.3599999999999284,
          0.36999999999992816,
          0.37999999999992795,
          0.38999999999992774,
          0.3999999999999275,
          0.4099999999999273,
          0.4199999999999271,
          0.4299999999999269,
          0.43999999999992667,
          0.44999999999992646,
          0.45999999999992625,
          0.46999999999992603,
          0.4799999999999258,
          0.4899999999999256,
          0.4999999999999254,
          0.5099999999999252,
          0.519999999999925,
          0.5299999999999248,
          0.5399999999999245,
          0.5499999999999243,
          0.5599999999999241,
          0.5699999999999239,
          0.5799999999999237,
          0.5899999999999235,
          0.5999999999999233,
          0.609999999999923,
          0.6199999999999228,
          0.6299999999999226,
          0.6399999999999224,
          0.6499999999999222,
          0.659999999999922,
          0.6699999999999218,
          0.6799999999999216,
          0.6899999999999213,
          0.6999999999999211,
          0.7099999999999209,
          0.7199999999999207,
          0.7299999999999205,
          0.7399999999999203,
          0.7499999999999201,
          0.7599999999999199,
          0.7699999999999196,
          0.7799999999999194,
          0.7899999999999192,
          0.799999999999919,
          0.8099999999999188,
          0.8199999999999186,
          0.8299999999999184,
          0.8399999999999181,
          0.8499999999999179,
          0.8599999999999177,
          0.8699999999999175,
          0.8799999999999173,
          0.8899999999999171,
          0.8999999999999169,
          0.9099999999999167,
          0.9199999999999164,
          0.9299999999999162,
          0.939999999999916,
          0.9499999999999158,
          0.9599999999999156,
          0.9699999999999154,
          0.9799999999999152,
          0.989999999999915,
          0.9999999999999147,
          1.0099999999999145,
          1.0199999999999143,
          1.029999999999914,
          1.0399999999999139,
          1.0499999999999137,
          1.0599999999999135,
          1.0699999999999132,
          1.079999999999913,
          1.0899999999999128,
          1.0999999999999126,
          1.1099999999999124,
          1.1199999999999122,
          1.129999999999912,
          1.1399999999999118,
          1.1499999999999115,
          1.1599999999999113,
          1.1699999999999111,
          1.179999999999911,
          1.1899999999999107,
          1.1999999999999105,
          1.2099999999999103,
          1.21999999999991,
          1.2299999999999098,
          1.2399999999999096,
          1.2499999999999094,
          1.2599999999999092,
          1.269999999999909,
          1.2799999999999088,
          1.2899999999999086,
          1.2999999999999083,
          1.3099999999999081,
          1.319999999999908,
          1.3299999999999077,
          1.3399999999999075,
          1.3499999999999073,
          1.359999999999907,
          1.3699999999999068,
          1.3799999999999066,
          1.3899999999999064,
          1.3999999999999062,
          1.409999999999906,
          1.4199999999999058,
          1.4299999999999056,
          1.4399999999999054,
          1.4499999999999051,
          1.459999999999905,
          1.4699999999999047,
          1.4799999999999045,
          1.4899999999999043,
          1.499999999999904,
          1.5099999999999039,
          1.5199999999999037,
          1.5299999999999034,
          1.5399999999999032,
          1.549999999999903,
          1.5599999999999028,
          1.5699999999999026,
          1.5799999999999024,
          1.5899999999999022,
          1.599999999999902,
          1.6099999999999017,
          1.6199999999999015,
          1.6299999999999013,
          1.639999999999901,
          1.6499999999999009,
          1.6599999999999007,
          1.6699999999999005,
          1.6799999999999002,
          1.6899999999999,
          1.6999999999998998,
          1.7099999999998996,
          1.7199999999998994,
          1.7299999999998992,
          1.739999999999899,
          1.7499999999998987,
          1.7599999999998985,
          1.7699999999998983,
          1.779999999999898,
          1.789999999999898,
          1.7999999999998977,
          1.8099999999998975,
          1.8199999999998973,
          1.829999999999897,
          1.8399999999998968,
          1.8499999999998966,
          1.8599999999998964,
          1.8699999999998962,
          1.879999999999896,
          1.8899999999998958,
          1.8999999999998956,
          1.9099999999998953,
          1.9199999999998951,
          1.929999999999895,
          1.9399999999998947,
          1.9499999999998945,
          1.9599999999998943,
          1.969999999999894,
          1.9799999999998938,
          1.9899999999998936,
          1.9999999999998934,
          2.009999999999893,
          2.019999999999893,
          2.029999999999893,
          2.0399999999998926,
          2.0499999999998924,
          2.059999999999892,
          2.069999999999892,
          2.0799999999998917,
          2.0899999999998915,
          2.0999999999998913,
          2.109999999999891,
          2.119999999999891,
          2.1299999999998906,
          2.1399999999998904,
          2.14999999999989,
          2.15999999999989,
          2.16999999999989,
          2.1799999999998896,
          2.1899999999998894,
          2.199999999999889,
          2.209999999999889,
          2.2199999999998887,
          2.2299999999998885,
          2.2399999999998883,
          2.249999999999888,
          2.259999999999888,
          2.2699999999998877,
          2.2799999999998875,
          2.2899999999998872,
          2.299999999999887,
          2.309999999999887,
          2.3199999999998866,
          2.3299999999998864,
          2.339999999999886,
          2.349999999999886,
          2.3599999999998857,
          2.3699999999998855,
          2.3799999999998853,
          2.389999999999885,
          2.399999999999885,
          2.4099999999998847,
          2.4199999999998845,
          2.4299999999998843,
          2.439999999999884,
          2.449999999999884,
          2.4599999999998836,
          2.4699999999998834,
          2.479999999999883,
          2.489999999999883,
          2.4999999999998828,
          2.5099999999998825,
          2.5199999999998823,
          2.529999999999882,
          2.539999999999882,
          2.5499999999998817,
          2.5599999999998815,
          2.5699999999998813,
          2.579999999999881,
          2.589999999999881,
          2.5999999999998806,
          2.6099999999998804,
          2.61999999999988,
          2.62999999999988,
          2.6399999999998798,
          2.6499999999998796,
          2.6599999999998793,
          2.669999999999879,
          2.679999999999879,
          2.6899999999998787,
          2.6999999999998785,
          2.7099999999998783,
          2.719999999999878,
          2.729999999999878,
          2.7399999999998776,
          2.7499999999998774,
          2.759999999999877,
          2.769999999999877,
          2.779999999999877,
          2.7899999999998766,
          2.7999999999998764,
          2.809999999999876,
          2.819999999999876,
          2.8299999999998757,
          2.8399999999998755,
          2.8499999999998753,
          2.859999999999875,
          2.869999999999875,
          2.8799999999998747,
          2.8899999999998744,
          2.8999999999998742,
          2.909999999999874,
          2.919999999999874,
          2.9299999999998736,
          2.9399999999998734,
          2.949999999999873,
          2.959999999999873,
          2.9699999999998727,
          2.9799999999998725,
          2.9899999999998723
         ],
         "y": [
          0.0044318484119380075,
          0.004566589954670145,
          0.004704957526933971,
          0.0048470329059789406,
          0.0049928992136123625,
          0.005142640923053925,
          0.005296343865310997,
          0.005454095235056526,
          0.0056159835959909395,
          0.005782098885669447,
          0.0059525324197758165,
          0.006127376895823644,
          0.006306726396265877,
          0.006490676390993312,
          0.006679323739202561,
          0.0068727666906139104,
          0.007071104886019379,
          0.007274439357141146,
          0.0074828725257804814,
          0.007696508202237236,
          0.00791545158297987,
          0.00813980924754592,
          0.008369689154652919,
          0.008605200637499559,
          0.008846454398237101,
          0.00909356250159092,
          0.009346638367612146,
          0.009605796763539435,
          0.009871153794750977,
          0.010142826894786907,
          0.010420934814422415,
          0.010705597609771992,
          0.010996936629405377,
          0.01129507450045592,
          0.01160013511370234,
          0.011912243607604941,
          0.012231526351277727,
          0.012558110926377944,
          0.012892126107895035,
          0.013233701843821081,
          0.013582969233685318,
          0.013940060505935502,
          0.014305108994149364,
          0.014678249112059694,
          0.01505961632737709,
          0.015449347134394793,
          0.015847579025360423,
          0.01625445046060009,
          0.016670100837380627,
          0.0170946704574965,
          0.017528300493568072,
          0.017971132954039154,
          0.018423310646861542,
          0.018884977141855643,
          0.019356276731736413,
          0.019837354391794758,
          0.02032835573822524,
          0.020829426985091576,
          0.02134071489992214,
          0.021862366757928724,
          0.022394530294842212,
          0.02293735365835998,
          0.023490985358200628,
          0.024055574214762215,
          0.024631269306381712,
          0.025218219915193574,
          0.025816575471586833,
          0.026426485497260854,
          0.027048099546880876,
          0.027681567148335636,
          0.028327037741600208,
          0.028984660616208413,
          0.029654584847340237,
          0.030336959230530564,
          0.031031932215007142,
          0.03173965183566627,
          0.03246026564369628,
          0.033193920635859915,
          0.033940763182447944,
          0.03470093895391753,
          0.0354745928462301,
          0.03626186890490485,
          0.03706291024780507,
          0.03787785898667602,
          0.038706856147454116,
          0.03955004158936868,
          0.04040755392285873,
          0.04127953042632877,
          0.042166106961768646,
          0.04306741788926401,
          0.043983595980425415,
          0.04491477233076527,
          0.045861076271053035,
          0.046822635277681234,
          0.047799574882075056,
          0.04879201857918073,
          0.04980008773506869,
          0.05082390149368904,
          0.05186357668281837,
          0.052919227719238036,
          0.05399096651318576,
          0.05507890237212341,
          0.05618314190386563,
          0.057303788919114654,
          0.05844094433344893,
          0.05959470606881347,
          0.06076516895456211,
          0.06195242462810243,
          0.06315656143519587,
          0.0643776643299665,
          0.06561581477467368,
          0.06687109063930416,
          0.06814356610104151,
          0.06943331154367106,
          0.07074039345698019,
          0.07206487433621472,
          0.07340681258165355,
          0.0747662623983642,
          0.07614327369620383,
          0.07753789199013043,
          0.07895015830089053,
          0.08038010905615045,
          0.08182777599213903,
          0.08329318605587062,
          0.08477636130801829,
          0.0862773188265075,
          0.08779607061090154,
          0.08933262348765081,
          0.09088697901627861,
          0.09245913339657633,
          0.0940490773768825,
          0.0956567961635195,
          0.0972822693314629,
          0.09892547073631905,
          0.10058636842768579,
          0.10226492456397314,
          0.10396109532875927,
          0.10567483084875857,
          0.10740607511347873,
          0.10915476589664218,
          0.11092083467945028,
          0.11270420657576517,
          0.11450480025928693,
          0.11632252789280154,
          0.11815729505957663,
          0.12000900069697985,
          0.12187753703239594,
          0.1237627895215172,
          0.12566463678908213,
          0.12758295057213576,
          0.12951759566588553,
          0.13146842987222473,
          0.13343530395099593,
          0.13541806157406483,
          0.1374165392822752,
          0.1394305664453536,
          0.141459965224832,
          0.14350455054005556,
          0.14556413003734067,
          0.14763850406234869,
          0.14972746563573772,
          0.15183080043215444,
          0.15394828676262637,
          0.15607969556041343,
          0.15822479037037554,
          0.160383327341912,
          0.16255505522552643,
          0.16473971537306903,
          0.16693704174170593,
          0.16914676090166444,
          0.17136859204779928,
          0.17360224701502483,
          0.17584743029765415,
          0.17810383907268526,
          0.18037116322707192,
          0.1826490853890134,
          0.1849372809632967,
          0.18723541817072084,
          0.18954315809163147,
          0.19186015471359052,
          0.19418605498320402,
          0.1965204988621275,
          0.1988631193872668,
          0.2012135427351882,
          0.2035713882907502,
          0.20593626871996545,
          0.20830779004709893,
          0.2106855517360058,
          0.21306914677570832,
          0.21545816177021007,
          0.21785217703254084,
          0.2202507666830235,
          0.2226534987517513,
          0.22505993528525975,
          0.22746963245737595,
          0.229882140684223,
          0.2322970047433561,
          0.23471376389700166,
          0.23713195201936937,
          0.2395510977280031,
          0.24197072451913307,
          0.2443903509069892,
          0.24680949056703233,
          0.24922765248305545,
          0.2516443410981066,
          0.2540590564691785,
          0.2564712944256098,
          0.25888054673113825,
          0.2612863012495425,
          0.2636880421138075,
          0.2660852498987441,
          0.26847740179699164,
          0.2708639717983273,
          0.27324443087220546,
          0.2756182471534459,
          0.27798488613098565,
          0.28034381083960974,
          0.2826944820545694,
          0.28503635848899633,
          0.28736889699401746,
          0.2896915527614719,
          0.2920037795291306,
          0.2943050297883143,
          0.2965947549938049,
          0.29887240577594193,
          0.3011374321547936,
          0.3033892837562894,
          0.3056274100301991,
          0.3078512604698422,
          0.3100602848334054,
          0.31225393336675056,
          0.31443165702758663,
          0.31659290771088217,
          0.3187371384753909,
          0.32086380377116197,
          0.32297235966790383,
          0.3250622640840717,
          0.3271329770165441,
          0.32918396077075446,
          0.33121468019114264,
          0.33322460289178946,
          0.335213199487096,
          0.3371799438223705,
          0.3391243132041822,
          0.34104578863034263,
          0.3429438550193741,
          0.3448180014393236,
          0.34666772133578194,
          0.3484925127589649,
          0.35029187858971633,
          0.35206532676429014,
          0.3538123704977704,
          0.355532528505988,
          0.35722532522579176,
          0.3588902910335357,
          0.3605269624616392,
          0.36213488241308356,
          0.36371360037370487,
          0.36526267262214546,
          0.36678166243732785,
          0.3682701403033152,
          0.36972768411142437,
          0.37115387935945815,
          0.3725483193479257,
          0.3739106053731209,
          0.3752403469169305,
          0.3765371618332467,
          0.3778006765308575,
          0.3790305261526948,
          0.38022635475131816,
          0.38138781546051753,
          0.38251457066291766,
          0.3836062921534723,
          0.3846626612987368,
          0.38568336919181023,
          0.3866681168028436,
          0.38761661512500867,
          0.3885285853158306,
          0.3894037588337854,
          0.39024187757006945,
          0.39104269397545127,
          0.39180597118211663,
          0.3925314831204247,
          0.3932190146304932,
          0.39386836156853705,
          0.39447933090788534,
          0.39505174083460787,
          0.3955854208376843,
          0.3960802117936532,
          0.39653596604568314,
          0.39695254747700937,
          0.3973298315786861,
          0.39766770551160696,
          0.3979660681627493,
          0.39822483019560545,
          0.39844391409476276,
          0.39862325420460404,
          0.39876279676209897,
          0.3988624999236656,
          0.39892233378608194,
          0.3989422804014327,
          0.39892233378608244,
          0.3988624999236666,
          0.39876279676210047,
          0.39862325420460604,
          0.3984439140947654,
          0.3982248301956085,
          0.3979660681627529,
          0.397667705511611,
          0.3973298315786907,
          0.3969525474770144,
          0.3965359660456887,
          0.39608021179365926,
          0.3955854208376909,
          0.395051740834615,
          0.3944793309078929,
          0.3938683615685451,
          0.39321901463050174,
          0.3925314831204337,
          0.3918059711821262,
          0.39104269397546126,
          0.3902418775700799,
          0.38940375883379635,
          0.38852858531584206,
          0.3876166151250206,
          0.38666811680285595,
          0.38568336919182306,
          0.38466266129875004,
          0.3836062921534861,
          0.3825145706629319,
          0.3813878154605322,
          0.38022635475133326,
          0.37903052615271027,
          0.37780067653087346,
          0.3765371618332631,
          0.3752403469169473,
          0.373910605373138,
          0.37254831934794336,
          0.3711538793594762,
          0.3697276841114428,
          0.368270140303334,
          0.36678166243734706,
          0.3652626726221651,
          0.36371360037372485,
          0.36213488241310393,
          0.3605269624616599,
          0.3588902910335568,
          0.35722532522581324,
          0.35553252850600975,
          0.3538123704977926,
          0.3520653267643126,
          0.3502918785897392,
          0.3484925127589881,
          0.3466677213358055,
          0.34481800143934743,
          0.3429438550193982,
          0.34104578863036705,
          0.33912431320420694,
          0.3371799438223955,
          0.33521319948712125,
          0.33322460289181505,
          0.3312146801911685,
          0.32918396077078055,
          0.32713297701657046,
          0.3250622640840983,
          0.32297235966793064,
          0.32086380377118906,
          0.3187371384754183,
          0.3165929077109097,
          0.3144316570276144,
          0.31225393336677854,
          0.31006028483343356,
          0.3078512604698705,
          0.3056274100302277,
          0.3033892837563181,
          0.3011374321548225,
          0.29887240577597096,
          0.29659475499383414,
          0.29430502978834366,
          0.2920037795291601,
          0.28969155276150155,
          0.2873688969940472,
          0.28503635848902625,
          0.2826944820545994,
          0.2803438108396399,
          0.2779848861310159,
          0.2756182471534762,
          0.2732444308722359,
          0.27086397179835775,
          0.2684774017970222,
          0.26608524989877474,
          0.2636880421138382,
          0.26128630124957325,
          0.258880546731169,
          0.2564712944256406,
          0.25405905646920934,
          0.25164434109813755,
          0.24922765248308637,
          0.24680949056706325,
          0.2443903509070202,
          0.24197072451916402,
          0.23955109772803404,
          0.23713195201940035,
          0.23471376389703258,
          0.23229700474338702,
          0.2298821406842539,
          0.22746963245740676,
          0.22505993528529053,
          0.22265349875178206,
          0.22025076668305427,
          0.2178521770325715,
          0.21545816177024069,
          0.21306914677573885,
          0.2106855517360363,
          0.20830779004712932,
          0.2059362687199957,
          0.2035713882907804,
          0.20121354273521833,
          0.1988631193872968,
          0.19652049886215742,
          0.19418605498323382,
          0.19186015471362022,
          0.18954315809166103,
          0.18723541817075032,
          0.18493728096332604,
          0.18264908538904262,
          0.18037116322710098,
          0.17810383907271418,
          0.1758474302976829,
          0.17360224701505347,
          0.17136859204782778,
          0.16914676090169278,
          0.16693704174173413,
          0.16473971537309706,
          0.1625550552255543,
          0.1603833273419397,
          0.15822479037040305,
          0.1560796955604408,
          0.15394828676265354,
          0.15183080043218142,
          0.14972746563576456,
          0.1476385040623753,
          0.14556413003736707,
          0.1435045505400818,
          0.1414599652248581,
          0.13943056644537946,
          0.13741653928230083,
          0.13541806157409025,
          0.13343530395102116,
          0.1314684298722498,
          0.12951759566591037,
          0.1275829505721604,
          0.12566463678910658,
          0.1237627895215414,
          0.12187753703241994,
          0.12000900069700365,
          0.1181572950596002,
          0.11632252789282488,
          0.11450480025931005,
          0.1127042065757881,
          0.11092083467947297,
          0.10915476589666463,
          0.10740607511350098,
          0.10567483084878061,
          0.10396109532878109,
          0.10226492456399473,
          0.10058636842770714,
          0.09892547073634017,
          0.0972822693314838,
          0.09565679616354016,
          0.09404907737690293,
          0.09245913339659655,
          0.09088697901629861,
          0.08933262348767058,
          0.08779607061092108,
          0.08627731882652681,
          0.08477636130803737,
          0.08329318605588946,
          0.08182777599215765,
          0.08038010905616885,
          0.07895015830090871,
          0.07753789199014839,
          0.07614327369622156,
          0.07476626239838172,
          0.07340681258167082,
          0.07206487433623178,
          0.07074039345699702,
          0.06943331154368768,
          0.0681435661010579,
          0.06687109063932033,
          0.06561581477468961,
          0.06437766432998222,
          0.06315656143521137,
          0.06195242462811773,
          0.0607651689545772,
          0.059594706068828336,
          0.05844094433346358,
          0.057303788919129094,
          0.056183141903879845,
          0.05507890237213744,
          0.05399096651319957,
          0.052919227719251644,
          0.051863576682831786,
          0.05082390149370225,
          0.049800087735081676,
          0.04879201857919354,
          0.04779957488208765,
          0.04682263527769362,
          0.04586107627106524,
          0.04491477233077727,
          0.04398359598043724,
          0.04306741788927563,
          0.04216610696178009,
          0.04127953042634003,
          0.04040755392286978,
          0.03955004158937955,
          0.0387068561474648,
          0.03787785898668653,
          0.03706291024781541,
          0.036261868904915014,
          0.03547459284624009,
          0.03470093895392734,
          0.033940763182457576,
          0.03319392063586938,
          0.03246026564370558,
          0.03173965183567541,
          0.031031932215016118,
          0.030336959230539372,
          0.02965458484734888,
          0.028984660616216906,
          0.028327037741608534,
          0.027681567148343814,
          0.027048099546888898,
          0.026426485497268733,
          0.025816575471594563,
          0.025218219915201148,
          0.024631269306389147,
          0.0240555742147695,
          0.02349098535820777,
          0.022937353658367,
          0.02239453029484909,
          0.021862366757935466,
          0.021340714899928746,
          0.020829426985098053,
          0.02032835573823159,
          0.019837354391800968,
          0.0193562767317425,
          0.018884977141861613,
          0.01842331064686739,
          0.017971132954044875,
          0.017528300493573675,
          0.01709467045750198,
          0.016670100837386004,
          0.01625445046060535,
          0.01584757902536557,
          0.015449347134399834,
          0.015059616327382026,
          0.014678249112064517,
          0.014305108994154088,
          0.013940060505940122,
          0.013582969233689835,
          0.0132337018438255,
          0.01289212610789936,
          0.01255811092638217,
          0.012231526351281856,
          0.011912243607608983,
          0.011600135113706287,
          0.011295074500459776,
          0.010996936629409147,
          0.010705597609775677,
          0.010420934814426016,
          0.010142826894790425,
          0.00987115379475441,
          0.009605796763542786,
          0.009346638367615422,
          0.009093562501594118,
          0.008846454398240224,
          0.008605200637502605,
          0.008369689154655895,
          0.008139809247548827,
          0.007915451582982702,
          0.007696508202240001,
          0.007482872525783179,
          0.007274439357143776,
          0.0070711048860219484,
          0.006872766690616413,
          0.006679323739205005,
          0.006490676390995698,
          0.006306726396268203,
          0.006127376895825914,
          0.005952532419778027,
          0.005782098885671599,
          0.005615983595993034,
          0.005454095235058571,
          0.005296343865312991,
          0.0051426409230558665,
          0.0049928992136142525,
          0.004847032905980783,
          0.0047049575269357685,
          0.004566589954671889
         ],
         "type": "scatter"
        },
        {
         "fill": "tozeroy",
         "fillcolor": "rgba(255, 94, 94, 0.5)",
         "mode": "none",
         "name": "critical area",
         "x": [
          1.6400000000000001,
          1.6500000000000001,
          1.6600000000000001,
          1.6700000000000002,
          1.6800000000000002,
          1.6900000000000002,
          1.7000000000000002,
          1.7100000000000002,
          1.7200000000000002,
          1.7300000000000002,
          1.7400000000000002,
          1.7500000000000002,
          1.7600000000000002,
          1.7700000000000002,
          1.7800000000000002,
          1.7900000000000003,
          1.8000000000000003,
          1.8100000000000003,
          1.8200000000000003,
          1.8300000000000003,
          1.8400000000000003,
          1.8500000000000003,
          1.8600000000000003,
          1.8700000000000003,
          1.8800000000000003,
          1.8900000000000003,
          1.9000000000000004,
          1.9100000000000004,
          1.9200000000000004,
          1.9300000000000004,
          1.9400000000000004,
          1.9500000000000004,
          1.9600000000000004,
          1.9700000000000004,
          1.9800000000000004,
          1.9900000000000004,
          2.0000000000000004,
          2.0100000000000007,
          2.0200000000000005,
          2.0300000000000002,
          2.0400000000000005,
          2.0500000000000007,
          2.0600000000000005,
          2.0700000000000003,
          2.0800000000000005,
          2.0900000000000007,
          2.1000000000000005,
          2.1100000000000003,
          2.1200000000000006,
          2.130000000000001,
          2.1400000000000006,
          2.1500000000000004,
          2.1600000000000006,
          2.170000000000001,
          2.1800000000000006,
          2.1900000000000004,
          2.2000000000000006,
          2.210000000000001,
          2.2200000000000006,
          2.2300000000000004,
          2.2400000000000007,
          2.250000000000001,
          2.2600000000000007,
          2.2700000000000005,
          2.2800000000000007,
          2.290000000000001,
          2.3000000000000007,
          2.3100000000000005,
          2.3200000000000007,
          2.330000000000001,
          2.3400000000000007,
          2.3500000000000005,
          2.3600000000000008,
          2.370000000000001,
          2.380000000000001,
          2.3900000000000006,
          2.400000000000001,
          2.410000000000001,
          2.420000000000001,
          2.4300000000000006,
          2.440000000000001,
          2.450000000000001,
          2.460000000000001,
          2.4700000000000006,
          2.480000000000001,
          2.490000000000001,
          2.500000000000001,
          2.5100000000000007,
          2.520000000000001,
          2.530000000000001,
          2.540000000000001,
          2.5500000000000007,
          2.560000000000001,
          2.570000000000001,
          2.580000000000001,
          2.5900000000000007,
          2.600000000000001,
          2.610000000000001,
          2.620000000000001,
          2.630000000000001,
          2.640000000000001,
          2.6500000000000012,
          2.660000000000001,
          2.670000000000001,
          2.680000000000001,
          2.6900000000000013,
          2.700000000000001,
          2.710000000000001,
          2.720000000000001,
          2.7300000000000013,
          2.740000000000001,
          2.750000000000001,
          2.760000000000001,
          2.7700000000000014,
          2.780000000000001,
          2.790000000000001,
          2.800000000000001,
          2.8100000000000014,
          2.820000000000001,
          2.830000000000001,
          2.840000000000001,
          2.8500000000000014,
          2.860000000000001,
          2.870000000000001,
          2.8800000000000012,
          2.8900000000000015,
          2.9000000000000012,
          2.910000000000001,
          2.9200000000000013,
          2.9300000000000015,
          2.9400000000000013,
          2.950000000000001,
          2.9600000000000013,
          2.9700000000000015,
          2.9800000000000013,
          2.990000000000001
         ],
         "y": [
          0.1039610953287642,
          0.102264924563978,
          0.10058636842769056,
          0.0989254707363237,
          0.09728226933146747,
          0.09565679616352397,
          0.0940490773768869,
          0.09245913339658064,
          0.09088697901628283,
          0.08933262348765497,
          0.0877960706109056,
          0.08627731882651149,
          0.0847763613080222,
          0.08329318605587445,
          0.08182777599214276,
          0.08038010905615413,
          0.07895015830089412,
          0.07753789199013396,
          0.07614327369620728,
          0.07476626239836759,
          0.07340681258165686,
          0.07206487433621796,
          0.07074039345698334,
          0.06943331154367416,
          0.06814356610104454,
          0.06687109063930712,
          0.06561581477467655,
          0.06437766432996932,
          0.06315656143519861,
          0.06195242462810511,
          0.060765168954564734,
          0.059594706068816033,
          0.05844094433345142,
          0.057303788919117075,
          0.05618314190386799,
          0.055078902372125725,
          0.05399096651318801,
          0.052919227719240215,
          0.05186357668282051,
          0.05082390149369116,
          0.049800087735070726,
          0.04879201857918268,
          0.047799574882076964,
          0.04682263527768313,
          0.045861076271054846,
          0.044914772330767024,
          0.043983595980427156,
          0.0430674178892657,
          0.042166106961770276,
          0.04127953042633033,
          0.04040755392286025,
          0.03955004158937019,
          0.03870685614745557,
          0.037877858986677414,
          0.03706291024780644,
          0.036261868904906194,
          0.03547459284623139,
          0.034700938953918764,
          0.03394076318244915,
          0.033193920635861095,
          0.03246026564369742,
          0.03173965183566735,
          0.031031932215008207,
          0.0303369592305316,
          0.02965458484734123,
          0.028984660616209364,
          0.02832703774160112,
          0.027681567148336535,
          0.02704809954688174,
          0.02642648549726168,
          0.02581657547158764,
          0.02521821991519436,
          0.02463126930638245,
          0.02405557421476292,
          0.02349098535820131,
          0.022937353658360665,
          0.02239453029484285,
          0.021862366757929335,
          0.021340714899922737,
          0.02082942698509216,
          0.020328355738225792,
          0.019837354391795278,
          0.019356276731736923,
          0.018884977141856146,
          0.018423310646862007,
          0.01797113295403959,
          0.017528300493568502,
          0.017094670457496918,
          0.016670100837381022,
          0.016254450460600457,
          0.015847579025360783,
          0.015449347134395141,
          0.015059616327377416,
          0.014678249112059992,
          0.014305108994149657,
          0.013940060505935792,
          0.013582969233685583,
          0.013233701843821328,
          0.012892126107895276,
          0.012558110926378178,
          0.012231526351277944,
          0.011912243607605143,
          0.011600135113702531,
          0.011295074500456111,
          0.010996936629405547,
          0.010705597609772148,
          0.010420934814422567,
          0.010142826894787054,
          0.00987115379475111,
          0.009605796763539553,
          0.00934663836761226,
          0.00909356250159103,
          0.008846454398237197,
          0.008605200637499642,
          0.008369689154653005,
          0.008139809247546004,
          0.007915451582979939,
          0.007696508202237294,
          0.0074828725257805335,
          0.007274439357141199,
          0.007071104886019424,
          0.006872766690613948,
          0.0066793237392025915,
          0.006490676390993347,
          0.006306726396265905,
          0.00612737689582366,
          0.005952532419775833,
          0.005782098885669457,
          0.005615983595990944,
          0.005454095235056526,
          0.005296343865310997,
          0.005142640923053925,
          0.004992899213612354,
          0.0048470329059789275,
          0.004704957526933963,
          0.004566589954670133
         ],
         "type": "scatter"
        },
        {
         "fill": "tozeroy",
         "fillcolor": "rgba(109, 141, 255, 0.5)",
         "mode": "none",
         "name": "p-value",
         "x": [
          -0.4059017928203546,
          -0.3959017928203546,
          -0.3859017928203546,
          -0.3759017928203546,
          -0.36590179282035457,
          -0.35590179282035456,
          -0.34590179282035455,
          -0.33590179282035454,
          -0.32590179282035453,
          -0.3159017928203545,
          -0.3059017928203545,
          -0.2959017928203545,
          -0.2859017928203545,
          -0.2759017928203545,
          -0.2659017928203545,
          -0.25590179282035447,
          -0.24590179282035446,
          -0.23590179282035445,
          -0.22590179282035444,
          -0.21590179282035443,
          -0.20590179282035442,
          -0.19590179282035441,
          -0.1859017928203544,
          -0.1759017928203544,
          -0.1659017928203544,
          -0.15590179282035438,
          -0.14590179282035437,
          -0.13590179282035436,
          -0.12590179282035435,
          -0.11590179282035434,
          -0.10590179282035433,
          -0.09590179282035433,
          -0.08590179282035432,
          -0.07590179282035431,
          -0.0659017928203543,
          -0.05590179282035429,
          -0.04590179282035428,
          -0.03590179282035427,
          -0.025901792820354264,
          -0.015901792820354255,
          -0.005901792820354246,
          0.004098207179645763,
          0.014098207179645772,
          0.02409820717964578,
          0.03409820717964579,
          0.0440982071796458,
          0.05409820717964581,
          0.06409820717964582,
          0.07409820717964583,
          0.08409820717964583,
          0.09409820717964584,
          0.10409820717964585,
          0.11409820717964586,
          0.12409820717964587,
          0.13409820717964588,
          0.1440982071796459,
          0.1540982071796459,
          0.1640982071796459,
          0.17409820717964591,
          0.18409820717964592,
          0.19409820717964593,
          0.20409820717964594,
          0.21409820717964595,
          0.22409820717964596,
          0.23409820717964597,
          0.24409820717964598,
          0.254098207179646,
          0.264098207179646,
          0.274098207179646,
          0.284098207179646,
          0.294098207179646,
          0.30409820717964603,
          0.31409820717964604,
          0.32409820717964605,
          0.33409820717964606,
          0.34409820717964607,
          0.3540982071796461,
          0.3640982071796461,
          0.3740982071796461,
          0.3840982071796461,
          0.3940982071796461,
          0.4040982071796461,
          0.4140982071796461,
          0.42409820717964614,
          0.43409820717964615,
          0.44409820717964615,
          0.45409820717964616,
          0.46409820717964617,
          0.4740982071796462,
          0.4840982071796462,
          0.4940982071796462,
          0.5040982071796463,
          0.5140982071796463,
          0.5240982071796463,
          0.5340982071796463,
          0.5440982071796463,
          0.5540982071796463,
          0.5640982071796463,
          0.5740982071796463,
          0.5840982071796463,
          0.5940982071796463,
          0.6040982071796464,
          0.6140982071796464,
          0.6240982071796464,
          0.6340982071796464,
          0.6440982071796464,
          0.6540982071796464,
          0.6640982071796464,
          0.6740982071796464,
          0.6840982071796464,
          0.6940982071796464,
          0.7040982071796464,
          0.7140982071796464,
          0.7240982071796465,
          0.7340982071796465,
          0.7440982071796465,
          0.7540982071796465,
          0.7640982071796465,
          0.7740982071796465,
          0.7840982071796465,
          0.7940982071796465,
          0.8040982071796465,
          0.8140982071796465,
          0.8240982071796465,
          0.8340982071796466,
          0.8440982071796466,
          0.8540982071796466,
          0.8640982071796466,
          0.8740982071796466,
          0.8840982071796466,
          0.8940982071796466,
          0.9040982071796466,
          0.9140982071796466,
          0.9240982071796466,
          0.9340982071796466,
          0.9440982071796467,
          0.9540982071796467,
          0.9640982071796467,
          0.9740982071796467,
          0.9840982071796467,
          0.9940982071796467,
          1.0040982071796467,
          1.0140982071796467,
          1.0240982071796467,
          1.0340982071796467,
          1.0440982071796467,
          1.0540982071796468,
          1.0640982071796468,
          1.0740982071796468,
          1.0840982071796468,
          1.0940982071796468,
          1.1040982071796468,
          1.1140982071796468,
          1.1240982071796468,
          1.1340982071796468,
          1.1440982071796468,
          1.1540982071796468,
          1.1640982071796468,
          1.1740982071796469,
          1.1840982071796469,
          1.1940982071796469,
          1.2040982071796469,
          1.214098207179647,
          1.224098207179647,
          1.234098207179647,
          1.244098207179647,
          1.254098207179647,
          1.264098207179647,
          1.274098207179647,
          1.284098207179647,
          1.294098207179647,
          1.304098207179647,
          1.314098207179647,
          1.324098207179647,
          1.334098207179647,
          1.344098207179647,
          1.354098207179647,
          1.364098207179647,
          1.374098207179647,
          1.384098207179647,
          1.394098207179647,
          1.404098207179647,
          1.414098207179647,
          1.424098207179647,
          1.434098207179647,
          1.444098207179647,
          1.454098207179647,
          1.4640982071796471,
          1.4740982071796471,
          1.4840982071796471,
          1.4940982071796471,
          1.5040982071796472,
          1.5140982071796472,
          1.5240982071796472,
          1.5340982071796472,
          1.5440982071796472,
          1.5540982071796472,
          1.5640982071796472,
          1.5740982071796472,
          1.5840982071796472,
          1.5940982071796472,
          1.604098207179647,
          1.6140982071796472,
          1.6240982071796475,
          1.6340982071796473,
          1.644098207179647,
          1.6540982071796473,
          1.6640982071796475,
          1.6740982071796473,
          1.684098207179647,
          1.6940982071796473,
          1.7040982071796476,
          1.7140982071796473,
          1.7240982071796471,
          1.7340982071796474,
          1.7440982071796476,
          1.7540982071796474,
          1.7640982071796472,
          1.7740982071796474,
          1.7840982071796476,
          1.7940982071796474,
          1.8040982071796472,
          1.8140982071796474,
          1.8240982071796477,
          1.8340982071796474,
          1.8440982071796472,
          1.8540982071796475,
          1.8640982071796477,
          1.8740982071796475,
          1.8840982071796473,
          1.8940982071796475,
          1.9040982071796477,
          1.9140982071796475,
          1.9240982071796473,
          1.9340982071796475,
          1.9440982071796478,
          1.9540982071796476,
          1.9640982071796473,
          1.9740982071796476,
          1.9840982071796478,
          1.9940982071796476,
          2.004098207179647,
          2.0140982071796474,
          2.0240982071796476,
          2.0340982071796474,
          2.044098207179647,
          2.0540982071796474,
          2.0640982071796476,
          2.0740982071796474,
          2.084098207179647,
          2.0940982071796475,
          2.1040982071796477,
          2.1140982071796475,
          2.1240982071796473,
          2.1340982071796475,
          2.1440982071796477,
          2.1540982071796475,
          2.1640982071796473,
          2.1740982071796475,
          2.1840982071796478,
          2.1940982071796475,
          2.2040982071796473,
          2.2140982071796476,
          2.224098207179648,
          2.2340982071796476,
          2.2440982071796474,
          2.2540982071796476,
          2.264098207179648,
          2.2740982071796476,
          2.2840982071796474,
          2.2940982071796476,
          2.304098207179648,
          2.3140982071796476,
          2.3240982071796474,
          2.3340982071796477,
          2.344098207179648,
          2.3540982071796477,
          2.3640982071796475,
          2.3740982071796477,
          2.384098207179648,
          2.3940982071796477,
          2.4040982071796475,
          2.4140982071796477,
          2.424098207179648,
          2.4340982071796478,
          2.4440982071796475,
          2.4540982071796478,
          2.464098207179648,
          2.474098207179648,
          2.4840982071796476,
          2.494098207179648,
          2.504098207179648,
          2.514098207179648,
          2.5240982071796476,
          2.534098207179648,
          2.544098207179648,
          2.554098207179648,
          2.5640982071796476,
          2.574098207179648,
          2.584098207179648,
          2.594098207179648,
          2.6040982071796477,
          2.614098207179648,
          2.624098207179648,
          2.634098207179648,
          2.6440982071796477,
          2.654098207179648,
          2.664098207179648,
          2.674098207179648,
          2.6840982071796478,
          2.694098207179648,
          2.704098207179648,
          2.714098207179648,
          2.724098207179648,
          2.734098207179648,
          2.7440982071796483,
          2.754098207179648,
          2.764098207179648,
          2.774098207179648,
          2.7840982071796483,
          2.794098207179648,
          2.804098207179648,
          2.814098207179648,
          2.8240982071796483,
          2.834098207179648,
          2.844098207179648,
          2.854098207179648,
          2.8640982071796484,
          2.874098207179648,
          2.884098207179648,
          2.894098207179648,
          2.9040982071796484,
          2.914098207179648,
          2.924098207179648,
          2.934098207179648,
          2.9440982071796484,
          2.954098207179648,
          2.964098207179648,
          2.9740982071796482,
          2.9840982071796485,
          2.9940982071796483
         ],
         "y": [
          0.36739538559117485,
          0.3688712366587602,
          0.3703159828657766,
          0.37172921288418365,
          0.3731105232681619,
          0.3744595186458668,
          0.3757758119078602,
          0.3770590243920943,
          0.3783087860653244,
          0.37952473570082845,
          0.38070652105231434,
          0.38185379902389815,
          0.38296623583603756,
          0.38404350718730923,
          0.38508529841191946,
          0.3860913046328421,
          0.3870612309104783,
          0.3879947923867375,
          0.38889171442444104,
          0.38975173274195185,
          0.3905745935429398,
          0.3913600536411916,
          0.39210788058038054,
          0.39281785274871284,
          0.393489759488372,
          0.39412340119968514,
          0.3947185894399389,
          0.3952751470167777,
          0.39579290807611733,
          0.39627171818451584,
          0.39671143440594087,
          0.39711192537288376,
          0.39747307135176757,
          0.3977947643026057,
          0.3980769079328682,
          0.3983194177455193,
          0.39852222108119145,
          0.3986852571544667,
          0.398808477084241,
          0.3988918439181491,
          0.39893533265103304,
          0.3989389302374421,
          0.39890263559815464,
          0.39882645962071755,
          0.3987104251540034,
          0.3985545669967879,
          0.3983589318803573,
          0.39812357844515633,
          0.39784857721149414,
          0.3975340105443279,
          0.3971799726121498,
          0.3967865693400044,
          0.3963539183566712,
          0.3958821489360478,
          0.39537140193277504,
          0.3948218297121493,
          0.3942335960743702,
          0.39360687617317686,
          0.39294185642892887,
          0.3922387344361934,
          0.3914977188659007,
          0.39071902936213787,
          0.38990289643365117,
          0.38904956134013174,
          0.3881592759733641,
          0.38723230273331893,
          0.38626891439927524,
          0.38526939399606097,
          0.38423403465550354,
          0.38316313947318525,
          0.3820570213606021,
          0.38091600289282557,
          0.3797404161517732,
          0.37853060256519244,
          0.3772869127414687,
          0.376009706300368,
          0.37469935169983026,
          0.3733562260589279,
          0.37198071497711066,
          0.37057321234985663,
          0.36913412018085306,
          0.3676638483908329,
          0.36616281462319256,
          0.36463144404652187,
          0.36307016915417506,
          0.36147942956101553,
          0.35985967179746836,
          0.35821134910101404,
          0.35653492120526115,
          0.35483085412673393,
          0.3530996199495128,
          0.3513416966078675,
          0.34955756766702223,
          0.3477477221021927,
          0.34591265407603633,
          0.34405286271465724,
          0.3421688518823062,
          0.3402611299549189,
          0.3383302095926331,
          0.3363766075114267,
          0.3344008442540186,
          0.33240344396017285,
          0.330384934136548,
          0.32834584542623035,
          0.32628671137809295,
          0.3242080682161176,
          0.32211045460881876,
          0.31999441143890683,
          0.31786048157332636,
          0.3157092096338051,
          0.31354114176804715,
          0.3113568254217027,
          0.3091568091112456,
          0.3069416421978893,
          0.30471187466266625,
          0.30246805688280104,
          0.300210739409498,
          0.2979404727472678,
          0.2956578071349137,
          0.29336329232829444,
          0.29105747738498206,
          0.2887409104509275,
          0.28641413854924636,
          0.28407770737123456,
          0.2817321610697205,
          0.27937804205485883,
          0.27701589079246797,
          0.2746462456050101,
          0.2722696424753118,
          0.26988661485311793,
          0.267497693464571,
          0.2651034061247046,
          0.2627042775530358,
          0.26030082919233966,
          0.25789357903068594,
          0.25548304142681394,
          0.25306972693892005,
          0.25065414215692833,
          0.24823678953831133,
          0.24581816724752656,
          0.2433987689991289,
          0.2409790839046184,
          0.23855959632307705,
          0.23614078571564787,
          0.23372312650390373,
          0.23130708793215232,
          0.22889313393371907,
          0.2264817230012473,
          0.22407330806105102,
          0.22166833635155417,
          0.2192672493058443,
          0.21687048243836846,
          0.2144784652357934,
          0.21209162105205062,
          0.20971036700758305,
          0.20733511389280707,
          0.20496626607580057,
          0.20260422141422493,
          0.2002493711714848,
          0.1979020999371283,
          0.19556278555148515,
          0.1932317990345396,
          0.19090950451902974,
          0.1885962591877642,
          0.18629241321514242,
          0.18399830971286366,
          0.1817142846798059,
          0.17944066695605365,
          0.17717777818105096,
          0.17492593275585366,
          0.17268543780945167,
          0.17045659316913028,
          0.16823969133483688,
          0.16603501745751684,
          0.16384284932138055,
          0.1616634573300607,
          0.15949710449661741,
          0.15734404643734623,
          0.1552045313693419,
          0.15307880011176941,
          0.15096708609079146,
          0.14886961534809914,
          0.14678660655299233,
          0.14471827101795273,
          0.14266481271765238,
          0.1406264283113379,
          0.13860330716852992,
          0.13659563139797473,
          0.13460357587978528,
          0.13262730830070565,
          0.13066698919243347,
          0.12872277197293233,
          0.1267948029906661,
          0.12488322157168508,
          0.12298816006949462,
          0.12110974391763318,
          0.1192480916848891,
          0.11740331513308272,
          0.11557551927733993,
          0.11376480244878351,
          0.111971256359567,
          0.11019496617017663,
          0.1084360105589247,
          0.10669446179355968,
          0.1049703858049161,
          0.10326384226252736,
          0.10157488465212651,
          0.09990356035495702,
          0.09824991072881716,
          0.09661397119076165,
          0.09499577130138423,
          0.09339533485060471,
          0.091812679944884,
          0.09024781909579183,
          0.08870075930985159,
          0.08717150217958736,
          0.08566004397569776,
          0.08416637574028334,
          0.08269048338105335,
          0.08123234776643964,
          0.0797919448215439,
          0.07836924562484796,
          0.07696421650561558,
          0.07557681914191569,
          0.07420701065919753,
          0.07285474372934926,
          0.07151996667017256,
          0.07020262354520676,
          0.06890265426383609,
          0.0676199946816158,
          0.06635457670075372,
          0.06510632837068438,
          0.06387517398867402,
          0.06266103420039618,
          0.06146382610041924,
          0.06028346333254716,
          0.05911985618995679,
          0.05797291171507611,
          0.05684253379914934,
          0.05572862328143547,
          0.054631078047988446,
          0.05354979312996849,
          0.05248466080143533,
          0.05143557067657597,
          0.05040240980631939,
          0.04938506277429368,
          0.048383411792081915,
          0.04739733679373395,
          0.04642671552949283,
          0.045471423658696636,
          0.04453133484181692,
          0.04360632083159722,
          0.042696251563255606,
          0.04180099524371708,
          0.040920418439843585,
          0.040054386165629494,
          0.039202761968332785,
          0.03836540801351316,
          0.037542185168949756,
          0.03673295308741277,
          0.035937570288263644,
          0.035155894237861106,
          0.034387781428751006,
          0.03363308745761922,
          0.03289166710198806,
          0.03216337439563841,
          0.03144806270274079,
          0.03074558479067976,
          0.030055792901557278,
          0.02937853882236205,
          0.028713673953793224,
          0.02806104937772761,
          0.027420515923320878,
          0.026791924231734616,
          0.02617512481948209,
          0.02556996814038667,
          0.024976304646147716,
          0.02439398484551045,
          0.023822859362036743,
          0.023262778990475234,
          0.022713594751729797,
          0.022175157946426653,
          0.02164732020708146,
          0.021129933548868426,
          0.020622850418994313,
          0.020125923744681463,
          0.01963900697976464,
          0.019161954149907352,
          0.01869461989644391,
          0.01823685951885469,
          0.017788529015882643,
          0.01734948512529971,
          0.016919585362332665,
          0.016498688056758554,
          0.016086652388680716,
          0.0156833384229967,
          0.015288607142570356,
          0.014902320480120584,
          0.014524341348840362,
          0.014154533671759598,
          0.013792762409866204,
          0.013438893589000257,
          0.013092794325536667,
          0.012754332850871894,
          0.01242337853473108,
          0.012099801907311945,
          0.011783474680282726,
          0.011474269766651229,
          0.011172061299522602,
          0.01087672464976395,
          0.010588136442593868,
          0.010306174573115523,
          0.010030718220811863,
          0.009761647863021953,
          0.00949884528741771,
          0.009242193603500266,
          0.008991577253135381,
          0.0087468820201477,
          0.008507995038993495,
          0.008274804802531815,
          0.008047201168913916,
          0.007825075367610963,
          0.0076083200046001866,
          0.007396829066729415,
          0.007190497925280174,
          0.00698922333874935,
          0.006792903454869651,
          0.00660143781188875,
          0.00641472733912718,
          0.006232674356834838,
          0.006055182575366088,
          0.005882157093693086,
          0.005713504397277059,
          0.005549132355317001,
          0.0053889502173953534,
          0.005232868609539791,
          0.005080799529720313,
          0.004932656342800549,
          0.004788353774962171,
          0.004647807907620921,
          0.004510936170852707
         ],
         "type": "scatter"
        }
       ],
       "layout": {
        "template": {
         "data": {
          "histogram2dcontour": [
           {
            "type": "histogram2dcontour",
            "colorbar": {
             "outlinewidth": 0,
             "ticks": ""
            },
            "colorscale": [
             [
              0.0,
              "#0d0887"
             ],
             [
              0.1111111111111111,
              "#46039f"
             ],
             [
              0.2222222222222222,
              "#7201a8"
             ],
             [
              0.3333333333333333,
              "#9c179e"
             ],
             [
              0.4444444444444444,
              "#bd3786"
             ],
             [
              0.5555555555555556,
              "#d8576b"
             ],
             [
              0.6666666666666666,
              "#ed7953"
             ],
             [
              0.7777777777777778,
              "#fb9f3a"
             ],
             [
              0.8888888888888888,
              "#fdca26"
             ],
             [
              1.0,
              "#f0f921"
             ]
            ]
           }
          ],
          "choropleth": [
           {
            "type": "choropleth",
            "colorbar": {
             "outlinewidth": 0,
             "ticks": ""
            }
           }
          ],
          "histogram2d": [
           {
            "type": "histogram2d",
            "colorbar": {
             "outlinewidth": 0,
             "ticks": ""
            },
            "colorscale": [
             [
              0.0,
              "#0d0887"
             ],
             [
              0.1111111111111111,
              "#46039f"
             ],
             [
              0.2222222222222222,
              "#7201a8"
             ],
             [
              0.3333333333333333,
              "#9c179e"
             ],
             [
              0.4444444444444444,
              "#bd3786"
             ],
             [
              0.5555555555555556,
              "#d8576b"
             ],
             [
              0.6666666666666666,
              "#ed7953"
             ],
             [
              0.7777777777777778,
              "#fb9f3a"
             ],
             [
              0.8888888888888888,
              "#fdca26"
             ],
             [
              1.0,
              "#f0f921"
             ]
            ]
           }
          ],
          "heatmap": [
           {
            "type": "heatmap",
            "colorbar": {
             "outlinewidth": 0,
             "ticks": ""
            },
            "colorscale": [
             [
              0.0,
              "#0d0887"
             ],
             [
              0.1111111111111111,
              "#46039f"
             ],
             [
              0.2222222222222222,
              "#7201a8"
             ],
             [
              0.3333333333333333,
              "#9c179e"
             ],
             [
              0.4444444444444444,
              "#bd3786"
             ],
             [
              0.5555555555555556,
              "#d8576b"
             ],
             [
              0.6666666666666666,
              "#ed7953"
             ],
             [
              0.7777777777777778,
              "#fb9f3a"
             ],
             [
              0.8888888888888888,
              "#fdca26"
             ],
             [
              1.0,
              "#f0f921"
             ]
            ]
           }
          ],
          "heatmapgl": [
           {
            "type": "heatmapgl",
            "colorbar": {
             "outlinewidth": 0,
             "ticks": ""
            },
            "colorscale": [
             [
              0.0,
              "#0d0887"
             ],
             [
              0.1111111111111111,
              "#46039f"
             ],
             [
              0.2222222222222222,
              "#7201a8"
             ],
             [
              0.3333333333333333,
              "#9c179e"
             ],
             [
              0.4444444444444444,
              "#bd3786"
             ],
             [
              0.5555555555555556,
              "#d8576b"
             ],
             [
              0.6666666666666666,
              "#ed7953"
             ],
             [
              0.7777777777777778,
              "#fb9f3a"
             ],
             [
              0.8888888888888888,
              "#fdca26"
             ],
             [
              1.0,
              "#f0f921"
             ]
            ]
           }
          ],
          "contourcarpet": [
           {
            "type": "contourcarpet",
            "colorbar": {
             "outlinewidth": 0,
             "ticks": ""
            }
           }
          ],
          "contour": [
           {
            "type": "contour",
            "colorbar": {
             "outlinewidth": 0,
             "ticks": ""
            },
            "colorscale": [
             [
              0.0,
              "#0d0887"
             ],
             [
              0.1111111111111111,
              "#46039f"
             ],
             [
              0.2222222222222222,
              "#7201a8"
             ],
             [
              0.3333333333333333,
              "#9c179e"
             ],
             [
              0.4444444444444444,
              "#bd3786"
             ],
             [
              0.5555555555555556,
              "#d8576b"
             ],
             [
              0.6666666666666666,
              "#ed7953"
             ],
             [
              0.7777777777777778,
              "#fb9f3a"
             ],
             [
              0.8888888888888888,
              "#fdca26"
             ],
             [
              1.0,
              "#f0f921"
             ]
            ]
           }
          ],
          "surface": [
           {
            "type": "surface",
            "colorbar": {
             "outlinewidth": 0,
             "ticks": ""
            },
            "colorscale": [
             [
              0.0,
              "#0d0887"
             ],
             [
              0.1111111111111111,
              "#46039f"
             ],
             [
              0.2222222222222222,
              "#7201a8"
             ],
             [
              0.3333333333333333,
              "#9c179e"
             ],
             [
              0.4444444444444444,
              "#bd3786"
             ],
             [
              0.5555555555555556,
              "#d8576b"
             ],
             [
              0.6666666666666666,
              "#ed7953"
             ],
             [
              0.7777777777777778,
              "#fb9f3a"
             ],
             [
              0.8888888888888888,
              "#fdca26"
             ],
             [
              1.0,
              "#f0f921"
             ]
            ]
           }
          ],
          "mesh3d": [
           {
            "type": "mesh3d",
            "colorbar": {
             "outlinewidth": 0,
             "ticks": ""
            }
           }
          ],
          "scatter": [
           {
            "marker": {
             "line": {
              "color": "#283442"
             }
            },
            "type": "scatter"
           }
          ],
          "parcoords": [
           {
            "type": "parcoords",
            "line": {
             "colorbar": {
              "outlinewidth": 0,
              "ticks": ""
             }
            }
           }
          ],
          "scatterpolargl": [
           {
            "type": "scatterpolargl",
            "marker": {
             "colorbar": {
              "outlinewidth": 0,
              "ticks": ""
             }
            }
           }
          ],
          "bar": [
           {
            "error_x": {
             "color": "#f2f5fa"
            },
            "error_y": {
             "color": "#f2f5fa"
            },
            "marker": {
             "line": {
              "color": "rgb(17,17,17)",
              "width": 0.5
             },
             "pattern": {
              "fillmode": "overlay",
              "size": 10,
              "solidity": 0.2
             }
            },
            "type": "bar"
           }
          ],
          "scattergeo": [
           {
            "type": "scattergeo",
            "marker": {
             "colorbar": {
              "outlinewidth": 0,
              "ticks": ""
             }
            }
           }
          ],
          "scatterpolar": [
           {
            "type": "scatterpolar",
            "marker": {
             "colorbar": {
              "outlinewidth": 0,
              "ticks": ""
             }
            }
           }
          ],
          "histogram": [
           {
            "marker": {
             "pattern": {
              "fillmode": "overlay",
              "size": 10,
              "solidity": 0.2
             }
            },
            "type": "histogram"
           }
          ],
          "scattergl": [
           {
            "marker": {
             "line": {
              "color": "#283442"
             }
            },
            "type": "scattergl"
           }
          ],
          "scatter3d": [
           {
            "type": "scatter3d",
            "line": {
             "colorbar": {
              "outlinewidth": 0,
              "ticks": ""
             }
            },
            "marker": {
             "colorbar": {
              "outlinewidth": 0,
              "ticks": ""
             }
            }
           }
          ],
          "scattermapbox": [
           {
            "type": "scattermapbox",
            "marker": {
             "colorbar": {
              "outlinewidth": 0,
              "ticks": ""
             }
            }
           }
          ],
          "scatterternary": [
           {
            "type": "scatterternary",
            "marker": {
             "colorbar": {
              "outlinewidth": 0,
              "ticks": ""
             }
            }
           }
          ],
          "scattercarpet": [
           {
            "type": "scattercarpet",
            "marker": {
             "colorbar": {
              "outlinewidth": 0,
              "ticks": ""
             }
            }
           }
          ],
          "carpet": [
           {
            "aaxis": {
             "endlinecolor": "#A2B1C6",
             "gridcolor": "#506784",
             "linecolor": "#506784",
             "minorgridcolor": "#506784",
             "startlinecolor": "#A2B1C6"
            },
            "baxis": {
             "endlinecolor": "#A2B1C6",
             "gridcolor": "#506784",
             "linecolor": "#506784",
             "minorgridcolor": "#506784",
             "startlinecolor": "#A2B1C6"
            },
            "type": "carpet"
           }
          ],
          "table": [
           {
            "cells": {
             "fill": {
              "color": "#506784"
             },
             "line": {
              "color": "rgb(17,17,17)"
             }
            },
            "header": {
             "fill": {
              "color": "#2a3f5f"
             },
             "line": {
              "color": "rgb(17,17,17)"
             }
            },
            "type": "table"
           }
          ],
          "barpolar": [
           {
            "marker": {
             "line": {
              "color": "rgb(17,17,17)",
              "width": 0.5
             },
             "pattern": {
              "fillmode": "overlay",
              "size": 10,
              "solidity": 0.2
             }
            },
            "type": "barpolar"
           }
          ],
          "pie": [
           {
            "automargin": true,
            "type": "pie"
           }
          ]
         },
         "layout": {
          "autotypenumbers": "strict",
          "colorway": [
           "#636efa",
           "#EF553B",
           "#00cc96",
           "#ab63fa",
           "#FFA15A",
           "#19d3f3",
           "#FF6692",
           "#B6E880",
           "#FF97FF",
           "#FECB52"
          ],
          "font": {
           "color": "#f2f5fa"
          },
          "hovermode": "closest",
          "hoverlabel": {
           "align": "left"
          },
          "paper_bgcolor": "rgb(17,17,17)",
          "plot_bgcolor": "rgb(17,17,17)",
          "polar": {
           "bgcolor": "rgb(17,17,17)",
           "angularaxis": {
            "gridcolor": "#506784",
            "linecolor": "#506784",
            "ticks": ""
           },
           "radialaxis": {
            "gridcolor": "#506784",
            "linecolor": "#506784",
            "ticks": ""
           }
          },
          "ternary": {
           "bgcolor": "rgb(17,17,17)",
           "aaxis": {
            "gridcolor": "#506784",
            "linecolor": "#506784",
            "ticks": ""
           },
           "baxis": {
            "gridcolor": "#506784",
            "linecolor": "#506784",
            "ticks": ""
           },
           "caxis": {
            "gridcolor": "#506784",
            "linecolor": "#506784",
            "ticks": ""
           }
          },
          "coloraxis": {
           "colorbar": {
            "outlinewidth": 0,
            "ticks": ""
           }
          },
          "colorscale": {
           "sequential": [
            [
             0.0,
             "#0d0887"
            ],
            [
             0.1111111111111111,
             "#46039f"
            ],
            [
             0.2222222222222222,
             "#7201a8"
            ],
            [
             0.3333333333333333,
             "#9c179e"
            ],
            [
             0.4444444444444444,
             "#bd3786"
            ],
            [
             0.5555555555555556,
             "#d8576b"
            ],
            [
             0.6666666666666666,
             "#ed7953"
            ],
            [
             0.7777777777777778,
             "#fb9f3a"
            ],
            [
             0.8888888888888888,
             "#fdca26"
            ],
            [
             1.0,
             "#f0f921"
            ]
           ],
           "sequentialminus": [
            [
             0.0,
             "#0d0887"
            ],
            [
             0.1111111111111111,
             "#46039f"
            ],
            [
             0.2222222222222222,
             "#7201a8"
            ],
            [
             0.3333333333333333,
             "#9c179e"
            ],
            [
             0.4444444444444444,
             "#bd3786"
            ],
            [
             0.5555555555555556,
             "#d8576b"
            ],
            [
             0.6666666666666666,
             "#ed7953"
            ],
            [
             0.7777777777777778,
             "#fb9f3a"
            ],
            [
             0.8888888888888888,
             "#fdca26"
            ],
            [
             1.0,
             "#f0f921"
            ]
           ],
           "diverging": [
            [
             0,
             "#8e0152"
            ],
            [
             0.1,
             "#c51b7d"
            ],
            [
             0.2,
             "#de77ae"
            ],
            [
             0.3,
             "#f1b6da"
            ],
            [
             0.4,
             "#fde0ef"
            ],
            [
             0.5,
             "#f7f7f7"
            ],
            [
             0.6,
             "#e6f5d0"
            ],
            [
             0.7,
             "#b8e186"
            ],
            [
             0.8,
             "#7fbc41"
            ],
            [
             0.9,
             "#4d9221"
            ],
            [
             1,
             "#276419"
            ]
           ]
          },
          "xaxis": {
           "gridcolor": "#283442",
           "linecolor": "#506784",
           "ticks": "",
           "title": {
            "standoff": 15
           },
           "zerolinecolor": "#283442",
           "automargin": true,
           "zerolinewidth": 2
          },
          "yaxis": {
           "gridcolor": "#283442",
           "linecolor": "#506784",
           "ticks": "",
           "title": {
            "standoff": 15
           },
           "zerolinecolor": "#283442",
           "automargin": true,
           "zerolinewidth": 2
          },
          "scene": {
           "xaxis": {
            "backgroundcolor": "rgb(17,17,17)",
            "gridcolor": "#506784",
            "linecolor": "#506784",
            "showbackground": true,
            "ticks": "",
            "zerolinecolor": "#C8D4E3",
            "gridwidth": 2
           },
           "yaxis": {
            "backgroundcolor": "rgb(17,17,17)",
            "gridcolor": "#506784",
            "linecolor": "#506784",
            "showbackground": true,
            "ticks": "",
            "zerolinecolor": "#C8D4E3",
            "gridwidth": 2
           },
           "zaxis": {
            "backgroundcolor": "rgb(17,17,17)",
            "gridcolor": "#506784",
            "linecolor": "#506784",
            "showbackground": true,
            "ticks": "",
            "zerolinecolor": "#C8D4E3",
            "gridwidth": 2
           }
          },
          "shapedefaults": {
           "line": {
            "color": "#f2f5fa"
           }
          },
          "annotationdefaults": {
           "arrowcolor": "#f2f5fa",
           "arrowhead": 0,
           "arrowwidth": 1
          },
          "geo": {
           "bgcolor": "rgb(17,17,17)",
           "landcolor": "rgb(17,17,17)",
           "subunitcolor": "#506784",
           "showland": true,
           "showlakes": true,
           "lakecolor": "rgb(17,17,17)"
          },
          "title": {
           "x": 0.05
          },
          "updatemenudefaults": {
           "bgcolor": "#506784",
           "borderwidth": 0
          },
          "sliderdefaults": {
           "bgcolor": "#C8D4E3",
           "borderwidth": 1,
           "bordercolor": "rgb(17,17,17)",
           "tickwidth": 0
          },
          "mapbox": {
           "style": "dark"
          }
         }
        },
        "title": {
         "text": "Функция плотности f(z|H_0), критическая область и p-value"
        }
       },
       "config": {
        "plotlyServerURL": "https://plot.ly"
       }
      },
      "text/html": "<div>                            <div id=\"bec153c7-b11c-489d-a782-62b045ed584a\" class=\"plotly-graph-div\" style=\"height:525px; width:100%;\"></div>            <script type=\"text/javascript\">                require([\"plotly\"], function(Plotly) {                    window.PLOTLYENV=window.PLOTLYENV || {};                                    if (document.getElementById(\"bec153c7-b11c-489d-a782-62b045ed584a\")) {                    Plotly.newPlot(                        \"bec153c7-b11c-489d-a782-62b045ed584a\",                        [{\"fill\":\"tozeroy\",\"fillcolor\":\"rgba(165, 165, 165, 0.5)\",\"mode\":\"none\",\"name\":\"$f(z|H_0)$\",\"x\":[-3.0,-2.99,-2.9800000000000004,-2.9700000000000006,-2.960000000000001,-2.950000000000001,-2.9400000000000013,-2.9300000000000015,-2.9200000000000017,-2.910000000000002,-2.900000000000002,-2.8900000000000023,-2.8800000000000026,-2.8700000000000028,-2.860000000000003,-2.850000000000003,-2.8400000000000034,-2.8300000000000036,-2.820000000000004,-2.810000000000004,-2.8000000000000043,-2.7900000000000045,-2.7800000000000047,-2.770000000000005,-2.760000000000005,-2.7500000000000053,-2.7400000000000055,-2.7300000000000058,-2.720000000000006,-2.710000000000006,-2.7000000000000064,-2.6900000000000066,-2.680000000000007,-2.670000000000007,-2.6600000000000072,-2.6500000000000075,-2.6400000000000077,-2.630000000000008,-2.620000000000008,-2.6100000000000083,-2.6000000000000085,-2.5900000000000087,-2.580000000000009,-2.570000000000009,-2.5600000000000094,-2.5500000000000096,-2.54000000000001,-2.53000000000001,-2.5200000000000102,-2.5100000000000104,-2.5000000000000107,-2.490000000000011,-2.480000000000011,-2.4700000000000113,-2.4600000000000115,-2.4500000000000117,-2.440000000000012,-2.430000000000012,-2.4200000000000124,-2.4100000000000126,-2.400000000000013,-2.390000000000013,-2.380000000000013,-2.3700000000000134,-2.3600000000000136,-2.350000000000014,-2.340000000000014,-2.3300000000000143,-2.3200000000000145,-2.3100000000000147,-2.300000000000015,-2.290000000000015,-2.2800000000000153,-2.2700000000000156,-2.2600000000000158,-2.250000000000016,-2.240000000000016,-2.2300000000000164,-2.2200000000000166,-2.210000000000017,-2.200000000000017,-2.1900000000000173,-2.1800000000000175,-2.1700000000000177,-2.160000000000018,-2.150000000000018,-2.1400000000000183,-2.1300000000000185,-2.1200000000000188,-2.110000000000019,-2.100000000000019,-2.0900000000000194,-2.0800000000000196,-2.07000000000002,-2.06000000000002,-2.0500000000000203,-2.0400000000000205,-2.0300000000000207,-2.020000000000021,-2.010000000000021,-2.0000000000000213,-1.9900000000000215,-1.9800000000000217,-1.970000000000022,-1.9600000000000222,-1.9500000000000224,-1.9400000000000226,-1.9300000000000228,-1.920000000000023,-1.9100000000000232,-1.9000000000000234,-1.8900000000000237,-1.8800000000000239,-1.870000000000024,-1.8600000000000243,-1.8500000000000245,-1.8400000000000247,-1.830000000000025,-1.8200000000000252,-1.8100000000000254,-1.8000000000000256,-1.7900000000000258,-1.780000000000026,-1.7700000000000262,-1.7600000000000264,-1.7500000000000266,-1.7400000000000269,-1.730000000000027,-1.7200000000000273,-1.7100000000000275,-1.7000000000000277,-1.690000000000028,-1.6800000000000281,-1.6700000000000284,-1.6600000000000286,-1.6500000000000288,-1.640000000000029,-1.6300000000000292,-1.6200000000000294,-1.6100000000000296,-1.6000000000000298,-1.59000000000003,-1.5800000000000303,-1.5700000000000305,-1.5600000000000307,-1.550000000000031,-1.5400000000000311,-1.5300000000000313,-1.5200000000000315,-1.5100000000000318,-1.500000000000032,-1.4900000000000322,-1.4800000000000324,-1.4700000000000326,-1.4600000000000328,-1.450000000000033,-1.4400000000000333,-1.4300000000000335,-1.4200000000000337,-1.410000000000034,-1.400000000000034,-1.3900000000000343,-1.3800000000000345,-1.3700000000000347,-1.360000000000035,-1.3500000000000352,-1.3400000000000354,-1.3300000000000356,-1.3200000000000358,-1.310000000000036,-1.3000000000000362,-1.2900000000000365,-1.2800000000000367,-1.2700000000000369,-1.260000000000037,-1.2500000000000373,-1.2400000000000375,-1.2300000000000377,-1.220000000000038,-1.2100000000000382,-1.2000000000000384,-1.1900000000000386,-1.1800000000000388,-1.170000000000039,-1.1600000000000392,-1.1500000000000394,-1.1400000000000396,-1.1300000000000399,-1.12000000000004,-1.1100000000000403,-1.1000000000000405,-1.0900000000000407,-1.080000000000041,-1.0700000000000411,-1.0600000000000414,-1.0500000000000416,-1.0400000000000418,-1.030000000000042,-1.0200000000000422,-1.0100000000000424,-1.0000000000000426,-0.9900000000000428,-0.9800000000000431,-0.9700000000000433,-0.9600000000000435,-0.9500000000000437,-0.9400000000000439,-0.9300000000000441,-0.9200000000000443,-0.9100000000000446,-0.9000000000000448,-0.890000000000045,-0.8800000000000452,-0.8700000000000454,-0.8600000000000456,-0.8500000000000458,-0.840000000000046,-0.8300000000000463,-0.8200000000000465,-0.8100000000000467,-0.8000000000000469,-0.7900000000000471,-0.7800000000000473,-0.7700000000000475,-0.7600000000000477,-0.750000000000048,-0.7400000000000482,-0.7300000000000484,-0.7200000000000486,-0.7100000000000488,-0.700000000000049,-0.6900000000000492,-0.6800000000000495,-0.6700000000000497,-0.6600000000000499,-0.6500000000000501,-0.6400000000000503,-0.6300000000000505,-0.6200000000000507,-0.610000000000051,-0.6000000000000512,-0.5900000000000514,-0.5800000000000516,-0.5700000000000518,-0.560000000000052,-0.5500000000000522,-0.5400000000000524,-0.5300000000000527,-0.5200000000000529,-0.5100000000000531,-0.5000000000000533,-0.4900000000000535,-0.4800000000000537,-0.47000000000005393,-0.46000000000005414,-0.45000000000005436,-0.44000000000005457,-0.4300000000000548,-0.420000000000055,-0.4100000000000552,-0.4000000000000554,-0.39000000000005564,-0.38000000000005585,-0.37000000000005606,-0.3600000000000563,-0.3500000000000565,-0.3400000000000567,-0.3300000000000569,-0.3200000000000571,-0.31000000000005734,-0.30000000000005755,-0.29000000000005777,-0.280000000000058,-0.2700000000000582,-0.2600000000000584,-0.2500000000000586,-0.24000000000005883,-0.23000000000005905,-0.22000000000005926,-0.21000000000005947,-0.20000000000005969,-0.1900000000000599,-0.1800000000000601,-0.17000000000006033,-0.16000000000006054,-0.15000000000006075,-0.14000000000006096,-0.13000000000006118,-0.12000000000006139,-0.1100000000000616,-0.10000000000006182,-0.09000000000006203,-0.08000000000006224,-0.07000000000006246,-0.06000000000006267,-0.05000000000006288,-0.040000000000063096,-0.03000000000006331,-0.020000000000063523,-0.010000000000063736,-6.394884621840902e-14,0.009999999999935838,0.019999999999935625,0.02999999999993541,0.0399999999999352,0.049999999999934985,0.05999999999993477,0.06999999999993456,0.07999999999993435,0.08999999999993413,0.09999999999993392,0.1099999999999337,0.1199999999999335,0.12999999999993328,0.13999999999993307,0.14999999999993285,0.15999999999993264,0.16999999999993243,0.17999999999993221,0.189999999999932,0.1999999999999318,0.20999999999993157,0.21999999999993136,0.22999999999993115,0.23999999999993094,0.24999999999993072,0.2599999999999305,0.2699999999999303,0.2799999999999301,0.28999999999992987,0.29999999999992966,0.30999999999992944,0.31999999999992923,0.329999999999929,0.3399999999999288,0.3499999999999286,0.3599999999999284,0.36999999999992816,0.37999999999992795,0.38999999999992774,0.3999999999999275,0.4099999999999273,0.4199999999999271,0.4299999999999269,0.43999999999992667,0.44999999999992646,0.45999999999992625,0.46999999999992603,0.4799999999999258,0.4899999999999256,0.4999999999999254,0.5099999999999252,0.519999999999925,0.5299999999999248,0.5399999999999245,0.5499999999999243,0.5599999999999241,0.5699999999999239,0.5799999999999237,0.5899999999999235,0.5999999999999233,0.609999999999923,0.6199999999999228,0.6299999999999226,0.6399999999999224,0.6499999999999222,0.659999999999922,0.6699999999999218,0.6799999999999216,0.6899999999999213,0.6999999999999211,0.7099999999999209,0.7199999999999207,0.7299999999999205,0.7399999999999203,0.7499999999999201,0.7599999999999199,0.7699999999999196,0.7799999999999194,0.7899999999999192,0.799999999999919,0.8099999999999188,0.8199999999999186,0.8299999999999184,0.8399999999999181,0.8499999999999179,0.8599999999999177,0.8699999999999175,0.8799999999999173,0.8899999999999171,0.8999999999999169,0.9099999999999167,0.9199999999999164,0.9299999999999162,0.939999999999916,0.9499999999999158,0.9599999999999156,0.9699999999999154,0.9799999999999152,0.989999999999915,0.9999999999999147,1.0099999999999145,1.0199999999999143,1.029999999999914,1.0399999999999139,1.0499999999999137,1.0599999999999135,1.0699999999999132,1.079999999999913,1.0899999999999128,1.0999999999999126,1.1099999999999124,1.1199999999999122,1.129999999999912,1.1399999999999118,1.1499999999999115,1.1599999999999113,1.1699999999999111,1.179999999999911,1.1899999999999107,1.1999999999999105,1.2099999999999103,1.21999999999991,1.2299999999999098,1.2399999999999096,1.2499999999999094,1.2599999999999092,1.269999999999909,1.2799999999999088,1.2899999999999086,1.2999999999999083,1.3099999999999081,1.319999999999908,1.3299999999999077,1.3399999999999075,1.3499999999999073,1.359999999999907,1.3699999999999068,1.3799999999999066,1.3899999999999064,1.3999999999999062,1.409999999999906,1.4199999999999058,1.4299999999999056,1.4399999999999054,1.4499999999999051,1.459999999999905,1.4699999999999047,1.4799999999999045,1.4899999999999043,1.499999999999904,1.5099999999999039,1.5199999999999037,1.5299999999999034,1.5399999999999032,1.549999999999903,1.5599999999999028,1.5699999999999026,1.5799999999999024,1.5899999999999022,1.599999999999902,1.6099999999999017,1.6199999999999015,1.6299999999999013,1.639999999999901,1.6499999999999009,1.6599999999999007,1.6699999999999005,1.6799999999999002,1.6899999999999,1.6999999999998998,1.7099999999998996,1.7199999999998994,1.7299999999998992,1.739999999999899,1.7499999999998987,1.7599999999998985,1.7699999999998983,1.779999999999898,1.789999999999898,1.7999999999998977,1.8099999999998975,1.8199999999998973,1.829999999999897,1.8399999999998968,1.8499999999998966,1.8599999999998964,1.8699999999998962,1.879999999999896,1.8899999999998958,1.8999999999998956,1.9099999999998953,1.9199999999998951,1.929999999999895,1.9399999999998947,1.9499999999998945,1.9599999999998943,1.969999999999894,1.9799999999998938,1.9899999999998936,1.9999999999998934,2.009999999999893,2.019999999999893,2.029999999999893,2.0399999999998926,2.0499999999998924,2.059999999999892,2.069999999999892,2.0799999999998917,2.0899999999998915,2.0999999999998913,2.109999999999891,2.119999999999891,2.1299999999998906,2.1399999999998904,2.14999999999989,2.15999999999989,2.16999999999989,2.1799999999998896,2.1899999999998894,2.199999999999889,2.209999999999889,2.2199999999998887,2.2299999999998885,2.2399999999998883,2.249999999999888,2.259999999999888,2.2699999999998877,2.2799999999998875,2.2899999999998872,2.299999999999887,2.309999999999887,2.3199999999998866,2.3299999999998864,2.339999999999886,2.349999999999886,2.3599999999998857,2.3699999999998855,2.3799999999998853,2.389999999999885,2.399999999999885,2.4099999999998847,2.4199999999998845,2.4299999999998843,2.439999999999884,2.449999999999884,2.4599999999998836,2.4699999999998834,2.479999999999883,2.489999999999883,2.4999999999998828,2.5099999999998825,2.5199999999998823,2.529999999999882,2.539999999999882,2.5499999999998817,2.5599999999998815,2.5699999999998813,2.579999999999881,2.589999999999881,2.5999999999998806,2.6099999999998804,2.61999999999988,2.62999999999988,2.6399999999998798,2.6499999999998796,2.6599999999998793,2.669999999999879,2.679999999999879,2.6899999999998787,2.6999999999998785,2.7099999999998783,2.719999999999878,2.729999999999878,2.7399999999998776,2.7499999999998774,2.759999999999877,2.769999999999877,2.779999999999877,2.7899999999998766,2.7999999999998764,2.809999999999876,2.819999999999876,2.8299999999998757,2.8399999999998755,2.8499999999998753,2.859999999999875,2.869999999999875,2.8799999999998747,2.8899999999998744,2.8999999999998742,2.909999999999874,2.919999999999874,2.9299999999998736,2.9399999999998734,2.949999999999873,2.959999999999873,2.9699999999998727,2.9799999999998725,2.9899999999998723],\"y\":[0.0044318484119380075,0.004566589954670145,0.004704957526933971,0.0048470329059789406,0.0049928992136123625,0.005142640923053925,0.005296343865310997,0.005454095235056526,0.0056159835959909395,0.005782098885669447,0.0059525324197758165,0.006127376895823644,0.006306726396265877,0.006490676390993312,0.006679323739202561,0.0068727666906139104,0.007071104886019379,0.007274439357141146,0.0074828725257804814,0.007696508202237236,0.00791545158297987,0.00813980924754592,0.008369689154652919,0.008605200637499559,0.008846454398237101,0.00909356250159092,0.009346638367612146,0.009605796763539435,0.009871153794750977,0.010142826894786907,0.010420934814422415,0.010705597609771992,0.010996936629405377,0.01129507450045592,0.01160013511370234,0.011912243607604941,0.012231526351277727,0.012558110926377944,0.012892126107895035,0.013233701843821081,0.013582969233685318,0.013940060505935502,0.014305108994149364,0.014678249112059694,0.01505961632737709,0.015449347134394793,0.015847579025360423,0.01625445046060009,0.016670100837380627,0.0170946704574965,0.017528300493568072,0.017971132954039154,0.018423310646861542,0.018884977141855643,0.019356276731736413,0.019837354391794758,0.02032835573822524,0.020829426985091576,0.02134071489992214,0.021862366757928724,0.022394530294842212,0.02293735365835998,0.023490985358200628,0.024055574214762215,0.024631269306381712,0.025218219915193574,0.025816575471586833,0.026426485497260854,0.027048099546880876,0.027681567148335636,0.028327037741600208,0.028984660616208413,0.029654584847340237,0.030336959230530564,0.031031932215007142,0.03173965183566627,0.03246026564369628,0.033193920635859915,0.033940763182447944,0.03470093895391753,0.0354745928462301,0.03626186890490485,0.03706291024780507,0.03787785898667602,0.038706856147454116,0.03955004158936868,0.04040755392285873,0.04127953042632877,0.042166106961768646,0.04306741788926401,0.043983595980425415,0.04491477233076527,0.045861076271053035,0.046822635277681234,0.047799574882075056,0.04879201857918073,0.04980008773506869,0.05082390149368904,0.05186357668281837,0.052919227719238036,0.05399096651318576,0.05507890237212341,0.05618314190386563,0.057303788919114654,0.05844094433344893,0.05959470606881347,0.06076516895456211,0.06195242462810243,0.06315656143519587,0.0643776643299665,0.06561581477467368,0.06687109063930416,0.06814356610104151,0.06943331154367106,0.07074039345698019,0.07206487433621472,0.07340681258165355,0.0747662623983642,0.07614327369620383,0.07753789199013043,0.07895015830089053,0.08038010905615045,0.08182777599213903,0.08329318605587062,0.08477636130801829,0.0862773188265075,0.08779607061090154,0.08933262348765081,0.09088697901627861,0.09245913339657633,0.0940490773768825,0.0956567961635195,0.0972822693314629,0.09892547073631905,0.10058636842768579,0.10226492456397314,0.10396109532875927,0.10567483084875857,0.10740607511347873,0.10915476589664218,0.11092083467945028,0.11270420657576517,0.11450480025928693,0.11632252789280154,0.11815729505957663,0.12000900069697985,0.12187753703239594,0.1237627895215172,0.12566463678908213,0.12758295057213576,0.12951759566588553,0.13146842987222473,0.13343530395099593,0.13541806157406483,0.1374165392822752,0.1394305664453536,0.141459965224832,0.14350455054005556,0.14556413003734067,0.14763850406234869,0.14972746563573772,0.15183080043215444,0.15394828676262637,0.15607969556041343,0.15822479037037554,0.160383327341912,0.16255505522552643,0.16473971537306903,0.16693704174170593,0.16914676090166444,0.17136859204779928,0.17360224701502483,0.17584743029765415,0.17810383907268526,0.18037116322707192,0.1826490853890134,0.1849372809632967,0.18723541817072084,0.18954315809163147,0.19186015471359052,0.19418605498320402,0.1965204988621275,0.1988631193872668,0.2012135427351882,0.2035713882907502,0.20593626871996545,0.20830779004709893,0.2106855517360058,0.21306914677570832,0.21545816177021007,0.21785217703254084,0.2202507666830235,0.2226534987517513,0.22505993528525975,0.22746963245737595,0.229882140684223,0.2322970047433561,0.23471376389700166,0.23713195201936937,0.2395510977280031,0.24197072451913307,0.2443903509069892,0.24680949056703233,0.24922765248305545,0.2516443410981066,0.2540590564691785,0.2564712944256098,0.25888054673113825,0.2612863012495425,0.2636880421138075,0.2660852498987441,0.26847740179699164,0.2708639717983273,0.27324443087220546,0.2756182471534459,0.27798488613098565,0.28034381083960974,0.2826944820545694,0.28503635848899633,0.28736889699401746,0.2896915527614719,0.2920037795291306,0.2943050297883143,0.2965947549938049,0.29887240577594193,0.3011374321547936,0.3033892837562894,0.3056274100301991,0.3078512604698422,0.3100602848334054,0.31225393336675056,0.31443165702758663,0.31659290771088217,0.3187371384753909,0.32086380377116197,0.32297235966790383,0.3250622640840717,0.3271329770165441,0.32918396077075446,0.33121468019114264,0.33322460289178946,0.335213199487096,0.3371799438223705,0.3391243132041822,0.34104578863034263,0.3429438550193741,0.3448180014393236,0.34666772133578194,0.3484925127589649,0.35029187858971633,0.35206532676429014,0.3538123704977704,0.355532528505988,0.35722532522579176,0.3588902910335357,0.3605269624616392,0.36213488241308356,0.36371360037370487,0.36526267262214546,0.36678166243732785,0.3682701403033152,0.36972768411142437,0.37115387935945815,0.3725483193479257,0.3739106053731209,0.3752403469169305,0.3765371618332467,0.3778006765308575,0.3790305261526948,0.38022635475131816,0.38138781546051753,0.38251457066291766,0.3836062921534723,0.3846626612987368,0.38568336919181023,0.3866681168028436,0.38761661512500867,0.3885285853158306,0.3894037588337854,0.39024187757006945,0.39104269397545127,0.39180597118211663,0.3925314831204247,0.3932190146304932,0.39386836156853705,0.39447933090788534,0.39505174083460787,0.3955854208376843,0.3960802117936532,0.39653596604568314,0.39695254747700937,0.3973298315786861,0.39766770551160696,0.3979660681627493,0.39822483019560545,0.39844391409476276,0.39862325420460404,0.39876279676209897,0.3988624999236656,0.39892233378608194,0.3989422804014327,0.39892233378608244,0.3988624999236666,0.39876279676210047,0.39862325420460604,0.3984439140947654,0.3982248301956085,0.3979660681627529,0.397667705511611,0.3973298315786907,0.3969525474770144,0.3965359660456887,0.39608021179365926,0.3955854208376909,0.395051740834615,0.3944793309078929,0.3938683615685451,0.39321901463050174,0.3925314831204337,0.3918059711821262,0.39104269397546126,0.3902418775700799,0.38940375883379635,0.38852858531584206,0.3876166151250206,0.38666811680285595,0.38568336919182306,0.38466266129875004,0.3836062921534861,0.3825145706629319,0.3813878154605322,0.38022635475133326,0.37903052615271027,0.37780067653087346,0.3765371618332631,0.3752403469169473,0.373910605373138,0.37254831934794336,0.3711538793594762,0.3697276841114428,0.368270140303334,0.36678166243734706,0.3652626726221651,0.36371360037372485,0.36213488241310393,0.3605269624616599,0.3588902910335568,0.35722532522581324,0.35553252850600975,0.3538123704977926,0.3520653267643126,0.3502918785897392,0.3484925127589881,0.3466677213358055,0.34481800143934743,0.3429438550193982,0.34104578863036705,0.33912431320420694,0.3371799438223955,0.33521319948712125,0.33322460289181505,0.3312146801911685,0.32918396077078055,0.32713297701657046,0.3250622640840983,0.32297235966793064,0.32086380377118906,0.3187371384754183,0.3165929077109097,0.3144316570276144,0.31225393336677854,0.31006028483343356,0.3078512604698705,0.3056274100302277,0.3033892837563181,0.3011374321548225,0.29887240577597096,0.29659475499383414,0.29430502978834366,0.2920037795291601,0.28969155276150155,0.2873688969940472,0.28503635848902625,0.2826944820545994,0.2803438108396399,0.2779848861310159,0.2756182471534762,0.2732444308722359,0.27086397179835775,0.2684774017970222,0.26608524989877474,0.2636880421138382,0.26128630124957325,0.258880546731169,0.2564712944256406,0.25405905646920934,0.25164434109813755,0.24922765248308637,0.24680949056706325,0.2443903509070202,0.24197072451916402,0.23955109772803404,0.23713195201940035,0.23471376389703258,0.23229700474338702,0.2298821406842539,0.22746963245740676,0.22505993528529053,0.22265349875178206,0.22025076668305427,0.2178521770325715,0.21545816177024069,0.21306914677573885,0.2106855517360363,0.20830779004712932,0.2059362687199957,0.2035713882907804,0.20121354273521833,0.1988631193872968,0.19652049886215742,0.19418605498323382,0.19186015471362022,0.18954315809166103,0.18723541817075032,0.18493728096332604,0.18264908538904262,0.18037116322710098,0.17810383907271418,0.1758474302976829,0.17360224701505347,0.17136859204782778,0.16914676090169278,0.16693704174173413,0.16473971537309706,0.1625550552255543,0.1603833273419397,0.15822479037040305,0.1560796955604408,0.15394828676265354,0.15183080043218142,0.14972746563576456,0.1476385040623753,0.14556413003736707,0.1435045505400818,0.1414599652248581,0.13943056644537946,0.13741653928230083,0.13541806157409025,0.13343530395102116,0.1314684298722498,0.12951759566591037,0.1275829505721604,0.12566463678910658,0.1237627895215414,0.12187753703241994,0.12000900069700365,0.1181572950596002,0.11632252789282488,0.11450480025931005,0.1127042065757881,0.11092083467947297,0.10915476589666463,0.10740607511350098,0.10567483084878061,0.10396109532878109,0.10226492456399473,0.10058636842770714,0.09892547073634017,0.0972822693314838,0.09565679616354016,0.09404907737690293,0.09245913339659655,0.09088697901629861,0.08933262348767058,0.08779607061092108,0.08627731882652681,0.08477636130803737,0.08329318605588946,0.08182777599215765,0.08038010905616885,0.07895015830090871,0.07753789199014839,0.07614327369622156,0.07476626239838172,0.07340681258167082,0.07206487433623178,0.07074039345699702,0.06943331154368768,0.0681435661010579,0.06687109063932033,0.06561581477468961,0.06437766432998222,0.06315656143521137,0.06195242462811773,0.0607651689545772,0.059594706068828336,0.05844094433346358,0.057303788919129094,0.056183141903879845,0.05507890237213744,0.05399096651319957,0.052919227719251644,0.051863576682831786,0.05082390149370225,0.049800087735081676,0.04879201857919354,0.04779957488208765,0.04682263527769362,0.04586107627106524,0.04491477233077727,0.04398359598043724,0.04306741788927563,0.04216610696178009,0.04127953042634003,0.04040755392286978,0.03955004158937955,0.0387068561474648,0.03787785898668653,0.03706291024781541,0.036261868904915014,0.03547459284624009,0.03470093895392734,0.033940763182457576,0.03319392063586938,0.03246026564370558,0.03173965183567541,0.031031932215016118,0.030336959230539372,0.02965458484734888,0.028984660616216906,0.028327037741608534,0.027681567148343814,0.027048099546888898,0.026426485497268733,0.025816575471594563,0.025218219915201148,0.024631269306389147,0.0240555742147695,0.02349098535820777,0.022937353658367,0.02239453029484909,0.021862366757935466,0.021340714899928746,0.020829426985098053,0.02032835573823159,0.019837354391800968,0.0193562767317425,0.018884977141861613,0.01842331064686739,0.017971132954044875,0.017528300493573675,0.01709467045750198,0.016670100837386004,0.01625445046060535,0.01584757902536557,0.015449347134399834,0.015059616327382026,0.014678249112064517,0.014305108994154088,0.013940060505940122,0.013582969233689835,0.0132337018438255,0.01289212610789936,0.01255811092638217,0.012231526351281856,0.011912243607608983,0.011600135113706287,0.011295074500459776,0.010996936629409147,0.010705597609775677,0.010420934814426016,0.010142826894790425,0.00987115379475441,0.009605796763542786,0.009346638367615422,0.009093562501594118,0.008846454398240224,0.008605200637502605,0.008369689154655895,0.008139809247548827,0.007915451582982702,0.007696508202240001,0.007482872525783179,0.007274439357143776,0.0070711048860219484,0.006872766690616413,0.006679323739205005,0.006490676390995698,0.006306726396268203,0.006127376895825914,0.005952532419778027,0.005782098885671599,0.005615983595993034,0.005454095235058571,0.005296343865312991,0.0051426409230558665,0.0049928992136142525,0.004847032905980783,0.0047049575269357685,0.004566589954671889],\"type\":\"scatter\"},{\"fill\":\"tozeroy\",\"fillcolor\":\"rgba(255, 94, 94, 0.5)\",\"mode\":\"none\",\"name\":\"critical area\",\"x\":[1.6400000000000001,1.6500000000000001,1.6600000000000001,1.6700000000000002,1.6800000000000002,1.6900000000000002,1.7000000000000002,1.7100000000000002,1.7200000000000002,1.7300000000000002,1.7400000000000002,1.7500000000000002,1.7600000000000002,1.7700000000000002,1.7800000000000002,1.7900000000000003,1.8000000000000003,1.8100000000000003,1.8200000000000003,1.8300000000000003,1.8400000000000003,1.8500000000000003,1.8600000000000003,1.8700000000000003,1.8800000000000003,1.8900000000000003,1.9000000000000004,1.9100000000000004,1.9200000000000004,1.9300000000000004,1.9400000000000004,1.9500000000000004,1.9600000000000004,1.9700000000000004,1.9800000000000004,1.9900000000000004,2.0000000000000004,2.0100000000000007,2.0200000000000005,2.0300000000000002,2.0400000000000005,2.0500000000000007,2.0600000000000005,2.0700000000000003,2.0800000000000005,2.0900000000000007,2.1000000000000005,2.1100000000000003,2.1200000000000006,2.130000000000001,2.1400000000000006,2.1500000000000004,2.1600000000000006,2.170000000000001,2.1800000000000006,2.1900000000000004,2.2000000000000006,2.210000000000001,2.2200000000000006,2.2300000000000004,2.2400000000000007,2.250000000000001,2.2600000000000007,2.2700000000000005,2.2800000000000007,2.290000000000001,2.3000000000000007,2.3100000000000005,2.3200000000000007,2.330000000000001,2.3400000000000007,2.3500000000000005,2.3600000000000008,2.370000000000001,2.380000000000001,2.3900000000000006,2.400000000000001,2.410000000000001,2.420000000000001,2.4300000000000006,2.440000000000001,2.450000000000001,2.460000000000001,2.4700000000000006,2.480000000000001,2.490000000000001,2.500000000000001,2.5100000000000007,2.520000000000001,2.530000000000001,2.540000000000001,2.5500000000000007,2.560000000000001,2.570000000000001,2.580000000000001,2.5900000000000007,2.600000000000001,2.610000000000001,2.620000000000001,2.630000000000001,2.640000000000001,2.6500000000000012,2.660000000000001,2.670000000000001,2.680000000000001,2.6900000000000013,2.700000000000001,2.710000000000001,2.720000000000001,2.7300000000000013,2.740000000000001,2.750000000000001,2.760000000000001,2.7700000000000014,2.780000000000001,2.790000000000001,2.800000000000001,2.8100000000000014,2.820000000000001,2.830000000000001,2.840000000000001,2.8500000000000014,2.860000000000001,2.870000000000001,2.8800000000000012,2.8900000000000015,2.9000000000000012,2.910000000000001,2.9200000000000013,2.9300000000000015,2.9400000000000013,2.950000000000001,2.9600000000000013,2.9700000000000015,2.9800000000000013,2.990000000000001],\"y\":[0.1039610953287642,0.102264924563978,0.10058636842769056,0.0989254707363237,0.09728226933146747,0.09565679616352397,0.0940490773768869,0.09245913339658064,0.09088697901628283,0.08933262348765497,0.0877960706109056,0.08627731882651149,0.0847763613080222,0.08329318605587445,0.08182777599214276,0.08038010905615413,0.07895015830089412,0.07753789199013396,0.07614327369620728,0.07476626239836759,0.07340681258165686,0.07206487433621796,0.07074039345698334,0.06943331154367416,0.06814356610104454,0.06687109063930712,0.06561581477467655,0.06437766432996932,0.06315656143519861,0.06195242462810511,0.060765168954564734,0.059594706068816033,0.05844094433345142,0.057303788919117075,0.05618314190386799,0.055078902372125725,0.05399096651318801,0.052919227719240215,0.05186357668282051,0.05082390149369116,0.049800087735070726,0.04879201857918268,0.047799574882076964,0.04682263527768313,0.045861076271054846,0.044914772330767024,0.043983595980427156,0.0430674178892657,0.042166106961770276,0.04127953042633033,0.04040755392286025,0.03955004158937019,0.03870685614745557,0.037877858986677414,0.03706291024780644,0.036261868904906194,0.03547459284623139,0.034700938953918764,0.03394076318244915,0.033193920635861095,0.03246026564369742,0.03173965183566735,0.031031932215008207,0.0303369592305316,0.02965458484734123,0.028984660616209364,0.02832703774160112,0.027681567148336535,0.02704809954688174,0.02642648549726168,0.02581657547158764,0.02521821991519436,0.02463126930638245,0.02405557421476292,0.02349098535820131,0.022937353658360665,0.02239453029484285,0.021862366757929335,0.021340714899922737,0.02082942698509216,0.020328355738225792,0.019837354391795278,0.019356276731736923,0.018884977141856146,0.018423310646862007,0.01797113295403959,0.017528300493568502,0.017094670457496918,0.016670100837381022,0.016254450460600457,0.015847579025360783,0.015449347134395141,0.015059616327377416,0.014678249112059992,0.014305108994149657,0.013940060505935792,0.013582969233685583,0.013233701843821328,0.012892126107895276,0.012558110926378178,0.012231526351277944,0.011912243607605143,0.011600135113702531,0.011295074500456111,0.010996936629405547,0.010705597609772148,0.010420934814422567,0.010142826894787054,0.00987115379475111,0.009605796763539553,0.00934663836761226,0.00909356250159103,0.008846454398237197,0.008605200637499642,0.008369689154653005,0.008139809247546004,0.007915451582979939,0.007696508202237294,0.0074828725257805335,0.007274439357141199,0.007071104886019424,0.006872766690613948,0.0066793237392025915,0.006490676390993347,0.006306726396265905,0.00612737689582366,0.005952532419775833,0.005782098885669457,0.005615983595990944,0.005454095235056526,0.005296343865310997,0.005142640923053925,0.004992899213612354,0.0048470329059789275,0.004704957526933963,0.004566589954670133],\"type\":\"scatter\"},{\"fill\":\"tozeroy\",\"fillcolor\":\"rgba(109, 141, 255, 0.5)\",\"mode\":\"none\",\"name\":\"p-value\",\"x\":[-0.4059017928203546,-0.3959017928203546,-0.3859017928203546,-0.3759017928203546,-0.36590179282035457,-0.35590179282035456,-0.34590179282035455,-0.33590179282035454,-0.32590179282035453,-0.3159017928203545,-0.3059017928203545,-0.2959017928203545,-0.2859017928203545,-0.2759017928203545,-0.2659017928203545,-0.25590179282035447,-0.24590179282035446,-0.23590179282035445,-0.22590179282035444,-0.21590179282035443,-0.20590179282035442,-0.19590179282035441,-0.1859017928203544,-0.1759017928203544,-0.1659017928203544,-0.15590179282035438,-0.14590179282035437,-0.13590179282035436,-0.12590179282035435,-0.11590179282035434,-0.10590179282035433,-0.09590179282035433,-0.08590179282035432,-0.07590179282035431,-0.0659017928203543,-0.05590179282035429,-0.04590179282035428,-0.03590179282035427,-0.025901792820354264,-0.015901792820354255,-0.005901792820354246,0.004098207179645763,0.014098207179645772,0.02409820717964578,0.03409820717964579,0.0440982071796458,0.05409820717964581,0.06409820717964582,0.07409820717964583,0.08409820717964583,0.09409820717964584,0.10409820717964585,0.11409820717964586,0.12409820717964587,0.13409820717964588,0.1440982071796459,0.1540982071796459,0.1640982071796459,0.17409820717964591,0.18409820717964592,0.19409820717964593,0.20409820717964594,0.21409820717964595,0.22409820717964596,0.23409820717964597,0.24409820717964598,0.254098207179646,0.264098207179646,0.274098207179646,0.284098207179646,0.294098207179646,0.30409820717964603,0.31409820717964604,0.32409820717964605,0.33409820717964606,0.34409820717964607,0.3540982071796461,0.3640982071796461,0.3740982071796461,0.3840982071796461,0.3940982071796461,0.4040982071796461,0.4140982071796461,0.42409820717964614,0.43409820717964615,0.44409820717964615,0.45409820717964616,0.46409820717964617,0.4740982071796462,0.4840982071796462,0.4940982071796462,0.5040982071796463,0.5140982071796463,0.5240982071796463,0.5340982071796463,0.5440982071796463,0.5540982071796463,0.5640982071796463,0.5740982071796463,0.5840982071796463,0.5940982071796463,0.6040982071796464,0.6140982071796464,0.6240982071796464,0.6340982071796464,0.6440982071796464,0.6540982071796464,0.6640982071796464,0.6740982071796464,0.6840982071796464,0.6940982071796464,0.7040982071796464,0.7140982071796464,0.7240982071796465,0.7340982071796465,0.7440982071796465,0.7540982071796465,0.7640982071796465,0.7740982071796465,0.7840982071796465,0.7940982071796465,0.8040982071796465,0.8140982071796465,0.8240982071796465,0.8340982071796466,0.8440982071796466,0.8540982071796466,0.8640982071796466,0.8740982071796466,0.8840982071796466,0.8940982071796466,0.9040982071796466,0.9140982071796466,0.9240982071796466,0.9340982071796466,0.9440982071796467,0.9540982071796467,0.9640982071796467,0.9740982071796467,0.9840982071796467,0.9940982071796467,1.0040982071796467,1.0140982071796467,1.0240982071796467,1.0340982071796467,1.0440982071796467,1.0540982071796468,1.0640982071796468,1.0740982071796468,1.0840982071796468,1.0940982071796468,1.1040982071796468,1.1140982071796468,1.1240982071796468,1.1340982071796468,1.1440982071796468,1.1540982071796468,1.1640982071796468,1.1740982071796469,1.1840982071796469,1.1940982071796469,1.2040982071796469,1.214098207179647,1.224098207179647,1.234098207179647,1.244098207179647,1.254098207179647,1.264098207179647,1.274098207179647,1.284098207179647,1.294098207179647,1.304098207179647,1.314098207179647,1.324098207179647,1.334098207179647,1.344098207179647,1.354098207179647,1.364098207179647,1.374098207179647,1.384098207179647,1.394098207179647,1.404098207179647,1.414098207179647,1.424098207179647,1.434098207179647,1.444098207179647,1.454098207179647,1.4640982071796471,1.4740982071796471,1.4840982071796471,1.4940982071796471,1.5040982071796472,1.5140982071796472,1.5240982071796472,1.5340982071796472,1.5440982071796472,1.5540982071796472,1.5640982071796472,1.5740982071796472,1.5840982071796472,1.5940982071796472,1.604098207179647,1.6140982071796472,1.6240982071796475,1.6340982071796473,1.644098207179647,1.6540982071796473,1.6640982071796475,1.6740982071796473,1.684098207179647,1.6940982071796473,1.7040982071796476,1.7140982071796473,1.7240982071796471,1.7340982071796474,1.7440982071796476,1.7540982071796474,1.7640982071796472,1.7740982071796474,1.7840982071796476,1.7940982071796474,1.8040982071796472,1.8140982071796474,1.8240982071796477,1.8340982071796474,1.8440982071796472,1.8540982071796475,1.8640982071796477,1.8740982071796475,1.8840982071796473,1.8940982071796475,1.9040982071796477,1.9140982071796475,1.9240982071796473,1.9340982071796475,1.9440982071796478,1.9540982071796476,1.9640982071796473,1.9740982071796476,1.9840982071796478,1.9940982071796476,2.004098207179647,2.0140982071796474,2.0240982071796476,2.0340982071796474,2.044098207179647,2.0540982071796474,2.0640982071796476,2.0740982071796474,2.084098207179647,2.0940982071796475,2.1040982071796477,2.1140982071796475,2.1240982071796473,2.1340982071796475,2.1440982071796477,2.1540982071796475,2.1640982071796473,2.1740982071796475,2.1840982071796478,2.1940982071796475,2.2040982071796473,2.2140982071796476,2.224098207179648,2.2340982071796476,2.2440982071796474,2.2540982071796476,2.264098207179648,2.2740982071796476,2.2840982071796474,2.2940982071796476,2.304098207179648,2.3140982071796476,2.3240982071796474,2.3340982071796477,2.344098207179648,2.3540982071796477,2.3640982071796475,2.3740982071796477,2.384098207179648,2.3940982071796477,2.4040982071796475,2.4140982071796477,2.424098207179648,2.4340982071796478,2.4440982071796475,2.4540982071796478,2.464098207179648,2.474098207179648,2.4840982071796476,2.494098207179648,2.504098207179648,2.514098207179648,2.5240982071796476,2.534098207179648,2.544098207179648,2.554098207179648,2.5640982071796476,2.574098207179648,2.584098207179648,2.594098207179648,2.6040982071796477,2.614098207179648,2.624098207179648,2.634098207179648,2.6440982071796477,2.654098207179648,2.664098207179648,2.674098207179648,2.6840982071796478,2.694098207179648,2.704098207179648,2.714098207179648,2.724098207179648,2.734098207179648,2.7440982071796483,2.754098207179648,2.764098207179648,2.774098207179648,2.7840982071796483,2.794098207179648,2.804098207179648,2.814098207179648,2.8240982071796483,2.834098207179648,2.844098207179648,2.854098207179648,2.8640982071796484,2.874098207179648,2.884098207179648,2.894098207179648,2.9040982071796484,2.914098207179648,2.924098207179648,2.934098207179648,2.9440982071796484,2.954098207179648,2.964098207179648,2.9740982071796482,2.9840982071796485,2.9940982071796483],\"y\":[0.36739538559117485,0.3688712366587602,0.3703159828657766,0.37172921288418365,0.3731105232681619,0.3744595186458668,0.3757758119078602,0.3770590243920943,0.3783087860653244,0.37952473570082845,0.38070652105231434,0.38185379902389815,0.38296623583603756,0.38404350718730923,0.38508529841191946,0.3860913046328421,0.3870612309104783,0.3879947923867375,0.38889171442444104,0.38975173274195185,0.3905745935429398,0.3913600536411916,0.39210788058038054,0.39281785274871284,0.393489759488372,0.39412340119968514,0.3947185894399389,0.3952751470167777,0.39579290807611733,0.39627171818451584,0.39671143440594087,0.39711192537288376,0.39747307135176757,0.3977947643026057,0.3980769079328682,0.3983194177455193,0.39852222108119145,0.3986852571544667,0.398808477084241,0.3988918439181491,0.39893533265103304,0.3989389302374421,0.39890263559815464,0.39882645962071755,0.3987104251540034,0.3985545669967879,0.3983589318803573,0.39812357844515633,0.39784857721149414,0.3975340105443279,0.3971799726121498,0.3967865693400044,0.3963539183566712,0.3958821489360478,0.39537140193277504,0.3948218297121493,0.3942335960743702,0.39360687617317686,0.39294185642892887,0.3922387344361934,0.3914977188659007,0.39071902936213787,0.38990289643365117,0.38904956134013174,0.3881592759733641,0.38723230273331893,0.38626891439927524,0.38526939399606097,0.38423403465550354,0.38316313947318525,0.3820570213606021,0.38091600289282557,0.3797404161517732,0.37853060256519244,0.3772869127414687,0.376009706300368,0.37469935169983026,0.3733562260589279,0.37198071497711066,0.37057321234985663,0.36913412018085306,0.3676638483908329,0.36616281462319256,0.36463144404652187,0.36307016915417506,0.36147942956101553,0.35985967179746836,0.35821134910101404,0.35653492120526115,0.35483085412673393,0.3530996199495128,0.3513416966078675,0.34955756766702223,0.3477477221021927,0.34591265407603633,0.34405286271465724,0.3421688518823062,0.3402611299549189,0.3383302095926331,0.3363766075114267,0.3344008442540186,0.33240344396017285,0.330384934136548,0.32834584542623035,0.32628671137809295,0.3242080682161176,0.32211045460881876,0.31999441143890683,0.31786048157332636,0.3157092096338051,0.31354114176804715,0.3113568254217027,0.3091568091112456,0.3069416421978893,0.30471187466266625,0.30246805688280104,0.300210739409498,0.2979404727472678,0.2956578071349137,0.29336329232829444,0.29105747738498206,0.2887409104509275,0.28641413854924636,0.28407770737123456,0.2817321610697205,0.27937804205485883,0.27701589079246797,0.2746462456050101,0.2722696424753118,0.26988661485311793,0.267497693464571,0.2651034061247046,0.2627042775530358,0.26030082919233966,0.25789357903068594,0.25548304142681394,0.25306972693892005,0.25065414215692833,0.24823678953831133,0.24581816724752656,0.2433987689991289,0.2409790839046184,0.23855959632307705,0.23614078571564787,0.23372312650390373,0.23130708793215232,0.22889313393371907,0.2264817230012473,0.22407330806105102,0.22166833635155417,0.2192672493058443,0.21687048243836846,0.2144784652357934,0.21209162105205062,0.20971036700758305,0.20733511389280707,0.20496626607580057,0.20260422141422493,0.2002493711714848,0.1979020999371283,0.19556278555148515,0.1932317990345396,0.19090950451902974,0.1885962591877642,0.18629241321514242,0.18399830971286366,0.1817142846798059,0.17944066695605365,0.17717777818105096,0.17492593275585366,0.17268543780945167,0.17045659316913028,0.16823969133483688,0.16603501745751684,0.16384284932138055,0.1616634573300607,0.15949710449661741,0.15734404643734623,0.1552045313693419,0.15307880011176941,0.15096708609079146,0.14886961534809914,0.14678660655299233,0.14471827101795273,0.14266481271765238,0.1406264283113379,0.13860330716852992,0.13659563139797473,0.13460357587978528,0.13262730830070565,0.13066698919243347,0.12872277197293233,0.1267948029906661,0.12488322157168508,0.12298816006949462,0.12110974391763318,0.1192480916848891,0.11740331513308272,0.11557551927733993,0.11376480244878351,0.111971256359567,0.11019496617017663,0.1084360105589247,0.10669446179355968,0.1049703858049161,0.10326384226252736,0.10157488465212651,0.09990356035495702,0.09824991072881716,0.09661397119076165,0.09499577130138423,0.09339533485060471,0.091812679944884,0.09024781909579183,0.08870075930985159,0.08717150217958736,0.08566004397569776,0.08416637574028334,0.08269048338105335,0.08123234776643964,0.0797919448215439,0.07836924562484796,0.07696421650561558,0.07557681914191569,0.07420701065919753,0.07285474372934926,0.07151996667017256,0.07020262354520676,0.06890265426383609,0.0676199946816158,0.06635457670075372,0.06510632837068438,0.06387517398867402,0.06266103420039618,0.06146382610041924,0.06028346333254716,0.05911985618995679,0.05797291171507611,0.05684253379914934,0.05572862328143547,0.054631078047988446,0.05354979312996849,0.05248466080143533,0.05143557067657597,0.05040240980631939,0.04938506277429368,0.048383411792081915,0.04739733679373395,0.04642671552949283,0.045471423658696636,0.04453133484181692,0.04360632083159722,0.042696251563255606,0.04180099524371708,0.040920418439843585,0.040054386165629494,0.039202761968332785,0.03836540801351316,0.037542185168949756,0.03673295308741277,0.035937570288263644,0.035155894237861106,0.034387781428751006,0.03363308745761922,0.03289166710198806,0.03216337439563841,0.03144806270274079,0.03074558479067976,0.030055792901557278,0.02937853882236205,0.028713673953793224,0.02806104937772761,0.027420515923320878,0.026791924231734616,0.02617512481948209,0.02556996814038667,0.024976304646147716,0.02439398484551045,0.023822859362036743,0.023262778990475234,0.022713594751729797,0.022175157946426653,0.02164732020708146,0.021129933548868426,0.020622850418994313,0.020125923744681463,0.01963900697976464,0.019161954149907352,0.01869461989644391,0.01823685951885469,0.017788529015882643,0.01734948512529971,0.016919585362332665,0.016498688056758554,0.016086652388680716,0.0156833384229967,0.015288607142570356,0.014902320480120584,0.014524341348840362,0.014154533671759598,0.013792762409866204,0.013438893589000257,0.013092794325536667,0.012754332850871894,0.01242337853473108,0.012099801907311945,0.011783474680282726,0.011474269766651229,0.011172061299522602,0.01087672464976395,0.010588136442593868,0.010306174573115523,0.010030718220811863,0.009761647863021953,0.00949884528741771,0.009242193603500266,0.008991577253135381,0.0087468820201477,0.008507995038993495,0.008274804802531815,0.008047201168913916,0.007825075367610963,0.0076083200046001866,0.007396829066729415,0.007190497925280174,0.00698922333874935,0.006792903454869651,0.00660143781188875,0.00641472733912718,0.006232674356834838,0.006055182575366088,0.005882157093693086,0.005713504397277059,0.005549132355317001,0.0053889502173953534,0.005232868609539791,0.005080799529720313,0.004932656342800549,0.004788353774962171,0.004647807907620921,0.004510936170852707],\"type\":\"scatter\"}],                        {\"template\":{\"data\":{\"histogram2dcontour\":[{\"type\":\"histogram2dcontour\",\"colorbar\":{\"outlinewidth\":0,\"ticks\":\"\"},\"colorscale\":[[0.0,\"#0d0887\"],[0.1111111111111111,\"#46039f\"],[0.2222222222222222,\"#7201a8\"],[0.3333333333333333,\"#9c179e\"],[0.4444444444444444,\"#bd3786\"],[0.5555555555555556,\"#d8576b\"],[0.6666666666666666,\"#ed7953\"],[0.7777777777777778,\"#fb9f3a\"],[0.8888888888888888,\"#fdca26\"],[1.0,\"#f0f921\"]]}],\"choropleth\":[{\"type\":\"choropleth\",\"colorbar\":{\"outlinewidth\":0,\"ticks\":\"\"}}],\"histogram2d\":[{\"type\":\"histogram2d\",\"colorbar\":{\"outlinewidth\":0,\"ticks\":\"\"},\"colorscale\":[[0.0,\"#0d0887\"],[0.1111111111111111,\"#46039f\"],[0.2222222222222222,\"#7201a8\"],[0.3333333333333333,\"#9c179e\"],[0.4444444444444444,\"#bd3786\"],[0.5555555555555556,\"#d8576b\"],[0.6666666666666666,\"#ed7953\"],[0.7777777777777778,\"#fb9f3a\"],[0.8888888888888888,\"#fdca26\"],[1.0,\"#f0f921\"]]}],\"heatmap\":[{\"type\":\"heatmap\",\"colorbar\":{\"outlinewidth\":0,\"ticks\":\"\"},\"colorscale\":[[0.0,\"#0d0887\"],[0.1111111111111111,\"#46039f\"],[0.2222222222222222,\"#7201a8\"],[0.3333333333333333,\"#9c179e\"],[0.4444444444444444,\"#bd3786\"],[0.5555555555555556,\"#d8576b\"],[0.6666666666666666,\"#ed7953\"],[0.7777777777777778,\"#fb9f3a\"],[0.8888888888888888,\"#fdca26\"],[1.0,\"#f0f921\"]]}],\"heatmapgl\":[{\"type\":\"heatmapgl\",\"colorbar\":{\"outlinewidth\":0,\"ticks\":\"\"},\"colorscale\":[[0.0,\"#0d0887\"],[0.1111111111111111,\"#46039f\"],[0.2222222222222222,\"#7201a8\"],[0.3333333333333333,\"#9c179e\"],[0.4444444444444444,\"#bd3786\"],[0.5555555555555556,\"#d8576b\"],[0.6666666666666666,\"#ed7953\"],[0.7777777777777778,\"#fb9f3a\"],[0.8888888888888888,\"#fdca26\"],[1.0,\"#f0f921\"]]}],\"contourcarpet\":[{\"type\":\"contourcarpet\",\"colorbar\":{\"outlinewidth\":0,\"ticks\":\"\"}}],\"contour\":[{\"type\":\"contour\",\"colorbar\":{\"outlinewidth\":0,\"ticks\":\"\"},\"colorscale\":[[0.0,\"#0d0887\"],[0.1111111111111111,\"#46039f\"],[0.2222222222222222,\"#7201a8\"],[0.3333333333333333,\"#9c179e\"],[0.4444444444444444,\"#bd3786\"],[0.5555555555555556,\"#d8576b\"],[0.6666666666666666,\"#ed7953\"],[0.7777777777777778,\"#fb9f3a\"],[0.8888888888888888,\"#fdca26\"],[1.0,\"#f0f921\"]]}],\"surface\":[{\"type\":\"surface\",\"colorbar\":{\"outlinewidth\":0,\"ticks\":\"\"},\"colorscale\":[[0.0,\"#0d0887\"],[0.1111111111111111,\"#46039f\"],[0.2222222222222222,\"#7201a8\"],[0.3333333333333333,\"#9c179e\"],[0.4444444444444444,\"#bd3786\"],[0.5555555555555556,\"#d8576b\"],[0.6666666666666666,\"#ed7953\"],[0.7777777777777778,\"#fb9f3a\"],[0.8888888888888888,\"#fdca26\"],[1.0,\"#f0f921\"]]}],\"mesh3d\":[{\"type\":\"mesh3d\",\"colorbar\":{\"outlinewidth\":0,\"ticks\":\"\"}}],\"scatter\":[{\"marker\":{\"line\":{\"color\":\"#283442\"}},\"type\":\"scatter\"}],\"parcoords\":[{\"type\":\"parcoords\",\"line\":{\"colorbar\":{\"outlinewidth\":0,\"ticks\":\"\"}}}],\"scatterpolargl\":[{\"type\":\"scatterpolargl\",\"marker\":{\"colorbar\":{\"outlinewidth\":0,\"ticks\":\"\"}}}],\"bar\":[{\"error_x\":{\"color\":\"#f2f5fa\"},\"error_y\":{\"color\":\"#f2f5fa\"},\"marker\":{\"line\":{\"color\":\"rgb(17,17,17)\",\"width\":0.5},\"pattern\":{\"fillmode\":\"overlay\",\"size\":10,\"solidity\":0.2}},\"type\":\"bar\"}],\"scattergeo\":[{\"type\":\"scattergeo\",\"marker\":{\"colorbar\":{\"outlinewidth\":0,\"ticks\":\"\"}}}],\"scatterpolar\":[{\"type\":\"scatterpolar\",\"marker\":{\"colorbar\":{\"outlinewidth\":0,\"ticks\":\"\"}}}],\"histogram\":[{\"marker\":{\"pattern\":{\"fillmode\":\"overlay\",\"size\":10,\"solidity\":0.2}},\"type\":\"histogram\"}],\"scattergl\":[{\"marker\":{\"line\":{\"color\":\"#283442\"}},\"type\":\"scattergl\"}],\"scatter3d\":[{\"type\":\"scatter3d\",\"line\":{\"colorbar\":{\"outlinewidth\":0,\"ticks\":\"\"}},\"marker\":{\"colorbar\":{\"outlinewidth\":0,\"ticks\":\"\"}}}],\"scattermapbox\":[{\"type\":\"scattermapbox\",\"marker\":{\"colorbar\":{\"outlinewidth\":0,\"ticks\":\"\"}}}],\"scatterternary\":[{\"type\":\"scatterternary\",\"marker\":{\"colorbar\":{\"outlinewidth\":0,\"ticks\":\"\"}}}],\"scattercarpet\":[{\"type\":\"scattercarpet\",\"marker\":{\"colorbar\":{\"outlinewidth\":0,\"ticks\":\"\"}}}],\"carpet\":[{\"aaxis\":{\"endlinecolor\":\"#A2B1C6\",\"gridcolor\":\"#506784\",\"linecolor\":\"#506784\",\"minorgridcolor\":\"#506784\",\"startlinecolor\":\"#A2B1C6\"},\"baxis\":{\"endlinecolor\":\"#A2B1C6\",\"gridcolor\":\"#506784\",\"linecolor\":\"#506784\",\"minorgridcolor\":\"#506784\",\"startlinecolor\":\"#A2B1C6\"},\"type\":\"carpet\"}],\"table\":[{\"cells\":{\"fill\":{\"color\":\"#506784\"},\"line\":{\"color\":\"rgb(17,17,17)\"}},\"header\":{\"fill\":{\"color\":\"#2a3f5f\"},\"line\":{\"color\":\"rgb(17,17,17)\"}},\"type\":\"table\"}],\"barpolar\":[{\"marker\":{\"line\":{\"color\":\"rgb(17,17,17)\",\"width\":0.5},\"pattern\":{\"fillmode\":\"overlay\",\"size\":10,\"solidity\":0.2}},\"type\":\"barpolar\"}],\"pie\":[{\"automargin\":true,\"type\":\"pie\"}]},\"layout\":{\"autotypenumbers\":\"strict\",\"colorway\":[\"#636efa\",\"#EF553B\",\"#00cc96\",\"#ab63fa\",\"#FFA15A\",\"#19d3f3\",\"#FF6692\",\"#B6E880\",\"#FF97FF\",\"#FECB52\"],\"font\":{\"color\":\"#f2f5fa\"},\"hovermode\":\"closest\",\"hoverlabel\":{\"align\":\"left\"},\"paper_bgcolor\":\"rgb(17,17,17)\",\"plot_bgcolor\":\"rgb(17,17,17)\",\"polar\":{\"bgcolor\":\"rgb(17,17,17)\",\"angularaxis\":{\"gridcolor\":\"#506784\",\"linecolor\":\"#506784\",\"ticks\":\"\"},\"radialaxis\":{\"gridcolor\":\"#506784\",\"linecolor\":\"#506784\",\"ticks\":\"\"}},\"ternary\":{\"bgcolor\":\"rgb(17,17,17)\",\"aaxis\":{\"gridcolor\":\"#506784\",\"linecolor\":\"#506784\",\"ticks\":\"\"},\"baxis\":{\"gridcolor\":\"#506784\",\"linecolor\":\"#506784\",\"ticks\":\"\"},\"caxis\":{\"gridcolor\":\"#506784\",\"linecolor\":\"#506784\",\"ticks\":\"\"}},\"coloraxis\":{\"colorbar\":{\"outlinewidth\":0,\"ticks\":\"\"}},\"colorscale\":{\"sequential\":[[0.0,\"#0d0887\"],[0.1111111111111111,\"#46039f\"],[0.2222222222222222,\"#7201a8\"],[0.3333333333333333,\"#9c179e\"],[0.4444444444444444,\"#bd3786\"],[0.5555555555555556,\"#d8576b\"],[0.6666666666666666,\"#ed7953\"],[0.7777777777777778,\"#fb9f3a\"],[0.8888888888888888,\"#fdca26\"],[1.0,\"#f0f921\"]],\"sequentialminus\":[[0.0,\"#0d0887\"],[0.1111111111111111,\"#46039f\"],[0.2222222222222222,\"#7201a8\"],[0.3333333333333333,\"#9c179e\"],[0.4444444444444444,\"#bd3786\"],[0.5555555555555556,\"#d8576b\"],[0.6666666666666666,\"#ed7953\"],[0.7777777777777778,\"#fb9f3a\"],[0.8888888888888888,\"#fdca26\"],[1.0,\"#f0f921\"]],\"diverging\":[[0,\"#8e0152\"],[0.1,\"#c51b7d\"],[0.2,\"#de77ae\"],[0.3,\"#f1b6da\"],[0.4,\"#fde0ef\"],[0.5,\"#f7f7f7\"],[0.6,\"#e6f5d0\"],[0.7,\"#b8e186\"],[0.8,\"#7fbc41\"],[0.9,\"#4d9221\"],[1,\"#276419\"]]},\"xaxis\":{\"gridcolor\":\"#283442\",\"linecolor\":\"#506784\",\"ticks\":\"\",\"title\":{\"standoff\":15},\"zerolinecolor\":\"#283442\",\"automargin\":true,\"zerolinewidth\":2},\"yaxis\":{\"gridcolor\":\"#283442\",\"linecolor\":\"#506784\",\"ticks\":\"\",\"title\":{\"standoff\":15},\"zerolinecolor\":\"#283442\",\"automargin\":true,\"zerolinewidth\":2},\"scene\":{\"xaxis\":{\"backgroundcolor\":\"rgb(17,17,17)\",\"gridcolor\":\"#506784\",\"linecolor\":\"#506784\",\"showbackground\":true,\"ticks\":\"\",\"zerolinecolor\":\"#C8D4E3\",\"gridwidth\":2},\"yaxis\":{\"backgroundcolor\":\"rgb(17,17,17)\",\"gridcolor\":\"#506784\",\"linecolor\":\"#506784\",\"showbackground\":true,\"ticks\":\"\",\"zerolinecolor\":\"#C8D4E3\",\"gridwidth\":2},\"zaxis\":{\"backgroundcolor\":\"rgb(17,17,17)\",\"gridcolor\":\"#506784\",\"linecolor\":\"#506784\",\"showbackground\":true,\"ticks\":\"\",\"zerolinecolor\":\"#C8D4E3\",\"gridwidth\":2}},\"shapedefaults\":{\"line\":{\"color\":\"#f2f5fa\"}},\"annotationdefaults\":{\"arrowcolor\":\"#f2f5fa\",\"arrowhead\":0,\"arrowwidth\":1},\"geo\":{\"bgcolor\":\"rgb(17,17,17)\",\"landcolor\":\"rgb(17,17,17)\",\"subunitcolor\":\"#506784\",\"showland\":true,\"showlakes\":true,\"lakecolor\":\"rgb(17,17,17)\"},\"title\":{\"x\":0.05},\"updatemenudefaults\":{\"bgcolor\":\"#506784\",\"borderwidth\":0},\"sliderdefaults\":{\"bgcolor\":\"#C8D4E3\",\"borderwidth\":1,\"bordercolor\":\"rgb(17,17,17)\",\"tickwidth\":0},\"mapbox\":{\"style\":\"dark\"}}},\"title\":{\"text\":\"\\u0424\\u0443\\u043d\\u043a\\u0446\\u0438\\u044f \\u043f\\u043b\\u043e\\u0442\\u043d\\u043e\\u0441\\u0442\\u0438 f(z|H_0), \\u043a\\u0440\\u0438\\u0442\\u0438\\u0447\\u0435\\u0441\\u043a\\u0430\\u044f \\u043e\\u0431\\u043b\\u0430\\u0441\\u0442\\u044c \\u0438 p-value\"}},                        {\"responsive\": true}                    ).then(function(){\n                            \nvar gd = document.getElementById('bec153c7-b11c-489d-a782-62b045ed584a');\nvar x = new MutationObserver(function (mutations, observer) {{\n        var display = window.getComputedStyle(gd).display;\n        if (!display || display === 'none') {{\n            console.log([gd, 'removed!']);\n            Plotly.purge(gd);\n            observer.disconnect();\n        }}\n}});\n\n// Listen for the removal of the full notebook cells\nvar notebookContainer = gd.closest('#notebook-container');\nif (notebookContainer) {{\n    x.observe(notebookContainer, {childList: true});\n}}\n\n// Listen for the clearing of the current output cell\nvar outputEl = gd.closest('.output');\nif (outputEl) {{\n    x.observe(outputEl, {childList: true});\n}}\n\n                        })                };                });            </script>        </div>"
     },
     "metadata": {},
     "output_type": "display_data"
    }
   ],
   "source": [
    "# построим график для наглядного отображения результата\n",
    "plot_density_func(test1_stat, ALPHA)"
   ],
   "metadata": {
    "collapsed": false,
    "ExecuteTime": {
     "end_time": "2023-12-12T22:34:13.522242Z",
     "start_time": "2023-12-12T22:34:13.498053Z"
    }
   },
   "id": "25171f53c48b840e"
  },
  {
   "cell_type": "markdown",
   "source": [
    "## Проверить гипотезу: \"Работники старше 35 лет (age) пропускают в течение года более 2 рабочих дней (work_days) по болезни значимо чаще своих более молодых коллег.\"\n",
    "\n",
    "В данном случае разбиение на группы идет уже по признаку \"Возраст\".\n",
    "Аналогично предыдущему тесту:\n",
    "\n",
    "**1. Сформулируем $H_0$ и $H'$:**\n",
    "Пусть проводится две серии испытаний по схеме Бернулли \n",
    " - \"успех\" в первой серии A = \\{Работники старше 35 лет (age) пропускают в течение года более 2 рабочих дней (work_days) по болезни\\}\n",
    " - \"успех\" во второй серии B = \\{Работники младше 35 лет (age) пропускают в течение года более 2 рабочих дней (work_days) по болезни\\}\n",
    "\n",
    "Тогда вероятностей «успехов» $p_1$ и $p_2$ в этих сериях:\n",
    " - $p_1$ = P(A), \n",
    " - $p_2$ = P(B)\n",
    "\n",
    "Исходя из условия получаем гипотезы (two-proportion z-test):\n",
    "$\n",
    "\\begin{gather}\n",
    "H_0: p_1 = p_2\n",
    "\\\\\n",
    "H': p_1 > p_2\n",
    "\\end{gather}\n",
    "$\n",
    "\n",
    "**2. Зададим уровень значимости $\\alpha$**\n",
    "Пусть $\\alpha$ = 0.05\n",
    "\n",
    "**3. Статистика критерия $Z$ для проверки гипотезы $H_0$**\n",
    "$\n",
    "Z=\\frac{H_1-H_2}{\\sqrt{H(1-H)}\\sqrt{\\frac{1}{n_1}+\\frac{1}{n_2}}}\n",
    "$,\n",
    "где\n",
    "- $H_1$, $H_2$ – частоты успеха в первой серии и во второй соответственно\n",
    "- $H=\\frac{n_1H_1+n_2H_2}{n_1+n_2}$ – эффективная оценка истинной вероятности $p$ условии истинности $H_0$ (т.е. при $p_1=p_2=p$ ) \n",
    "- $n_1$, $n_2$ – количество испытаний в первой серии и во второй соответственно\n",
    "\n",
    "**4. Закон распределения $f(z|H_0)$**\n",
    "$f(z|H_0)\\sim N(0,1)$\n",
    "\n",
    "**5. Критическая область**\n",
    "Исходя из альтернативной гипотезы критическая область выбирается правосторонней"
   ],
   "metadata": {
    "collapsed": false
   },
   "id": "62dd215980306c06"
  },
  {
   "cell_type": "markdown",
   "source": [
    "Таким образом, нам для проверки гипотезы требуется найти \n",
    "- общее количество людей, старше 35 лет (age) = $n_1$ (далее n_1)\n",
    "- общее количество людей, младше 35 лет (age) = $n_2$ (далее n_2)\n",
    "- количество людей, старше 35 лет (age), пропускающих в течение года более 2 рабочих дней (work_days) по болезни (далее n_pass_1)\n",
    "- количество людей, младше 35 лет (age), пропускающих в течение года более 2 рабочих дней (work_days) по болезни (далее n_pass_2)"
   ],
   "metadata": {
    "collapsed": false
   },
   "id": "965ca89892883791"
  },
  {
   "cell_type": "code",
   "execution_count": 102,
   "outputs": [],
   "source": [
    "WORK_DAYS = 5\n",
    "AGE = 25\n",
    "ALPHA = 0.05\n",
    "\n",
    "# используя условие на \"Возраст\" получаем необходимые n_1 и n_2\n",
    "n_1 = len(df[df[\"Возраст\"] > AGE][\"Возраст\"])\n",
    "n_2 = len(df[df[\"Возраст\"] <= AGE][\"Возраст\"])\n",
    "\n",
    "# используя условие на \"Количество больничных дней\" находим всех людей, которые пропустили по болезни больше WORK_DAYS\n",
    "# далее используем условие на количество лет AGE и находим искомые n_pass_1 и n_pass_2\n",
    "sick_days_greater_2 = df[(df[\"Количество больничных дней\"] > WORK_DAYS)][\"Возраст\"]\n",
    "n_pass_1 = len(sick_days_greater_2[sick_days_greater_2 > AGE])\n",
    "n_pass_2 = len(sick_days_greater_2[sick_days_greater_2 <= AGE])"
   ],
   "metadata": {
    "collapsed": false,
    "ExecuteTime": {
     "end_time": "2023-12-12T22:34:20.644544Z",
     "start_time": "2023-12-12T22:34:20.625705Z"
    }
   },
   "id": "58bdba52bb9499e9"
  },
  {
   "cell_type": "markdown",
   "source": [
    "Проводим проверку статистической гипотезы"
   ],
   "metadata": {
    "collapsed": false
   },
   "id": "594bd80c169b6a27"
  },
  {
   "cell_type": "code",
   "execution_count": 103,
   "outputs": [
    {
     "name": "stdout",
     "output_type": "stream",
     "text": [
      "p-value = 0.9722373338964895, alpha = 0.05\n",
      "p-value > alpha\n",
      "Гипотеза H_0 принимается!\n",
      "ВЫВОД: нельзя утверждать, что 'Мужчины пропускают в течение года более {WORK_DAYS} рабочих дней (work_days) по болезни значимо чаще женщин'\n"
     ]
    }
   ],
   "source": [
    "# с помощью proportions_ztest считаем выборочное значение статистики критерия и p-value \n",
    "# (используется флаг alternative=\"larger\", т.к. H': p_1 > p_2)\n",
    "count = np.array([n_pass_1, n_pass_2])\n",
    "nobs = np.array([n_1, n_2])\n",
    "test1_stat, test1_pval = proportions_ztest(count, nobs, alternative=\"larger\")\n",
    "h_name = \"Мужчины пропускают в течение года более {WORK_DAYS} рабочих дней (work_days) по болезни значимо чаще женщин\"\n",
    "print_test_result(ALPHA, test1_pval, h_name)"
   ],
   "metadata": {
    "collapsed": false,
    "ExecuteTime": {
     "end_time": "2023-12-12T22:34:21.304122Z",
     "start_time": "2023-12-12T22:34:21.298701Z"
    }
   },
   "id": "d8fb620f92c0e6e0"
  },
  {
   "cell_type": "code",
   "execution_count": 104,
   "outputs": [
    {
     "data": {
      "application/vnd.plotly.v1+json": {
       "data": [
        {
         "fill": "tozeroy",
         "fillcolor": "rgba(165, 165, 165, 0.5)",
         "mode": "none",
         "name": "$f(z|H_0)$",
         "x": [
          -3.0,
          -2.99,
          -2.9800000000000004,
          -2.9700000000000006,
          -2.960000000000001,
          -2.950000000000001,
          -2.9400000000000013,
          -2.9300000000000015,
          -2.9200000000000017,
          -2.910000000000002,
          -2.900000000000002,
          -2.8900000000000023,
          -2.8800000000000026,
          -2.8700000000000028,
          -2.860000000000003,
          -2.850000000000003,
          -2.8400000000000034,
          -2.8300000000000036,
          -2.820000000000004,
          -2.810000000000004,
          -2.8000000000000043,
          -2.7900000000000045,
          -2.7800000000000047,
          -2.770000000000005,
          -2.760000000000005,
          -2.7500000000000053,
          -2.7400000000000055,
          -2.7300000000000058,
          -2.720000000000006,
          -2.710000000000006,
          -2.7000000000000064,
          -2.6900000000000066,
          -2.680000000000007,
          -2.670000000000007,
          -2.6600000000000072,
          -2.6500000000000075,
          -2.6400000000000077,
          -2.630000000000008,
          -2.620000000000008,
          -2.6100000000000083,
          -2.6000000000000085,
          -2.5900000000000087,
          -2.580000000000009,
          -2.570000000000009,
          -2.5600000000000094,
          -2.5500000000000096,
          -2.54000000000001,
          -2.53000000000001,
          -2.5200000000000102,
          -2.5100000000000104,
          -2.5000000000000107,
          -2.490000000000011,
          -2.480000000000011,
          -2.4700000000000113,
          -2.4600000000000115,
          -2.4500000000000117,
          -2.440000000000012,
          -2.430000000000012,
          -2.4200000000000124,
          -2.4100000000000126,
          -2.400000000000013,
          -2.390000000000013,
          -2.380000000000013,
          -2.3700000000000134,
          -2.3600000000000136,
          -2.350000000000014,
          -2.340000000000014,
          -2.3300000000000143,
          -2.3200000000000145,
          -2.3100000000000147,
          -2.300000000000015,
          -2.290000000000015,
          -2.2800000000000153,
          -2.2700000000000156,
          -2.2600000000000158,
          -2.250000000000016,
          -2.240000000000016,
          -2.2300000000000164,
          -2.2200000000000166,
          -2.210000000000017,
          -2.200000000000017,
          -2.1900000000000173,
          -2.1800000000000175,
          -2.1700000000000177,
          -2.160000000000018,
          -2.150000000000018,
          -2.1400000000000183,
          -2.1300000000000185,
          -2.1200000000000188,
          -2.110000000000019,
          -2.100000000000019,
          -2.0900000000000194,
          -2.0800000000000196,
          -2.07000000000002,
          -2.06000000000002,
          -2.0500000000000203,
          -2.0400000000000205,
          -2.0300000000000207,
          -2.020000000000021,
          -2.010000000000021,
          -2.0000000000000213,
          -1.9900000000000215,
          -1.9800000000000217,
          -1.970000000000022,
          -1.9600000000000222,
          -1.9500000000000224,
          -1.9400000000000226,
          -1.9300000000000228,
          -1.920000000000023,
          -1.9100000000000232,
          -1.9000000000000234,
          -1.8900000000000237,
          -1.8800000000000239,
          -1.870000000000024,
          -1.8600000000000243,
          -1.8500000000000245,
          -1.8400000000000247,
          -1.830000000000025,
          -1.8200000000000252,
          -1.8100000000000254,
          -1.8000000000000256,
          -1.7900000000000258,
          -1.780000000000026,
          -1.7700000000000262,
          -1.7600000000000264,
          -1.7500000000000266,
          -1.7400000000000269,
          -1.730000000000027,
          -1.7200000000000273,
          -1.7100000000000275,
          -1.7000000000000277,
          -1.690000000000028,
          -1.6800000000000281,
          -1.6700000000000284,
          -1.6600000000000286,
          -1.6500000000000288,
          -1.640000000000029,
          -1.6300000000000292,
          -1.6200000000000294,
          -1.6100000000000296,
          -1.6000000000000298,
          -1.59000000000003,
          -1.5800000000000303,
          -1.5700000000000305,
          -1.5600000000000307,
          -1.550000000000031,
          -1.5400000000000311,
          -1.5300000000000313,
          -1.5200000000000315,
          -1.5100000000000318,
          -1.500000000000032,
          -1.4900000000000322,
          -1.4800000000000324,
          -1.4700000000000326,
          -1.4600000000000328,
          -1.450000000000033,
          -1.4400000000000333,
          -1.4300000000000335,
          -1.4200000000000337,
          -1.410000000000034,
          -1.400000000000034,
          -1.3900000000000343,
          -1.3800000000000345,
          -1.3700000000000347,
          -1.360000000000035,
          -1.3500000000000352,
          -1.3400000000000354,
          -1.3300000000000356,
          -1.3200000000000358,
          -1.310000000000036,
          -1.3000000000000362,
          -1.2900000000000365,
          -1.2800000000000367,
          -1.2700000000000369,
          -1.260000000000037,
          -1.2500000000000373,
          -1.2400000000000375,
          -1.2300000000000377,
          -1.220000000000038,
          -1.2100000000000382,
          -1.2000000000000384,
          -1.1900000000000386,
          -1.1800000000000388,
          -1.170000000000039,
          -1.1600000000000392,
          -1.1500000000000394,
          -1.1400000000000396,
          -1.1300000000000399,
          -1.12000000000004,
          -1.1100000000000403,
          -1.1000000000000405,
          -1.0900000000000407,
          -1.080000000000041,
          -1.0700000000000411,
          -1.0600000000000414,
          -1.0500000000000416,
          -1.0400000000000418,
          -1.030000000000042,
          -1.0200000000000422,
          -1.0100000000000424,
          -1.0000000000000426,
          -0.9900000000000428,
          -0.9800000000000431,
          -0.9700000000000433,
          -0.9600000000000435,
          -0.9500000000000437,
          -0.9400000000000439,
          -0.9300000000000441,
          -0.9200000000000443,
          -0.9100000000000446,
          -0.9000000000000448,
          -0.890000000000045,
          -0.8800000000000452,
          -0.8700000000000454,
          -0.8600000000000456,
          -0.8500000000000458,
          -0.840000000000046,
          -0.8300000000000463,
          -0.8200000000000465,
          -0.8100000000000467,
          -0.8000000000000469,
          -0.7900000000000471,
          -0.7800000000000473,
          -0.7700000000000475,
          -0.7600000000000477,
          -0.750000000000048,
          -0.7400000000000482,
          -0.7300000000000484,
          -0.7200000000000486,
          -0.7100000000000488,
          -0.700000000000049,
          -0.6900000000000492,
          -0.6800000000000495,
          -0.6700000000000497,
          -0.6600000000000499,
          -0.6500000000000501,
          -0.6400000000000503,
          -0.6300000000000505,
          -0.6200000000000507,
          -0.610000000000051,
          -0.6000000000000512,
          -0.5900000000000514,
          -0.5800000000000516,
          -0.5700000000000518,
          -0.560000000000052,
          -0.5500000000000522,
          -0.5400000000000524,
          -0.5300000000000527,
          -0.5200000000000529,
          -0.5100000000000531,
          -0.5000000000000533,
          -0.4900000000000535,
          -0.4800000000000537,
          -0.47000000000005393,
          -0.46000000000005414,
          -0.45000000000005436,
          -0.44000000000005457,
          -0.4300000000000548,
          -0.420000000000055,
          -0.4100000000000552,
          -0.4000000000000554,
          -0.39000000000005564,
          -0.38000000000005585,
          -0.37000000000005606,
          -0.3600000000000563,
          -0.3500000000000565,
          -0.3400000000000567,
          -0.3300000000000569,
          -0.3200000000000571,
          -0.31000000000005734,
          -0.30000000000005755,
          -0.29000000000005777,
          -0.280000000000058,
          -0.2700000000000582,
          -0.2600000000000584,
          -0.2500000000000586,
          -0.24000000000005883,
          -0.23000000000005905,
          -0.22000000000005926,
          -0.21000000000005947,
          -0.20000000000005969,
          -0.1900000000000599,
          -0.1800000000000601,
          -0.17000000000006033,
          -0.16000000000006054,
          -0.15000000000006075,
          -0.14000000000006096,
          -0.13000000000006118,
          -0.12000000000006139,
          -0.1100000000000616,
          -0.10000000000006182,
          -0.09000000000006203,
          -0.08000000000006224,
          -0.07000000000006246,
          -0.06000000000006267,
          -0.05000000000006288,
          -0.040000000000063096,
          -0.03000000000006331,
          -0.020000000000063523,
          -0.010000000000063736,
          -6.394884621840902E-14,
          0.009999999999935838,
          0.019999999999935625,
          0.02999999999993541,
          0.0399999999999352,
          0.049999999999934985,
          0.05999999999993477,
          0.06999999999993456,
          0.07999999999993435,
          0.08999999999993413,
          0.09999999999993392,
          0.1099999999999337,
          0.1199999999999335,
          0.12999999999993328,
          0.13999999999993307,
          0.14999999999993285,
          0.15999999999993264,
          0.16999999999993243,
          0.17999999999993221,
          0.189999999999932,
          0.1999999999999318,
          0.20999999999993157,
          0.21999999999993136,
          0.22999999999993115,
          0.23999999999993094,
          0.24999999999993072,
          0.2599999999999305,
          0.2699999999999303,
          0.2799999999999301,
          0.28999999999992987,
          0.29999999999992966,
          0.30999999999992944,
          0.31999999999992923,
          0.329999999999929,
          0.3399999999999288,
          0.3499999999999286,
          0.3599999999999284,
          0.36999999999992816,
          0.37999999999992795,
          0.38999999999992774,
          0.3999999999999275,
          0.4099999999999273,
          0.4199999999999271,
          0.4299999999999269,
          0.43999999999992667,
          0.44999999999992646,
          0.45999999999992625,
          0.46999999999992603,
          0.4799999999999258,
          0.4899999999999256,
          0.4999999999999254,
          0.5099999999999252,
          0.519999999999925,
          0.5299999999999248,
          0.5399999999999245,
          0.5499999999999243,
          0.5599999999999241,
          0.5699999999999239,
          0.5799999999999237,
          0.5899999999999235,
          0.5999999999999233,
          0.609999999999923,
          0.6199999999999228,
          0.6299999999999226,
          0.6399999999999224,
          0.6499999999999222,
          0.659999999999922,
          0.6699999999999218,
          0.6799999999999216,
          0.6899999999999213,
          0.6999999999999211,
          0.7099999999999209,
          0.7199999999999207,
          0.7299999999999205,
          0.7399999999999203,
          0.7499999999999201,
          0.7599999999999199,
          0.7699999999999196,
          0.7799999999999194,
          0.7899999999999192,
          0.799999999999919,
          0.8099999999999188,
          0.8199999999999186,
          0.8299999999999184,
          0.8399999999999181,
          0.8499999999999179,
          0.8599999999999177,
          0.8699999999999175,
          0.8799999999999173,
          0.8899999999999171,
          0.8999999999999169,
          0.9099999999999167,
          0.9199999999999164,
          0.9299999999999162,
          0.939999999999916,
          0.9499999999999158,
          0.9599999999999156,
          0.9699999999999154,
          0.9799999999999152,
          0.989999999999915,
          0.9999999999999147,
          1.0099999999999145,
          1.0199999999999143,
          1.029999999999914,
          1.0399999999999139,
          1.0499999999999137,
          1.0599999999999135,
          1.0699999999999132,
          1.079999999999913,
          1.0899999999999128,
          1.0999999999999126,
          1.1099999999999124,
          1.1199999999999122,
          1.129999999999912,
          1.1399999999999118,
          1.1499999999999115,
          1.1599999999999113,
          1.1699999999999111,
          1.179999999999911,
          1.1899999999999107,
          1.1999999999999105,
          1.2099999999999103,
          1.21999999999991,
          1.2299999999999098,
          1.2399999999999096,
          1.2499999999999094,
          1.2599999999999092,
          1.269999999999909,
          1.2799999999999088,
          1.2899999999999086,
          1.2999999999999083,
          1.3099999999999081,
          1.319999999999908,
          1.3299999999999077,
          1.3399999999999075,
          1.3499999999999073,
          1.359999999999907,
          1.3699999999999068,
          1.3799999999999066,
          1.3899999999999064,
          1.3999999999999062,
          1.409999999999906,
          1.4199999999999058,
          1.4299999999999056,
          1.4399999999999054,
          1.4499999999999051,
          1.459999999999905,
          1.4699999999999047,
          1.4799999999999045,
          1.4899999999999043,
          1.499999999999904,
          1.5099999999999039,
          1.5199999999999037,
          1.5299999999999034,
          1.5399999999999032,
          1.549999999999903,
          1.5599999999999028,
          1.5699999999999026,
          1.5799999999999024,
          1.5899999999999022,
          1.599999999999902,
          1.6099999999999017,
          1.6199999999999015,
          1.6299999999999013,
          1.639999999999901,
          1.6499999999999009,
          1.6599999999999007,
          1.6699999999999005,
          1.6799999999999002,
          1.6899999999999,
          1.6999999999998998,
          1.7099999999998996,
          1.7199999999998994,
          1.7299999999998992,
          1.739999999999899,
          1.7499999999998987,
          1.7599999999998985,
          1.7699999999998983,
          1.779999999999898,
          1.789999999999898,
          1.7999999999998977,
          1.8099999999998975,
          1.8199999999998973,
          1.829999999999897,
          1.8399999999998968,
          1.8499999999998966,
          1.8599999999998964,
          1.8699999999998962,
          1.879999999999896,
          1.8899999999998958,
          1.8999999999998956,
          1.9099999999998953,
          1.9199999999998951,
          1.929999999999895,
          1.9399999999998947,
          1.9499999999998945,
          1.9599999999998943,
          1.969999999999894,
          1.9799999999998938,
          1.9899999999998936,
          1.9999999999998934,
          2.009999999999893,
          2.019999999999893,
          2.029999999999893,
          2.0399999999998926,
          2.0499999999998924,
          2.059999999999892,
          2.069999999999892,
          2.0799999999998917,
          2.0899999999998915,
          2.0999999999998913,
          2.109999999999891,
          2.119999999999891,
          2.1299999999998906,
          2.1399999999998904,
          2.14999999999989,
          2.15999999999989,
          2.16999999999989,
          2.1799999999998896,
          2.1899999999998894,
          2.199999999999889,
          2.209999999999889,
          2.2199999999998887,
          2.2299999999998885,
          2.2399999999998883,
          2.249999999999888,
          2.259999999999888,
          2.2699999999998877,
          2.2799999999998875,
          2.2899999999998872,
          2.299999999999887,
          2.309999999999887,
          2.3199999999998866,
          2.3299999999998864,
          2.339999999999886,
          2.349999999999886,
          2.3599999999998857,
          2.3699999999998855,
          2.3799999999998853,
          2.389999999999885,
          2.399999999999885,
          2.4099999999998847,
          2.4199999999998845,
          2.4299999999998843,
          2.439999999999884,
          2.449999999999884,
          2.4599999999998836,
          2.4699999999998834,
          2.479999999999883,
          2.489999999999883,
          2.4999999999998828,
          2.5099999999998825,
          2.5199999999998823,
          2.529999999999882,
          2.539999999999882,
          2.5499999999998817,
          2.5599999999998815,
          2.5699999999998813,
          2.579999999999881,
          2.589999999999881,
          2.5999999999998806,
          2.6099999999998804,
          2.61999999999988,
          2.62999999999988,
          2.6399999999998798,
          2.6499999999998796,
          2.6599999999998793,
          2.669999999999879,
          2.679999999999879,
          2.6899999999998787,
          2.6999999999998785,
          2.7099999999998783,
          2.719999999999878,
          2.729999999999878,
          2.7399999999998776,
          2.7499999999998774,
          2.759999999999877,
          2.769999999999877,
          2.779999999999877,
          2.7899999999998766,
          2.7999999999998764,
          2.809999999999876,
          2.819999999999876,
          2.8299999999998757,
          2.8399999999998755,
          2.8499999999998753,
          2.859999999999875,
          2.869999999999875,
          2.8799999999998747,
          2.8899999999998744,
          2.8999999999998742,
          2.909999999999874,
          2.919999999999874,
          2.9299999999998736,
          2.9399999999998734,
          2.949999999999873,
          2.959999999999873,
          2.9699999999998727,
          2.9799999999998725,
          2.9899999999998723
         ],
         "y": [
          0.0044318484119380075,
          0.004566589954670145,
          0.004704957526933971,
          0.0048470329059789406,
          0.0049928992136123625,
          0.005142640923053925,
          0.005296343865310997,
          0.005454095235056526,
          0.0056159835959909395,
          0.005782098885669447,
          0.0059525324197758165,
          0.006127376895823644,
          0.006306726396265877,
          0.006490676390993312,
          0.006679323739202561,
          0.0068727666906139104,
          0.007071104886019379,
          0.007274439357141146,
          0.0074828725257804814,
          0.007696508202237236,
          0.00791545158297987,
          0.00813980924754592,
          0.008369689154652919,
          0.008605200637499559,
          0.008846454398237101,
          0.00909356250159092,
          0.009346638367612146,
          0.009605796763539435,
          0.009871153794750977,
          0.010142826894786907,
          0.010420934814422415,
          0.010705597609771992,
          0.010996936629405377,
          0.01129507450045592,
          0.01160013511370234,
          0.011912243607604941,
          0.012231526351277727,
          0.012558110926377944,
          0.012892126107895035,
          0.013233701843821081,
          0.013582969233685318,
          0.013940060505935502,
          0.014305108994149364,
          0.014678249112059694,
          0.01505961632737709,
          0.015449347134394793,
          0.015847579025360423,
          0.01625445046060009,
          0.016670100837380627,
          0.0170946704574965,
          0.017528300493568072,
          0.017971132954039154,
          0.018423310646861542,
          0.018884977141855643,
          0.019356276731736413,
          0.019837354391794758,
          0.02032835573822524,
          0.020829426985091576,
          0.02134071489992214,
          0.021862366757928724,
          0.022394530294842212,
          0.02293735365835998,
          0.023490985358200628,
          0.024055574214762215,
          0.024631269306381712,
          0.025218219915193574,
          0.025816575471586833,
          0.026426485497260854,
          0.027048099546880876,
          0.027681567148335636,
          0.028327037741600208,
          0.028984660616208413,
          0.029654584847340237,
          0.030336959230530564,
          0.031031932215007142,
          0.03173965183566627,
          0.03246026564369628,
          0.033193920635859915,
          0.033940763182447944,
          0.03470093895391753,
          0.0354745928462301,
          0.03626186890490485,
          0.03706291024780507,
          0.03787785898667602,
          0.038706856147454116,
          0.03955004158936868,
          0.04040755392285873,
          0.04127953042632877,
          0.042166106961768646,
          0.04306741788926401,
          0.043983595980425415,
          0.04491477233076527,
          0.045861076271053035,
          0.046822635277681234,
          0.047799574882075056,
          0.04879201857918073,
          0.04980008773506869,
          0.05082390149368904,
          0.05186357668281837,
          0.052919227719238036,
          0.05399096651318576,
          0.05507890237212341,
          0.05618314190386563,
          0.057303788919114654,
          0.05844094433344893,
          0.05959470606881347,
          0.06076516895456211,
          0.06195242462810243,
          0.06315656143519587,
          0.0643776643299665,
          0.06561581477467368,
          0.06687109063930416,
          0.06814356610104151,
          0.06943331154367106,
          0.07074039345698019,
          0.07206487433621472,
          0.07340681258165355,
          0.0747662623983642,
          0.07614327369620383,
          0.07753789199013043,
          0.07895015830089053,
          0.08038010905615045,
          0.08182777599213903,
          0.08329318605587062,
          0.08477636130801829,
          0.0862773188265075,
          0.08779607061090154,
          0.08933262348765081,
          0.09088697901627861,
          0.09245913339657633,
          0.0940490773768825,
          0.0956567961635195,
          0.0972822693314629,
          0.09892547073631905,
          0.10058636842768579,
          0.10226492456397314,
          0.10396109532875927,
          0.10567483084875857,
          0.10740607511347873,
          0.10915476589664218,
          0.11092083467945028,
          0.11270420657576517,
          0.11450480025928693,
          0.11632252789280154,
          0.11815729505957663,
          0.12000900069697985,
          0.12187753703239594,
          0.1237627895215172,
          0.12566463678908213,
          0.12758295057213576,
          0.12951759566588553,
          0.13146842987222473,
          0.13343530395099593,
          0.13541806157406483,
          0.1374165392822752,
          0.1394305664453536,
          0.141459965224832,
          0.14350455054005556,
          0.14556413003734067,
          0.14763850406234869,
          0.14972746563573772,
          0.15183080043215444,
          0.15394828676262637,
          0.15607969556041343,
          0.15822479037037554,
          0.160383327341912,
          0.16255505522552643,
          0.16473971537306903,
          0.16693704174170593,
          0.16914676090166444,
          0.17136859204779928,
          0.17360224701502483,
          0.17584743029765415,
          0.17810383907268526,
          0.18037116322707192,
          0.1826490853890134,
          0.1849372809632967,
          0.18723541817072084,
          0.18954315809163147,
          0.19186015471359052,
          0.19418605498320402,
          0.1965204988621275,
          0.1988631193872668,
          0.2012135427351882,
          0.2035713882907502,
          0.20593626871996545,
          0.20830779004709893,
          0.2106855517360058,
          0.21306914677570832,
          0.21545816177021007,
          0.21785217703254084,
          0.2202507666830235,
          0.2226534987517513,
          0.22505993528525975,
          0.22746963245737595,
          0.229882140684223,
          0.2322970047433561,
          0.23471376389700166,
          0.23713195201936937,
          0.2395510977280031,
          0.24197072451913307,
          0.2443903509069892,
          0.24680949056703233,
          0.24922765248305545,
          0.2516443410981066,
          0.2540590564691785,
          0.2564712944256098,
          0.25888054673113825,
          0.2612863012495425,
          0.2636880421138075,
          0.2660852498987441,
          0.26847740179699164,
          0.2708639717983273,
          0.27324443087220546,
          0.2756182471534459,
          0.27798488613098565,
          0.28034381083960974,
          0.2826944820545694,
          0.28503635848899633,
          0.28736889699401746,
          0.2896915527614719,
          0.2920037795291306,
          0.2943050297883143,
          0.2965947549938049,
          0.29887240577594193,
          0.3011374321547936,
          0.3033892837562894,
          0.3056274100301991,
          0.3078512604698422,
          0.3100602848334054,
          0.31225393336675056,
          0.31443165702758663,
          0.31659290771088217,
          0.3187371384753909,
          0.32086380377116197,
          0.32297235966790383,
          0.3250622640840717,
          0.3271329770165441,
          0.32918396077075446,
          0.33121468019114264,
          0.33322460289178946,
          0.335213199487096,
          0.3371799438223705,
          0.3391243132041822,
          0.34104578863034263,
          0.3429438550193741,
          0.3448180014393236,
          0.34666772133578194,
          0.3484925127589649,
          0.35029187858971633,
          0.35206532676429014,
          0.3538123704977704,
          0.355532528505988,
          0.35722532522579176,
          0.3588902910335357,
          0.3605269624616392,
          0.36213488241308356,
          0.36371360037370487,
          0.36526267262214546,
          0.36678166243732785,
          0.3682701403033152,
          0.36972768411142437,
          0.37115387935945815,
          0.3725483193479257,
          0.3739106053731209,
          0.3752403469169305,
          0.3765371618332467,
          0.3778006765308575,
          0.3790305261526948,
          0.38022635475131816,
          0.38138781546051753,
          0.38251457066291766,
          0.3836062921534723,
          0.3846626612987368,
          0.38568336919181023,
          0.3866681168028436,
          0.38761661512500867,
          0.3885285853158306,
          0.3894037588337854,
          0.39024187757006945,
          0.39104269397545127,
          0.39180597118211663,
          0.3925314831204247,
          0.3932190146304932,
          0.39386836156853705,
          0.39447933090788534,
          0.39505174083460787,
          0.3955854208376843,
          0.3960802117936532,
          0.39653596604568314,
          0.39695254747700937,
          0.3973298315786861,
          0.39766770551160696,
          0.3979660681627493,
          0.39822483019560545,
          0.39844391409476276,
          0.39862325420460404,
          0.39876279676209897,
          0.3988624999236656,
          0.39892233378608194,
          0.3989422804014327,
          0.39892233378608244,
          0.3988624999236666,
          0.39876279676210047,
          0.39862325420460604,
          0.3984439140947654,
          0.3982248301956085,
          0.3979660681627529,
          0.397667705511611,
          0.3973298315786907,
          0.3969525474770144,
          0.3965359660456887,
          0.39608021179365926,
          0.3955854208376909,
          0.395051740834615,
          0.3944793309078929,
          0.3938683615685451,
          0.39321901463050174,
          0.3925314831204337,
          0.3918059711821262,
          0.39104269397546126,
          0.3902418775700799,
          0.38940375883379635,
          0.38852858531584206,
          0.3876166151250206,
          0.38666811680285595,
          0.38568336919182306,
          0.38466266129875004,
          0.3836062921534861,
          0.3825145706629319,
          0.3813878154605322,
          0.38022635475133326,
          0.37903052615271027,
          0.37780067653087346,
          0.3765371618332631,
          0.3752403469169473,
          0.373910605373138,
          0.37254831934794336,
          0.3711538793594762,
          0.3697276841114428,
          0.368270140303334,
          0.36678166243734706,
          0.3652626726221651,
          0.36371360037372485,
          0.36213488241310393,
          0.3605269624616599,
          0.3588902910335568,
          0.35722532522581324,
          0.35553252850600975,
          0.3538123704977926,
          0.3520653267643126,
          0.3502918785897392,
          0.3484925127589881,
          0.3466677213358055,
          0.34481800143934743,
          0.3429438550193982,
          0.34104578863036705,
          0.33912431320420694,
          0.3371799438223955,
          0.33521319948712125,
          0.33322460289181505,
          0.3312146801911685,
          0.32918396077078055,
          0.32713297701657046,
          0.3250622640840983,
          0.32297235966793064,
          0.32086380377118906,
          0.3187371384754183,
          0.3165929077109097,
          0.3144316570276144,
          0.31225393336677854,
          0.31006028483343356,
          0.3078512604698705,
          0.3056274100302277,
          0.3033892837563181,
          0.3011374321548225,
          0.29887240577597096,
          0.29659475499383414,
          0.29430502978834366,
          0.2920037795291601,
          0.28969155276150155,
          0.2873688969940472,
          0.28503635848902625,
          0.2826944820545994,
          0.2803438108396399,
          0.2779848861310159,
          0.2756182471534762,
          0.2732444308722359,
          0.27086397179835775,
          0.2684774017970222,
          0.26608524989877474,
          0.2636880421138382,
          0.26128630124957325,
          0.258880546731169,
          0.2564712944256406,
          0.25405905646920934,
          0.25164434109813755,
          0.24922765248308637,
          0.24680949056706325,
          0.2443903509070202,
          0.24197072451916402,
          0.23955109772803404,
          0.23713195201940035,
          0.23471376389703258,
          0.23229700474338702,
          0.2298821406842539,
          0.22746963245740676,
          0.22505993528529053,
          0.22265349875178206,
          0.22025076668305427,
          0.2178521770325715,
          0.21545816177024069,
          0.21306914677573885,
          0.2106855517360363,
          0.20830779004712932,
          0.2059362687199957,
          0.2035713882907804,
          0.20121354273521833,
          0.1988631193872968,
          0.19652049886215742,
          0.19418605498323382,
          0.19186015471362022,
          0.18954315809166103,
          0.18723541817075032,
          0.18493728096332604,
          0.18264908538904262,
          0.18037116322710098,
          0.17810383907271418,
          0.1758474302976829,
          0.17360224701505347,
          0.17136859204782778,
          0.16914676090169278,
          0.16693704174173413,
          0.16473971537309706,
          0.1625550552255543,
          0.1603833273419397,
          0.15822479037040305,
          0.1560796955604408,
          0.15394828676265354,
          0.15183080043218142,
          0.14972746563576456,
          0.1476385040623753,
          0.14556413003736707,
          0.1435045505400818,
          0.1414599652248581,
          0.13943056644537946,
          0.13741653928230083,
          0.13541806157409025,
          0.13343530395102116,
          0.1314684298722498,
          0.12951759566591037,
          0.1275829505721604,
          0.12566463678910658,
          0.1237627895215414,
          0.12187753703241994,
          0.12000900069700365,
          0.1181572950596002,
          0.11632252789282488,
          0.11450480025931005,
          0.1127042065757881,
          0.11092083467947297,
          0.10915476589666463,
          0.10740607511350098,
          0.10567483084878061,
          0.10396109532878109,
          0.10226492456399473,
          0.10058636842770714,
          0.09892547073634017,
          0.0972822693314838,
          0.09565679616354016,
          0.09404907737690293,
          0.09245913339659655,
          0.09088697901629861,
          0.08933262348767058,
          0.08779607061092108,
          0.08627731882652681,
          0.08477636130803737,
          0.08329318605588946,
          0.08182777599215765,
          0.08038010905616885,
          0.07895015830090871,
          0.07753789199014839,
          0.07614327369622156,
          0.07476626239838172,
          0.07340681258167082,
          0.07206487433623178,
          0.07074039345699702,
          0.06943331154368768,
          0.0681435661010579,
          0.06687109063932033,
          0.06561581477468961,
          0.06437766432998222,
          0.06315656143521137,
          0.06195242462811773,
          0.0607651689545772,
          0.059594706068828336,
          0.05844094433346358,
          0.057303788919129094,
          0.056183141903879845,
          0.05507890237213744,
          0.05399096651319957,
          0.052919227719251644,
          0.051863576682831786,
          0.05082390149370225,
          0.049800087735081676,
          0.04879201857919354,
          0.04779957488208765,
          0.04682263527769362,
          0.04586107627106524,
          0.04491477233077727,
          0.04398359598043724,
          0.04306741788927563,
          0.04216610696178009,
          0.04127953042634003,
          0.04040755392286978,
          0.03955004158937955,
          0.0387068561474648,
          0.03787785898668653,
          0.03706291024781541,
          0.036261868904915014,
          0.03547459284624009,
          0.03470093895392734,
          0.033940763182457576,
          0.03319392063586938,
          0.03246026564370558,
          0.03173965183567541,
          0.031031932215016118,
          0.030336959230539372,
          0.02965458484734888,
          0.028984660616216906,
          0.028327037741608534,
          0.027681567148343814,
          0.027048099546888898,
          0.026426485497268733,
          0.025816575471594563,
          0.025218219915201148,
          0.024631269306389147,
          0.0240555742147695,
          0.02349098535820777,
          0.022937353658367,
          0.02239453029484909,
          0.021862366757935466,
          0.021340714899928746,
          0.020829426985098053,
          0.02032835573823159,
          0.019837354391800968,
          0.0193562767317425,
          0.018884977141861613,
          0.01842331064686739,
          0.017971132954044875,
          0.017528300493573675,
          0.01709467045750198,
          0.016670100837386004,
          0.01625445046060535,
          0.01584757902536557,
          0.015449347134399834,
          0.015059616327382026,
          0.014678249112064517,
          0.014305108994154088,
          0.013940060505940122,
          0.013582969233689835,
          0.0132337018438255,
          0.01289212610789936,
          0.01255811092638217,
          0.012231526351281856,
          0.011912243607608983,
          0.011600135113706287,
          0.011295074500459776,
          0.010996936629409147,
          0.010705597609775677,
          0.010420934814426016,
          0.010142826894790425,
          0.00987115379475441,
          0.009605796763542786,
          0.009346638367615422,
          0.009093562501594118,
          0.008846454398240224,
          0.008605200637502605,
          0.008369689154655895,
          0.008139809247548827,
          0.007915451582982702,
          0.007696508202240001,
          0.007482872525783179,
          0.007274439357143776,
          0.0070711048860219484,
          0.006872766690616413,
          0.006679323739205005,
          0.006490676390995698,
          0.006306726396268203,
          0.006127376895825914,
          0.005952532419778027,
          0.005782098885671599,
          0.005615983595993034,
          0.005454095235058571,
          0.005296343865312991,
          0.0051426409230558665,
          0.0049928992136142525,
          0.004847032905980783,
          0.0047049575269357685,
          0.004566589954671889
         ],
         "type": "scatter"
        },
        {
         "fill": "tozeroy",
         "fillcolor": "rgba(255, 94, 94, 0.5)",
         "mode": "none",
         "name": "critical area",
         "x": [
          1.6400000000000001,
          1.6500000000000001,
          1.6600000000000001,
          1.6700000000000002,
          1.6800000000000002,
          1.6900000000000002,
          1.7000000000000002,
          1.7100000000000002,
          1.7200000000000002,
          1.7300000000000002,
          1.7400000000000002,
          1.7500000000000002,
          1.7600000000000002,
          1.7700000000000002,
          1.7800000000000002,
          1.7900000000000003,
          1.8000000000000003,
          1.8100000000000003,
          1.8200000000000003,
          1.8300000000000003,
          1.8400000000000003,
          1.8500000000000003,
          1.8600000000000003,
          1.8700000000000003,
          1.8800000000000003,
          1.8900000000000003,
          1.9000000000000004,
          1.9100000000000004,
          1.9200000000000004,
          1.9300000000000004,
          1.9400000000000004,
          1.9500000000000004,
          1.9600000000000004,
          1.9700000000000004,
          1.9800000000000004,
          1.9900000000000004,
          2.0000000000000004,
          2.0100000000000007,
          2.0200000000000005,
          2.0300000000000002,
          2.0400000000000005,
          2.0500000000000007,
          2.0600000000000005,
          2.0700000000000003,
          2.0800000000000005,
          2.0900000000000007,
          2.1000000000000005,
          2.1100000000000003,
          2.1200000000000006,
          2.130000000000001,
          2.1400000000000006,
          2.1500000000000004,
          2.1600000000000006,
          2.170000000000001,
          2.1800000000000006,
          2.1900000000000004,
          2.2000000000000006,
          2.210000000000001,
          2.2200000000000006,
          2.2300000000000004,
          2.2400000000000007,
          2.250000000000001,
          2.2600000000000007,
          2.2700000000000005,
          2.2800000000000007,
          2.290000000000001,
          2.3000000000000007,
          2.3100000000000005,
          2.3200000000000007,
          2.330000000000001,
          2.3400000000000007,
          2.3500000000000005,
          2.3600000000000008,
          2.370000000000001,
          2.380000000000001,
          2.3900000000000006,
          2.400000000000001,
          2.410000000000001,
          2.420000000000001,
          2.4300000000000006,
          2.440000000000001,
          2.450000000000001,
          2.460000000000001,
          2.4700000000000006,
          2.480000000000001,
          2.490000000000001,
          2.500000000000001,
          2.5100000000000007,
          2.520000000000001,
          2.530000000000001,
          2.540000000000001,
          2.5500000000000007,
          2.560000000000001,
          2.570000000000001,
          2.580000000000001,
          2.5900000000000007,
          2.600000000000001,
          2.610000000000001,
          2.620000000000001,
          2.630000000000001,
          2.640000000000001,
          2.6500000000000012,
          2.660000000000001,
          2.670000000000001,
          2.680000000000001,
          2.6900000000000013,
          2.700000000000001,
          2.710000000000001,
          2.720000000000001,
          2.7300000000000013,
          2.740000000000001,
          2.750000000000001,
          2.760000000000001,
          2.7700000000000014,
          2.780000000000001,
          2.790000000000001,
          2.800000000000001,
          2.8100000000000014,
          2.820000000000001,
          2.830000000000001,
          2.840000000000001,
          2.8500000000000014,
          2.860000000000001,
          2.870000000000001,
          2.8800000000000012,
          2.8900000000000015,
          2.9000000000000012,
          2.910000000000001,
          2.9200000000000013,
          2.9300000000000015,
          2.9400000000000013,
          2.950000000000001,
          2.9600000000000013,
          2.9700000000000015,
          2.9800000000000013,
          2.990000000000001
         ],
         "y": [
          0.1039610953287642,
          0.102264924563978,
          0.10058636842769056,
          0.0989254707363237,
          0.09728226933146747,
          0.09565679616352397,
          0.0940490773768869,
          0.09245913339658064,
          0.09088697901628283,
          0.08933262348765497,
          0.0877960706109056,
          0.08627731882651149,
          0.0847763613080222,
          0.08329318605587445,
          0.08182777599214276,
          0.08038010905615413,
          0.07895015830089412,
          0.07753789199013396,
          0.07614327369620728,
          0.07476626239836759,
          0.07340681258165686,
          0.07206487433621796,
          0.07074039345698334,
          0.06943331154367416,
          0.06814356610104454,
          0.06687109063930712,
          0.06561581477467655,
          0.06437766432996932,
          0.06315656143519861,
          0.06195242462810511,
          0.060765168954564734,
          0.059594706068816033,
          0.05844094433345142,
          0.057303788919117075,
          0.05618314190386799,
          0.055078902372125725,
          0.05399096651318801,
          0.052919227719240215,
          0.05186357668282051,
          0.05082390149369116,
          0.049800087735070726,
          0.04879201857918268,
          0.047799574882076964,
          0.04682263527768313,
          0.045861076271054846,
          0.044914772330767024,
          0.043983595980427156,
          0.0430674178892657,
          0.042166106961770276,
          0.04127953042633033,
          0.04040755392286025,
          0.03955004158937019,
          0.03870685614745557,
          0.037877858986677414,
          0.03706291024780644,
          0.036261868904906194,
          0.03547459284623139,
          0.034700938953918764,
          0.03394076318244915,
          0.033193920635861095,
          0.03246026564369742,
          0.03173965183566735,
          0.031031932215008207,
          0.0303369592305316,
          0.02965458484734123,
          0.028984660616209364,
          0.02832703774160112,
          0.027681567148336535,
          0.02704809954688174,
          0.02642648549726168,
          0.02581657547158764,
          0.02521821991519436,
          0.02463126930638245,
          0.02405557421476292,
          0.02349098535820131,
          0.022937353658360665,
          0.02239453029484285,
          0.021862366757929335,
          0.021340714899922737,
          0.02082942698509216,
          0.020328355738225792,
          0.019837354391795278,
          0.019356276731736923,
          0.018884977141856146,
          0.018423310646862007,
          0.01797113295403959,
          0.017528300493568502,
          0.017094670457496918,
          0.016670100837381022,
          0.016254450460600457,
          0.015847579025360783,
          0.015449347134395141,
          0.015059616327377416,
          0.014678249112059992,
          0.014305108994149657,
          0.013940060505935792,
          0.013582969233685583,
          0.013233701843821328,
          0.012892126107895276,
          0.012558110926378178,
          0.012231526351277944,
          0.011912243607605143,
          0.011600135113702531,
          0.011295074500456111,
          0.010996936629405547,
          0.010705597609772148,
          0.010420934814422567,
          0.010142826894787054,
          0.00987115379475111,
          0.009605796763539553,
          0.00934663836761226,
          0.00909356250159103,
          0.008846454398237197,
          0.008605200637499642,
          0.008369689154653005,
          0.008139809247546004,
          0.007915451582979939,
          0.007696508202237294,
          0.0074828725257805335,
          0.007274439357141199,
          0.007071104886019424,
          0.006872766690613948,
          0.0066793237392025915,
          0.006490676390993347,
          0.006306726396265905,
          0.00612737689582366,
          0.005952532419775833,
          0.005782098885669457,
          0.005615983595990944,
          0.005454095235056526,
          0.005296343865310997,
          0.005142640923053925,
          0.004992899213612354,
          0.0048470329059789275,
          0.004704957526933963,
          0.004566589954670133
         ],
         "type": "scatter"
        },
        {
         "fill": "tozeroy",
         "fillcolor": "rgba(109, 141, 255, 0.5)",
         "mode": "none",
         "name": "p-value",
         "x": [
          -1.9147426447533524,
          -1.9047426447533524,
          -1.8947426447533524,
          -1.8847426447533524,
          -1.8747426447533524,
          -1.8647426447533524,
          -1.8547426447533524,
          -1.8447426447533524,
          -1.8347426447533524,
          -1.8247426447533523,
          -1.8147426447533523,
          -1.8047426447533523,
          -1.7947426447533523,
          -1.7847426447533523,
          -1.7747426447533523,
          -1.7647426447533523,
          -1.7547426447533523,
          -1.7447426447533523,
          -1.7347426447533523,
          -1.7247426447533523,
          -1.7147426447533523,
          -1.7047426447533522,
          -1.6947426447533522,
          -1.6847426447533522,
          -1.6747426447533522,
          -1.6647426447533522,
          -1.6547426447533522,
          -1.6447426447533522,
          -1.6347426447533522,
          -1.6247426447533522,
          -1.6147426447533522,
          -1.6047426447533522,
          -1.5947426447533521,
          -1.5847426447533521,
          -1.5747426447533521,
          -1.5647426447533521,
          -1.554742644753352,
          -1.544742644753352,
          -1.534742644753352,
          -1.524742644753352,
          -1.514742644753352,
          -1.504742644753352,
          -1.494742644753352,
          -1.484742644753352,
          -1.474742644753352,
          -1.464742644753352,
          -1.454742644753352,
          -1.444742644753352,
          -1.434742644753352,
          -1.424742644753352,
          -1.414742644753352,
          -1.404742644753352,
          -1.394742644753352,
          -1.384742644753352,
          -1.374742644753352,
          -1.364742644753352,
          -1.354742644753352,
          -1.344742644753352,
          -1.334742644753352,
          -1.324742644753352,
          -1.314742644753352,
          -1.3047426447533519,
          -1.2947426447533519,
          -1.2847426447533519,
          -1.2747426447533519,
          -1.2647426447533519,
          -1.2547426447533518,
          -1.2447426447533518,
          -1.2347426447533518,
          -1.2247426447533518,
          -1.2147426447533518,
          -1.2047426447533518,
          -1.1947426447533518,
          -1.1847426447533518,
          -1.1747426447533518,
          -1.1647426447533518,
          -1.1547426447533518,
          -1.1447426447533517,
          -1.1347426447533517,
          -1.1247426447533517,
          -1.1147426447533517,
          -1.1047426447533517,
          -1.0947426447533517,
          -1.0847426447533517,
          -1.0747426447533517,
          -1.0647426447533517,
          -1.0547426447533517,
          -1.0447426447533517,
          -1.0347426447533516,
          -1.0247426447533516,
          -1.0147426447533516,
          -1.0047426447533516,
          -0.9947426447533516,
          -0.9847426447533516,
          -0.9747426447533516,
          -0.9647426447533516,
          -0.9547426447533516,
          -0.9447426447533516,
          -0.9347426447533516,
          -0.9247426447533516,
          -0.9147426447533515,
          -0.9047426447533515,
          -0.8947426447533515,
          -0.8847426447533515,
          -0.8747426447533515,
          -0.8647426447533515,
          -0.8547426447533515,
          -0.8447426447533515,
          -0.8347426447533515,
          -0.8247426447533515,
          -0.8147426447533515,
          -0.8047426447533514,
          -0.7947426447533514,
          -0.7847426447533514,
          -0.7747426447533514,
          -0.7647426447533514,
          -0.7547426447533514,
          -0.7447426447533514,
          -0.7347426447533514,
          -0.7247426447533514,
          -0.7147426447533514,
          -0.7047426447533514,
          -0.6947426447533513,
          -0.6847426447533513,
          -0.6747426447533513,
          -0.6647426447533513,
          -0.6547426447533513,
          -0.6447426447533513,
          -0.6347426447533513,
          -0.6247426447533513,
          -0.6147426447533513,
          -0.6047426447533513,
          -0.5947426447533513,
          -0.5847426447533512,
          -0.5747426447533512,
          -0.5647426447533512,
          -0.5547426447533512,
          -0.5447426447533512,
          -0.5347426447533512,
          -0.5247426447533512,
          -0.5147426447533512,
          -0.5047426447533512,
          -0.49474264475335117,
          -0.48474264475335116,
          -0.47474264475335115,
          -0.46474264475335114,
          -0.45474264475335113,
          -0.4447426447533511,
          -0.4347426447533511,
          -0.4247426447533511,
          -0.4147426447533511,
          -0.4047426447533511,
          -0.3947426447533511,
          -0.38474264475335107,
          -0.37474264475335106,
          -0.36474264475335105,
          -0.35474264475335104,
          -0.34474264475335104,
          -0.334742644753351,
          -0.324742644753351,
          -0.314742644753351,
          -0.304742644753351,
          -0.294742644753351,
          -0.284742644753351,
          -0.274742644753351,
          -0.26474264475335096,
          -0.25474264475335096,
          -0.24474264475335095,
          -0.23474264475335094,
          -0.22474264475335093,
          -0.21474264475335092,
          -0.2047426447533509,
          -0.1947426447533509,
          -0.1847426447533509,
          -0.17474264475335088,
          -0.16474264475335088,
          -0.15474264475335087,
          -0.14474264475335086,
          -0.13474264475335085,
          -0.12474264475335084,
          -0.11474264475335083,
          -0.10474264475335082,
          -0.09474264475335081,
          -0.0847426447533508,
          -0.0747426447533508,
          -0.06474264475335079,
          -0.05474264475335078,
          -0.04474264475335077,
          -0.03474264475335076,
          -0.02474264475335075,
          -0.014742644753350742,
          -0.004742644753350733,
          0.005257355246649276,
          0.015257355246649285,
          0.025257355246649293,
          0.0352573552466493,
          0.04525735524664931,
          0.05525735524664932,
          0.06525735524664933,
          0.07525735524664934,
          0.08525735524664935,
          0.09525735524664913,
          0.10525735524664936,
          0.1152573552466496,
          0.12525735524664938,
          0.13525735524664917,
          0.1452573552466494,
          0.15525735524664963,
          0.16525735524664942,
          0.1752573552466492,
          0.18525735524664944,
          0.19525735524664967,
          0.20525735524664945,
          0.21525735524664924,
          0.22525735524664947,
          0.2352573552466497,
          0.2452573552466495,
          0.2552573552466493,
          0.2652573552466495,
          0.27525735524664974,
          0.2852573552466495,
          0.2952573552466493,
          0.30525735524664954,
          0.3152573552466498,
          0.32525735524664956,
          0.33525735524664935,
          0.3452573552466496,
          0.3552573552466498,
          0.3652573552466496,
          0.3752573552466494,
          0.3852573552466496,
          0.39525735524664984,
          0.40525735524664963,
          0.4152573552466494,
          0.42525735524664965,
          0.4352573552466499,
          0.44525735524664967,
          0.45525735524664945,
          0.4652573552466497,
          0.4752573552466499,
          0.4852573552466497,
          0.4952573552466495,
          0.5052573552466497,
          0.51525735524665,
          0.5252573552466497,
          0.5352573552466495,
          0.5452573552466498,
          0.55525735524665,
          0.5652573552466498,
          0.5752573552466496,
          0.5852573552466498,
          0.59525735524665,
          0.6052573552466498,
          0.6152573552466496,
          0.6252573552466498,
          0.6352573552466501,
          0.6452573552466498,
          0.6552573552466496,
          0.6652573552466499,
          0.6752573552466501,
          0.6852573552466499,
          0.6952573552466497,
          0.7052573552466499,
          0.7152573552466501,
          0.7252573552466499,
          0.7352573552466497,
          0.7452573552466499,
          0.7552573552466502,
          0.76525735524665,
          0.7752573552466497,
          0.78525735524665,
          0.7952573552466502,
          0.80525735524665,
          0.8152573552466498,
          0.82525735524665,
          0.8352573552466502,
          0.84525735524665,
          0.8552573552466498,
          0.86525735524665,
          0.8752573552466503,
          0.8852573552466501,
          0.8952573552466498,
          0.9052573552466501,
          0.9152573552466503,
          0.9252573552466501,
          0.9352573552466499,
          0.9452573552466501,
          0.9552573552466503,
          0.9652573552466501,
          0.9752573552466499,
          0.9852573552466501,
          0.9952573552466504,
          1.0052573552466502,
          1.01525735524665,
          1.0252573552466502,
          1.0352573552466504,
          1.0452573552466502,
          1.05525735524665,
          1.0652573552466502,
          1.0752573552466504,
          1.0852573552466502,
          1.09525735524665,
          1.1052573552466503,
          1.1152573552466505,
          1.1252573552466503,
          1.13525735524665,
          1.1452573552466503,
          1.1552573552466505,
          1.1652573552466503,
          1.17525735524665,
          1.1852573552466503,
          1.1952573552466506,
          1.2052573552466503,
          1.2152573552466501,
          1.2252573552466504,
          1.2352573552466506,
          1.2452573552466504,
          1.2552573552466502,
          1.2652573552466504,
          1.2752573552466506,
          1.2852573552466504,
          1.2952573552466502,
          1.3052573552466504,
          1.3152573552466507,
          1.3252573552466504,
          1.3352573552466502,
          1.3452573552466505,
          1.3552573552466507,
          1.3652573552466505,
          1.3752573552466503,
          1.3852573552466505,
          1.3952573552466507,
          1.4052573552466505,
          1.4152573552466503,
          1.4252573552466505,
          1.4352573552466508,
          1.4452573552466506,
          1.4552573552466503,
          1.4652573552466506,
          1.4752573552466508,
          1.4852573552466506,
          1.4952573552466504,
          1.5052573552466506,
          1.5152573552466508,
          1.5252573552466506,
          1.5352573552466504,
          1.5452573552466506,
          1.5552573552466509,
          1.5652573552466507,
          1.5752573552466504,
          1.5852573552466507,
          1.595257355246651,
          1.6052573552466507,
          1.6152573552466505,
          1.6252573552466507,
          1.635257355246651,
          1.6452573552466507,
          1.6552573552466505,
          1.6652573552466508,
          1.675257355246651,
          1.6852573552466508,
          1.6952573552466506,
          1.7052573552466508,
          1.715257355246651,
          1.7252573552466508,
          1.7352573552466506,
          1.7452573552466508,
          1.755257355246651,
          1.7652573552466508,
          1.7752573552466506,
          1.7852573552466509,
          1.795257355246651,
          1.8052573552466509,
          1.8152573552466507,
          1.825257355246651,
          1.8352573552466511,
          1.845257355246651,
          1.8552573552466507,
          1.865257355246651,
          1.8752573552466512,
          1.885257355246651,
          1.8952573552466507,
          1.905257355246651,
          1.9152573552466512,
          1.925257355246651,
          1.9352573552466508,
          1.945257355246651,
          1.9552573552466512,
          1.965257355246651,
          1.9752573552466508,
          1.985257355246651,
          1.9952573552466513,
          2.005257355246651,
          2.015257355246651,
          2.025257355246651,
          2.0352573552466513,
          2.045257355246651,
          2.055257355246651,
          2.065257355246651,
          2.0752573552466513,
          2.085257355246651,
          2.095257355246651,
          2.1052573552466507,
          2.1152573552466514,
          2.125257355246651,
          2.135257355246651,
          2.1452573552466516,
          2.1552573552466514,
          2.165257355246651,
          2.175257355246651,
          2.1852573552466508,
          2.1952573552466514,
          2.2052573552466512,
          2.215257355246651,
          2.2252573552466517,
          2.2352573552466515,
          2.2452573552466513,
          2.255257355246651,
          2.265257355246651,
          2.2752573552466515,
          2.2852573552466513,
          2.295257355246651,
          2.3052573552466518,
          2.3152573552466515,
          2.3252573552466513,
          2.335257355246651,
          2.345257355246651,
          2.3552573552466516,
          2.3652573552466514,
          2.375257355246651,
          2.385257355246652,
          2.3952573552466516,
          2.4052573552466514,
          2.415257355246651,
          2.425257355246651,
          2.4352573552466517,
          2.4452573552466514,
          2.4552573552466512,
          2.465257355246652,
          2.4752573552466517,
          2.4852573552466515,
          2.4952573552466513,
          2.505257355246651,
          2.5152573552466517,
          2.5252573552466515,
          2.5352573552466513,
          2.545257355246652,
          2.5552573552466518,
          2.5652573552466515,
          2.5752573552466513,
          2.585257355246651,
          2.595257355246652,
          2.6052573552466516,
          2.6152573552466514,
          2.625257355246652,
          2.635257355246652,
          2.6452573552466516,
          2.6552573552466514,
          2.665257355246651,
          2.675257355246652,
          2.6852573552466517,
          2.6952573552466514,
          2.705257355246652,
          2.715257355246652,
          2.7252573552466517,
          2.7352573552466515,
          2.7452573552466513,
          2.755257355246652,
          2.7652573552466517,
          2.7752573552466515,
          2.785257355246652,
          2.795257355246652,
          2.8052573552466518,
          2.8152573552466515,
          2.8252573552466513,
          2.835257355246652,
          2.845257355246652,
          2.8552573552466516,
          2.8652573552466523,
          2.875257355246652,
          2.885257355246652,
          2.8952573552466516,
          2.9052573552466514,
          2.915257355246652,
          2.925257355246652,
          2.9352573552466517,
          2.9452573552466523,
          2.955257355246652,
          2.965257355246652,
          2.9752573552466517,
          2.9852573552466515,
          2.995257355246652
         ],
         "y": [
          0.06379641821594835,
          0.06502647368293965,
          0.06627361809310216,
          0.06753792738752329,
          0.06881947376160519,
          0.07011832556445964,
          0.07143454719833024,
          0.07276819901810316,
          0.07411933723096897,
          0.07548801379629914,
          0.07687427632580195,
          0.07827816798402337,
          0.07969972738925958,
          0.08113898851494841,
          0.08259598059160865,
          0.0840707280093962,
          0.08556325022134699,
          0.08707356164737813,
          0.08860167157911851,
          0.09014758408564129,
          0.09171129792017112,
          0.09329280642784014,
          0.09489209745456605,
          0.09650915325712778,
          0.098143950414513,
          0.0997964597406136,
          0.10146664619834436,
          0.10315446881526126,
          0.10485988060075557,
          0.10658282846490028,
          0.10832325313902517,
          0.11008108909809768,
          0.1118562644849854,
          0.11364870103667775,
          0.11545831401254213,
          0.1172850121246917,
          0.11912869747054002,
          0.12098926546761883,
          0.12286660479073333,
          0.12476059731153061,
          0.1266711180405549,
          0.12859803507186315,
          0.13054120953027468,
          0.1325004955213258,
          0.1344757400840025,
          0.13646678314631985,
          0.13847345748381937,
          0.140495588681052,
          0.14253299509611436,
          0.14458548782830472,
          0.14665287068896343,
          0.1487349401755626,
          0.150831485449106,
          0.15294228831490128,
          0.15506712320676375,
          0.1572057571747092,
          0.15935794987619287,
          0.161523453570948,
          0.16370201311947793,
          0.16589336598525156,
          0.1680972422406521,
          0.17031336457672538,
          0.17254144831677337,
          0.1747812014338352,
          0.17703232457209664,
          0.17929451107226657,
          0.18156744700095667,
          0.1838508111840975,
          0.18614427524442337,
          0.1884475036430543,
          0.1907601537252015,
          0.19308187577002053,
          0.19541231304463302,
          0.19775110186233583,
          0.2000978716450132,
          0.20245224498976513,
          0.20481383773976206,
          0.20718225905933343,
          0.2095571115132946,
          0.2119379911505135,
          0.21432448759171588,
          0.21671618412152438,
          0.21911265778472486,
          0.22151347948674788,
          0.2239182140983539,
          0.2263264205645036,
          0.22873765201739443,
          0.23115145589364072,
          0.2335673740555703,
          0.235984942916609,
          0.23840369357072055,
          0.24082315192586604,
          0.2432428388414436,
          0.24566227026966736,
          0.24808095740083932,
          0.250498406812466,
          0.25291412062216867,
          0.25532759664433147,
          0.2577383285504302,
          0.26014580603298026,
          0.26254951497303913,
          0.2649489376111968,
          0.2673435527219829,
          0.26973283579161733,
          0.2721162591990279,
          0.274493292400055,
          0.27686340211476135,
          0.2792260525177612,
          0.28158070543148006,
          0.2839268205222547,
          0.28626385549917943,
          0.28859126631560106,
          0.2909085073731645,
          0.29321503172830604,
          0.29551029130109063,
          0.29779373708628565,
          0.30006481936656176,
          0.30232298792770956,
          0.3045676922757577,
          0.3067983818558757,
          0.30901450627294436,
          0.31121551551367216,
          0.3134008601701352,
          0.3155699916646177,
          0.31772236247562535,
          0.3198574263649446,
          0.3219746386056181,
          0.32407345621070577,
          0.32615333816269826,
          0.3282137456434497,
          0.33025414226449445,
          0.33227399429761195,
          0.3342727709055021,
          0.3362499443724333,
          0.3382049903347238,
          0.340137388010918,
          0.3420466204315148,
          0.34393217466811027,
          0.345793542061811,
          0.3476302184507778,
          0.3494417043967577,
          0.35122750541046305,
          0.3529871321756548,
          0.35472010077178995,
          0.35642593289509067,
          0.358104156077895,
          0.35975430390614843,
          0.3613759162348966,
          0.3629685394016404,
          0.36453172643741494,
          0.3660650372754555,
          0.3675680389573143,
          0.3690403058362934,
          0.3704814197780593,
          0.3718909703583085,
          0.3732685550573515,
          0.3746137794514885,
          0.37592625740104757,
          0.3772056112349608,
          0.37845147193175516,
          0.3796634792968364,
          0.38084128213594676,
          0.3819845384246801,
          0.3830929154739394,
          0.38416609009122515,
          0.38520374873764457,
          0.3862055876805355,
          0.3871713131416009,
          0.38810064144045253,
          0.38899329913346575,
          0.3898490231478504,
          0.39066756091084626,
          0.3914486704739527,
          0.39219212063210895,
          0.3928976910377416,
          0.39356517230960053,
          0.3941943661363091,
          0.3947850853745554,
          0.3953371541418577,
          0.3958504079038392,
          0.3963246935559515,
          0.39675986949959025,
          0.39715580571254916,
          0.39751238381376486,
          0.39782949712230553,
          0.39810705071056385,
          0.3983449614516161,
          0.3985431580607147,
          0.3987015811308854,
          0.39882018316260326,
          0.39889892858752873,
          0.3989377937862843,
          0.39893676710026227,
          0.39889584883745294,
          0.398815051272291,
          0.3986943986395188,
          0.39853392712207164,
          0.39833368483299353,
          0.39809373179139546,
          0.3978141398924738,
          0.39749499287160883,
          0.3971363862625702,
          0.3967384273498558,
          0.3963012351152004,
          0.395824940178289,
          0.3953096847317176,
          0.39475562247024604,
          0.3941629185143927,
          0.3935317493284238,
          0.3928623026327943,
          0.3921547773111021,
          0.3914093833116186,
          0.3906263415434653,
          0.3898058837675073,
          0.38894825248203974,
          0.38805370080334606,
          0.38712249234120977,
          0.38615490106946676,
          0.38515121119168516,
          0.38411171700206753,
          0.38303672274166783,
          0.3819265424500238,
          0.3807814998123044,
          0.37960192800207837,
          0.37838816951980786,
          0.3771405760271796,
          0.3758595081773839,
          0.37454533544145746,
          0.37319843593080554,
          0.37181919621602344,
          0.3704080111421394,
          0.368965283640401,
          0.3674914245367323,
          0.36598685235698697,
          0.3644519931291281,
          0.3628872801824657,
          0.3612931539440817,
          0.35967006173257915,
          0.3580184575492887,
          0.35633880186706873,
          0.35463156141683766,
          0.35289720897197396,
          0.3511362231307259,
          0.3493490880967694,
          0.34753629345805365,
          0.34569833396407645,
          0.34383570930173085,
          0.34194892386986314,
          0.34003848655268576,
          0.3381049104921846,
          0.33614871285966513,
          0.3341704146265763,
          0.33217054033475546,
          0.3301496178662327,
          0.328108178212738,
          0.3260467552450482,
          0.323965885482314,
          0.3218661078615041,
          0.31974796350710555,
          0.31761199550121416,
          0.3154587486541514,
          0.31328876927574034,
          0.3111026049473743,
          0.30890080429500855,
          0.30668391676320383,
          0.3044524923903499,
          0.30220708158519577,
          0.29994823490480993,
          0.2976765028340931,
          0.2953924355669639,
          0.293096582789336,
          0.2907894934640028,
          0.2884717156175432,
          0.28614379612935953,
          0.28380628052295936,
          0.2814597127595853,
          0.27910463503429844,
          0.2767415875746164,
          0.2743711084418071,
          0.2719937333349326,
          0.26960999539773733,
          0.26722042502847276,
          0.2648255496927449,
          0.26242589373947256,
          0.2600219782200351,
          0.2576143207106923,
          0.2552034351383512,
          0.25278983160975416,
          0.25037401624415695,
          0.2479564910095657,
          0.24553775356259636,
          0.24311829709201735,
          0.24069861016603372,
          0.23827917658336636,
          0.23586047522817982,
          0.2334429799289054,
          0.23102715932100468,
          0.2286134767137162,
          0.22620238996082356,
          0.2237943513354809,
          0.22138980740912675,
          0.21898919893451713,
          0.21659296073290255,
          0.21420152158537292,
          0.21181530412838853,
          0.20943472475351446,
          0.20706019351137223,
          0.20469211401981852,
          0.20233088337635782,
          0.19997689207479383,
          0.19763052392612085,
          0.1952921559836536,
          0.1929621584723901,
          0.19064089472260018,
          0.18832872110763044,
          0.1860259869859111,
          0.18373303464714913,
          0.18145019926268896,
          0.17917780884001994,
          0.17691618418140623,
          0.17466563884661201,
          0.1724264791196934,
          0.170199003979826,
          0.1679835050761341,
          0.16578026670648355,
          0.1635895658002019,
          0.16141167190468422,
          0.15924684717584153,
          0.1570953463723461,
          0.15495741685362785,
          0.15283329858157157,
          0.1507232241258652,
          0.14862741867294454,
          0.14654610003848126,
          0.1444794786833573,
          0.14242775773306798,
          0.14039113300049352,
          0.13836979301197835,
          0.136363919036656,
          0.13437368511895578,
          0.1323992581142248,
          0.1304407977274004,
          0.12849845655466474,
          0.1265723801280139,
          0.12466270696266951,
          0.12276956860726518,
          0.12089308969673425,
          0.11903338800782794,
          0.11719057451718978,
          0.11536475346191304,
          0.11355602240250769,
          0.11176447228820119,
          0.109990187524498,
          0.10823324604292239,
          0.1064937193728687,
          0.10477167271548285,
          0.10306716501949818,
          0.10138024905894942,
          0.09971097151268846,
          0.09805937304562506,
          0.09642548839161562,
          0.09480934643792373,
          0.09321097031117673,
          0.09163037746474162,
          0.09006757976744477,
          0.08852258359355952,
          0.08699538991398775,
          0.08548599438856,
          0.08399438745937986,
          0.08252055444513967,
          0.08106447563633448,
          0.07962612639130187,
          0.0782054772330158,
          0.07680249394656388,
          0.07541713767723816,
          0.07404936502917,
          0.07269912816444031,
          0.07136637490259785,
          0.07005104882051962,
          0.06875308935254684,
          0.06747243189083246,
          0.06620900788583635,
          0.06496274494690618,
          0.06373356694288222,
          0.0625213941026659,
          0.06132614311569279,
          0.060147727232253,
          0.058986056363601234,
          0.0578410371818016,
          0.05671257321925265,
          0.055600564967840174,
          0.0545049099776657,
          0.053425502955300255,
          0.05236223586151437,
          0.051314998008437016,
          0.05028367615609669,
          0.04926815460829939,
          0.04826831530780028,
          0.04728403793072641,
          0.04631519998020995,
          0.045361676879191626,
          0.04442334206235675,
          0.04350006706716697,
          0.042591721623952083,
          0.041698173745028315,
          0.04081928981280938,
          0.039954934666880375,
          0.03910497169000394,
          0.03826926289302944,
          0.03744766899867952,
          0.03664004952418689,
          0.0358462628627573,
          0.03506616636383612,
          0.034299616412155225,
          0.033546468505541494,
          0.03280657733146656,
          0.03207979684231988,
          0.03136598032938924,
          0.030664980495532696,
          0.029976649526527857,
          0.02930083916108619,
          0.02863740075951956,
          0.0279861853710497,
          0.027347043799750802,
          0.0267198266691164,
          0.026104384485244936,
          0.025500567698636713,
          0.02490822676459837,
          0.024327212202250717,
          0.023757374652137023,
          0.02319856493243078,
          0.022650634093741847,
          0.022113433472520976,
          0.021586814743064904,
          0.02107062996812344,
          0.02056473164811204,
          0.020068972768934122,
          0.019583206848417238,
          0.019107287981369868,
          0.018641070883264853,
          0.018184410932556464,
          0.01773716421164009,
          0.017299187546462726,
          0.016870338544794045,
          0.01645047563316849,
          0.016039458092508806,
          0.015637146092443262,
          0.01524340072432838,
          0.014858084032989686,
          0.014481059047194485,
          0.014112189808869982,
          0.013751341401081373,
          0.013398379974784927,
          0.013053172774370986,
          0.012715588162013203,
          0.012385495640840061,
          0.012062765876944962,
          0.011747270720252464,
          0.011438883224257554,
          0.011137477664655825,
          0.01084292955688262,
          0.010555115672578995,
          0.010273914055003575,
          0.009999204033408796,
          0.009730866236400253,
          0.009468782604298873,
          0.00921283640052485,
          0.008962912222022966,
          0.008718896008749092,
          0.008480675052237279,
          0.008248138003267728,
          0.008021174878655375,
          0.007799677067178907,
          0.007583537334670737,
          0.007372649828287546,
          0.007166910079981799,
          0.006966215009194202,
          0.006770462924787121,
          0.006579553526239097,
          0.006393387904120523,
          0.006211868539870024,
          0.006034899304891935,
          0.005862385458994125,
          0.005694233648186137,
          0.005530351901857064,
          0.0053706496293524425,
          0.00521503761596965,
          0.005063428018390823,
          0.0049157343595720515,
          0.00477187152310794,
          0.00463175574708991,
          0.004495304617476663
         ],
         "type": "scatter"
        }
       ],
       "layout": {
        "template": {
         "data": {
          "histogram2dcontour": [
           {
            "type": "histogram2dcontour",
            "colorbar": {
             "outlinewidth": 0,
             "ticks": ""
            },
            "colorscale": [
             [
              0.0,
              "#0d0887"
             ],
             [
              0.1111111111111111,
              "#46039f"
             ],
             [
              0.2222222222222222,
              "#7201a8"
             ],
             [
              0.3333333333333333,
              "#9c179e"
             ],
             [
              0.4444444444444444,
              "#bd3786"
             ],
             [
              0.5555555555555556,
              "#d8576b"
             ],
             [
              0.6666666666666666,
              "#ed7953"
             ],
             [
              0.7777777777777778,
              "#fb9f3a"
             ],
             [
              0.8888888888888888,
              "#fdca26"
             ],
             [
              1.0,
              "#f0f921"
             ]
            ]
           }
          ],
          "choropleth": [
           {
            "type": "choropleth",
            "colorbar": {
             "outlinewidth": 0,
             "ticks": ""
            }
           }
          ],
          "histogram2d": [
           {
            "type": "histogram2d",
            "colorbar": {
             "outlinewidth": 0,
             "ticks": ""
            },
            "colorscale": [
             [
              0.0,
              "#0d0887"
             ],
             [
              0.1111111111111111,
              "#46039f"
             ],
             [
              0.2222222222222222,
              "#7201a8"
             ],
             [
              0.3333333333333333,
              "#9c179e"
             ],
             [
              0.4444444444444444,
              "#bd3786"
             ],
             [
              0.5555555555555556,
              "#d8576b"
             ],
             [
              0.6666666666666666,
              "#ed7953"
             ],
             [
              0.7777777777777778,
              "#fb9f3a"
             ],
             [
              0.8888888888888888,
              "#fdca26"
             ],
             [
              1.0,
              "#f0f921"
             ]
            ]
           }
          ],
          "heatmap": [
           {
            "type": "heatmap",
            "colorbar": {
             "outlinewidth": 0,
             "ticks": ""
            },
            "colorscale": [
             [
              0.0,
              "#0d0887"
             ],
             [
              0.1111111111111111,
              "#46039f"
             ],
             [
              0.2222222222222222,
              "#7201a8"
             ],
             [
              0.3333333333333333,
              "#9c179e"
             ],
             [
              0.4444444444444444,
              "#bd3786"
             ],
             [
              0.5555555555555556,
              "#d8576b"
             ],
             [
              0.6666666666666666,
              "#ed7953"
             ],
             [
              0.7777777777777778,
              "#fb9f3a"
             ],
             [
              0.8888888888888888,
              "#fdca26"
             ],
             [
              1.0,
              "#f0f921"
             ]
            ]
           }
          ],
          "heatmapgl": [
           {
            "type": "heatmapgl",
            "colorbar": {
             "outlinewidth": 0,
             "ticks": ""
            },
            "colorscale": [
             [
              0.0,
              "#0d0887"
             ],
             [
              0.1111111111111111,
              "#46039f"
             ],
             [
              0.2222222222222222,
              "#7201a8"
             ],
             [
              0.3333333333333333,
              "#9c179e"
             ],
             [
              0.4444444444444444,
              "#bd3786"
             ],
             [
              0.5555555555555556,
              "#d8576b"
             ],
             [
              0.6666666666666666,
              "#ed7953"
             ],
             [
              0.7777777777777778,
              "#fb9f3a"
             ],
             [
              0.8888888888888888,
              "#fdca26"
             ],
             [
              1.0,
              "#f0f921"
             ]
            ]
           }
          ],
          "contourcarpet": [
           {
            "type": "contourcarpet",
            "colorbar": {
             "outlinewidth": 0,
             "ticks": ""
            }
           }
          ],
          "contour": [
           {
            "type": "contour",
            "colorbar": {
             "outlinewidth": 0,
             "ticks": ""
            },
            "colorscale": [
             [
              0.0,
              "#0d0887"
             ],
             [
              0.1111111111111111,
              "#46039f"
             ],
             [
              0.2222222222222222,
              "#7201a8"
             ],
             [
              0.3333333333333333,
              "#9c179e"
             ],
             [
              0.4444444444444444,
              "#bd3786"
             ],
             [
              0.5555555555555556,
              "#d8576b"
             ],
             [
              0.6666666666666666,
              "#ed7953"
             ],
             [
              0.7777777777777778,
              "#fb9f3a"
             ],
             [
              0.8888888888888888,
              "#fdca26"
             ],
             [
              1.0,
              "#f0f921"
             ]
            ]
           }
          ],
          "surface": [
           {
            "type": "surface",
            "colorbar": {
             "outlinewidth": 0,
             "ticks": ""
            },
            "colorscale": [
             [
              0.0,
              "#0d0887"
             ],
             [
              0.1111111111111111,
              "#46039f"
             ],
             [
              0.2222222222222222,
              "#7201a8"
             ],
             [
              0.3333333333333333,
              "#9c179e"
             ],
             [
              0.4444444444444444,
              "#bd3786"
             ],
             [
              0.5555555555555556,
              "#d8576b"
             ],
             [
              0.6666666666666666,
              "#ed7953"
             ],
             [
              0.7777777777777778,
              "#fb9f3a"
             ],
             [
              0.8888888888888888,
              "#fdca26"
             ],
             [
              1.0,
              "#f0f921"
             ]
            ]
           }
          ],
          "mesh3d": [
           {
            "type": "mesh3d",
            "colorbar": {
             "outlinewidth": 0,
             "ticks": ""
            }
           }
          ],
          "scatter": [
           {
            "marker": {
             "line": {
              "color": "#283442"
             }
            },
            "type": "scatter"
           }
          ],
          "parcoords": [
           {
            "type": "parcoords",
            "line": {
             "colorbar": {
              "outlinewidth": 0,
              "ticks": ""
             }
            }
           }
          ],
          "scatterpolargl": [
           {
            "type": "scatterpolargl",
            "marker": {
             "colorbar": {
              "outlinewidth": 0,
              "ticks": ""
             }
            }
           }
          ],
          "bar": [
           {
            "error_x": {
             "color": "#f2f5fa"
            },
            "error_y": {
             "color": "#f2f5fa"
            },
            "marker": {
             "line": {
              "color": "rgb(17,17,17)",
              "width": 0.5
             },
             "pattern": {
              "fillmode": "overlay",
              "size": 10,
              "solidity": 0.2
             }
            },
            "type": "bar"
           }
          ],
          "scattergeo": [
           {
            "type": "scattergeo",
            "marker": {
             "colorbar": {
              "outlinewidth": 0,
              "ticks": ""
             }
            }
           }
          ],
          "scatterpolar": [
           {
            "type": "scatterpolar",
            "marker": {
             "colorbar": {
              "outlinewidth": 0,
              "ticks": ""
             }
            }
           }
          ],
          "histogram": [
           {
            "marker": {
             "pattern": {
              "fillmode": "overlay",
              "size": 10,
              "solidity": 0.2
             }
            },
            "type": "histogram"
           }
          ],
          "scattergl": [
           {
            "marker": {
             "line": {
              "color": "#283442"
             }
            },
            "type": "scattergl"
           }
          ],
          "scatter3d": [
           {
            "type": "scatter3d",
            "line": {
             "colorbar": {
              "outlinewidth": 0,
              "ticks": ""
             }
            },
            "marker": {
             "colorbar": {
              "outlinewidth": 0,
              "ticks": ""
             }
            }
           }
          ],
          "scattermapbox": [
           {
            "type": "scattermapbox",
            "marker": {
             "colorbar": {
              "outlinewidth": 0,
              "ticks": ""
             }
            }
           }
          ],
          "scatterternary": [
           {
            "type": "scatterternary",
            "marker": {
             "colorbar": {
              "outlinewidth": 0,
              "ticks": ""
             }
            }
           }
          ],
          "scattercarpet": [
           {
            "type": "scattercarpet",
            "marker": {
             "colorbar": {
              "outlinewidth": 0,
              "ticks": ""
             }
            }
           }
          ],
          "carpet": [
           {
            "aaxis": {
             "endlinecolor": "#A2B1C6",
             "gridcolor": "#506784",
             "linecolor": "#506784",
             "minorgridcolor": "#506784",
             "startlinecolor": "#A2B1C6"
            },
            "baxis": {
             "endlinecolor": "#A2B1C6",
             "gridcolor": "#506784",
             "linecolor": "#506784",
             "minorgridcolor": "#506784",
             "startlinecolor": "#A2B1C6"
            },
            "type": "carpet"
           }
          ],
          "table": [
           {
            "cells": {
             "fill": {
              "color": "#506784"
             },
             "line": {
              "color": "rgb(17,17,17)"
             }
            },
            "header": {
             "fill": {
              "color": "#2a3f5f"
             },
             "line": {
              "color": "rgb(17,17,17)"
             }
            },
            "type": "table"
           }
          ],
          "barpolar": [
           {
            "marker": {
             "line": {
              "color": "rgb(17,17,17)",
              "width": 0.5
             },
             "pattern": {
              "fillmode": "overlay",
              "size": 10,
              "solidity": 0.2
             }
            },
            "type": "barpolar"
           }
          ],
          "pie": [
           {
            "automargin": true,
            "type": "pie"
           }
          ]
         },
         "layout": {
          "autotypenumbers": "strict",
          "colorway": [
           "#636efa",
           "#EF553B",
           "#00cc96",
           "#ab63fa",
           "#FFA15A",
           "#19d3f3",
           "#FF6692",
           "#B6E880",
           "#FF97FF",
           "#FECB52"
          ],
          "font": {
           "color": "#f2f5fa"
          },
          "hovermode": "closest",
          "hoverlabel": {
           "align": "left"
          },
          "paper_bgcolor": "rgb(17,17,17)",
          "plot_bgcolor": "rgb(17,17,17)",
          "polar": {
           "bgcolor": "rgb(17,17,17)",
           "angularaxis": {
            "gridcolor": "#506784",
            "linecolor": "#506784",
            "ticks": ""
           },
           "radialaxis": {
            "gridcolor": "#506784",
            "linecolor": "#506784",
            "ticks": ""
           }
          },
          "ternary": {
           "bgcolor": "rgb(17,17,17)",
           "aaxis": {
            "gridcolor": "#506784",
            "linecolor": "#506784",
            "ticks": ""
           },
           "baxis": {
            "gridcolor": "#506784",
            "linecolor": "#506784",
            "ticks": ""
           },
           "caxis": {
            "gridcolor": "#506784",
            "linecolor": "#506784",
            "ticks": ""
           }
          },
          "coloraxis": {
           "colorbar": {
            "outlinewidth": 0,
            "ticks": ""
           }
          },
          "colorscale": {
           "sequential": [
            [
             0.0,
             "#0d0887"
            ],
            [
             0.1111111111111111,
             "#46039f"
            ],
            [
             0.2222222222222222,
             "#7201a8"
            ],
            [
             0.3333333333333333,
             "#9c179e"
            ],
            [
             0.4444444444444444,
             "#bd3786"
            ],
            [
             0.5555555555555556,
             "#d8576b"
            ],
            [
             0.6666666666666666,
             "#ed7953"
            ],
            [
             0.7777777777777778,
             "#fb9f3a"
            ],
            [
             0.8888888888888888,
             "#fdca26"
            ],
            [
             1.0,
             "#f0f921"
            ]
           ],
           "sequentialminus": [
            [
             0.0,
             "#0d0887"
            ],
            [
             0.1111111111111111,
             "#46039f"
            ],
            [
             0.2222222222222222,
             "#7201a8"
            ],
            [
             0.3333333333333333,
             "#9c179e"
            ],
            [
             0.4444444444444444,
             "#bd3786"
            ],
            [
             0.5555555555555556,
             "#d8576b"
            ],
            [
             0.6666666666666666,
             "#ed7953"
            ],
            [
             0.7777777777777778,
             "#fb9f3a"
            ],
            [
             0.8888888888888888,
             "#fdca26"
            ],
            [
             1.0,
             "#f0f921"
            ]
           ],
           "diverging": [
            [
             0,
             "#8e0152"
            ],
            [
             0.1,
             "#c51b7d"
            ],
            [
             0.2,
             "#de77ae"
            ],
            [
             0.3,
             "#f1b6da"
            ],
            [
             0.4,
             "#fde0ef"
            ],
            [
             0.5,
             "#f7f7f7"
            ],
            [
             0.6,
             "#e6f5d0"
            ],
            [
             0.7,
             "#b8e186"
            ],
            [
             0.8,
             "#7fbc41"
            ],
            [
             0.9,
             "#4d9221"
            ],
            [
             1,
             "#276419"
            ]
           ]
          },
          "xaxis": {
           "gridcolor": "#283442",
           "linecolor": "#506784",
           "ticks": "",
           "title": {
            "standoff": 15
           },
           "zerolinecolor": "#283442",
           "automargin": true,
           "zerolinewidth": 2
          },
          "yaxis": {
           "gridcolor": "#283442",
           "linecolor": "#506784",
           "ticks": "",
           "title": {
            "standoff": 15
           },
           "zerolinecolor": "#283442",
           "automargin": true,
           "zerolinewidth": 2
          },
          "scene": {
           "xaxis": {
            "backgroundcolor": "rgb(17,17,17)",
            "gridcolor": "#506784",
            "linecolor": "#506784",
            "showbackground": true,
            "ticks": "",
            "zerolinecolor": "#C8D4E3",
            "gridwidth": 2
           },
           "yaxis": {
            "backgroundcolor": "rgb(17,17,17)",
            "gridcolor": "#506784",
            "linecolor": "#506784",
            "showbackground": true,
            "ticks": "",
            "zerolinecolor": "#C8D4E3",
            "gridwidth": 2
           },
           "zaxis": {
            "backgroundcolor": "rgb(17,17,17)",
            "gridcolor": "#506784",
            "linecolor": "#506784",
            "showbackground": true,
            "ticks": "",
            "zerolinecolor": "#C8D4E3",
            "gridwidth": 2
           }
          },
          "shapedefaults": {
           "line": {
            "color": "#f2f5fa"
           }
          },
          "annotationdefaults": {
           "arrowcolor": "#f2f5fa",
           "arrowhead": 0,
           "arrowwidth": 1
          },
          "geo": {
           "bgcolor": "rgb(17,17,17)",
           "landcolor": "rgb(17,17,17)",
           "subunitcolor": "#506784",
           "showland": true,
           "showlakes": true,
           "lakecolor": "rgb(17,17,17)"
          },
          "title": {
           "x": 0.05
          },
          "updatemenudefaults": {
           "bgcolor": "#506784",
           "borderwidth": 0
          },
          "sliderdefaults": {
           "bgcolor": "#C8D4E3",
           "borderwidth": 1,
           "bordercolor": "rgb(17,17,17)",
           "tickwidth": 0
          },
          "mapbox": {
           "style": "dark"
          }
         }
        },
        "title": {
         "text": "Функция плотности f(z|H_0), критическая область и p-value"
        }
       },
       "config": {
        "plotlyServerURL": "https://plot.ly"
       }
      },
      "text/html": "<div>                            <div id=\"a41a6d3e-6001-478a-a48c-462ec07be320\" class=\"plotly-graph-div\" style=\"height:525px; width:100%;\"></div>            <script type=\"text/javascript\">                require([\"plotly\"], function(Plotly) {                    window.PLOTLYENV=window.PLOTLYENV || {};                                    if (document.getElementById(\"a41a6d3e-6001-478a-a48c-462ec07be320\")) {                    Plotly.newPlot(                        \"a41a6d3e-6001-478a-a48c-462ec07be320\",                        [{\"fill\":\"tozeroy\",\"fillcolor\":\"rgba(165, 165, 165, 0.5)\",\"mode\":\"none\",\"name\":\"$f(z|H_0)$\",\"x\":[-3.0,-2.99,-2.9800000000000004,-2.9700000000000006,-2.960000000000001,-2.950000000000001,-2.9400000000000013,-2.9300000000000015,-2.9200000000000017,-2.910000000000002,-2.900000000000002,-2.8900000000000023,-2.8800000000000026,-2.8700000000000028,-2.860000000000003,-2.850000000000003,-2.8400000000000034,-2.8300000000000036,-2.820000000000004,-2.810000000000004,-2.8000000000000043,-2.7900000000000045,-2.7800000000000047,-2.770000000000005,-2.760000000000005,-2.7500000000000053,-2.7400000000000055,-2.7300000000000058,-2.720000000000006,-2.710000000000006,-2.7000000000000064,-2.6900000000000066,-2.680000000000007,-2.670000000000007,-2.6600000000000072,-2.6500000000000075,-2.6400000000000077,-2.630000000000008,-2.620000000000008,-2.6100000000000083,-2.6000000000000085,-2.5900000000000087,-2.580000000000009,-2.570000000000009,-2.5600000000000094,-2.5500000000000096,-2.54000000000001,-2.53000000000001,-2.5200000000000102,-2.5100000000000104,-2.5000000000000107,-2.490000000000011,-2.480000000000011,-2.4700000000000113,-2.4600000000000115,-2.4500000000000117,-2.440000000000012,-2.430000000000012,-2.4200000000000124,-2.4100000000000126,-2.400000000000013,-2.390000000000013,-2.380000000000013,-2.3700000000000134,-2.3600000000000136,-2.350000000000014,-2.340000000000014,-2.3300000000000143,-2.3200000000000145,-2.3100000000000147,-2.300000000000015,-2.290000000000015,-2.2800000000000153,-2.2700000000000156,-2.2600000000000158,-2.250000000000016,-2.240000000000016,-2.2300000000000164,-2.2200000000000166,-2.210000000000017,-2.200000000000017,-2.1900000000000173,-2.1800000000000175,-2.1700000000000177,-2.160000000000018,-2.150000000000018,-2.1400000000000183,-2.1300000000000185,-2.1200000000000188,-2.110000000000019,-2.100000000000019,-2.0900000000000194,-2.0800000000000196,-2.07000000000002,-2.06000000000002,-2.0500000000000203,-2.0400000000000205,-2.0300000000000207,-2.020000000000021,-2.010000000000021,-2.0000000000000213,-1.9900000000000215,-1.9800000000000217,-1.970000000000022,-1.9600000000000222,-1.9500000000000224,-1.9400000000000226,-1.9300000000000228,-1.920000000000023,-1.9100000000000232,-1.9000000000000234,-1.8900000000000237,-1.8800000000000239,-1.870000000000024,-1.8600000000000243,-1.8500000000000245,-1.8400000000000247,-1.830000000000025,-1.8200000000000252,-1.8100000000000254,-1.8000000000000256,-1.7900000000000258,-1.780000000000026,-1.7700000000000262,-1.7600000000000264,-1.7500000000000266,-1.7400000000000269,-1.730000000000027,-1.7200000000000273,-1.7100000000000275,-1.7000000000000277,-1.690000000000028,-1.6800000000000281,-1.6700000000000284,-1.6600000000000286,-1.6500000000000288,-1.640000000000029,-1.6300000000000292,-1.6200000000000294,-1.6100000000000296,-1.6000000000000298,-1.59000000000003,-1.5800000000000303,-1.5700000000000305,-1.5600000000000307,-1.550000000000031,-1.5400000000000311,-1.5300000000000313,-1.5200000000000315,-1.5100000000000318,-1.500000000000032,-1.4900000000000322,-1.4800000000000324,-1.4700000000000326,-1.4600000000000328,-1.450000000000033,-1.4400000000000333,-1.4300000000000335,-1.4200000000000337,-1.410000000000034,-1.400000000000034,-1.3900000000000343,-1.3800000000000345,-1.3700000000000347,-1.360000000000035,-1.3500000000000352,-1.3400000000000354,-1.3300000000000356,-1.3200000000000358,-1.310000000000036,-1.3000000000000362,-1.2900000000000365,-1.2800000000000367,-1.2700000000000369,-1.260000000000037,-1.2500000000000373,-1.2400000000000375,-1.2300000000000377,-1.220000000000038,-1.2100000000000382,-1.2000000000000384,-1.1900000000000386,-1.1800000000000388,-1.170000000000039,-1.1600000000000392,-1.1500000000000394,-1.1400000000000396,-1.1300000000000399,-1.12000000000004,-1.1100000000000403,-1.1000000000000405,-1.0900000000000407,-1.080000000000041,-1.0700000000000411,-1.0600000000000414,-1.0500000000000416,-1.0400000000000418,-1.030000000000042,-1.0200000000000422,-1.0100000000000424,-1.0000000000000426,-0.9900000000000428,-0.9800000000000431,-0.9700000000000433,-0.9600000000000435,-0.9500000000000437,-0.9400000000000439,-0.9300000000000441,-0.9200000000000443,-0.9100000000000446,-0.9000000000000448,-0.890000000000045,-0.8800000000000452,-0.8700000000000454,-0.8600000000000456,-0.8500000000000458,-0.840000000000046,-0.8300000000000463,-0.8200000000000465,-0.8100000000000467,-0.8000000000000469,-0.7900000000000471,-0.7800000000000473,-0.7700000000000475,-0.7600000000000477,-0.750000000000048,-0.7400000000000482,-0.7300000000000484,-0.7200000000000486,-0.7100000000000488,-0.700000000000049,-0.6900000000000492,-0.6800000000000495,-0.6700000000000497,-0.6600000000000499,-0.6500000000000501,-0.6400000000000503,-0.6300000000000505,-0.6200000000000507,-0.610000000000051,-0.6000000000000512,-0.5900000000000514,-0.5800000000000516,-0.5700000000000518,-0.560000000000052,-0.5500000000000522,-0.5400000000000524,-0.5300000000000527,-0.5200000000000529,-0.5100000000000531,-0.5000000000000533,-0.4900000000000535,-0.4800000000000537,-0.47000000000005393,-0.46000000000005414,-0.45000000000005436,-0.44000000000005457,-0.4300000000000548,-0.420000000000055,-0.4100000000000552,-0.4000000000000554,-0.39000000000005564,-0.38000000000005585,-0.37000000000005606,-0.3600000000000563,-0.3500000000000565,-0.3400000000000567,-0.3300000000000569,-0.3200000000000571,-0.31000000000005734,-0.30000000000005755,-0.29000000000005777,-0.280000000000058,-0.2700000000000582,-0.2600000000000584,-0.2500000000000586,-0.24000000000005883,-0.23000000000005905,-0.22000000000005926,-0.21000000000005947,-0.20000000000005969,-0.1900000000000599,-0.1800000000000601,-0.17000000000006033,-0.16000000000006054,-0.15000000000006075,-0.14000000000006096,-0.13000000000006118,-0.12000000000006139,-0.1100000000000616,-0.10000000000006182,-0.09000000000006203,-0.08000000000006224,-0.07000000000006246,-0.06000000000006267,-0.05000000000006288,-0.040000000000063096,-0.03000000000006331,-0.020000000000063523,-0.010000000000063736,-6.394884621840902e-14,0.009999999999935838,0.019999999999935625,0.02999999999993541,0.0399999999999352,0.049999999999934985,0.05999999999993477,0.06999999999993456,0.07999999999993435,0.08999999999993413,0.09999999999993392,0.1099999999999337,0.1199999999999335,0.12999999999993328,0.13999999999993307,0.14999999999993285,0.15999999999993264,0.16999999999993243,0.17999999999993221,0.189999999999932,0.1999999999999318,0.20999999999993157,0.21999999999993136,0.22999999999993115,0.23999999999993094,0.24999999999993072,0.2599999999999305,0.2699999999999303,0.2799999999999301,0.28999999999992987,0.29999999999992966,0.30999999999992944,0.31999999999992923,0.329999999999929,0.3399999999999288,0.3499999999999286,0.3599999999999284,0.36999999999992816,0.37999999999992795,0.38999999999992774,0.3999999999999275,0.4099999999999273,0.4199999999999271,0.4299999999999269,0.43999999999992667,0.44999999999992646,0.45999999999992625,0.46999999999992603,0.4799999999999258,0.4899999999999256,0.4999999999999254,0.5099999999999252,0.519999999999925,0.5299999999999248,0.5399999999999245,0.5499999999999243,0.5599999999999241,0.5699999999999239,0.5799999999999237,0.5899999999999235,0.5999999999999233,0.609999999999923,0.6199999999999228,0.6299999999999226,0.6399999999999224,0.6499999999999222,0.659999999999922,0.6699999999999218,0.6799999999999216,0.6899999999999213,0.6999999999999211,0.7099999999999209,0.7199999999999207,0.7299999999999205,0.7399999999999203,0.7499999999999201,0.7599999999999199,0.7699999999999196,0.7799999999999194,0.7899999999999192,0.799999999999919,0.8099999999999188,0.8199999999999186,0.8299999999999184,0.8399999999999181,0.8499999999999179,0.8599999999999177,0.8699999999999175,0.8799999999999173,0.8899999999999171,0.8999999999999169,0.9099999999999167,0.9199999999999164,0.9299999999999162,0.939999999999916,0.9499999999999158,0.9599999999999156,0.9699999999999154,0.9799999999999152,0.989999999999915,0.9999999999999147,1.0099999999999145,1.0199999999999143,1.029999999999914,1.0399999999999139,1.0499999999999137,1.0599999999999135,1.0699999999999132,1.079999999999913,1.0899999999999128,1.0999999999999126,1.1099999999999124,1.1199999999999122,1.129999999999912,1.1399999999999118,1.1499999999999115,1.1599999999999113,1.1699999999999111,1.179999999999911,1.1899999999999107,1.1999999999999105,1.2099999999999103,1.21999999999991,1.2299999999999098,1.2399999999999096,1.2499999999999094,1.2599999999999092,1.269999999999909,1.2799999999999088,1.2899999999999086,1.2999999999999083,1.3099999999999081,1.319999999999908,1.3299999999999077,1.3399999999999075,1.3499999999999073,1.359999999999907,1.3699999999999068,1.3799999999999066,1.3899999999999064,1.3999999999999062,1.409999999999906,1.4199999999999058,1.4299999999999056,1.4399999999999054,1.4499999999999051,1.459999999999905,1.4699999999999047,1.4799999999999045,1.4899999999999043,1.499999999999904,1.5099999999999039,1.5199999999999037,1.5299999999999034,1.5399999999999032,1.549999999999903,1.5599999999999028,1.5699999999999026,1.5799999999999024,1.5899999999999022,1.599999999999902,1.6099999999999017,1.6199999999999015,1.6299999999999013,1.639999999999901,1.6499999999999009,1.6599999999999007,1.6699999999999005,1.6799999999999002,1.6899999999999,1.6999999999998998,1.7099999999998996,1.7199999999998994,1.7299999999998992,1.739999999999899,1.7499999999998987,1.7599999999998985,1.7699999999998983,1.779999999999898,1.789999999999898,1.7999999999998977,1.8099999999998975,1.8199999999998973,1.829999999999897,1.8399999999998968,1.8499999999998966,1.8599999999998964,1.8699999999998962,1.879999999999896,1.8899999999998958,1.8999999999998956,1.9099999999998953,1.9199999999998951,1.929999999999895,1.9399999999998947,1.9499999999998945,1.9599999999998943,1.969999999999894,1.9799999999998938,1.9899999999998936,1.9999999999998934,2.009999999999893,2.019999999999893,2.029999999999893,2.0399999999998926,2.0499999999998924,2.059999999999892,2.069999999999892,2.0799999999998917,2.0899999999998915,2.0999999999998913,2.109999999999891,2.119999999999891,2.1299999999998906,2.1399999999998904,2.14999999999989,2.15999999999989,2.16999999999989,2.1799999999998896,2.1899999999998894,2.199999999999889,2.209999999999889,2.2199999999998887,2.2299999999998885,2.2399999999998883,2.249999999999888,2.259999999999888,2.2699999999998877,2.2799999999998875,2.2899999999998872,2.299999999999887,2.309999999999887,2.3199999999998866,2.3299999999998864,2.339999999999886,2.349999999999886,2.3599999999998857,2.3699999999998855,2.3799999999998853,2.389999999999885,2.399999999999885,2.4099999999998847,2.4199999999998845,2.4299999999998843,2.439999999999884,2.449999999999884,2.4599999999998836,2.4699999999998834,2.479999999999883,2.489999999999883,2.4999999999998828,2.5099999999998825,2.5199999999998823,2.529999999999882,2.539999999999882,2.5499999999998817,2.5599999999998815,2.5699999999998813,2.579999999999881,2.589999999999881,2.5999999999998806,2.6099999999998804,2.61999999999988,2.62999999999988,2.6399999999998798,2.6499999999998796,2.6599999999998793,2.669999999999879,2.679999999999879,2.6899999999998787,2.6999999999998785,2.7099999999998783,2.719999999999878,2.729999999999878,2.7399999999998776,2.7499999999998774,2.759999999999877,2.769999999999877,2.779999999999877,2.7899999999998766,2.7999999999998764,2.809999999999876,2.819999999999876,2.8299999999998757,2.8399999999998755,2.8499999999998753,2.859999999999875,2.869999999999875,2.8799999999998747,2.8899999999998744,2.8999999999998742,2.909999999999874,2.919999999999874,2.9299999999998736,2.9399999999998734,2.949999999999873,2.959999999999873,2.9699999999998727,2.9799999999998725,2.9899999999998723],\"y\":[0.0044318484119380075,0.004566589954670145,0.004704957526933971,0.0048470329059789406,0.0049928992136123625,0.005142640923053925,0.005296343865310997,0.005454095235056526,0.0056159835959909395,0.005782098885669447,0.0059525324197758165,0.006127376895823644,0.006306726396265877,0.006490676390993312,0.006679323739202561,0.0068727666906139104,0.007071104886019379,0.007274439357141146,0.0074828725257804814,0.007696508202237236,0.00791545158297987,0.00813980924754592,0.008369689154652919,0.008605200637499559,0.008846454398237101,0.00909356250159092,0.009346638367612146,0.009605796763539435,0.009871153794750977,0.010142826894786907,0.010420934814422415,0.010705597609771992,0.010996936629405377,0.01129507450045592,0.01160013511370234,0.011912243607604941,0.012231526351277727,0.012558110926377944,0.012892126107895035,0.013233701843821081,0.013582969233685318,0.013940060505935502,0.014305108994149364,0.014678249112059694,0.01505961632737709,0.015449347134394793,0.015847579025360423,0.01625445046060009,0.016670100837380627,0.0170946704574965,0.017528300493568072,0.017971132954039154,0.018423310646861542,0.018884977141855643,0.019356276731736413,0.019837354391794758,0.02032835573822524,0.020829426985091576,0.02134071489992214,0.021862366757928724,0.022394530294842212,0.02293735365835998,0.023490985358200628,0.024055574214762215,0.024631269306381712,0.025218219915193574,0.025816575471586833,0.026426485497260854,0.027048099546880876,0.027681567148335636,0.028327037741600208,0.028984660616208413,0.029654584847340237,0.030336959230530564,0.031031932215007142,0.03173965183566627,0.03246026564369628,0.033193920635859915,0.033940763182447944,0.03470093895391753,0.0354745928462301,0.03626186890490485,0.03706291024780507,0.03787785898667602,0.038706856147454116,0.03955004158936868,0.04040755392285873,0.04127953042632877,0.042166106961768646,0.04306741788926401,0.043983595980425415,0.04491477233076527,0.045861076271053035,0.046822635277681234,0.047799574882075056,0.04879201857918073,0.04980008773506869,0.05082390149368904,0.05186357668281837,0.052919227719238036,0.05399096651318576,0.05507890237212341,0.05618314190386563,0.057303788919114654,0.05844094433344893,0.05959470606881347,0.06076516895456211,0.06195242462810243,0.06315656143519587,0.0643776643299665,0.06561581477467368,0.06687109063930416,0.06814356610104151,0.06943331154367106,0.07074039345698019,0.07206487433621472,0.07340681258165355,0.0747662623983642,0.07614327369620383,0.07753789199013043,0.07895015830089053,0.08038010905615045,0.08182777599213903,0.08329318605587062,0.08477636130801829,0.0862773188265075,0.08779607061090154,0.08933262348765081,0.09088697901627861,0.09245913339657633,0.0940490773768825,0.0956567961635195,0.0972822693314629,0.09892547073631905,0.10058636842768579,0.10226492456397314,0.10396109532875927,0.10567483084875857,0.10740607511347873,0.10915476589664218,0.11092083467945028,0.11270420657576517,0.11450480025928693,0.11632252789280154,0.11815729505957663,0.12000900069697985,0.12187753703239594,0.1237627895215172,0.12566463678908213,0.12758295057213576,0.12951759566588553,0.13146842987222473,0.13343530395099593,0.13541806157406483,0.1374165392822752,0.1394305664453536,0.141459965224832,0.14350455054005556,0.14556413003734067,0.14763850406234869,0.14972746563573772,0.15183080043215444,0.15394828676262637,0.15607969556041343,0.15822479037037554,0.160383327341912,0.16255505522552643,0.16473971537306903,0.16693704174170593,0.16914676090166444,0.17136859204779928,0.17360224701502483,0.17584743029765415,0.17810383907268526,0.18037116322707192,0.1826490853890134,0.1849372809632967,0.18723541817072084,0.18954315809163147,0.19186015471359052,0.19418605498320402,0.1965204988621275,0.1988631193872668,0.2012135427351882,0.2035713882907502,0.20593626871996545,0.20830779004709893,0.2106855517360058,0.21306914677570832,0.21545816177021007,0.21785217703254084,0.2202507666830235,0.2226534987517513,0.22505993528525975,0.22746963245737595,0.229882140684223,0.2322970047433561,0.23471376389700166,0.23713195201936937,0.2395510977280031,0.24197072451913307,0.2443903509069892,0.24680949056703233,0.24922765248305545,0.2516443410981066,0.2540590564691785,0.2564712944256098,0.25888054673113825,0.2612863012495425,0.2636880421138075,0.2660852498987441,0.26847740179699164,0.2708639717983273,0.27324443087220546,0.2756182471534459,0.27798488613098565,0.28034381083960974,0.2826944820545694,0.28503635848899633,0.28736889699401746,0.2896915527614719,0.2920037795291306,0.2943050297883143,0.2965947549938049,0.29887240577594193,0.3011374321547936,0.3033892837562894,0.3056274100301991,0.3078512604698422,0.3100602848334054,0.31225393336675056,0.31443165702758663,0.31659290771088217,0.3187371384753909,0.32086380377116197,0.32297235966790383,0.3250622640840717,0.3271329770165441,0.32918396077075446,0.33121468019114264,0.33322460289178946,0.335213199487096,0.3371799438223705,0.3391243132041822,0.34104578863034263,0.3429438550193741,0.3448180014393236,0.34666772133578194,0.3484925127589649,0.35029187858971633,0.35206532676429014,0.3538123704977704,0.355532528505988,0.35722532522579176,0.3588902910335357,0.3605269624616392,0.36213488241308356,0.36371360037370487,0.36526267262214546,0.36678166243732785,0.3682701403033152,0.36972768411142437,0.37115387935945815,0.3725483193479257,0.3739106053731209,0.3752403469169305,0.3765371618332467,0.3778006765308575,0.3790305261526948,0.38022635475131816,0.38138781546051753,0.38251457066291766,0.3836062921534723,0.3846626612987368,0.38568336919181023,0.3866681168028436,0.38761661512500867,0.3885285853158306,0.3894037588337854,0.39024187757006945,0.39104269397545127,0.39180597118211663,0.3925314831204247,0.3932190146304932,0.39386836156853705,0.39447933090788534,0.39505174083460787,0.3955854208376843,0.3960802117936532,0.39653596604568314,0.39695254747700937,0.3973298315786861,0.39766770551160696,0.3979660681627493,0.39822483019560545,0.39844391409476276,0.39862325420460404,0.39876279676209897,0.3988624999236656,0.39892233378608194,0.3989422804014327,0.39892233378608244,0.3988624999236666,0.39876279676210047,0.39862325420460604,0.3984439140947654,0.3982248301956085,0.3979660681627529,0.397667705511611,0.3973298315786907,0.3969525474770144,0.3965359660456887,0.39608021179365926,0.3955854208376909,0.395051740834615,0.3944793309078929,0.3938683615685451,0.39321901463050174,0.3925314831204337,0.3918059711821262,0.39104269397546126,0.3902418775700799,0.38940375883379635,0.38852858531584206,0.3876166151250206,0.38666811680285595,0.38568336919182306,0.38466266129875004,0.3836062921534861,0.3825145706629319,0.3813878154605322,0.38022635475133326,0.37903052615271027,0.37780067653087346,0.3765371618332631,0.3752403469169473,0.373910605373138,0.37254831934794336,0.3711538793594762,0.3697276841114428,0.368270140303334,0.36678166243734706,0.3652626726221651,0.36371360037372485,0.36213488241310393,0.3605269624616599,0.3588902910335568,0.35722532522581324,0.35553252850600975,0.3538123704977926,0.3520653267643126,0.3502918785897392,0.3484925127589881,0.3466677213358055,0.34481800143934743,0.3429438550193982,0.34104578863036705,0.33912431320420694,0.3371799438223955,0.33521319948712125,0.33322460289181505,0.3312146801911685,0.32918396077078055,0.32713297701657046,0.3250622640840983,0.32297235966793064,0.32086380377118906,0.3187371384754183,0.3165929077109097,0.3144316570276144,0.31225393336677854,0.31006028483343356,0.3078512604698705,0.3056274100302277,0.3033892837563181,0.3011374321548225,0.29887240577597096,0.29659475499383414,0.29430502978834366,0.2920037795291601,0.28969155276150155,0.2873688969940472,0.28503635848902625,0.2826944820545994,0.2803438108396399,0.2779848861310159,0.2756182471534762,0.2732444308722359,0.27086397179835775,0.2684774017970222,0.26608524989877474,0.2636880421138382,0.26128630124957325,0.258880546731169,0.2564712944256406,0.25405905646920934,0.25164434109813755,0.24922765248308637,0.24680949056706325,0.2443903509070202,0.24197072451916402,0.23955109772803404,0.23713195201940035,0.23471376389703258,0.23229700474338702,0.2298821406842539,0.22746963245740676,0.22505993528529053,0.22265349875178206,0.22025076668305427,0.2178521770325715,0.21545816177024069,0.21306914677573885,0.2106855517360363,0.20830779004712932,0.2059362687199957,0.2035713882907804,0.20121354273521833,0.1988631193872968,0.19652049886215742,0.19418605498323382,0.19186015471362022,0.18954315809166103,0.18723541817075032,0.18493728096332604,0.18264908538904262,0.18037116322710098,0.17810383907271418,0.1758474302976829,0.17360224701505347,0.17136859204782778,0.16914676090169278,0.16693704174173413,0.16473971537309706,0.1625550552255543,0.1603833273419397,0.15822479037040305,0.1560796955604408,0.15394828676265354,0.15183080043218142,0.14972746563576456,0.1476385040623753,0.14556413003736707,0.1435045505400818,0.1414599652248581,0.13943056644537946,0.13741653928230083,0.13541806157409025,0.13343530395102116,0.1314684298722498,0.12951759566591037,0.1275829505721604,0.12566463678910658,0.1237627895215414,0.12187753703241994,0.12000900069700365,0.1181572950596002,0.11632252789282488,0.11450480025931005,0.1127042065757881,0.11092083467947297,0.10915476589666463,0.10740607511350098,0.10567483084878061,0.10396109532878109,0.10226492456399473,0.10058636842770714,0.09892547073634017,0.0972822693314838,0.09565679616354016,0.09404907737690293,0.09245913339659655,0.09088697901629861,0.08933262348767058,0.08779607061092108,0.08627731882652681,0.08477636130803737,0.08329318605588946,0.08182777599215765,0.08038010905616885,0.07895015830090871,0.07753789199014839,0.07614327369622156,0.07476626239838172,0.07340681258167082,0.07206487433623178,0.07074039345699702,0.06943331154368768,0.0681435661010579,0.06687109063932033,0.06561581477468961,0.06437766432998222,0.06315656143521137,0.06195242462811773,0.0607651689545772,0.059594706068828336,0.05844094433346358,0.057303788919129094,0.056183141903879845,0.05507890237213744,0.05399096651319957,0.052919227719251644,0.051863576682831786,0.05082390149370225,0.049800087735081676,0.04879201857919354,0.04779957488208765,0.04682263527769362,0.04586107627106524,0.04491477233077727,0.04398359598043724,0.04306741788927563,0.04216610696178009,0.04127953042634003,0.04040755392286978,0.03955004158937955,0.0387068561474648,0.03787785898668653,0.03706291024781541,0.036261868904915014,0.03547459284624009,0.03470093895392734,0.033940763182457576,0.03319392063586938,0.03246026564370558,0.03173965183567541,0.031031932215016118,0.030336959230539372,0.02965458484734888,0.028984660616216906,0.028327037741608534,0.027681567148343814,0.027048099546888898,0.026426485497268733,0.025816575471594563,0.025218219915201148,0.024631269306389147,0.0240555742147695,0.02349098535820777,0.022937353658367,0.02239453029484909,0.021862366757935466,0.021340714899928746,0.020829426985098053,0.02032835573823159,0.019837354391800968,0.0193562767317425,0.018884977141861613,0.01842331064686739,0.017971132954044875,0.017528300493573675,0.01709467045750198,0.016670100837386004,0.01625445046060535,0.01584757902536557,0.015449347134399834,0.015059616327382026,0.014678249112064517,0.014305108994154088,0.013940060505940122,0.013582969233689835,0.0132337018438255,0.01289212610789936,0.01255811092638217,0.012231526351281856,0.011912243607608983,0.011600135113706287,0.011295074500459776,0.010996936629409147,0.010705597609775677,0.010420934814426016,0.010142826894790425,0.00987115379475441,0.009605796763542786,0.009346638367615422,0.009093562501594118,0.008846454398240224,0.008605200637502605,0.008369689154655895,0.008139809247548827,0.007915451582982702,0.007696508202240001,0.007482872525783179,0.007274439357143776,0.0070711048860219484,0.006872766690616413,0.006679323739205005,0.006490676390995698,0.006306726396268203,0.006127376895825914,0.005952532419778027,0.005782098885671599,0.005615983595993034,0.005454095235058571,0.005296343865312991,0.0051426409230558665,0.0049928992136142525,0.004847032905980783,0.0047049575269357685,0.004566589954671889],\"type\":\"scatter\"},{\"fill\":\"tozeroy\",\"fillcolor\":\"rgba(255, 94, 94, 0.5)\",\"mode\":\"none\",\"name\":\"critical area\",\"x\":[1.6400000000000001,1.6500000000000001,1.6600000000000001,1.6700000000000002,1.6800000000000002,1.6900000000000002,1.7000000000000002,1.7100000000000002,1.7200000000000002,1.7300000000000002,1.7400000000000002,1.7500000000000002,1.7600000000000002,1.7700000000000002,1.7800000000000002,1.7900000000000003,1.8000000000000003,1.8100000000000003,1.8200000000000003,1.8300000000000003,1.8400000000000003,1.8500000000000003,1.8600000000000003,1.8700000000000003,1.8800000000000003,1.8900000000000003,1.9000000000000004,1.9100000000000004,1.9200000000000004,1.9300000000000004,1.9400000000000004,1.9500000000000004,1.9600000000000004,1.9700000000000004,1.9800000000000004,1.9900000000000004,2.0000000000000004,2.0100000000000007,2.0200000000000005,2.0300000000000002,2.0400000000000005,2.0500000000000007,2.0600000000000005,2.0700000000000003,2.0800000000000005,2.0900000000000007,2.1000000000000005,2.1100000000000003,2.1200000000000006,2.130000000000001,2.1400000000000006,2.1500000000000004,2.1600000000000006,2.170000000000001,2.1800000000000006,2.1900000000000004,2.2000000000000006,2.210000000000001,2.2200000000000006,2.2300000000000004,2.2400000000000007,2.250000000000001,2.2600000000000007,2.2700000000000005,2.2800000000000007,2.290000000000001,2.3000000000000007,2.3100000000000005,2.3200000000000007,2.330000000000001,2.3400000000000007,2.3500000000000005,2.3600000000000008,2.370000000000001,2.380000000000001,2.3900000000000006,2.400000000000001,2.410000000000001,2.420000000000001,2.4300000000000006,2.440000000000001,2.450000000000001,2.460000000000001,2.4700000000000006,2.480000000000001,2.490000000000001,2.500000000000001,2.5100000000000007,2.520000000000001,2.530000000000001,2.540000000000001,2.5500000000000007,2.560000000000001,2.570000000000001,2.580000000000001,2.5900000000000007,2.600000000000001,2.610000000000001,2.620000000000001,2.630000000000001,2.640000000000001,2.6500000000000012,2.660000000000001,2.670000000000001,2.680000000000001,2.6900000000000013,2.700000000000001,2.710000000000001,2.720000000000001,2.7300000000000013,2.740000000000001,2.750000000000001,2.760000000000001,2.7700000000000014,2.780000000000001,2.790000000000001,2.800000000000001,2.8100000000000014,2.820000000000001,2.830000000000001,2.840000000000001,2.8500000000000014,2.860000000000001,2.870000000000001,2.8800000000000012,2.8900000000000015,2.9000000000000012,2.910000000000001,2.9200000000000013,2.9300000000000015,2.9400000000000013,2.950000000000001,2.9600000000000013,2.9700000000000015,2.9800000000000013,2.990000000000001],\"y\":[0.1039610953287642,0.102264924563978,0.10058636842769056,0.0989254707363237,0.09728226933146747,0.09565679616352397,0.0940490773768869,0.09245913339658064,0.09088697901628283,0.08933262348765497,0.0877960706109056,0.08627731882651149,0.0847763613080222,0.08329318605587445,0.08182777599214276,0.08038010905615413,0.07895015830089412,0.07753789199013396,0.07614327369620728,0.07476626239836759,0.07340681258165686,0.07206487433621796,0.07074039345698334,0.06943331154367416,0.06814356610104454,0.06687109063930712,0.06561581477467655,0.06437766432996932,0.06315656143519861,0.06195242462810511,0.060765168954564734,0.059594706068816033,0.05844094433345142,0.057303788919117075,0.05618314190386799,0.055078902372125725,0.05399096651318801,0.052919227719240215,0.05186357668282051,0.05082390149369116,0.049800087735070726,0.04879201857918268,0.047799574882076964,0.04682263527768313,0.045861076271054846,0.044914772330767024,0.043983595980427156,0.0430674178892657,0.042166106961770276,0.04127953042633033,0.04040755392286025,0.03955004158937019,0.03870685614745557,0.037877858986677414,0.03706291024780644,0.036261868904906194,0.03547459284623139,0.034700938953918764,0.03394076318244915,0.033193920635861095,0.03246026564369742,0.03173965183566735,0.031031932215008207,0.0303369592305316,0.02965458484734123,0.028984660616209364,0.02832703774160112,0.027681567148336535,0.02704809954688174,0.02642648549726168,0.02581657547158764,0.02521821991519436,0.02463126930638245,0.02405557421476292,0.02349098535820131,0.022937353658360665,0.02239453029484285,0.021862366757929335,0.021340714899922737,0.02082942698509216,0.020328355738225792,0.019837354391795278,0.019356276731736923,0.018884977141856146,0.018423310646862007,0.01797113295403959,0.017528300493568502,0.017094670457496918,0.016670100837381022,0.016254450460600457,0.015847579025360783,0.015449347134395141,0.015059616327377416,0.014678249112059992,0.014305108994149657,0.013940060505935792,0.013582969233685583,0.013233701843821328,0.012892126107895276,0.012558110926378178,0.012231526351277944,0.011912243607605143,0.011600135113702531,0.011295074500456111,0.010996936629405547,0.010705597609772148,0.010420934814422567,0.010142826894787054,0.00987115379475111,0.009605796763539553,0.00934663836761226,0.00909356250159103,0.008846454398237197,0.008605200637499642,0.008369689154653005,0.008139809247546004,0.007915451582979939,0.007696508202237294,0.0074828725257805335,0.007274439357141199,0.007071104886019424,0.006872766690613948,0.0066793237392025915,0.006490676390993347,0.006306726396265905,0.00612737689582366,0.005952532419775833,0.005782098885669457,0.005615983595990944,0.005454095235056526,0.005296343865310997,0.005142640923053925,0.004992899213612354,0.0048470329059789275,0.004704957526933963,0.004566589954670133],\"type\":\"scatter\"},{\"fill\":\"tozeroy\",\"fillcolor\":\"rgba(109, 141, 255, 0.5)\",\"mode\":\"none\",\"name\":\"p-value\",\"x\":[-1.9147426447533524,-1.9047426447533524,-1.8947426447533524,-1.8847426447533524,-1.8747426447533524,-1.8647426447533524,-1.8547426447533524,-1.8447426447533524,-1.8347426447533524,-1.8247426447533523,-1.8147426447533523,-1.8047426447533523,-1.7947426447533523,-1.7847426447533523,-1.7747426447533523,-1.7647426447533523,-1.7547426447533523,-1.7447426447533523,-1.7347426447533523,-1.7247426447533523,-1.7147426447533523,-1.7047426447533522,-1.6947426447533522,-1.6847426447533522,-1.6747426447533522,-1.6647426447533522,-1.6547426447533522,-1.6447426447533522,-1.6347426447533522,-1.6247426447533522,-1.6147426447533522,-1.6047426447533522,-1.5947426447533521,-1.5847426447533521,-1.5747426447533521,-1.5647426447533521,-1.554742644753352,-1.544742644753352,-1.534742644753352,-1.524742644753352,-1.514742644753352,-1.504742644753352,-1.494742644753352,-1.484742644753352,-1.474742644753352,-1.464742644753352,-1.454742644753352,-1.444742644753352,-1.434742644753352,-1.424742644753352,-1.414742644753352,-1.404742644753352,-1.394742644753352,-1.384742644753352,-1.374742644753352,-1.364742644753352,-1.354742644753352,-1.344742644753352,-1.334742644753352,-1.324742644753352,-1.314742644753352,-1.3047426447533519,-1.2947426447533519,-1.2847426447533519,-1.2747426447533519,-1.2647426447533519,-1.2547426447533518,-1.2447426447533518,-1.2347426447533518,-1.2247426447533518,-1.2147426447533518,-1.2047426447533518,-1.1947426447533518,-1.1847426447533518,-1.1747426447533518,-1.1647426447533518,-1.1547426447533518,-1.1447426447533517,-1.1347426447533517,-1.1247426447533517,-1.1147426447533517,-1.1047426447533517,-1.0947426447533517,-1.0847426447533517,-1.0747426447533517,-1.0647426447533517,-1.0547426447533517,-1.0447426447533517,-1.0347426447533516,-1.0247426447533516,-1.0147426447533516,-1.0047426447533516,-0.9947426447533516,-0.9847426447533516,-0.9747426447533516,-0.9647426447533516,-0.9547426447533516,-0.9447426447533516,-0.9347426447533516,-0.9247426447533516,-0.9147426447533515,-0.9047426447533515,-0.8947426447533515,-0.8847426447533515,-0.8747426447533515,-0.8647426447533515,-0.8547426447533515,-0.8447426447533515,-0.8347426447533515,-0.8247426447533515,-0.8147426447533515,-0.8047426447533514,-0.7947426447533514,-0.7847426447533514,-0.7747426447533514,-0.7647426447533514,-0.7547426447533514,-0.7447426447533514,-0.7347426447533514,-0.7247426447533514,-0.7147426447533514,-0.7047426447533514,-0.6947426447533513,-0.6847426447533513,-0.6747426447533513,-0.6647426447533513,-0.6547426447533513,-0.6447426447533513,-0.6347426447533513,-0.6247426447533513,-0.6147426447533513,-0.6047426447533513,-0.5947426447533513,-0.5847426447533512,-0.5747426447533512,-0.5647426447533512,-0.5547426447533512,-0.5447426447533512,-0.5347426447533512,-0.5247426447533512,-0.5147426447533512,-0.5047426447533512,-0.49474264475335117,-0.48474264475335116,-0.47474264475335115,-0.46474264475335114,-0.45474264475335113,-0.4447426447533511,-0.4347426447533511,-0.4247426447533511,-0.4147426447533511,-0.4047426447533511,-0.3947426447533511,-0.38474264475335107,-0.37474264475335106,-0.36474264475335105,-0.35474264475335104,-0.34474264475335104,-0.334742644753351,-0.324742644753351,-0.314742644753351,-0.304742644753351,-0.294742644753351,-0.284742644753351,-0.274742644753351,-0.26474264475335096,-0.25474264475335096,-0.24474264475335095,-0.23474264475335094,-0.22474264475335093,-0.21474264475335092,-0.2047426447533509,-0.1947426447533509,-0.1847426447533509,-0.17474264475335088,-0.16474264475335088,-0.15474264475335087,-0.14474264475335086,-0.13474264475335085,-0.12474264475335084,-0.11474264475335083,-0.10474264475335082,-0.09474264475335081,-0.0847426447533508,-0.0747426447533508,-0.06474264475335079,-0.05474264475335078,-0.04474264475335077,-0.03474264475335076,-0.02474264475335075,-0.014742644753350742,-0.004742644753350733,0.005257355246649276,0.015257355246649285,0.025257355246649293,0.0352573552466493,0.04525735524664931,0.05525735524664932,0.06525735524664933,0.07525735524664934,0.08525735524664935,0.09525735524664913,0.10525735524664936,0.1152573552466496,0.12525735524664938,0.13525735524664917,0.1452573552466494,0.15525735524664963,0.16525735524664942,0.1752573552466492,0.18525735524664944,0.19525735524664967,0.20525735524664945,0.21525735524664924,0.22525735524664947,0.2352573552466497,0.2452573552466495,0.2552573552466493,0.2652573552466495,0.27525735524664974,0.2852573552466495,0.2952573552466493,0.30525735524664954,0.3152573552466498,0.32525735524664956,0.33525735524664935,0.3452573552466496,0.3552573552466498,0.3652573552466496,0.3752573552466494,0.3852573552466496,0.39525735524664984,0.40525735524664963,0.4152573552466494,0.42525735524664965,0.4352573552466499,0.44525735524664967,0.45525735524664945,0.4652573552466497,0.4752573552466499,0.4852573552466497,0.4952573552466495,0.5052573552466497,0.51525735524665,0.5252573552466497,0.5352573552466495,0.5452573552466498,0.55525735524665,0.5652573552466498,0.5752573552466496,0.5852573552466498,0.59525735524665,0.6052573552466498,0.6152573552466496,0.6252573552466498,0.6352573552466501,0.6452573552466498,0.6552573552466496,0.6652573552466499,0.6752573552466501,0.6852573552466499,0.6952573552466497,0.7052573552466499,0.7152573552466501,0.7252573552466499,0.7352573552466497,0.7452573552466499,0.7552573552466502,0.76525735524665,0.7752573552466497,0.78525735524665,0.7952573552466502,0.80525735524665,0.8152573552466498,0.82525735524665,0.8352573552466502,0.84525735524665,0.8552573552466498,0.86525735524665,0.8752573552466503,0.8852573552466501,0.8952573552466498,0.9052573552466501,0.9152573552466503,0.9252573552466501,0.9352573552466499,0.9452573552466501,0.9552573552466503,0.9652573552466501,0.9752573552466499,0.9852573552466501,0.9952573552466504,1.0052573552466502,1.01525735524665,1.0252573552466502,1.0352573552466504,1.0452573552466502,1.05525735524665,1.0652573552466502,1.0752573552466504,1.0852573552466502,1.09525735524665,1.1052573552466503,1.1152573552466505,1.1252573552466503,1.13525735524665,1.1452573552466503,1.1552573552466505,1.1652573552466503,1.17525735524665,1.1852573552466503,1.1952573552466506,1.2052573552466503,1.2152573552466501,1.2252573552466504,1.2352573552466506,1.2452573552466504,1.2552573552466502,1.2652573552466504,1.2752573552466506,1.2852573552466504,1.2952573552466502,1.3052573552466504,1.3152573552466507,1.3252573552466504,1.3352573552466502,1.3452573552466505,1.3552573552466507,1.3652573552466505,1.3752573552466503,1.3852573552466505,1.3952573552466507,1.4052573552466505,1.4152573552466503,1.4252573552466505,1.4352573552466508,1.4452573552466506,1.4552573552466503,1.4652573552466506,1.4752573552466508,1.4852573552466506,1.4952573552466504,1.5052573552466506,1.5152573552466508,1.5252573552466506,1.5352573552466504,1.5452573552466506,1.5552573552466509,1.5652573552466507,1.5752573552466504,1.5852573552466507,1.595257355246651,1.6052573552466507,1.6152573552466505,1.6252573552466507,1.635257355246651,1.6452573552466507,1.6552573552466505,1.6652573552466508,1.675257355246651,1.6852573552466508,1.6952573552466506,1.7052573552466508,1.715257355246651,1.7252573552466508,1.7352573552466506,1.7452573552466508,1.755257355246651,1.7652573552466508,1.7752573552466506,1.7852573552466509,1.795257355246651,1.8052573552466509,1.8152573552466507,1.825257355246651,1.8352573552466511,1.845257355246651,1.8552573552466507,1.865257355246651,1.8752573552466512,1.885257355246651,1.8952573552466507,1.905257355246651,1.9152573552466512,1.925257355246651,1.9352573552466508,1.945257355246651,1.9552573552466512,1.965257355246651,1.9752573552466508,1.985257355246651,1.9952573552466513,2.005257355246651,2.015257355246651,2.025257355246651,2.0352573552466513,2.045257355246651,2.055257355246651,2.065257355246651,2.0752573552466513,2.085257355246651,2.095257355246651,2.1052573552466507,2.1152573552466514,2.125257355246651,2.135257355246651,2.1452573552466516,2.1552573552466514,2.165257355246651,2.175257355246651,2.1852573552466508,2.1952573552466514,2.2052573552466512,2.215257355246651,2.2252573552466517,2.2352573552466515,2.2452573552466513,2.255257355246651,2.265257355246651,2.2752573552466515,2.2852573552466513,2.295257355246651,2.3052573552466518,2.3152573552466515,2.3252573552466513,2.335257355246651,2.345257355246651,2.3552573552466516,2.3652573552466514,2.375257355246651,2.385257355246652,2.3952573552466516,2.4052573552466514,2.415257355246651,2.425257355246651,2.4352573552466517,2.4452573552466514,2.4552573552466512,2.465257355246652,2.4752573552466517,2.4852573552466515,2.4952573552466513,2.505257355246651,2.5152573552466517,2.5252573552466515,2.5352573552466513,2.545257355246652,2.5552573552466518,2.5652573552466515,2.5752573552466513,2.585257355246651,2.595257355246652,2.6052573552466516,2.6152573552466514,2.625257355246652,2.635257355246652,2.6452573552466516,2.6552573552466514,2.665257355246651,2.675257355246652,2.6852573552466517,2.6952573552466514,2.705257355246652,2.715257355246652,2.7252573552466517,2.7352573552466515,2.7452573552466513,2.755257355246652,2.7652573552466517,2.7752573552466515,2.785257355246652,2.795257355246652,2.8052573552466518,2.8152573552466515,2.8252573552466513,2.835257355246652,2.845257355246652,2.8552573552466516,2.8652573552466523,2.875257355246652,2.885257355246652,2.8952573552466516,2.9052573552466514,2.915257355246652,2.925257355246652,2.9352573552466517,2.9452573552466523,2.955257355246652,2.965257355246652,2.9752573552466517,2.9852573552466515,2.995257355246652],\"y\":[0.06379641821594835,0.06502647368293965,0.06627361809310216,0.06753792738752329,0.06881947376160519,0.07011832556445964,0.07143454719833024,0.07276819901810316,0.07411933723096897,0.07548801379629914,0.07687427632580195,0.07827816798402337,0.07969972738925958,0.08113898851494841,0.08259598059160865,0.0840707280093962,0.08556325022134699,0.08707356164737813,0.08860167157911851,0.09014758408564129,0.09171129792017112,0.09329280642784014,0.09489209745456605,0.09650915325712778,0.098143950414513,0.0997964597406136,0.10146664619834436,0.10315446881526126,0.10485988060075557,0.10658282846490028,0.10832325313902517,0.11008108909809768,0.1118562644849854,0.11364870103667775,0.11545831401254213,0.1172850121246917,0.11912869747054002,0.12098926546761883,0.12286660479073333,0.12476059731153061,0.1266711180405549,0.12859803507186315,0.13054120953027468,0.1325004955213258,0.1344757400840025,0.13646678314631985,0.13847345748381937,0.140495588681052,0.14253299509611436,0.14458548782830472,0.14665287068896343,0.1487349401755626,0.150831485449106,0.15294228831490128,0.15506712320676375,0.1572057571747092,0.15935794987619287,0.161523453570948,0.16370201311947793,0.16589336598525156,0.1680972422406521,0.17031336457672538,0.17254144831677337,0.1747812014338352,0.17703232457209664,0.17929451107226657,0.18156744700095667,0.1838508111840975,0.18614427524442337,0.1884475036430543,0.1907601537252015,0.19308187577002053,0.19541231304463302,0.19775110186233583,0.2000978716450132,0.20245224498976513,0.20481383773976206,0.20718225905933343,0.2095571115132946,0.2119379911505135,0.21432448759171588,0.21671618412152438,0.21911265778472486,0.22151347948674788,0.2239182140983539,0.2263264205645036,0.22873765201739443,0.23115145589364072,0.2335673740555703,0.235984942916609,0.23840369357072055,0.24082315192586604,0.2432428388414436,0.24566227026966736,0.24808095740083932,0.250498406812466,0.25291412062216867,0.25532759664433147,0.2577383285504302,0.26014580603298026,0.26254951497303913,0.2649489376111968,0.2673435527219829,0.26973283579161733,0.2721162591990279,0.274493292400055,0.27686340211476135,0.2792260525177612,0.28158070543148006,0.2839268205222547,0.28626385549917943,0.28859126631560106,0.2909085073731645,0.29321503172830604,0.29551029130109063,0.29779373708628565,0.30006481936656176,0.30232298792770956,0.3045676922757577,0.3067983818558757,0.30901450627294436,0.31121551551367216,0.3134008601701352,0.3155699916646177,0.31772236247562535,0.3198574263649446,0.3219746386056181,0.32407345621070577,0.32615333816269826,0.3282137456434497,0.33025414226449445,0.33227399429761195,0.3342727709055021,0.3362499443724333,0.3382049903347238,0.340137388010918,0.3420466204315148,0.34393217466811027,0.345793542061811,0.3476302184507778,0.3494417043967577,0.35122750541046305,0.3529871321756548,0.35472010077178995,0.35642593289509067,0.358104156077895,0.35975430390614843,0.3613759162348966,0.3629685394016404,0.36453172643741494,0.3660650372754555,0.3675680389573143,0.3690403058362934,0.3704814197780593,0.3718909703583085,0.3732685550573515,0.3746137794514885,0.37592625740104757,0.3772056112349608,0.37845147193175516,0.3796634792968364,0.38084128213594676,0.3819845384246801,0.3830929154739394,0.38416609009122515,0.38520374873764457,0.3862055876805355,0.3871713131416009,0.38810064144045253,0.38899329913346575,0.3898490231478504,0.39066756091084626,0.3914486704739527,0.39219212063210895,0.3928976910377416,0.39356517230960053,0.3941943661363091,0.3947850853745554,0.3953371541418577,0.3958504079038392,0.3963246935559515,0.39675986949959025,0.39715580571254916,0.39751238381376486,0.39782949712230553,0.39810705071056385,0.3983449614516161,0.3985431580607147,0.3987015811308854,0.39882018316260326,0.39889892858752873,0.3989377937862843,0.39893676710026227,0.39889584883745294,0.398815051272291,0.3986943986395188,0.39853392712207164,0.39833368483299353,0.39809373179139546,0.3978141398924738,0.39749499287160883,0.3971363862625702,0.3967384273498558,0.3963012351152004,0.395824940178289,0.3953096847317176,0.39475562247024604,0.3941629185143927,0.3935317493284238,0.3928623026327943,0.3921547773111021,0.3914093833116186,0.3906263415434653,0.3898058837675073,0.38894825248203974,0.38805370080334606,0.38712249234120977,0.38615490106946676,0.38515121119168516,0.38411171700206753,0.38303672274166783,0.3819265424500238,0.3807814998123044,0.37960192800207837,0.37838816951980786,0.3771405760271796,0.3758595081773839,0.37454533544145746,0.37319843593080554,0.37181919621602344,0.3704080111421394,0.368965283640401,0.3674914245367323,0.36598685235698697,0.3644519931291281,0.3628872801824657,0.3612931539440817,0.35967006173257915,0.3580184575492887,0.35633880186706873,0.35463156141683766,0.35289720897197396,0.3511362231307259,0.3493490880967694,0.34753629345805365,0.34569833396407645,0.34383570930173085,0.34194892386986314,0.34003848655268576,0.3381049104921846,0.33614871285966513,0.3341704146265763,0.33217054033475546,0.3301496178662327,0.328108178212738,0.3260467552450482,0.323965885482314,0.3218661078615041,0.31974796350710555,0.31761199550121416,0.3154587486541514,0.31328876927574034,0.3111026049473743,0.30890080429500855,0.30668391676320383,0.3044524923903499,0.30220708158519577,0.29994823490480993,0.2976765028340931,0.2953924355669639,0.293096582789336,0.2907894934640028,0.2884717156175432,0.28614379612935953,0.28380628052295936,0.2814597127595853,0.27910463503429844,0.2767415875746164,0.2743711084418071,0.2719937333349326,0.26960999539773733,0.26722042502847276,0.2648255496927449,0.26242589373947256,0.2600219782200351,0.2576143207106923,0.2552034351383512,0.25278983160975416,0.25037401624415695,0.2479564910095657,0.24553775356259636,0.24311829709201735,0.24069861016603372,0.23827917658336636,0.23586047522817982,0.2334429799289054,0.23102715932100468,0.2286134767137162,0.22620238996082356,0.2237943513354809,0.22138980740912675,0.21898919893451713,0.21659296073290255,0.21420152158537292,0.21181530412838853,0.20943472475351446,0.20706019351137223,0.20469211401981852,0.20233088337635782,0.19997689207479383,0.19763052392612085,0.1952921559836536,0.1929621584723901,0.19064089472260018,0.18832872110763044,0.1860259869859111,0.18373303464714913,0.18145019926268896,0.17917780884001994,0.17691618418140623,0.17466563884661201,0.1724264791196934,0.170199003979826,0.1679835050761341,0.16578026670648355,0.1635895658002019,0.16141167190468422,0.15924684717584153,0.1570953463723461,0.15495741685362785,0.15283329858157157,0.1507232241258652,0.14862741867294454,0.14654610003848126,0.1444794786833573,0.14242775773306798,0.14039113300049352,0.13836979301197835,0.136363919036656,0.13437368511895578,0.1323992581142248,0.1304407977274004,0.12849845655466474,0.1265723801280139,0.12466270696266951,0.12276956860726518,0.12089308969673425,0.11903338800782794,0.11719057451718978,0.11536475346191304,0.11355602240250769,0.11176447228820119,0.109990187524498,0.10823324604292239,0.1064937193728687,0.10477167271548285,0.10306716501949818,0.10138024905894942,0.09971097151268846,0.09805937304562506,0.09642548839161562,0.09480934643792373,0.09321097031117673,0.09163037746474162,0.09006757976744477,0.08852258359355952,0.08699538991398775,0.08548599438856,0.08399438745937986,0.08252055444513967,0.08106447563633448,0.07962612639130187,0.0782054772330158,0.07680249394656388,0.07541713767723816,0.07404936502917,0.07269912816444031,0.07136637490259785,0.07005104882051962,0.06875308935254684,0.06747243189083246,0.06620900788583635,0.06496274494690618,0.06373356694288222,0.0625213941026659,0.06132614311569279,0.060147727232253,0.058986056363601234,0.0578410371818016,0.05671257321925265,0.055600564967840174,0.0545049099776657,0.053425502955300255,0.05236223586151437,0.051314998008437016,0.05028367615609669,0.04926815460829939,0.04826831530780028,0.04728403793072641,0.04631519998020995,0.045361676879191626,0.04442334206235675,0.04350006706716697,0.042591721623952083,0.041698173745028315,0.04081928981280938,0.039954934666880375,0.03910497169000394,0.03826926289302944,0.03744766899867952,0.03664004952418689,0.0358462628627573,0.03506616636383612,0.034299616412155225,0.033546468505541494,0.03280657733146656,0.03207979684231988,0.03136598032938924,0.030664980495532696,0.029976649526527857,0.02930083916108619,0.02863740075951956,0.0279861853710497,0.027347043799750802,0.0267198266691164,0.026104384485244936,0.025500567698636713,0.02490822676459837,0.024327212202250717,0.023757374652137023,0.02319856493243078,0.022650634093741847,0.022113433472520976,0.021586814743064904,0.02107062996812344,0.02056473164811204,0.020068972768934122,0.019583206848417238,0.019107287981369868,0.018641070883264853,0.018184410932556464,0.01773716421164009,0.017299187546462726,0.016870338544794045,0.01645047563316849,0.016039458092508806,0.015637146092443262,0.01524340072432838,0.014858084032989686,0.014481059047194485,0.014112189808869982,0.013751341401081373,0.013398379974784927,0.013053172774370986,0.012715588162013203,0.012385495640840061,0.012062765876944962,0.011747270720252464,0.011438883224257554,0.011137477664655825,0.01084292955688262,0.010555115672578995,0.010273914055003575,0.009999204033408796,0.009730866236400253,0.009468782604298873,0.00921283640052485,0.008962912222022966,0.008718896008749092,0.008480675052237279,0.008248138003267728,0.008021174878655375,0.007799677067178907,0.007583537334670737,0.007372649828287546,0.007166910079981799,0.006966215009194202,0.006770462924787121,0.006579553526239097,0.006393387904120523,0.006211868539870024,0.006034899304891935,0.005862385458994125,0.005694233648186137,0.005530351901857064,0.0053706496293524425,0.00521503761596965,0.005063428018390823,0.0049157343595720515,0.00477187152310794,0.00463175574708991,0.004495304617476663],\"type\":\"scatter\"}],                        {\"template\":{\"data\":{\"histogram2dcontour\":[{\"type\":\"histogram2dcontour\",\"colorbar\":{\"outlinewidth\":0,\"ticks\":\"\"},\"colorscale\":[[0.0,\"#0d0887\"],[0.1111111111111111,\"#46039f\"],[0.2222222222222222,\"#7201a8\"],[0.3333333333333333,\"#9c179e\"],[0.4444444444444444,\"#bd3786\"],[0.5555555555555556,\"#d8576b\"],[0.6666666666666666,\"#ed7953\"],[0.7777777777777778,\"#fb9f3a\"],[0.8888888888888888,\"#fdca26\"],[1.0,\"#f0f921\"]]}],\"choropleth\":[{\"type\":\"choropleth\",\"colorbar\":{\"outlinewidth\":0,\"ticks\":\"\"}}],\"histogram2d\":[{\"type\":\"histogram2d\",\"colorbar\":{\"outlinewidth\":0,\"ticks\":\"\"},\"colorscale\":[[0.0,\"#0d0887\"],[0.1111111111111111,\"#46039f\"],[0.2222222222222222,\"#7201a8\"],[0.3333333333333333,\"#9c179e\"],[0.4444444444444444,\"#bd3786\"],[0.5555555555555556,\"#d8576b\"],[0.6666666666666666,\"#ed7953\"],[0.7777777777777778,\"#fb9f3a\"],[0.8888888888888888,\"#fdca26\"],[1.0,\"#f0f921\"]]}],\"heatmap\":[{\"type\":\"heatmap\",\"colorbar\":{\"outlinewidth\":0,\"ticks\":\"\"},\"colorscale\":[[0.0,\"#0d0887\"],[0.1111111111111111,\"#46039f\"],[0.2222222222222222,\"#7201a8\"],[0.3333333333333333,\"#9c179e\"],[0.4444444444444444,\"#bd3786\"],[0.5555555555555556,\"#d8576b\"],[0.6666666666666666,\"#ed7953\"],[0.7777777777777778,\"#fb9f3a\"],[0.8888888888888888,\"#fdca26\"],[1.0,\"#f0f921\"]]}],\"heatmapgl\":[{\"type\":\"heatmapgl\",\"colorbar\":{\"outlinewidth\":0,\"ticks\":\"\"},\"colorscale\":[[0.0,\"#0d0887\"],[0.1111111111111111,\"#46039f\"],[0.2222222222222222,\"#7201a8\"],[0.3333333333333333,\"#9c179e\"],[0.4444444444444444,\"#bd3786\"],[0.5555555555555556,\"#d8576b\"],[0.6666666666666666,\"#ed7953\"],[0.7777777777777778,\"#fb9f3a\"],[0.8888888888888888,\"#fdca26\"],[1.0,\"#f0f921\"]]}],\"contourcarpet\":[{\"type\":\"contourcarpet\",\"colorbar\":{\"outlinewidth\":0,\"ticks\":\"\"}}],\"contour\":[{\"type\":\"contour\",\"colorbar\":{\"outlinewidth\":0,\"ticks\":\"\"},\"colorscale\":[[0.0,\"#0d0887\"],[0.1111111111111111,\"#46039f\"],[0.2222222222222222,\"#7201a8\"],[0.3333333333333333,\"#9c179e\"],[0.4444444444444444,\"#bd3786\"],[0.5555555555555556,\"#d8576b\"],[0.6666666666666666,\"#ed7953\"],[0.7777777777777778,\"#fb9f3a\"],[0.8888888888888888,\"#fdca26\"],[1.0,\"#f0f921\"]]}],\"surface\":[{\"type\":\"surface\",\"colorbar\":{\"outlinewidth\":0,\"ticks\":\"\"},\"colorscale\":[[0.0,\"#0d0887\"],[0.1111111111111111,\"#46039f\"],[0.2222222222222222,\"#7201a8\"],[0.3333333333333333,\"#9c179e\"],[0.4444444444444444,\"#bd3786\"],[0.5555555555555556,\"#d8576b\"],[0.6666666666666666,\"#ed7953\"],[0.7777777777777778,\"#fb9f3a\"],[0.8888888888888888,\"#fdca26\"],[1.0,\"#f0f921\"]]}],\"mesh3d\":[{\"type\":\"mesh3d\",\"colorbar\":{\"outlinewidth\":0,\"ticks\":\"\"}}],\"scatter\":[{\"marker\":{\"line\":{\"color\":\"#283442\"}},\"type\":\"scatter\"}],\"parcoords\":[{\"type\":\"parcoords\",\"line\":{\"colorbar\":{\"outlinewidth\":0,\"ticks\":\"\"}}}],\"scatterpolargl\":[{\"type\":\"scatterpolargl\",\"marker\":{\"colorbar\":{\"outlinewidth\":0,\"ticks\":\"\"}}}],\"bar\":[{\"error_x\":{\"color\":\"#f2f5fa\"},\"error_y\":{\"color\":\"#f2f5fa\"},\"marker\":{\"line\":{\"color\":\"rgb(17,17,17)\",\"width\":0.5},\"pattern\":{\"fillmode\":\"overlay\",\"size\":10,\"solidity\":0.2}},\"type\":\"bar\"}],\"scattergeo\":[{\"type\":\"scattergeo\",\"marker\":{\"colorbar\":{\"outlinewidth\":0,\"ticks\":\"\"}}}],\"scatterpolar\":[{\"type\":\"scatterpolar\",\"marker\":{\"colorbar\":{\"outlinewidth\":0,\"ticks\":\"\"}}}],\"histogram\":[{\"marker\":{\"pattern\":{\"fillmode\":\"overlay\",\"size\":10,\"solidity\":0.2}},\"type\":\"histogram\"}],\"scattergl\":[{\"marker\":{\"line\":{\"color\":\"#283442\"}},\"type\":\"scattergl\"}],\"scatter3d\":[{\"type\":\"scatter3d\",\"line\":{\"colorbar\":{\"outlinewidth\":0,\"ticks\":\"\"}},\"marker\":{\"colorbar\":{\"outlinewidth\":0,\"ticks\":\"\"}}}],\"scattermapbox\":[{\"type\":\"scattermapbox\",\"marker\":{\"colorbar\":{\"outlinewidth\":0,\"ticks\":\"\"}}}],\"scatterternary\":[{\"type\":\"scatterternary\",\"marker\":{\"colorbar\":{\"outlinewidth\":0,\"ticks\":\"\"}}}],\"scattercarpet\":[{\"type\":\"scattercarpet\",\"marker\":{\"colorbar\":{\"outlinewidth\":0,\"ticks\":\"\"}}}],\"carpet\":[{\"aaxis\":{\"endlinecolor\":\"#A2B1C6\",\"gridcolor\":\"#506784\",\"linecolor\":\"#506784\",\"minorgridcolor\":\"#506784\",\"startlinecolor\":\"#A2B1C6\"},\"baxis\":{\"endlinecolor\":\"#A2B1C6\",\"gridcolor\":\"#506784\",\"linecolor\":\"#506784\",\"minorgridcolor\":\"#506784\",\"startlinecolor\":\"#A2B1C6\"},\"type\":\"carpet\"}],\"table\":[{\"cells\":{\"fill\":{\"color\":\"#506784\"},\"line\":{\"color\":\"rgb(17,17,17)\"}},\"header\":{\"fill\":{\"color\":\"#2a3f5f\"},\"line\":{\"color\":\"rgb(17,17,17)\"}},\"type\":\"table\"}],\"barpolar\":[{\"marker\":{\"line\":{\"color\":\"rgb(17,17,17)\",\"width\":0.5},\"pattern\":{\"fillmode\":\"overlay\",\"size\":10,\"solidity\":0.2}},\"type\":\"barpolar\"}],\"pie\":[{\"automargin\":true,\"type\":\"pie\"}]},\"layout\":{\"autotypenumbers\":\"strict\",\"colorway\":[\"#636efa\",\"#EF553B\",\"#00cc96\",\"#ab63fa\",\"#FFA15A\",\"#19d3f3\",\"#FF6692\",\"#B6E880\",\"#FF97FF\",\"#FECB52\"],\"font\":{\"color\":\"#f2f5fa\"},\"hovermode\":\"closest\",\"hoverlabel\":{\"align\":\"left\"},\"paper_bgcolor\":\"rgb(17,17,17)\",\"plot_bgcolor\":\"rgb(17,17,17)\",\"polar\":{\"bgcolor\":\"rgb(17,17,17)\",\"angularaxis\":{\"gridcolor\":\"#506784\",\"linecolor\":\"#506784\",\"ticks\":\"\"},\"radialaxis\":{\"gridcolor\":\"#506784\",\"linecolor\":\"#506784\",\"ticks\":\"\"}},\"ternary\":{\"bgcolor\":\"rgb(17,17,17)\",\"aaxis\":{\"gridcolor\":\"#506784\",\"linecolor\":\"#506784\",\"ticks\":\"\"},\"baxis\":{\"gridcolor\":\"#506784\",\"linecolor\":\"#506784\",\"ticks\":\"\"},\"caxis\":{\"gridcolor\":\"#506784\",\"linecolor\":\"#506784\",\"ticks\":\"\"}},\"coloraxis\":{\"colorbar\":{\"outlinewidth\":0,\"ticks\":\"\"}},\"colorscale\":{\"sequential\":[[0.0,\"#0d0887\"],[0.1111111111111111,\"#46039f\"],[0.2222222222222222,\"#7201a8\"],[0.3333333333333333,\"#9c179e\"],[0.4444444444444444,\"#bd3786\"],[0.5555555555555556,\"#d8576b\"],[0.6666666666666666,\"#ed7953\"],[0.7777777777777778,\"#fb9f3a\"],[0.8888888888888888,\"#fdca26\"],[1.0,\"#f0f921\"]],\"sequentialminus\":[[0.0,\"#0d0887\"],[0.1111111111111111,\"#46039f\"],[0.2222222222222222,\"#7201a8\"],[0.3333333333333333,\"#9c179e\"],[0.4444444444444444,\"#bd3786\"],[0.5555555555555556,\"#d8576b\"],[0.6666666666666666,\"#ed7953\"],[0.7777777777777778,\"#fb9f3a\"],[0.8888888888888888,\"#fdca26\"],[1.0,\"#f0f921\"]],\"diverging\":[[0,\"#8e0152\"],[0.1,\"#c51b7d\"],[0.2,\"#de77ae\"],[0.3,\"#f1b6da\"],[0.4,\"#fde0ef\"],[0.5,\"#f7f7f7\"],[0.6,\"#e6f5d0\"],[0.7,\"#b8e186\"],[0.8,\"#7fbc41\"],[0.9,\"#4d9221\"],[1,\"#276419\"]]},\"xaxis\":{\"gridcolor\":\"#283442\",\"linecolor\":\"#506784\",\"ticks\":\"\",\"title\":{\"standoff\":15},\"zerolinecolor\":\"#283442\",\"automargin\":true,\"zerolinewidth\":2},\"yaxis\":{\"gridcolor\":\"#283442\",\"linecolor\":\"#506784\",\"ticks\":\"\",\"title\":{\"standoff\":15},\"zerolinecolor\":\"#283442\",\"automargin\":true,\"zerolinewidth\":2},\"scene\":{\"xaxis\":{\"backgroundcolor\":\"rgb(17,17,17)\",\"gridcolor\":\"#506784\",\"linecolor\":\"#506784\",\"showbackground\":true,\"ticks\":\"\",\"zerolinecolor\":\"#C8D4E3\",\"gridwidth\":2},\"yaxis\":{\"backgroundcolor\":\"rgb(17,17,17)\",\"gridcolor\":\"#506784\",\"linecolor\":\"#506784\",\"showbackground\":true,\"ticks\":\"\",\"zerolinecolor\":\"#C8D4E3\",\"gridwidth\":2},\"zaxis\":{\"backgroundcolor\":\"rgb(17,17,17)\",\"gridcolor\":\"#506784\",\"linecolor\":\"#506784\",\"showbackground\":true,\"ticks\":\"\",\"zerolinecolor\":\"#C8D4E3\",\"gridwidth\":2}},\"shapedefaults\":{\"line\":{\"color\":\"#f2f5fa\"}},\"annotationdefaults\":{\"arrowcolor\":\"#f2f5fa\",\"arrowhead\":0,\"arrowwidth\":1},\"geo\":{\"bgcolor\":\"rgb(17,17,17)\",\"landcolor\":\"rgb(17,17,17)\",\"subunitcolor\":\"#506784\",\"showland\":true,\"showlakes\":true,\"lakecolor\":\"rgb(17,17,17)\"},\"title\":{\"x\":0.05},\"updatemenudefaults\":{\"bgcolor\":\"#506784\",\"borderwidth\":0},\"sliderdefaults\":{\"bgcolor\":\"#C8D4E3\",\"borderwidth\":1,\"bordercolor\":\"rgb(17,17,17)\",\"tickwidth\":0},\"mapbox\":{\"style\":\"dark\"}}},\"title\":{\"text\":\"\\u0424\\u0443\\u043d\\u043a\\u0446\\u0438\\u044f \\u043f\\u043b\\u043e\\u0442\\u043d\\u043e\\u0441\\u0442\\u0438 f(z|H_0), \\u043a\\u0440\\u0438\\u0442\\u0438\\u0447\\u0435\\u0441\\u043a\\u0430\\u044f \\u043e\\u0431\\u043b\\u0430\\u0441\\u0442\\u044c \\u0438 p-value\"}},                        {\"responsive\": true}                    ).then(function(){\n                            \nvar gd = document.getElementById('a41a6d3e-6001-478a-a48c-462ec07be320');\nvar x = new MutationObserver(function (mutations, observer) {{\n        var display = window.getComputedStyle(gd).display;\n        if (!display || display === 'none') {{\n            console.log([gd, 'removed!']);\n            Plotly.purge(gd);\n            observer.disconnect();\n        }}\n}});\n\n// Listen for the removal of the full notebook cells\nvar notebookContainer = gd.closest('#notebook-container');\nif (notebookContainer) {{\n    x.observe(notebookContainer, {childList: true});\n}}\n\n// Listen for the clearing of the current output cell\nvar outputEl = gd.closest('.output');\nif (outputEl) {{\n    x.observe(outputEl, {childList: true});\n}}\n\n                        })                };                });            </script>        </div>"
     },
     "metadata": {},
     "output_type": "display_data"
    }
   ],
   "source": [
    "# построим график для наглядного отображения результата\n",
    "plot_density_func(test1_stat, ALPHA)"
   ],
   "metadata": {
    "collapsed": false,
    "ExecuteTime": {
     "end_time": "2023-12-12T22:34:21.806106Z",
     "start_time": "2023-12-12T22:34:21.786163Z"
    }
   },
   "id": "797487debdc8c0c1"
  },
  {
   "cell_type": "code",
   "execution_count": null,
   "outputs": [],
   "source": [],
   "metadata": {
    "collapsed": false
   },
   "id": "b61bf8edc9479a12"
  }
 ],
 "metadata": {
  "kernelspec": {
   "display_name": "Python 3",
   "language": "python",
   "name": "python3"
  },
  "language_info": {
   "codemirror_mode": {
    "name": "ipython",
    "version": 2
   },
   "file_extension": ".py",
   "mimetype": "text/x-python",
   "name": "python",
   "nbconvert_exporter": "python",
   "pygments_lexer": "ipython2",
   "version": "2.7.6"
  }
 },
 "nbformat": 4,
 "nbformat_minor": 5
}
